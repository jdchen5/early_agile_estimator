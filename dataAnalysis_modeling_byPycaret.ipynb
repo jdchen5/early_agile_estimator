{
 "cells": [
  {
   "cell_type": "code",
   "execution_count": 1,
   "id": "1361d7b3-22a6-4a13-85d9-3b2d5872d03a",
   "metadata": {},
   "outputs": [],
   "source": [
    "# # ISBSG Data Analysis and Regression Modeling\n",
    "# \n",
    "# This notebook performs data cleaning, preprocessing, and regression modeling on the ISBSG dataset.\n",
    "\n",
    "# ## Setup and Environment Configuration\n",
    "\n",
    "# Install required packages (uncomment if needed)\n",
    "# !pip install -r requirements.txt"
   ]
  },
  {
   "cell_type": "code",
   "execution_count": 2,
   "id": "dc191195-5abd-4d48-8376-d9de1b57987a",
   "metadata": {},
   "outputs": [],
   "source": [
    "# Import basic libraries\n",
    "import pandas as pd\n",
    "import numpy as np\n",
    "import matplotlib.pyplot as plt\n",
    "import seaborn as sns\n",
    "from datetime import datetime\n",
    "import re"
   ]
  },
  {
   "cell_type": "code",
   "execution_count": 3,
   "id": "8c58c6d0-4039-44fb-9b6a-515296790a8a",
   "metadata": {},
   "outputs": [],
   "source": [
    "# Configure timestamp callback for Jupyter cells\n",
    "from IPython import get_ipython\n",
    "\n",
    "def setup_timestamp_callback():\n",
    "    \"\"\"Setup a timestamp callback for Jupyter cells without clearing existing callbacks.\"\"\"\n",
    "    ip = get_ipython()\n",
    "    if ip is not None:\n",
    "        # Define timestamp function\n",
    "        def print_timestamp(*args, **kwargs):\n",
    "            \"\"\"Print timestamp after cell execution.\"\"\"\n",
    "            print(f\"Cell executed at: {datetime.now()}\")\n",
    "        \n",
    "        # Check if our callback is already registered\n",
    "        callbacks = ip.events.callbacks.get('post_run_cell', [])\n",
    "        for cb in callbacks:\n",
    "            if hasattr(cb, '__name__') and cb.__name__ == 'print_timestamp':\n",
    "                # Already registered\n",
    "                return\n",
    "                \n",
    "        # Register new callback if not already present\n",
    "        ip.events.register('post_run_cell', print_timestamp)\n",
    "        print(\"Timestamp printing activated.\")\n",
    "    else:\n",
    "        print(\"Not running in IPython/Jupyter environment.\")"
   ]
  },
  {
   "cell_type": "code",
   "execution_count": 4,
   "id": "622026d3-5fe1-4fce-8def-b39811aeb7cc",
   "metadata": {},
   "outputs": [
    {
     "name": "stdout",
     "output_type": "stream",
     "text": [
      "Timestamp printing activated.\n",
      "Cell executed at: 2025-05-15 21:20:01.761379\n"
     ]
    }
   ],
   "source": [
    "# Setup timestamp callback\n",
    "setup_timestamp_callback()\n",
    "\n",
    "# Set visualization style\n",
    "sns.set_style(\"whitegrid\")\n",
    "plt.rcParams['figure.figsize'] = (12, 8)"
   ]
  },
  {
   "cell_type": "code",
   "execution_count": 5,
   "id": "b419e697-acab-4121-bae2-e2a017a371b3",
   "metadata": {},
   "outputs": [
    {
     "name": "stdout",
     "output_type": "stream",
     "text": [
      "Cell executed at: 2025-05-15 21:20:01.769699\n"
     ]
    }
   ],
   "source": [
    "# ## Data Loading and Initial Exploration"
   ]
  },
  {
   "cell_type": "code",
   "execution_count": 6,
   "id": "b1fd30b9-fe3e-4952-9237-cf18928a4958",
   "metadata": {},
   "outputs": [
    {
     "name": "stdout",
     "output_type": "stream",
     "text": [
      "Loading data...\n",
      "Cell executed at: 2025-05-15 21:20:04.322322\n"
     ]
    }
   ],
   "source": [
    "# Load the data\n",
    "print(\"Loading data...\")\n",
    "df = pd.read_excel(\"data/ISBSG2016R1.1-Formatted4CSVAgileOnly.xlsx\")\n"
   ]
  },
  {
   "cell_type": "code",
   "execution_count": 7,
   "id": "325c3beb-a93e-4659-a072-00c25bbbb21d",
   "metadata": {},
   "outputs": [
    {
     "name": "stdout",
     "output_type": "stream",
     "text": [
      "Cell executed at: 2025-05-15 21:20:04.346642\n"
     ]
    }
   ],
   "source": [
    "\n",
    "def clean_column_names(columns):\n",
    "    cleaned_cols = []\n",
    "    for col in columns:\n",
    "        col_clean = re.sub(r'[^\\w\\s]', '', col)  # remove special chars\n",
    "        col_clean = col_clean.replace(' ', '_')  # replace spaces with _\n",
    "        cleaned_cols.append(col_clean)\n",
    "    return cleaned_cols\n",
    "\n",
    "# Clean column names\n",
    "original_columns = df.columns.tolist()  # Save original column names for reference\n",
    "df.columns = clean_column_names(df.columns)\n"
   ]
  },
  {
   "cell_type": "code",
   "execution_count": 8,
   "id": "0ce49eec-356d-4d07-b980-529083310368",
   "metadata": {},
   "outputs": [
    {
     "name": "stdout",
     "output_type": "stream",
     "text": [
      "\n",
      "Column name mapping (original -> cleaned):\n",
      "  'Unnamed: 0' -> 'Unnamed_0'\n",
      "  'External_EEF_Data Quality Rating' -> 'External_EEF_Data_Quality_Rating'\n",
      "  'Project_PRF_Year of Project' -> 'Project_PRF_Year_of_Project'\n",
      "  'External_EEF_Industry Sector' -> 'External_EEF_Industry_Sector'\n",
      "  'External_EEF_Organisation Type' -> 'External_EEF_Organisation_Type'\n",
      "  'Project_PRF_Application Group' -> 'Project_PRF_Application_Group'\n",
      "  'Project_PRF_Application Type' -> 'Project_PRF_Application_Type'\n",
      "  'Project_PRF_Development Type' -> 'Project_PRF_Development_Type'\n",
      "  'Tech_TF_Development Platform' -> 'Tech_TF_Development_Platform'\n",
      "  'Tech_TF_Language Type' -> 'Tech_TF_Language_Type'\n",
      "  'Tech_TF_Primary Programming Language' -> 'Tech_TF_Primary_Programming_Language'\n",
      "  'Project_PRF_Functional Size' -> 'Project_PRF_Functional_Size'\n",
      "  'Project_PRF_Relative Size' -> 'Project_PRF_Relative_Size'\n",
      "  'Project_PRF_Normalised Work Effort Level 1' -> 'Project_PRF_Normalised_Work_Effort_Level_1'\n",
      "  'Project_PRF_Normalised Work Effort' -> 'Project_PRF_Normalised_Work_Effort'\n",
      "  'Project_PRF_Normalised Level 1 PDR_ufp' -> 'Project_PRF_Normalised_Level_1_PDR_ufp'\n",
      "  'Project_PRF_Normalised PDR_ufp' -> 'Project_PRF_Normalised_PDR_ufp'\n",
      "  'Project_PRF_Defect Density' -> 'Project_PRF_Defect_Density'\n",
      "  'Project_PRF_Speed of Delivery' -> 'Project_PRF_Speed_of_Delivery'\n",
      "  'Project_PRF_Manpower Delivery Rate' -> 'Project_PRF_Manpower_Delivery_Rate'\n",
      "  'Project_PRF_Project Elapsed Time' -> 'Project_PRF_Project_Elapsed_Time'\n",
      "  'Project_PRF_Team Size Group' -> 'Project_PRF_Team_Size_Group'\n",
      "  'Project_PRF_Max Team Size' -> 'Project_PRF_Max_Team_Size'\n",
      "  'Project_PRF_CASE Tool Used' -> 'Project_PRF_CASE_Tool_Used'\n",
      "  'Process_PMF_Development Methodologies' -> 'Process_PMF_Development_Methodologies'\n",
      "  'Process_PMF_Prototyping Used' -> 'Process_PMF_Prototyping_Used'\n",
      "  'Process_PMF_Development Techniques' -> 'Process_PMF_Development_Techniques'\n",
      "  'Tech_TF_Client Server' -> 'Tech_TF_Client_Server'\n",
      "  'Tech_TF_Client Roles' -> 'Tech_TF_Client_Roles'\n",
      "  'Tech_TF_Server Roles' -> 'Tech_TF_Server_Roles'\n",
      "  'Tech_TF_Type of Server' -> 'Tech_TF_Type_of_Server'\n",
      "  'Tech_TF_Web Development' -> 'Tech_TF_Web_Development'\n",
      "  'Tech_TF_DBMS Used' -> 'Tech_TF_DBMS_Used'\n",
      "  'Tech_TF_Tools Used' -> 'Tech_TF_Tools_Used'\n",
      "  'People_PRF_Project user involvement' -> 'People_PRF_Project_user_involvement'\n",
      "  'People_PRF_BA team experience less than 1 yr' -> 'People_PRF_BA_team_experience_less_than_1_yr'\n",
      "  'People_PRF_BA team experience 1 to 3 yr' -> 'People_PRF_BA_team_experience_1_to_3_yr'\n",
      "  'People_PRF_BA team experience great than 3 yr' -> 'People_PRF_BA_team_experience_great_than_3_yr'\n",
      "  'People_PRF_IT experience less than 1 yr' -> 'People_PRF_IT_experience_less_than_1_yr'\n",
      "  'People_PRF_IT experience 1 to 3 yr' -> 'People_PRF_IT_experience_1_to_3_yr'\n",
      "  'People_PRF_IT experience great than 3 yr' -> 'People_PRF_IT_experience_great_than_3_yr'\n",
      "  'People_PRF_IT experience less than 3 yr' -> 'People_PRF_IT_experience_less_than_3_yr'\n",
      "  'People_PRF_IT experience 3 to 9 yr' -> 'People_PRF_IT_experience_3_to_9_yr'\n",
      "  'People_PRF_IT experience great than 9 yr' -> 'People_PRF_IT_experience_great_than_9_yr'\n",
      "  'People_PRF_Project manage experience' -> 'People_PRF_Project_manage_experience'\n",
      "  'People_PRF_Project manage changes' -> 'People_PRF_Project_manage_changes'\n",
      "  'People_PRF_Personnel changes' -> 'People_PRF_Personnel_changes'\n",
      "  'Project_PRF_Total project cost' -> 'Project_PRF_Total_project_cost'\n",
      "  'Project_PRF_Cost currency' -> 'Project_PRF_Cost_currency'\n",
      "  'Project_PRF_Currency multiple' -> 'Project_PRF_Currency_multiple'\n",
      "Cell executed at: 2025-05-15 21:21:04.181799\n"
     ]
    }
   ],
   "source": [
    "# Create a mapping from original to cleaned column names\n",
    "column_mapping = dict(zip(original_columns, df.columns))\n",
    "print(\"\\nColumn name mapping (original -> cleaned):\")\n",
    "for orig, clean in column_mapping.items():\n",
    "    if orig != clean:  # Only show columns that changed\n",
    "        print(f\"  '{orig}' -> '{clean}'\")\n"
   ]
  },
  {
   "cell_type": "code",
   "execution_count": 9,
   "id": "b64360b6-c4b3-4237-a553-b67aa75179f3",
   "metadata": {},
   "outputs": [
    {
     "name": "stdout",
     "output_type": "stream",
     "text": [
      "Dataset shape: (7058, 52)\n",
      "\n",
      "First 5 rows:\n",
      "   Unnamed_0 External_EEF_Data_Quality_Rating  Project_PRF_Year_of_Project  \\\n",
      "0      10003                                B                         2015   \n",
      "1      10011                                B                         1996   \n",
      "2      10012                                B                         2002   \n",
      "3      10014                                B                         2004   \n",
      "4      10015                                B                         2000   \n",
      "\n",
      "  External_EEF_Industry_Sector External_EEF_Organisation_Type  \\\n",
      "0                Communication            Telecommunications;   \n",
      "1                 Construction                  Construction;   \n",
      "2           Wholesale & Retail                       Billing;   \n",
      "3                          NaN                            NaN   \n",
      "4           Wholesale & Retail      Wholesale & Retail Trade;   \n",
      "\n",
      "  Project_PRF_Application_Group       Project_PRF_Application_Type  \\\n",
      "0          Business Application                    Online. eSales;   \n",
      "1          Business Application  Stock control & order processing;   \n",
      "2          Business Application                           Billing;   \n",
      "3                           NaN                                NaN   \n",
      "4          Business Application     Management Information System;   \n",
      "\n",
      "  Project_PRF_Development_Type Tech_TF_Development_Platform  \\\n",
      "0                  Enhancement                        Multi   \n",
      "1              New Development                        Multi   \n",
      "2                  Enhancement                          NaN   \n",
      "3                  Enhancement                          NaN   \n",
      "4                  Enhancement                           MF   \n",
      "\n",
      "  Tech_TF_Language_Type  ... People_PRF_IT_experience_great_than_3_yr  \\\n",
      "0                   NaN  ...                                      NaN   \n",
      "1                   4GL  ...                                      NaN   \n",
      "2                   3GL  ...                                      NaN   \n",
      "3                   NaN  ...                                      NaN   \n",
      "4                   3GL  ...                                      NaN   \n",
      "\n",
      "   People_PRF_IT_experience_less_than_3_yr People_PRF_IT_experience_3_to_9_yr  \\\n",
      "0                                      NaN                                NaN   \n",
      "1                                      NaN                                NaN   \n",
      "2                                      NaN                                NaN   \n",
      "3                                      NaN                                NaN   \n",
      "4                                      NaN                                NaN   \n",
      "\n",
      "   People_PRF_IT_experience_great_than_9_yr  \\\n",
      "0                                       NaN   \n",
      "1                                       NaN   \n",
      "2                                       NaN   \n",
      "3                                       NaN   \n",
      "4                                       NaN   \n",
      "\n",
      "   People_PRF_Project_manage_experience  People_PRF_Project_manage_changes  \\\n",
      "0                                   NaN                                NaN   \n",
      "1                                   NaN                                NaN   \n",
      "2                                   NaN                                NaN   \n",
      "3                                   NaN                                NaN   \n",
      "4                                   NaN                                NaN   \n",
      "\n",
      "   People_PRF_Personnel_changes  Project_PRF_Total_project_cost  \\\n",
      "0                           NaN                             NaN   \n",
      "1                           NaN                             NaN   \n",
      "2                           NaN                             NaN   \n",
      "3                           NaN                             NaN   \n",
      "4                           NaN                             NaN   \n",
      "\n",
      "   Project_PRF_Cost_currency  Project_PRF_Currency_multiple  \n",
      "0                        NaN                            NaN  \n",
      "1                        NaN                            NaN  \n",
      "2                        NaN                            NaN  \n",
      "3                        NaN                            NaN  \n",
      "4                        NaN                            NaN  \n",
      "\n",
      "[5 rows x 52 columns]\n",
      "Cell executed at: 2025-05-15 21:21:20.747329\n"
     ]
    }
   ],
   "source": [
    "# Display basic information\n",
    "print(f\"Dataset shape: {df.shape}\")\n",
    "print(\"\\nFirst 5 rows:\")\n",
    "print(df.head())\n"
   ]
  },
  {
   "cell_type": "code",
   "execution_count": 10,
   "id": "16075a0f-db8f-4e90-95c6-a271125fa7a7",
   "metadata": {},
   "outputs": [
    {
     "name": "stdout",
     "output_type": "stream",
     "text": [
      "Index(['Unnamed_0', 'External_EEF_Data_Quality_Rating',\n",
      "       'Project_PRF_Year_of_Project', 'External_EEF_Industry_Sector',\n",
      "       'External_EEF_Organisation_Type', 'Project_PRF_Application_Group',\n",
      "       'Project_PRF_Application_Type', 'Project_PRF_Development_Type',\n",
      "       'Tech_TF_Development_Platform', 'Tech_TF_Language_Type',\n",
      "       'Tech_TF_Primary_Programming_Language', 'Project_PRF_Functional_Size',\n",
      "       'Project_PRF_Relative_Size',\n",
      "       'Project_PRF_Normalised_Work_Effort_Level_1',\n",
      "       'Project_PRF_Normalised_Work_Effort',\n",
      "       'Project_PRF_Normalised_Level_1_PDR_ufp',\n",
      "       'Project_PRF_Normalised_PDR_ufp', 'Project_PRF_Defect_Density',\n",
      "       'Project_PRF_Speed_of_Delivery', 'Project_PRF_Manpower_Delivery_Rate',\n",
      "       'Project_PRF_Project_Elapsed_Time', 'Project_PRF_Team_Size_Group',\n",
      "       'Project_PRF_Max_Team_Size', 'Project_PRF_CASE_Tool_Used',\n",
      "       'Process_PMF_Development_Methodologies', 'Process_PMF_Prototyping_Used',\n",
      "       'Process_PMF_Docs', 'Process_PMF_Development_Techniques',\n",
      "       'Tech_TF_Architecture', 'Tech_TF_Client_Server', 'Tech_TF_Client_Roles',\n",
      "       'Tech_TF_Server_Roles', 'Tech_TF_Type_of_Server',\n",
      "       'Tech_TF_Web_Development', 'Tech_TF_DBMS_Used', 'Tech_TF_Tools_Used',\n",
      "       'People_PRF_Project_user_involvement',\n",
      "       'People_PRF_BA_team_experience_less_than_1_yr',\n",
      "       'People_PRF_BA_team_experience_1_to_3_yr',\n",
      "       'People_PRF_BA_team_experience_great_than_3_yr',\n",
      "       'People_PRF_IT_experience_less_than_1_yr',\n",
      "       'People_PRF_IT_experience_1_to_3_yr',\n",
      "       'People_PRF_IT_experience_great_than_3_yr',\n",
      "       'People_PRF_IT_experience_less_than_3_yr',\n",
      "       'People_PRF_IT_experience_3_to_9_yr',\n",
      "       'People_PRF_IT_experience_great_than_9_yr',\n",
      "       'People_PRF_Project_manage_experience',\n",
      "       'People_PRF_Project_manage_changes', 'People_PRF_Personnel_changes',\n",
      "       'Project_PRF_Total_project_cost', 'Project_PRF_Cost_currency',\n",
      "       'Project_PRF_Currency_multiple'],\n",
      "      dtype='object')\n",
      "<class 'pandas.core.indexes.base.Index'>\n",
      "Cell executed at: 2025-05-15 21:22:25.369068\n"
     ]
    }
   ],
   "source": [
    "print(df.columns)\n",
    "print(type(df.columns))\n"
   ]
  },
  {
   "cell_type": "code",
   "execution_count": 11,
   "id": "036f2be3-8eb2-48be-8014-15d76b7b4497",
   "metadata": {},
   "outputs": [
    {
     "name": "stdout",
     "output_type": "stream",
     "text": [
      "\n",
      "Data Summary (first 10 columns):\n",
      "                            Feature data_type  Null_number   Null_pct  \\\n",
      "0                         Unnamed_0     int64            0   0.000000   \n",
      "1  External_EEF_Data_Quality_Rating    object            0   0.000000   \n",
      "2       Project_PRF_Year_of_Project     int64            0   0.000000   \n",
      "3      External_EEF_Industry_Sector    object         1222  17.313687   \n",
      "4    External_EEF_Organisation_Type    object         1205  17.072825   \n",
      "5     Project_PRF_Application_Group    object         2096  29.696798   \n",
      "6      Project_PRF_Application_Type    object         1467  20.784925   \n",
      "7      Project_PRF_Development_Type    object            0   0.000000   \n",
      "8      Tech_TF_Development_Platform    object         1860  26.353075   \n",
      "9             Tech_TF_Language_Type    object         1292  18.305469   \n",
      "\n",
      "   Unique_counts                                     unique_samples  \n",
      "0           7055                [10003, 10011, 10012, 10014, 10015]  \n",
      "1              2                                             [B, A]  \n",
      "2             27                     [2015, 1996, 2002, 2004, 2000]  \n",
      "3             17  [Communication, Construction, Wholesale & Reta...  \n",
      "4            179  [Telecommunications;, Construction;, Billing;,...  \n",
      "5              6  [Business Application, Mathematically-Intensiv...  \n",
      "6            539  [Online. eSales;, Stock control & order proces...  \n",
      "7              3     [Enhancement, New Development, Re-development]  \n",
      "8              6                   [Multi, MF, PC, MR, Proprietary]  \n",
      "9              6                          [4GL, 3GL, ApG, 2GL, APG]  \n",
      "Cell executed at: 2025-05-15 21:22:30.660548\n"
     ]
    }
   ],
   "source": [
    "# Create a function to get comprehensive data summary\n",
    "def get_data_summary(df, n_unique_samples=5):\n",
    "    \"\"\"\n",
    "    Generate a comprehensive summary of the dataframe.\n",
    "    \n",
    "    Args:\n",
    "        df: Pandas DataFrame\n",
    "        n_unique_samples: Number of unique values to show as sample\n",
    "        \n",
    "    Returns:\n",
    "        DataFrame with summary information\n",
    "    \"\"\"\n",
    "    # Summary dataframe with basic info\n",
    "    summary = pd.DataFrame({\n",
    "        'Feature': df.columns,\n",
    "        'data_type': df.dtypes.values,\n",
    "        'Null_number': df.isnull().sum().values,\n",
    "        'Null_pct': (df.isnull().mean() * 100).values,\n",
    "        'Unique_counts': df.nunique().values,\n",
    "        'unique_samples': [list(df[col].dropna().unique()[:n_unique_samples]) for col in df.columns]\n",
    "    })\n",
    "    \n",
    "    return summary\n",
    "\n",
    "# Generate and display data summary\n",
    "summary_df = get_data_summary(df)\n",
    "print(\"\\nData Summary (first 10 columns):\")\n",
    "print(summary_df.head(10))\n"
   ]
  },
  {
   "cell_type": "code",
   "execution_count": 13,
   "id": "ded2a650-102c-4283-85c4-812d73753850",
   "metadata": {},
   "outputs": [
    {
     "name": "stdout",
     "output_type": "stream",
     "text": [
      "\n",
      "Descriptive Statistics (first 5 rows):\n",
      "                                             count          mean  \\\n",
      "Unnamed_0                                   7058.0  21335.873052   \n",
      "Project_PRF_Year_of_Project                 7058.0   2004.763814   \n",
      "Project_PRF_Functional_Size                 6150.0    316.933496   \n",
      "Project_PRF_Normalised_Work_Effort_Level_1  6288.0   3888.236164   \n",
      "Project_PRF_Normalised_Work_Effort          7058.0   4314.558373   \n",
      "\n",
      "                                                     std      min      25%  \\\n",
      "Unnamed_0                                    6545.814378  10003.0  15655.5   \n",
      "Project_PRF_Year_of_Project                     5.892202   1989.0   2000.0   \n",
      "Project_PRF_Functional_Size                   640.302478      2.0     64.0   \n",
      "Project_PRF_Normalised_Work_Effort_Level_1   8674.167063      4.0    619.0   \n",
      "Project_PRF_Normalised_Work_Effort          10076.657930      4.0    687.0   \n",
      "\n",
      "                                                50%       75%       max  \n",
      "Unnamed_0                                   21367.5  26920.50   32767.0  \n",
      "Project_PRF_Year_of_Project                  2004.0   2010.00    2015.0  \n",
      "Project_PRF_Functional_Size                   137.0    323.00   16148.0  \n",
      "Project_PRF_Normalised_Work_Effort_Level_1   1550.5   3847.25  230514.0  \n",
      "Project_PRF_Normalised_Work_Effort           1666.0   4106.75  266946.0  \n",
      "Cell executed at: 2025-05-15 21:23:39.565681\n"
     ]
    }
   ],
   "source": [
    "# Display descriptive statistics for numeric columns\n",
    "desc_stats = df.describe().T\n",
    "print(\"\\nDescriptive Statistics (first 5 rows):\")\n",
    "print(desc_stats.head())"
   ]
  },
  {
   "cell_type": "code",
   "execution_count": 14,
   "id": "6992df08-5bd0-46a1-b342-050a8305315f",
   "metadata": {},
   "outputs": [
    {
     "name": "stdout",
     "output_type": "stream",
     "text": [
      "\n",
      "Target variable: 'Project_PRF_Normalised_Work_Effort'\n",
      "Cell executed at: 2025-05-15 21:24:12.786161\n"
     ]
    }
   ],
   "source": [
    "# Identify target column\n",
    "target_col = 'Project_PRF_Normalised_Work_Effort'\n",
    "print(f\"\\nTarget variable: '{target_col}'\")"
   ]
  },
  {
   "cell_type": "code",
   "execution_count": 12,
   "id": "8e3a2cd8-9023-4c07-a27a-df0917494f4d",
   "metadata": {},
   "outputs": [
    {
     "name": "stdout",
     "output_type": "stream",
     "text": [
      "Cell executed at: 2025-05-15 19:47:27.749571\n"
     ]
    }
   ],
   "source": [
    "# ## Data Cleaning and Preprocessing"
   ]
  },
  {
   "cell_type": "code",
   "execution_count": 15,
   "id": "1478ab15-90a8-47aa-9ed6-831732588629",
   "metadata": {},
   "outputs": [
    {
     "name": "stdout",
     "output_type": "stream",
     "text": [
      "\n",
      "Analysing missing values...\n",
      "Top 10 columns with highest missing percentages:\n",
      "People_PRF_IT_experience_less_than_1_yr         99.192406\n",
      "People_PRF_IT_experience_1_to_3_yr              99.036554\n",
      "People_PRF_IT_experience_great_than_3_yr        98.838198\n",
      "Tech_TF_Server_Roles                            96.217059\n",
      "People_PRF_IT_experience_less_than_3_yr         96.132049\n",
      "People_PRF_BA_team_experience_less_than_1_yr    96.117880\n",
      "Tech_TF_Client_Roles                            96.047039\n",
      "People_PRF_BA_team_experience_1_to_3_yr         95.834514\n",
      "People_PRF_IT_experience_great_than_9_yr        95.792009\n",
      "People_PRF_IT_experience_3_to_9_yr              95.168603\n",
      "dtype: float64\n",
      "Cell executed at: 2025-05-15 21:25:01.888523\n"
     ]
    }
   ],
   "source": [
    "# Analyse missing values\n",
    "print(\"\\nAnalysing missing values...\")\n",
    "missing_pct = df.isnull().mean() * 100\n",
    "missing_sorted = missing_pct.sort_values(ascending=False)\n",
    "print(\"Top 10 columns with highest missing percentages:\")\n",
    "print(missing_sorted.head(10))"
   ]
  },
  {
   "cell_type": "code",
   "execution_count": 16,
   "id": "91eed99a-7179-4aae-a7de-6d0cedbff7f0",
   "metadata": {},
   "outputs": [
    {
     "name": "stdout",
     "output_type": "stream",
     "text": [
      "\n",
      "Columns with >70% missing values (24 columns):\n",
      "  - Project_PRF_Defect_Density: 79.40% missing\n",
      "  - Project_PRF_Manpower_Delivery_Rate: 71.39% missing\n",
      "  - Process_PMF_Prototyping_Used: 85.62% missing\n",
      "  - Process_PMF_Development_Techniques: 75.15% missing\n",
      "  - Tech_TF_Client_Roles: 96.05% missing\n",
      "  - ... and 19 more columns\n",
      "Cell executed at: 2025-05-15 21:25:33.460778\n"
     ]
    }
   ],
   "source": [
    "# Identify columns with high missing values (>70%)\n",
    "high_missing_cols = missing_pct[missing_pct > 70].index.tolist()\n",
    "print(f\"\\nColumns with >70% missing values ({len(high_missing_cols)} columns):\")\n",
    "for col in high_missing_cols[:5]:  # Show first 5\n",
    "    print(f\"  - {col}: {missing_pct[col]:.2f}% missing\")\n",
    "if len(high_missing_cols) > 5:\n",
    "    print(f\"  - ... and {len(high_missing_cols) - 5} more columns\")"
   ]
  },
  {
   "cell_type": "code",
   "execution_count": 17,
   "id": "9106b8ff-475a-406a-b1b1-203e0cd4e18c",
   "metadata": {},
   "outputs": [
    {
     "name": "stdout",
     "output_type": "stream",
     "text": [
      "\n",
      "Data shape after dropping high-missing columns: (7058, 28)\n",
      "Cell executed at: 2025-05-15 21:25:56.440699\n"
     ]
    }
   ],
   "source": [
    "# Create a clean dataframe by dropping high-missing columns\n",
    "df_clean = df.drop(columns=high_missing_cols)\n",
    "print(f\"\\nData shape after dropping high-missing columns: {df_clean.shape}\")"
   ]
  },
  {
   "cell_type": "code",
   "execution_count": 18,
   "id": "91d90a2b-18c7-47d4-b5d2-54f5f635ef37",
   "metadata": {},
   "outputs": [
    {
     "name": "stdout",
     "output_type": "stream",
     "text": [
      "\n",
      "Handling remaining missing values...\n",
      "Cell executed at: 2025-05-15 21:26:02.649901\n"
     ]
    }
   ],
   "source": [
    "# Handle remaining missing values\n",
    "print(\"\\nHandling remaining missing values...\")"
   ]
  },
  {
   "cell_type": "code",
   "execution_count": 19,
   "id": "b3da6431-b898-4bdc-afce-cd700f5b2a9a",
   "metadata": {},
   "outputs": [
    {
     "name": "stdout",
     "output_type": "stream",
     "text": [
      "Cell executed at: 2025-05-15 21:26:18.598557\n"
     ]
    }
   ],
   "source": [
    "# Fill missing values in categorical columns with \"Missing\"\n",
    "cat_cols = df_clean.select_dtypes(include=['object', 'category']).columns\n",
    "for col in cat_cols:\n",
    "    df_clean[col].fillna('Missing', inplace=True)"
   ]
  },
  {
   "cell_type": "code",
   "execution_count": 20,
   "id": "2fcc7aeb-1e09-4c8e-8c5b-38511eb644fc",
   "metadata": {},
   "outputs": [
    {
     "name": "stdout",
     "output_type": "stream",
     "text": [
      "\n",
      "Columns with remaining missing values: 8\n",
      "Top columns with missing values:\n",
      "Project_PRF_Max_Team_Size                 4817\n",
      "Tech_TF_Tools_Used                        2618\n",
      "Project_PRF_Normalised_Level_1_PDR_ufp    1648\n",
      "Project_PRF_Speed_of_Delivery             1619\n",
      "Project_PRF_Functional_Size                908\n",
      "dtype: int64\n",
      "Cell executed at: 2025-05-15 21:26:44.551829\n"
     ]
    }
   ],
   "source": [
    "# Check remaining missing values\n",
    "remaining_missing = df_clean.isnull().sum()\n",
    "remaining_missing_count = sum(remaining_missing > 0)\n",
    "print(f\"\\nColumns with remaining missing values: {remaining_missing_count}\")\n",
    "if remaining_missing_count > 0:\n",
    "    print(\"Top columns with missing values:\")\n",
    "    print(remaining_missing[remaining_missing > 0].sort_values(ascending=False).head())"
   ]
  },
  {
   "cell_type": "code",
   "execution_count": 21,
   "id": "256be495-1710-46ab-8fbd-61d703cf0a06",
   "metadata": {},
   "outputs": [
    {
     "name": "stdout",
     "output_type": "stream",
     "text": [
      "\n",
      "Target variable 'Project_PRF_Normalised_Work_Effort' summary:\n",
      "Unique values: 4214\n",
      "Missing values: 0\n",
      "Top value counts:\n",
      "Project_PRF_Normalised_Work_Effort\n",
      "995    9\n",
      "304    9\n",
      "620    9\n",
      "473    9\n",
      "62     9\n",
      "Name: count, dtype: int64\n",
      "Cell executed at: 2025-05-15 21:27:22.460058\n"
     ]
    }
   ],
   "source": [
    "# Verify target variable\n",
    "target_col = 'Project_PRF_Normalised_Work_Effort'\n",
    "print(f\"\\nTarget variable '{target_col}' summary:\")\n",
    "print(f\"Unique values: {df_clean[target_col].nunique()}\")\n",
    "print(f\"Missing values: {df_clean[target_col].isnull().sum()}\")\n",
    "print(f\"Top value counts:\")\n",
    "print(df_clean[target_col].value_counts().head())\n"
   ]
  },
  {
   "cell_type": "code",
   "execution_count": 22,
   "id": "b41adf2f-9588-4d04-a0c3-265cb3029645",
   "metadata": {},
   "outputs": [
    {
     "name": "stdout",
     "output_type": "stream",
     "text": [
      "\n",
      "Number of infinite values: 0\n",
      "Cell executed at: 2025-05-15 21:27:34.485754\n"
     ]
    }
   ],
   "source": [
    "# Check for infinite values\n",
    "inf_check = np.isinf(df_clean.select_dtypes(include=[np.number])).sum().sum()\n",
    "print(f\"\\nNumber of infinite values: {inf_check}\")"
   ]
  },
  {
   "cell_type": "code",
   "execution_count": 23,
   "id": "5e09da5f-54a5-406f-b042-d71f0c52aefe",
   "metadata": {},
   "outputs": [
    {
     "name": "stdout",
     "output_type": "stream",
     "text": [
      "\n",
      "Cleaned data saved to 'data/cleaned_data.csv'\n",
      "Cell executed at: 2025-05-15 21:27:43.224882\n"
     ]
    }
   ],
   "source": [
    "# Save cleaned data\n",
    "df_clean.to_csv('data/cleaned_data.csv', index=False)\n",
    "print(\"\\nCleaned data saved to 'data/cleaned_data.csv'\")\n"
   ]
  },
  {
   "cell_type": "code",
   "execution_count": 23,
   "id": "3d5e4ebe-d3e0-4a56-8767-743a5d02acef",
   "metadata": {},
   "outputs": [
    {
     "name": "stdout",
     "output_type": "stream",
     "text": [
      "Cell executed at: 2025-05-15 19:51:10.654618\n"
     ]
    }
   ],
   "source": [
    "# ## Feature Engineering and Encoding"
   ]
  },
  {
   "cell_type": "code",
   "execution_count": 24,
   "id": "02146b23-08d2-4afe-a4f3-df54babca0ab",
   "metadata": {},
   "outputs": [
    {
     "name": "stdout",
     "output_type": "stream",
     "text": [
      "\n",
      "Categorical columns and their cardinality:\n",
      "  External_EEF_Data_Quality_Rating: 2 unique values\n",
      "  External_EEF_Industry_Sector: 18 unique values\n",
      "  External_EEF_Organisation_Type: 180 unique values\n",
      "  Project_PRF_Application_Group: 7 unique values\n",
      "  Project_PRF_Application_Type: 540 unique values\n",
      "  ... and 11 more columns\n",
      "Cell executed at: 2025-05-15 21:28:04.375743\n"
     ]
    }
   ],
   "source": [
    "# Identify categorical columns and check cardinality\n",
    "print(\"\\nCategorical columns and their cardinality:\")\n",
    "cat_cols = df_clean.select_dtypes(include=['object', 'category']).columns.tolist()\n",
    "for col in cat_cols[:5]:  # Show first 5\n",
    "    print(f\"  {col}: {df_clean[col].nunique()} unique values\")\n",
    "if len(cat_cols) > 5:\n",
    "    print(f\"  ... and {len(cat_cols) - 5} more columns\")"
   ]
  },
  {
   "cell_type": "code",
   "execution_count": 25,
   "id": "13827e97-52a7-4706-93e8-56993f34bb34",
   "metadata": {},
   "outputs": [
    {
     "name": "stdout",
     "output_type": "stream",
     "text": [
      "\n",
      "Applying one-hot encoding to 9 low-cardinality columns:\n",
      "  - External_EEF_Data_Quality_Rating\n",
      "  - Project_PRF_Application_Group\n",
      "  - Project_PRF_Development_Type\n",
      "  - Tech_TF_Development_Platform\n",
      "  - Tech_TF_Language_Type\n",
      "  - ... and 4 more columns\n",
      "Cell executed at: 2025-05-15 21:28:38.164200\n"
     ]
    }
   ],
   "source": [
    "# One-hot encode categorical columns with low cardinality (<10 unique values)\n",
    "low_card_cols = [col for col in cat_cols if df_clean[col].nunique() < 10]\n",
    "print(f\"\\nApplying one-hot encoding to {len(low_card_cols)} low-cardinality columns:\")\n",
    "for col in low_card_cols[:5]:  # Show first 5\n",
    "    print(f\"  - {col}\")\n",
    "if len(low_card_cols) > 5:\n",
    "    print(f\"  - ... and {len(low_card_cols) - 5} more columns\")\n"
   ]
  },
  {
   "cell_type": "code",
   "execution_count": 26,
   "id": "3fb3b252-b306-42b8-b048-52f5770905cb",
   "metadata": {},
   "outputs": [
    {
     "name": "stdout",
     "output_type": "stream",
     "text": [
      "\n",
      "Data shape after one-hot encoding: (7058, 56)\n",
      "Cell executed at: 2025-05-15 21:28:56.806840\n"
     ]
    }
   ],
   "source": [
    "# Create encoded dataframe\n",
    "df_encoded = pd.get_dummies(df_clean, columns=low_card_cols, drop_first=True)\n",
    "print(f\"\\nData shape after one-hot encoding: {df_encoded.shape}\")"
   ]
  },
  {
   "cell_type": "code",
   "execution_count": 27,
   "id": "0c537ff5-d690-42ed-8d3c-f9e8bbb8bd60",
   "metadata": {},
   "outputs": [
    {
     "name": "stdout",
     "output_type": "stream",
     "text": [
      "\n",
      "Encoded data saved to 'data/encoded_data.csv'\n",
      "Cell executed at: 2025-05-15 21:29:07.784979\n"
     ]
    }
   ],
   "source": [
    "# Save encoded data\n",
    "df_encoded.to_csv('data/encoded_data.csv', index=False)\n",
    "print(\"\\nEncoded data saved to 'data/encoded_data.csv'\")"
   ]
  },
  {
   "cell_type": "code",
   "execution_count": 28,
   "id": "e217e573-7d82-4f45-8be3-6e3658b397bb",
   "metadata": {},
   "outputs": [
    {
     "data": {
      "text/html": [
       "\n",
       "            <div>\n",
       "                <ins><a href=\"https://ydata.ai/register\">Upgrade to ydata-sdk</a></ins>\n",
       "                <p>\n",
       "                    Improve your data and profiling with ydata-sdk, featuring data quality scoring, redundancy detection, outlier identification, text validation, and synthetic data generation.\n",
       "                </p>\n",
       "            </div>\n",
       "            "
      ],
      "text/plain": [
       "<IPython.core.display.HTML object>"
      ]
     },
     "metadata": {},
     "output_type": "display_data"
    },
    {
     "name": "stdout",
     "output_type": "stream",
     "text": [
      "\n",
      "Generating data profile report...\n"
     ]
    },
    {
     "data": {
      "application/vnd.jupyter.widget-view+json": {
       "model_id": "b37875ddbced4c40be214c2b3b8f6755",
       "version_major": 2,
       "version_minor": 0
      },
      "text/plain": [
       "Summarize dataset:   0%|          | 0/5 [00:00<?, ?it/s]"
      ]
     },
     "metadata": {},
     "output_type": "display_data"
    },
    {
     "name": "stderr",
     "output_type": "stream",
     "text": [
      "\n",
      "\u001b[A%|          | 0/28 [00:00<?, ?it/s]\n",
      "\u001b[A%|█▊        | 5/28 [00:00<00:00, 35.19it/s]\n",
      "100%|██████████| 28/28 [00:00<00:00, 67.29it/s]\n"
     ]
    },
    {
     "data": {
      "application/vnd.jupyter.widget-view+json": {
       "model_id": "96b887cd5df14e589eaad6d6827cb2a5",
       "version_major": 2,
       "version_minor": 0
      },
      "text/plain": [
       "Generate report structure:   0%|          | 0/1 [00:00<?, ?it/s]"
      ]
     },
     "metadata": {},
     "output_type": "display_data"
    },
    {
     "data": {
      "application/vnd.jupyter.widget-view+json": {
       "model_id": "1323f22f11a542c48042c394424e41a7",
       "version_major": 2,
       "version_minor": 0
      },
      "text/plain": [
       "Render HTML:   0%|          | 0/1 [00:00<?, ?it/s]"
      ]
     },
     "metadata": {},
     "output_type": "display_data"
    },
    {
     "data": {
      "application/vnd.jupyter.widget-view+json": {
       "model_id": "6b1fce15baaf43c5a416d2134f62bc7a",
       "version_major": 2,
       "version_minor": 0
      },
      "text/plain": [
       "Export report to file:   0%|          | 0/1 [00:00<?, ?it/s]"
      ]
     },
     "metadata": {},
     "output_type": "display_data"
    },
    {
     "name": "stdout",
     "output_type": "stream",
     "text": [
      "Data profile report saved to 'data_profile.html'\n",
      "Cell executed at: 2025-05-15 21:29:42.145259\n"
     ]
    }
   ],
   "source": [
    "# ## Data Profiling (Optional)\n",
    "\n",
    "try:\n",
    "    from ydata_profiling import ProfileReport\n",
    "    \n",
    "    print(\"\\nGenerating data profile report...\")\n",
    "    profile = ProfileReport(df_clean, title=\"ISBSG Dataset Profiling Report\", minimal=True)\n",
    "    profile.to_file(\"data_profile.html\")\n",
    "    print(\"Data profile report saved to 'data_profile.html'\")\n",
    "except ImportError:\n",
    "    print(\"\\nSkipping data profiling (ydata_profiling not installed)\")\n",
    "    print(\"To install: pip install ydata-profiling\")"
   ]
  },
  {
   "cell_type": "code",
   "execution_count": 29,
   "id": "9fc061d7-566f-4568-b33c-e880eb10188d",
   "metadata": {},
   "outputs": [
    {
     "name": "stdout",
     "output_type": "stream",
     "text": [
      "Cell executed at: 2025-05-15 19:52:17.539790\n"
     ]
    }
   ],
   "source": [
    "# ## Model Building with PyCaret"
   ]
  },
  {
   "cell_type": "code",
   "execution_count": 30,
   "id": "0841acfb-b8fc-400e-b7dc-a1d4c4a70d1b",
   "metadata": {},
   "outputs": [
    {
     "name": "stdout",
     "output_type": "stream",
     "text": [
      "\n",
      "Setting up PyCaret environment...\n",
      "Error during PyCaret setup: The feature names should match those that were passed during fit.\n",
      "Feature names unseen at fit time:\n",
      "- External_EEF_Industry_Sector_Electronics & Computers\n",
      "- External_EEF_Industry_Sector_Medical & Health Care\n",
      "- External_EEF_Industry_Sector_Professional Services\n",
      "- External_EEF_Industry_Sector_Service Industry\n",
      "- External_EEF_Industry_Sector_Wholesale & Retail\n",
      "- ...\n",
      "Feature names seen at fit time, yet now missing:\n",
      "- External_EEF_Industry_Sector_Electronics_&_Computers\n",
      "- External_EEF_Industry_Sector_Medical_&_Health_Care\n",
      "- External_EEF_Industry_Sector_Professional_Services\n",
      "- External_EEF_Industry_Sector_Service_Industry\n",
      "- External_EEF_Industry_Sector_Wholesale_&_Retail\n",
      "- ...\n",
      "\n",
      "Cell executed at: 2025-05-15 21:31:58.217716\n"
     ]
    }
   ],
   "source": [
    "# Import PyCaret regression module\n",
    "from pycaret.regression import setup, compare_models, create_model, pull, plot_model\n",
    "from pycaret.regression import tune_model, evaluate_model, save_model, get_config\n",
    "\n",
    "# Setup PyCaret environment\n",
    "print(\"\\nSetting up PyCaret environment...\")\n",
    "try:\n",
    "    # Split data into features and target before setup\n",
    "    X = df_encoded.drop(columns=[target_col])\n",
    "    y = df_encoded[target_col]\n",
    "    \n",
    "    # Setup PyCaret\n",
    "    setup_results = setup(\n",
    "        data=df_encoded,\n",
    "        target=target_col,\n",
    "        session_id=123,\n",
    "        preprocess=True,\n",
    "        imputation_type='simple',\n",
    "        numeric_imputation='mean',\n",
    "        categorical_imputation='mode',\n",
    "        encoding_method=None,  # Already encoded low-cardinality columns\n",
    "        normalize=True,\n",
    "        transformation=True,\n",
    "        feature_selection=True,\n",
    "        ignore_features=None,\n",
    "        verbose=False\n",
    "    )\n",
    "except Exception as e:\n",
    "    print(\"Error during PyCaret setup:\", e)"
   ]
  },
  {
   "cell_type": "code",
   "execution_count": 31,
   "id": "d548f80f-8f2d-4dc1-9c0d-150581463e55",
   "metadata": {},
   "outputs": [
    {
     "name": "stdout",
     "output_type": "stream",
     "text": [
      "\n",
      "Preprocessed data shape: (7058, 55)\n",
      "Numeric features: 11\n",
      "Categorical features: 7\n",
      "PyCaret preprocessed data saved to CSV files\n",
      "Cell executed at: 2025-05-15 21:33:20.874062\n"
     ]
    }
   ],
   "source": [
    "    # Get preprocessed data for later use\n",
    "    pycaret_X = get_config(\"X\")\n",
    "    pycaret_y = get_config(\"y\")\n",
    "    \n",
    "    # Check data info\n",
    "    print(f\"\\nPreprocessed data shape: {pycaret_X.shape}\")\n",
    "    print(f\"Numeric features: {len(pycaret_X.select_dtypes(include=[np.number]).columns)}\")\n",
    "    print(f\"Categorical features: {len(pycaret_X.select_dtypes(include=['object', 'category']).columns)}\")\n",
    "    \n",
    "    # Save preprocessed data\n",
    "    pycaret_X.to_csv('data/pycaret_processed_features.csv', index=False)\n",
    "    pycaret_y.to_csv('data/pycaret_processed_target.csv', index=False)\n",
    "    print(\"PyCaret preprocessed data saved to CSV files\")\n"
   ]
  },
  {
   "cell_type": "code",
   "execution_count": 32,
   "id": "76f48f5e-42f0-40eb-b99e-272ca79ab42a",
   "metadata": {},
   "outputs": [
    {
     "name": "stdout",
     "output_type": "stream",
     "text": [
      "\n",
      "Comparing regression models...\n"
     ]
    },
    {
     "ename": "RuntimeError",
     "evalue": "This function/method requires the users to run setup() first.\nMore info: https://pycaret.gitbook.io/docs/get-started/quickstart",
     "output_type": "error",
     "traceback": [
      "\u001b[31m---------------------------------------------------------------------------\u001b[39m",
      "\u001b[31mRuntimeError\u001b[39m                              Traceback (most recent call last)",
      "\u001b[36mCell\u001b[39m\u001b[36m \u001b[39m\u001b[32mIn[32]\u001b[39m\u001b[32m, line 3\u001b[39m\n\u001b[32m      1\u001b[39m \u001b[38;5;66;03m# Compare regression models\u001b[39;00m\n\u001b[32m      2\u001b[39m \u001b[38;5;28mprint\u001b[39m(\u001b[33m\"\u001b[39m\u001b[38;5;130;01m\\n\u001b[39;00m\u001b[33mComparing regression models...\u001b[39m\u001b[33m\"\u001b[39m)\n\u001b[32m----> \u001b[39m\u001b[32m3\u001b[39m best_models = compare_models(n_select=\u001b[32m3\u001b[39m)  \u001b[38;5;66;03m# Select top 3 models\u001b[39;00m\n\u001b[32m      4\u001b[39m model_results = pull()\n\u001b[32m      5\u001b[39m \u001b[38;5;28mprint\u001b[39m(\u001b[33m\"\u001b[39m\u001b[38;5;130;01m\\n\u001b[39;00m\u001b[33mModel comparison results:\u001b[39m\u001b[33m\"\u001b[39m)\n",
      "\u001b[36mFile \u001b[39m\u001b[32m~\\.conda\\envs\\streamlit-env-agile\\Lib\\site-packages\\pycaret\\utils\\generic.py:964\u001b[39m, in \u001b[36mcheck_if_global_is_not_none.<locals>.decorator.<locals>.wrapper\u001b[39m\u001b[34m(*args, **kwargs)\u001b[39m\n\u001b[32m    962\u001b[39m     \u001b[38;5;28;01mif\u001b[39;00m globals_d[name] \u001b[38;5;129;01mis\u001b[39;00m \u001b[38;5;28;01mNone\u001b[39;00m:\n\u001b[32m    963\u001b[39m         \u001b[38;5;28;01mraise\u001b[39;00m \u001b[38;5;167;01mValueError\u001b[39;00m(message)\n\u001b[32m--> \u001b[39m\u001b[32m964\u001b[39m \u001b[38;5;28;01mreturn\u001b[39;00m func(*args, **kwargs)\n",
      "\u001b[36mFile \u001b[39m\u001b[32m~\\.conda\\envs\\streamlit-env-agile\\Lib\\site-packages\\pycaret\\regression\\functional.py:805\u001b[39m, in \u001b[36mcompare_models\u001b[39m\u001b[34m(include, exclude, fold, round, cross_validation, sort, n_select, budget_time, turbo, errors, fit_kwargs, groups, experiment_custom_tags, engine, verbose, parallel)\u001b[39m\n\u001b[32m    670\u001b[39m \u001b[38;5;129m@check_if_global_is_not_none\u001b[39m(\u001b[38;5;28mglobals\u001b[39m(), _CURRENT_EXPERIMENT_DECORATOR_DICT)\n\u001b[32m    671\u001b[39m \u001b[38;5;28;01mdef\u001b[39;00m\u001b[38;5;250m \u001b[39m\u001b[34mcompare_models\u001b[39m(\n\u001b[32m    672\u001b[39m     include: Optional[List[Union[\u001b[38;5;28mstr\u001b[39m, Any]]] = \u001b[38;5;28;01mNone\u001b[39;00m,\n\u001b[32m   (...)\u001b[39m\u001b[32m    687\u001b[39m     parallel: Optional[ParallelBackend] = \u001b[38;5;28;01mNone\u001b[39;00m,\n\u001b[32m    688\u001b[39m ):\n\u001b[32m    689\u001b[39m \u001b[38;5;250m    \u001b[39m\u001b[33;03m\"\"\"\u001b[39;00m\n\u001b[32m    690\u001b[39m \u001b[33;03m    This function trains and evaluates performance of all estimators available in the\u001b[39;00m\n\u001b[32m    691\u001b[39m \u001b[33;03m    model library using cross validation. The output of this function is a score grid\u001b[39;00m\n\u001b[32m   (...)\u001b[39m\u001b[32m    803\u001b[39m \n\u001b[32m    804\u001b[39m \u001b[33;03m    \"\"\"\u001b[39;00m\n\u001b[32m--> \u001b[39m\u001b[32m805\u001b[39m     \u001b[38;5;28;01mreturn\u001b[39;00m _CURRENT_EXPERIMENT.compare_models(\n\u001b[32m    806\u001b[39m         include=include,\n\u001b[32m    807\u001b[39m         exclude=exclude,\n\u001b[32m    808\u001b[39m         fold=fold,\n\u001b[32m    809\u001b[39m         \u001b[38;5;28mround\u001b[39m=\u001b[38;5;28mround\u001b[39m,\n\u001b[32m    810\u001b[39m         cross_validation=cross_validation,\n\u001b[32m    811\u001b[39m         sort=sort,\n\u001b[32m    812\u001b[39m         n_select=n_select,\n\u001b[32m    813\u001b[39m         budget_time=budget_time,\n\u001b[32m    814\u001b[39m         turbo=turbo,\n\u001b[32m    815\u001b[39m         errors=errors,\n\u001b[32m    816\u001b[39m         fit_kwargs=fit_kwargs,\n\u001b[32m    817\u001b[39m         groups=groups,\n\u001b[32m    818\u001b[39m         experiment_custom_tags=experiment_custom_tags,\n\u001b[32m    819\u001b[39m         engine=engine,\n\u001b[32m    820\u001b[39m         verbose=verbose,\n\u001b[32m    821\u001b[39m         parallel=parallel,\n\u001b[32m    822\u001b[39m     )\n",
      "\u001b[36mFile \u001b[39m\u001b[32m~\\.conda\\envs\\streamlit-env-agile\\Lib\\site-packages\\pycaret\\regression\\oop.py:1122\u001b[39m, in \u001b[36mRegressionExperiment.compare_models\u001b[39m\u001b[34m(self, include, exclude, fold, round, cross_validation, sort, n_select, budget_time, turbo, errors, fit_kwargs, groups, experiment_custom_tags, engine, verbose, parallel)\u001b[39m\n\u001b[32m   1119\u001b[39m         \u001b[38;5;28mself\u001b[39m._set_engine(estimator=estimator, engine=eng, severity=\u001b[33m\"\u001b[39m\u001b[33merror\u001b[39m\u001b[33m\"\u001b[39m)\n\u001b[32m   1121\u001b[39m \u001b[38;5;28;01mtry\u001b[39;00m:\n\u001b[32m-> \u001b[39m\u001b[32m1122\u001b[39m     return_values = \u001b[38;5;28msuper\u001b[39m().compare_models(\n\u001b[32m   1123\u001b[39m         include=include,\n\u001b[32m   1124\u001b[39m         exclude=exclude,\n\u001b[32m   1125\u001b[39m         fold=fold,\n\u001b[32m   1126\u001b[39m         \u001b[38;5;28mround\u001b[39m=\u001b[38;5;28mround\u001b[39m,\n\u001b[32m   1127\u001b[39m         cross_validation=cross_validation,\n\u001b[32m   1128\u001b[39m         sort=sort,\n\u001b[32m   1129\u001b[39m         n_select=n_select,\n\u001b[32m   1130\u001b[39m         budget_time=budget_time,\n\u001b[32m   1131\u001b[39m         turbo=turbo,\n\u001b[32m   1132\u001b[39m         errors=errors,\n\u001b[32m   1133\u001b[39m         fit_kwargs=fit_kwargs,\n\u001b[32m   1134\u001b[39m         groups=groups,\n\u001b[32m   1135\u001b[39m         experiment_custom_tags=experiment_custom_tags,\n\u001b[32m   1136\u001b[39m         verbose=verbose,\n\u001b[32m   1137\u001b[39m         parallel=parallel,\n\u001b[32m   1138\u001b[39m         caller_params=caller_params,\n\u001b[32m   1139\u001b[39m     )\n\u001b[32m   1141\u001b[39m \u001b[38;5;28;01mfinally\u001b[39;00m:\n\u001b[32m   1142\u001b[39m     \u001b[38;5;28;01mif\u001b[39;00m engine \u001b[38;5;129;01mis\u001b[39;00m \u001b[38;5;129;01mnot\u001b[39;00m \u001b[38;5;28;01mNone\u001b[39;00m:\n\u001b[32m   1143\u001b[39m         \u001b[38;5;66;03m# Reset the models back to the default engines\u001b[39;00m\n",
      "\u001b[36mFile \u001b[39m\u001b[32m~\\.conda\\envs\\streamlit-env-agile\\Lib\\site-packages\\pycaret\\internal\\pycaret_experiment\\supervised_experiment.py:532\u001b[39m, in \u001b[36m_SupervisedExperiment.compare_models\u001b[39m\u001b[34m(self, include, exclude, fold, round, cross_validation, sort, n_select, budget_time, turbo, errors, fit_kwargs, groups, experiment_custom_tags, probability_threshold, verbose, parallel, caller_params)\u001b[39m\n\u001b[32m    370\u001b[39m \u001b[38;5;28;01mdef\u001b[39;00m\u001b[38;5;250m \u001b[39m\u001b[34mcompare_models\u001b[39m(\n\u001b[32m    371\u001b[39m     \u001b[38;5;28mself\u001b[39m,\n\u001b[32m    372\u001b[39m     include: Optional[\n\u001b[32m   (...)\u001b[39m\u001b[32m    392\u001b[39m     caller_params: Optional[\u001b[38;5;28mdict\u001b[39m] = \u001b[38;5;28;01mNone\u001b[39;00m,\n\u001b[32m    393\u001b[39m ) -> List[Any]:\n\u001b[32m    394\u001b[39m \u001b[38;5;250m    \u001b[39m\u001b[33;03m\"\"\"\u001b[39;00m\n\u001b[32m    395\u001b[39m \u001b[33;03m    This function train all the models available in the model library and scores them\u001b[39;00m\n\u001b[32m    396\u001b[39m \u001b[33;03m    using Cross Validation. The output prints a score grid with Accuracy,\u001b[39;00m\n\u001b[32m   (...)\u001b[39m\u001b[32m    530\u001b[39m \n\u001b[32m    531\u001b[39m \u001b[33;03m    \"\"\"\u001b[39;00m\n\u001b[32m--> \u001b[39m\u001b[32m532\u001b[39m     \u001b[38;5;28mself\u001b[39m._check_setup_ran()\n\u001b[32m    534\u001b[39m     \u001b[38;5;28;01mif\u001b[39;00m parallel \u001b[38;5;129;01mis\u001b[39;00m \u001b[38;5;129;01mnot\u001b[39;00m \u001b[38;5;28;01mNone\u001b[39;00m:\n\u001b[32m    535\u001b[39m         \u001b[38;5;28;01mreturn\u001b[39;00m \u001b[38;5;28mself\u001b[39m._parallel_compare_models(parallel, caller_params, turbo=turbo)\n",
      "\u001b[36mFile \u001b[39m\u001b[32m~\\.conda\\envs\\streamlit-env-agile\\Lib\\site-packages\\pycaret\\internal\\pycaret_experiment\\pycaret_experiment.py:138\u001b[39m, in \u001b[36m_PyCaretExperiment._check_setup_ran\u001b[39m\u001b[34m(self)\u001b[39m\n\u001b[32m    127\u001b[39m \u001b[38;5;250m\u001b[39m\u001b[33;03m\"\"\"Checks to see if setup has been run or not. If it has not been run, then\u001b[39;00m\n\u001b[32m    128\u001b[39m \u001b[33;03man error is raised. Useful for operations that require setup to be run before\u001b[39;00m\n\u001b[32m    129\u001b[39m \u001b[33;03mthey can be executed. e.g. in some experiments, setup must be run first before\u001b[39;00m\n\u001b[32m   (...)\u001b[39m\u001b[32m    135\u001b[39m \u001b[33;03m    If setup has not been run.\u001b[39;00m\n\u001b[32m    136\u001b[39m \u001b[33;03m\"\"\"\u001b[39;00m\n\u001b[32m    137\u001b[39m \u001b[38;5;28;01mif\u001b[39;00m \u001b[38;5;129;01mnot\u001b[39;00m \u001b[38;5;28mself\u001b[39m._setup_ran:\n\u001b[32m--> \u001b[39m\u001b[32m138\u001b[39m     \u001b[38;5;28;01mraise\u001b[39;00m \u001b[38;5;167;01mRuntimeError\u001b[39;00m(\n\u001b[32m    139\u001b[39m         \u001b[33m\"\u001b[39m\u001b[33mThis function/method requires the users to run setup() first.\u001b[39m\u001b[33m\"\u001b[39m\n\u001b[32m    140\u001b[39m         \u001b[33m\"\u001b[39m\u001b[38;5;130;01m\\n\u001b[39;00m\u001b[33mMore info: https://pycaret.gitbook.io/docs/get-started/quickstart\u001b[39m\u001b[33m\"\u001b[39m\n\u001b[32m    141\u001b[39m     )\n",
      "\u001b[31mRuntimeError\u001b[39m: This function/method requires the users to run setup() first.\nMore info: https://pycaret.gitbook.io/docs/get-started/quickstart"
     ]
    },
    {
     "name": "stdout",
     "output_type": "stream",
     "text": [
      "Cell executed at: 2025-05-15 21:34:05.532202\n"
     ]
    }
   ],
   "source": [
    "   \n",
    "# Compare regression models\n",
    "print(\"\\nComparing regression models...\")\n",
    "best_models = compare_models(n_select=3)  # Select top 3 models\n",
    "model_results = pull()\n",
    "print(\"\\nModel comparison results:\")\n",
    "print(model_results)"
   ]
  },
  {
   "cell_type": "code",
   "execution_count": 36,
   "id": "f8124221-8801-4db8-a38c-6016b81c9fea",
   "metadata": {},
   "outputs": [
    {
     "name": "stdout",
     "output_type": "stream",
     "text": [
      "\n",
      "Creating best model: et\n"
     ]
    },
    {
     "data": {
      "text/html": [],
      "text/plain": [
       "<IPython.core.display.HTML object>"
      ]
     },
     "metadata": {},
     "output_type": "display_data"
    },
    {
     "data": {
      "text/html": [
       "<style type=\"text/css\">\n",
       "#T_18a40_row10_col0, #T_18a40_row10_col1, #T_18a40_row10_col2, #T_18a40_row10_col3, #T_18a40_row10_col4, #T_18a40_row10_col5 {\n",
       "  background: yellow;\n",
       "}\n",
       "</style>\n",
       "<table id=\"T_18a40\">\n",
       "  <thead>\n",
       "    <tr>\n",
       "      <th class=\"blank level0\" >&nbsp;</th>\n",
       "      <th id=\"T_18a40_level0_col0\" class=\"col_heading level0 col0\" >MAE</th>\n",
       "      <th id=\"T_18a40_level0_col1\" class=\"col_heading level0 col1\" >MSE</th>\n",
       "      <th id=\"T_18a40_level0_col2\" class=\"col_heading level0 col2\" >RMSE</th>\n",
       "      <th id=\"T_18a40_level0_col3\" class=\"col_heading level0 col3\" >R2</th>\n",
       "      <th id=\"T_18a40_level0_col4\" class=\"col_heading level0 col4\" >RMSLE</th>\n",
       "      <th id=\"T_18a40_level0_col5\" class=\"col_heading level0 col5\" >MAPE</th>\n",
       "    </tr>\n",
       "    <tr>\n",
       "      <th class=\"index_name level0\" >Fold</th>\n",
       "      <th class=\"blank col0\" >&nbsp;</th>\n",
       "      <th class=\"blank col1\" >&nbsp;</th>\n",
       "      <th class=\"blank col2\" >&nbsp;</th>\n",
       "      <th class=\"blank col3\" >&nbsp;</th>\n",
       "      <th class=\"blank col4\" >&nbsp;</th>\n",
       "      <th class=\"blank col5\" >&nbsp;</th>\n",
       "    </tr>\n",
       "  </thead>\n",
       "  <tbody>\n",
       "    <tr>\n",
       "      <th id=\"T_18a40_level0_row0\" class=\"row_heading level0 row0\" >0</th>\n",
       "      <td id=\"T_18a40_row0_col0\" class=\"data row0 col0\" >884.2739</td>\n",
       "      <td id=\"T_18a40_row0_col1\" class=\"data row0 col1\" >55407139.4678</td>\n",
       "      <td id=\"T_18a40_row0_col2\" class=\"data row0 col2\" >7443.5972</td>\n",
       "      <td id=\"T_18a40_row0_col3\" class=\"data row0 col3\" >0.7730</td>\n",
       "      <td id=\"T_18a40_row0_col4\" class=\"data row0 col4\" >0.2211</td>\n",
       "      <td id=\"T_18a40_row0_col5\" class=\"data row0 col5\" >0.1014</td>\n",
       "    </tr>\n",
       "    <tr>\n",
       "      <th id=\"T_18a40_level0_row1\" class=\"row_heading level0 row1\" >1</th>\n",
       "      <td id=\"T_18a40_row1_col0\" class=\"data row1 col0\" >382.6128</td>\n",
       "      <td id=\"T_18a40_row1_col1\" class=\"data row1 col1\" >2239050.3146</td>\n",
       "      <td id=\"T_18a40_row1_col2\" class=\"data row1 col2\" >1496.3457</td>\n",
       "      <td id=\"T_18a40_row1_col3\" class=\"data row1 col3\" >0.9640</td>\n",
       "      <td id=\"T_18a40_row1_col4\" class=\"data row1 col4\" >0.1869</td>\n",
       "      <td id=\"T_18a40_row1_col5\" class=\"data row1 col5\" >0.0881</td>\n",
       "    </tr>\n",
       "    <tr>\n",
       "      <th id=\"T_18a40_level0_row2\" class=\"row_heading level0 row2\" >2</th>\n",
       "      <td id=\"T_18a40_row2_col0\" class=\"data row2 col0\" >538.6472</td>\n",
       "      <td id=\"T_18a40_row2_col1\" class=\"data row2 col1\" >6717338.7147</td>\n",
       "      <td id=\"T_18a40_row2_col2\" class=\"data row2 col2\" >2591.7829</td>\n",
       "      <td id=\"T_18a40_row2_col3\" class=\"data row2 col3\" >0.9261</td>\n",
       "      <td id=\"T_18a40_row2_col4\" class=\"data row2 col4\" >0.2282</td>\n",
       "      <td id=\"T_18a40_row2_col5\" class=\"data row2 col5\" >0.1214</td>\n",
       "    </tr>\n",
       "    <tr>\n",
       "      <th id=\"T_18a40_level0_row3\" class=\"row_heading level0 row3\" >3</th>\n",
       "      <td id=\"T_18a40_row3_col0\" class=\"data row3 col0\" >493.0081</td>\n",
       "      <td id=\"T_18a40_row3_col1\" class=\"data row3 col1\" >9595418.2138</td>\n",
       "      <td id=\"T_18a40_row3_col2\" class=\"data row3 col2\" >3097.6472</td>\n",
       "      <td id=\"T_18a40_row3_col3\" class=\"data row3 col3\" >0.9346</td>\n",
       "      <td id=\"T_18a40_row3_col4\" class=\"data row3 col4\" >0.1914</td>\n",
       "      <td id=\"T_18a40_row3_col5\" class=\"data row3 col5\" >0.0818</td>\n",
       "    </tr>\n",
       "    <tr>\n",
       "      <th id=\"T_18a40_level0_row4\" class=\"row_heading level0 row4\" >4</th>\n",
       "      <td id=\"T_18a40_row4_col0\" class=\"data row4 col0\" >532.4317</td>\n",
       "      <td id=\"T_18a40_row4_col1\" class=\"data row4 col1\" >24509494.4561</td>\n",
       "      <td id=\"T_18a40_row4_col2\" class=\"data row4 col2\" >4950.7065</td>\n",
       "      <td id=\"T_18a40_row4_col3\" class=\"data row4 col3\" >0.7689</td>\n",
       "      <td id=\"T_18a40_row4_col4\" class=\"data row4 col4\" >0.1924</td>\n",
       "      <td id=\"T_18a40_row4_col5\" class=\"data row4 col5\" >0.0832</td>\n",
       "    </tr>\n",
       "    <tr>\n",
       "      <th id=\"T_18a40_level0_row5\" class=\"row_heading level0 row5\" >5</th>\n",
       "      <td id=\"T_18a40_row5_col0\" class=\"data row5 col0\" >576.9346</td>\n",
       "      <td id=\"T_18a40_row5_col1\" class=\"data row5 col1\" >17555614.6916</td>\n",
       "      <td id=\"T_18a40_row5_col2\" class=\"data row5 col2\" >4189.9421</td>\n",
       "      <td id=\"T_18a40_row5_col3\" class=\"data row5 col3\" >0.8284</td>\n",
       "      <td id=\"T_18a40_row5_col4\" class=\"data row5 col4\" >0.2035</td>\n",
       "      <td id=\"T_18a40_row5_col5\" class=\"data row5 col5\" >0.0708</td>\n",
       "    </tr>\n",
       "    <tr>\n",
       "      <th id=\"T_18a40_level0_row6\" class=\"row_heading level0 row6\" >6</th>\n",
       "      <td id=\"T_18a40_row6_col0\" class=\"data row6 col0\" >274.3069</td>\n",
       "      <td id=\"T_18a40_row6_col1\" class=\"data row6 col1\" >1216929.0077</td>\n",
       "      <td id=\"T_18a40_row6_col2\" class=\"data row6 col2\" >1103.1451</td>\n",
       "      <td id=\"T_18a40_row6_col3\" class=\"data row6 col3\" >0.9647</td>\n",
       "      <td id=\"T_18a40_row6_col4\" class=\"data row6 col4\" >0.1921</td>\n",
       "      <td id=\"T_18a40_row6_col5\" class=\"data row6 col5\" >0.0986</td>\n",
       "    </tr>\n",
       "    <tr>\n",
       "      <th id=\"T_18a40_level0_row7\" class=\"row_heading level0 row7\" >7</th>\n",
       "      <td id=\"T_18a40_row7_col0\" class=\"data row7 col0\" >452.8986</td>\n",
       "      <td id=\"T_18a40_row7_col1\" class=\"data row7 col1\" >3922056.4356</td>\n",
       "      <td id=\"T_18a40_row7_col2\" class=\"data row7 col2\" >1980.4182</td>\n",
       "      <td id=\"T_18a40_row7_col3\" class=\"data row7 col3\" >0.9656</td>\n",
       "      <td id=\"T_18a40_row7_col4\" class=\"data row7 col4\" >0.2631</td>\n",
       "      <td id=\"T_18a40_row7_col5\" class=\"data row7 col5\" >0.1565</td>\n",
       "    </tr>\n",
       "    <tr>\n",
       "      <th id=\"T_18a40_level0_row8\" class=\"row_heading level0 row8\" >8</th>\n",
       "      <td id=\"T_18a40_row8_col0\" class=\"data row8 col0\" >496.6227</td>\n",
       "      <td id=\"T_18a40_row8_col1\" class=\"data row8 col1\" >5711179.1488</td>\n",
       "      <td id=\"T_18a40_row8_col2\" class=\"data row8 col2\" >2389.8073</td>\n",
       "      <td id=\"T_18a40_row8_col3\" class=\"data row8 col3\" >0.9035</td>\n",
       "      <td id=\"T_18a40_row8_col4\" class=\"data row8 col4\" >0.2383</td>\n",
       "      <td id=\"T_18a40_row8_col5\" class=\"data row8 col5\" >0.1239</td>\n",
       "    </tr>\n",
       "    <tr>\n",
       "      <th id=\"T_18a40_level0_row9\" class=\"row_heading level0 row9\" >9</th>\n",
       "      <td id=\"T_18a40_row9_col0\" class=\"data row9 col0\" >401.0256</td>\n",
       "      <td id=\"T_18a40_row9_col1\" class=\"data row9 col1\" >5899876.0142</td>\n",
       "      <td id=\"T_18a40_row9_col2\" class=\"data row9 col2\" >2428.9660</td>\n",
       "      <td id=\"T_18a40_row9_col3\" class=\"data row9 col3\" >0.8970</td>\n",
       "      <td id=\"T_18a40_row9_col4\" class=\"data row9 col4\" >0.1524</td>\n",
       "      <td id=\"T_18a40_row9_col5\" class=\"data row9 col5\" >0.0696</td>\n",
       "    </tr>\n",
       "    <tr>\n",
       "      <th id=\"T_18a40_level0_row10\" class=\"row_heading level0 row10\" >Mean</th>\n",
       "      <td id=\"T_18a40_row10_col0\" class=\"data row10 col0\" >503.2762</td>\n",
       "      <td id=\"T_18a40_row10_col1\" class=\"data row10 col1\" >13277409.6465</td>\n",
       "      <td id=\"T_18a40_row10_col2\" class=\"data row10 col2\" >3167.2358</td>\n",
       "      <td id=\"T_18a40_row10_col3\" class=\"data row10 col3\" >0.8926</td>\n",
       "      <td id=\"T_18a40_row10_col4\" class=\"data row10 col4\" >0.2069</td>\n",
       "      <td id=\"T_18a40_row10_col5\" class=\"data row10 col5\" >0.0995</td>\n",
       "    </tr>\n",
       "    <tr>\n",
       "      <th id=\"T_18a40_level0_row11\" class=\"row_heading level0 row11\" >Std</th>\n",
       "      <td id=\"T_18a40_row11_col0\" class=\"data row11 col0\" >152.5829</td>\n",
       "      <td id=\"T_18a40_row11_col1\" class=\"data row11 col1\" >15628395.7720</td>\n",
       "      <td id=\"T_18a40_row11_col2\" class=\"data row11 col2\" >1801.6734</td>\n",
       "      <td id=\"T_18a40_row11_col3\" class=\"data row11 col3\" >0.0724</td>\n",
       "      <td id=\"T_18a40_row11_col4\" class=\"data row11 col4\" >0.0297</td>\n",
       "      <td id=\"T_18a40_row11_col5\" class=\"data row11 col5\" >0.0260</td>\n",
       "    </tr>\n",
       "  </tbody>\n",
       "</table>\n"
      ],
      "text/plain": [
       "<pandas.io.formats.style.Styler at 0x206a0110710>"
      ]
     },
     "metadata": {},
     "output_type": "display_data"
    },
    {
     "data": {
      "text/html": [],
      "text/plain": [
       "<IPython.core.display.HTML object>"
      ]
     },
     "metadata": {},
     "output_type": "display_data"
    },
    {
     "name": "stdout",
     "output_type": "stream",
     "text": [
      "Cell executed at: 2025-05-15 20:00:12.165486\n"
     ]
    }
   ],
   "source": [
    "    # Select best model and create it\n",
    "    best_model_name = model_results.index[0]\n",
    "    print(f\"\\nCreating best model: {best_model_name}\")\n",
    "    model = create_model(best_model_name)"
   ]
  },
  {
   "cell_type": "code",
   "execution_count": 37,
   "id": "996a2b1c-6d57-4389-bfd3-f69f77ce1f1d",
   "metadata": {},
   "outputs": [
    {
     "name": "stdout",
     "output_type": "stream",
     "text": [
      "\n",
      "Tuning the best model...\n"
     ]
    },
    {
     "data": {
      "text/html": [],
      "text/plain": [
       "<IPython.core.display.HTML object>"
      ]
     },
     "metadata": {},
     "output_type": "display_data"
    },
    {
     "data": {
      "text/html": [
       "<style type=\"text/css\">\n",
       "#T_384d5_row10_col0, #T_384d5_row10_col1, #T_384d5_row10_col2, #T_384d5_row10_col3, #T_384d5_row10_col4, #T_384d5_row10_col5 {\n",
       "  background: yellow;\n",
       "}\n",
       "</style>\n",
       "<table id=\"T_384d5\">\n",
       "  <thead>\n",
       "    <tr>\n",
       "      <th class=\"blank level0\" >&nbsp;</th>\n",
       "      <th id=\"T_384d5_level0_col0\" class=\"col_heading level0 col0\" >MAE</th>\n",
       "      <th id=\"T_384d5_level0_col1\" class=\"col_heading level0 col1\" >MSE</th>\n",
       "      <th id=\"T_384d5_level0_col2\" class=\"col_heading level0 col2\" >RMSE</th>\n",
       "      <th id=\"T_384d5_level0_col3\" class=\"col_heading level0 col3\" >R2</th>\n",
       "      <th id=\"T_384d5_level0_col4\" class=\"col_heading level0 col4\" >RMSLE</th>\n",
       "      <th id=\"T_384d5_level0_col5\" class=\"col_heading level0 col5\" >MAPE</th>\n",
       "    </tr>\n",
       "    <tr>\n",
       "      <th class=\"index_name level0\" >Fold</th>\n",
       "      <th class=\"blank col0\" >&nbsp;</th>\n",
       "      <th class=\"blank col1\" >&nbsp;</th>\n",
       "      <th class=\"blank col2\" >&nbsp;</th>\n",
       "      <th class=\"blank col3\" >&nbsp;</th>\n",
       "      <th class=\"blank col4\" >&nbsp;</th>\n",
       "      <th class=\"blank col5\" >&nbsp;</th>\n",
       "    </tr>\n",
       "  </thead>\n",
       "  <tbody>\n",
       "    <tr>\n",
       "      <th id=\"T_384d5_level0_row0\" class=\"row_heading level0 row0\" >0</th>\n",
       "      <td id=\"T_384d5_row0_col0\" class=\"data row0 col0\" >1389.2786</td>\n",
       "      <td id=\"T_384d5_row0_col1\" class=\"data row0 col1\" >97825996.9469</td>\n",
       "      <td id=\"T_384d5_row0_col2\" class=\"data row0 col2\" >9890.7026</td>\n",
       "      <td id=\"T_384d5_row0_col3\" class=\"data row0 col3\" >0.5993</td>\n",
       "      <td id=\"T_384d5_row0_col4\" class=\"data row0 col4\" >0.6097</td>\n",
       "      <td id=\"T_384d5_row0_col5\" class=\"data row0 col5\" >0.9303</td>\n",
       "    </tr>\n",
       "    <tr>\n",
       "      <th id=\"T_384d5_level0_row1\" class=\"row_heading level0 row1\" >1</th>\n",
       "      <td id=\"T_384d5_row1_col0\" class=\"data row1 col0\" >905.6087</td>\n",
       "      <td id=\"T_384d5_row1_col1\" class=\"data row1 col1\" >8245823.2851</td>\n",
       "      <td id=\"T_384d5_row1_col2\" class=\"data row1 col2\" >2871.5542</td>\n",
       "      <td id=\"T_384d5_row1_col3\" class=\"data row1 col3\" >0.8674</td>\n",
       "      <td id=\"T_384d5_row1_col4\" class=\"data row1 col4\" >0.6199</td>\n",
       "      <td id=\"T_384d5_row1_col5\" class=\"data row1 col5\" >0.7719</td>\n",
       "    </tr>\n",
       "    <tr>\n",
       "      <th id=\"T_384d5_level0_row2\" class=\"row_heading level0 row2\" >2</th>\n",
       "      <td id=\"T_384d5_row2_col0\" class=\"data row2 col0\" >1032.6248</td>\n",
       "      <td id=\"T_384d5_row2_col1\" class=\"data row2 col1\" >18340253.6999</td>\n",
       "      <td id=\"T_384d5_row2_col2\" class=\"data row2 col2\" >4282.5522</td>\n",
       "      <td id=\"T_384d5_row2_col3\" class=\"data row2 col3\" >0.7982</td>\n",
       "      <td id=\"T_384d5_row2_col4\" class=\"data row2 col4\" >0.5526</td>\n",
       "      <td id=\"T_384d5_row2_col5\" class=\"data row2 col5\" >0.5890</td>\n",
       "    </tr>\n",
       "    <tr>\n",
       "      <th id=\"T_384d5_level0_row3\" class=\"row_heading level0 row3\" >3</th>\n",
       "      <td id=\"T_384d5_row3_col0\" class=\"data row3 col0\" >946.8931</td>\n",
       "      <td id=\"T_384d5_row3_col1\" class=\"data row3 col1\" >49912153.8690</td>\n",
       "      <td id=\"T_384d5_row3_col2\" class=\"data row3 col2\" >7064.8534</td>\n",
       "      <td id=\"T_384d5_row3_col3\" class=\"data row3 col3\" >0.6600</td>\n",
       "      <td id=\"T_384d5_row3_col4\" class=\"data row3 col4\" >0.5687</td>\n",
       "      <td id=\"T_384d5_row3_col5\" class=\"data row3 col5\" >0.6337</td>\n",
       "    </tr>\n",
       "    <tr>\n",
       "      <th id=\"T_384d5_level0_row4\" class=\"row_heading level0 row4\" >4</th>\n",
       "      <td id=\"T_384d5_row4_col0\" class=\"data row4 col0\" >894.9310</td>\n",
       "      <td id=\"T_384d5_row4_col1\" class=\"data row4 col1\" >39600980.8167</td>\n",
       "      <td id=\"T_384d5_row4_col2\" class=\"data row4 col2\" >6292.9310</td>\n",
       "      <td id=\"T_384d5_row4_col3\" class=\"data row4 col3\" >0.6266</td>\n",
       "      <td id=\"T_384d5_row4_col4\" class=\"data row4 col4\" >0.5442</td>\n",
       "      <td id=\"T_384d5_row4_col5\" class=\"data row4 col5\" >0.6008</td>\n",
       "    </tr>\n",
       "    <tr>\n",
       "      <th id=\"T_384d5_level0_row5\" class=\"row_heading level0 row5\" >5</th>\n",
       "      <td id=\"T_384d5_row5_col0\" class=\"data row5 col0\" >1143.7622</td>\n",
       "      <td id=\"T_384d5_row5_col1\" class=\"data row5 col1\" >29305639.8051</td>\n",
       "      <td id=\"T_384d5_row5_col2\" class=\"data row5 col2\" >5413.4684</td>\n",
       "      <td id=\"T_384d5_row5_col3\" class=\"data row5 col3\" >0.7135</td>\n",
       "      <td id=\"T_384d5_row5_col4\" class=\"data row5 col4\" >0.6892</td>\n",
       "      <td id=\"T_384d5_row5_col5\" class=\"data row5 col5\" >1.0150</td>\n",
       "    </tr>\n",
       "    <tr>\n",
       "      <th id=\"T_384d5_level0_row6\" class=\"row_heading level0 row6\" >6</th>\n",
       "      <td id=\"T_384d5_row6_col0\" class=\"data row6 col0\" >621.2060</td>\n",
       "      <td id=\"T_384d5_row6_col1\" class=\"data row6 col1\" >2229029.5746</td>\n",
       "      <td id=\"T_384d5_row6_col2\" class=\"data row6 col2\" >1492.9935</td>\n",
       "      <td id=\"T_384d5_row6_col3\" class=\"data row6 col3\" >0.9354</td>\n",
       "      <td id=\"T_384d5_row6_col4\" class=\"data row6 col4\" >0.5655</td>\n",
       "      <td id=\"T_384d5_row6_col5\" class=\"data row6 col5\" >0.6896</td>\n",
       "    </tr>\n",
       "    <tr>\n",
       "      <th id=\"T_384d5_level0_row7\" class=\"row_heading level0 row7\" >7</th>\n",
       "      <td id=\"T_384d5_row7_col0\" class=\"data row7 col0\" >988.7821</td>\n",
       "      <td id=\"T_384d5_row7_col1\" class=\"data row7 col1\" >15102101.9858</td>\n",
       "      <td id=\"T_384d5_row7_col2\" class=\"data row7 col2\" >3886.1423</td>\n",
       "      <td id=\"T_384d5_row7_col3\" class=\"data row7 col3\" >0.8676</td>\n",
       "      <td id=\"T_384d5_row7_col4\" class=\"data row7 col4\" >0.6529</td>\n",
       "      <td id=\"T_384d5_row7_col5\" class=\"data row7 col5\" >0.8995</td>\n",
       "    </tr>\n",
       "    <tr>\n",
       "      <th id=\"T_384d5_level0_row8\" class=\"row_heading level0 row8\" >8</th>\n",
       "      <td id=\"T_384d5_row8_col0\" class=\"data row8 col0\" >905.0841</td>\n",
       "      <td id=\"T_384d5_row8_col1\" class=\"data row8 col1\" >7162889.6167</td>\n",
       "      <td id=\"T_384d5_row8_col2\" class=\"data row8 col2\" >2676.3575</td>\n",
       "      <td id=\"T_384d5_row8_col3\" class=\"data row8 col3\" >0.8790</td>\n",
       "      <td id=\"T_384d5_row8_col4\" class=\"data row8 col4\" >0.5526</td>\n",
       "      <td id=\"T_384d5_row8_col5\" class=\"data row8 col5\" >0.6344</td>\n",
       "    </tr>\n",
       "    <tr>\n",
       "      <th id=\"T_384d5_level0_row9\" class=\"row_heading level0 row9\" >9</th>\n",
       "      <td id=\"T_384d5_row9_col0\" class=\"data row9 col0\" >749.6643</td>\n",
       "      <td id=\"T_384d5_row9_col1\" class=\"data row9 col1\" >7325720.3639</td>\n",
       "      <td id=\"T_384d5_row9_col2\" class=\"data row9 col2\" >2706.6068</td>\n",
       "      <td id=\"T_384d5_row9_col3\" class=\"data row9 col3\" >0.8722</td>\n",
       "      <td id=\"T_384d5_row9_col4\" class=\"data row9 col4\" >0.5652</td>\n",
       "      <td id=\"T_384d5_row9_col5\" class=\"data row9 col5\" >0.6375</td>\n",
       "    </tr>\n",
       "    <tr>\n",
       "      <th id=\"T_384d5_level0_row10\" class=\"row_heading level0 row10\" >Mean</th>\n",
       "      <td id=\"T_384d5_row10_col0\" class=\"data row10 col0\" >957.7835</td>\n",
       "      <td id=\"T_384d5_row10_col1\" class=\"data row10 col1\" >27505058.9964</td>\n",
       "      <td id=\"T_384d5_row10_col2\" class=\"data row10 col2\" >4657.8162</td>\n",
       "      <td id=\"T_384d5_row10_col3\" class=\"data row10 col3\" >0.7819</td>\n",
       "      <td id=\"T_384d5_row10_col4\" class=\"data row10 col4\" >0.5921</td>\n",
       "      <td id=\"T_384d5_row10_col5\" class=\"data row10 col5\" >0.7402</td>\n",
       "    </tr>\n",
       "    <tr>\n",
       "      <th id=\"T_384d5_level0_row11\" class=\"row_heading level0 row11\" >Std</th>\n",
       "      <td id=\"T_384d5_row11_col0\" class=\"data row11 col0\" >198.3695</td>\n",
       "      <td id=\"T_384d5_row11_col1\" class=\"data row11 col1\" >27686274.6063</td>\n",
       "      <td id=\"T_384d5_row11_col2\" class=\"data row11 col2\" >2410.3542</td>\n",
       "      <td id=\"T_384d5_row11_col3\" class=\"data row11 col3\" >0.1154</td>\n",
       "      <td id=\"T_384d5_row11_col4\" class=\"data row11 col4\" >0.0465</td>\n",
       "      <td id=\"T_384d5_row11_col5\" class=\"data row11 col5\" >0.1470</td>\n",
       "    </tr>\n",
       "  </tbody>\n",
       "</table>\n"
      ],
      "text/plain": [
       "<pandas.io.formats.style.Styler at 0x20696978190>"
      ]
     },
     "metadata": {},
     "output_type": "display_data"
    },
    {
     "data": {
      "text/html": [],
      "text/plain": [
       "<IPython.core.display.HTML object>"
      ]
     },
     "metadata": {},
     "output_type": "display_data"
    },
    {
     "name": "stdout",
     "output_type": "stream",
     "text": [
      "Fitting 10 folds for each of 10 candidates, totalling 100 fits\n",
      "Original model was better than the tuned model, hence it will be returned. NOTE: The display metrics are for the tuned model (not the original one).\n",
      "Cell executed at: 2025-05-15 20:03:55.237180\n"
     ]
    }
   ],
   "source": [
    "    # Tune the best model\n",
    "    print(\"\\nTuning the best model...\")\n",
    "    tuned_model = tune_model(model, n_iter=10)\n",
    "    "
   ]
  },
  {
   "cell_type": "code",
   "execution_count": 38,
   "id": "337ad84c-d61a-4d52-826e-b4ebb7702d19",
   "metadata": {},
   "outputs": [
    {
     "name": "stdout",
     "output_type": "stream",
     "text": [
      "\n",
      "Evaluating tuned model...\n"
     ]
    },
    {
     "data": {
      "application/vnd.jupyter.widget-view+json": {
       "model_id": "76f444856a414ff49a95031a7ae51c47",
       "version_major": 2,
       "version_minor": 0
      },
      "text/plain": [
       "interactive(children=(ToggleButtons(description='Plot Type:', icons=('',), options=(('Pipeline Plot', 'pipelin…"
      ]
     },
     "metadata": {},
     "output_type": "display_data"
    },
    {
     "name": "stdout",
     "output_type": "stream",
     "text": [
      "Cell executed at: 2025-05-15 20:03:56.447855\n"
     ]
    }
   ],
   "source": [
    "    # Evaluate tuned model\n",
    "    print(\"\\nEvaluating tuned model...\")\n",
    "    evaluate_model(tuned_model)"
   ]
  },
  {
   "cell_type": "code",
   "execution_count": 39,
   "id": "2e9b2734-0302-4b3c-b7ff-bd180431310a",
   "metadata": {},
   "outputs": [
    {
     "name": "stdout",
     "output_type": "stream",
     "text": [
      "Transformation Pipeline and Model Successfully Saved\n",
      "\n",
      "Best model saved as 'best_model'\n",
      "Cell executed at: 2025-05-15 20:03:56.896293\n"
     ]
    }
   ],
   "source": [
    "    # Save the model\n",
    "    save_model(tuned_model, 'best_model')\n",
    "    print(\"\\nBest model saved as 'best_model'\")"
   ]
  },
  {
   "cell_type": "code",
   "execution_count": 46,
   "id": "c8e1e22a-1dc2-4fb3-ad85-178319eecd06",
   "metadata": {},
   "outputs": [
    {
     "name": "stdout",
     "output_type": "stream",
     "text": [
      "\n",
      "Generating feature importance plot...\n",
      "Could not generate feature plot: plot_model() got an unexpected keyword argument 'filename'\n",
      "Cell executed at: 2025-05-15 20:31:38.026499\n"
     ]
    }
   ],
   "source": [
    "    # Feature importance visualization\n",
    "    print(\"\\nGenerating feature importance plot...\")\n",
    "    try:\n",
    "        if hasattr(model, 'feature_importances_'):\n",
    "            # Create directory for plots if it doesn't exist\n",
    "            import os\n",
    "            os.makedirs('plots', exist_ok=True)\n",
    "            \n",
    "            plot_model(tuned_model, plot='feature', save=True, filename='plots/feature_importance')\n",
    "            print(\"Feature importance plot saved to 'plots/feature_importance.png'\")\n",
    "        else:\n",
    "            print(\"This model type doesn't support direct feature importance plotting.\")\n",
    "    except Exception as e:\n",
    "        print(f\"Could not generate feature plot: {e}\")"
   ]
  },
  {
   "cell_type": "code",
   "execution_count": null,
   "id": "5e06b737-b09e-4c03-9867-e68b9cd752b3",
   "metadata": {},
   "outputs": [
    {
     "name": "stdout",
     "output_type": "stream",
     "text": [
      "\n",
      "Attempting SHAP analysis...\n",
      "\n",
      "Available columns in X:\n",
      "['Unnamed_0', 'Project_PRF_Year_of_Project', 'External_EEF_Industry_Sector', 'External_EEF_Organisation_Type', 'Project_PRF_Application_Type', 'Tech_TF_Primary_Programming_Language', 'Project_PRF_Functional_Size', 'Project_PRF_Relative_Size', 'Project_PRF_Normalised_Work_Effort_Level_1', 'Project_PRF_Normalised_Level_1_PDR_ufp', 'Project_PRF_Normalised_PDR_ufp', 'Project_PRF_Speed_of_Delivery', 'Project_PRF_Project_Elapsed_Time', 'Project_PRF_Team_Size_Group', 'Project_PRF_Max_Team_Size', 'Process_PMF_Development_Methodologies', 'Process_PMF_Docs', 'Tech_TF_Tools_Used', 'External_EEF_Data_Quality_Rating_B', 'Project_PRF_Application_Group_Business Application; Infrastructure Software;', 'Project_PRF_Application_Group_Infrastructure Software', 'Project_PRF_Application_Group_Mathematically intensive application', 'Project_PRF_Application_Group_Mathematically-Intensive Application', 'Project_PRF_Application_Group_Missing', 'Project_PRF_Application_Group_Real-Time Application', 'Project_PRF_Development_Type_New Development', 'Project_PRF_Development_Type_Re-development', 'Tech_TF_Development_Platform_MF', 'Tech_TF_Development_Platform_MR', 'Tech_TF_Development_Platform_Missing', 'Tech_TF_Development_Platform_Multi', 'Tech_TF_Development_Platform_PC', 'Tech_TF_Development_Platform_Proprietary', 'Tech_TF_Language_Type_3GL', 'Tech_TF_Language_Type_4GL', 'Tech_TF_Language_Type_5GL', 'Tech_TF_Language_Type_APG', 'Tech_TF_Language_Type_ApG', 'Tech_TF_Language_Type_Missing', 'Project_PRF_CASE_Tool_Used_Missing', 'Project_PRF_CASE_Tool_Used_No', 'Project_PRF_CASE_Tool_Used_Yes', 'Tech_TF_Architecture_Missing', 'Tech_TF_Architecture_Multi-tier', 'Tech_TF_Architecture_Multi-tier / Client server', 'Tech_TF_Architecture_Multi-tier with web interface', 'Tech_TF_Architecture_Multi-tier with web public interface', 'Tech_TF_Architecture_Stand alone', 'Tech_TF_Architecture_Stand-alone', 'Tech_TF_Client_Server_Missing', 'Tech_TF_Client_Server_No', 'Tech_TF_Client_Server_Not Applicable', 'Tech_TF_Client_Server_Yes', 'Tech_TF_DBMS_Used_No', 'Tech_TF_DBMS_Used_Yes']\n",
      "\n",
      "Numeric feature set created. Shape: (7058, 11)\n",
      "\n",
      "Warning: The following non-numeric columns were excluded from SHAP analysis: {'Project_PRF_Application_Group_Infrastructure Software', 'Project_PRF_Application_Group_Mathematically intensive application', 'Tech_TF_Development_Platform_PC', 'Tech_TF_Language_Type_ApG', 'Project_PRF_Application_Group_Real-Time Application', 'Tech_TF_Language_Type_3GL', 'Tech_TF_Architecture_Stand-alone', 'Project_PRF_Application_Type', 'Project_PRF_Development_Type_Re-development', 'Tech_TF_Language_Type_Missing', 'Tech_TF_Architecture_Multi-tier with web interface', 'Tech_TF_Client_Server_No', 'External_EEF_Organisation_Type', 'Project_PRF_Relative_Size', 'Project_PRF_Application_Group_Missing', 'Tech_TF_Architecture_Stand alone', 'Project_PRF_Development_Type_New Development', 'Project_PRF_Application_Group_Business Application; Infrastructure Software;', 'Project_PRF_CASE_Tool_Used_No', 'External_EEF_Industry_Sector', 'Tech_TF_Language_Type_4GL', 'Tech_TF_Architecture_Multi-tier with web public interface', 'Project_PRF_CASE_Tool_Used_Yes', 'Project_PRF_CASE_Tool_Used_Missing', 'Tech_TF_Development_Platform_Multi', 'Tech_TF_Client_Server_Not Applicable', 'Project_PRF_Team_Size_Group', 'Project_PRF_Application_Group_Mathematically-Intensive Application', 'Tech_TF_Development_Platform_Proprietary', 'Tech_TF_Architecture_Missing', 'Tech_TF_DBMS_Used_Yes', 'Tech_TF_Development_Platform_Missing', 'Tech_TF_Language_Type_5GL', 'Tech_TF_DBMS_Used_No', 'Process_PMF_Development_Methodologies', 'Tech_TF_Development_Platform_MF', 'Tech_TF_Development_Platform_MR', 'Tech_TF_Architecture_Multi-tier', 'External_EEF_Data_Quality_Rating_B', 'Tech_TF_Client_Server_Yes', 'Tech_TF_Primary_Programming_Language', 'Tech_TF_Language_Type_APG', 'Tech_TF_Client_Server_Missing', 'Tech_TF_Architecture_Multi-tier / Client server'}\n",
      "\n",
      "Creating SHAP explainer...\n",
      "SHAP explainer created successfully.\n",
      "\n",
      "Calculating SHAP values...\n"
     ]
    },
    {
     "name": "stderr",
     "output_type": "stream",
     "text": [
      " 99%|===================| 6992/7058 [00:34<00:00]        "
     ]
    },
    {
     "name": "stdout",
     "output_type": "stream",
     "text": [
      "\n",
      "SHAP analysis failed: Additivity check failed in TreeExplainer! Please ensure the data matrix you passed to the explainer is the same shape that the model was trained on. If your data shape is correct then please report this on GitHub. This check failed because for one of the samples the sum of the SHAP values was 69485.730887, while the model output was 213759.070000. If this difference is acceptable you can set check_additivity=False to disable this check.\n",
      "Consider verifying the processed_data DataFrame and the specified target_col.\n",
      "Cell executed at: 2025-05-15 20:45:04.381878\n"
     ]
    }
   ],
   "source": [
    "    # SHAP analysis with proper error handling\n",
    "    print(\"\\nAttempting SHAP analysis...\")\n",
    "    try:\n",
    "        import shap\n",
    "        \n",
    "        # Get the preprocessed features that PyCaret actually used for training\n",
    "        X_for_shap = pycaret_X\n",
    "        \n",
    "        # Select only numeric features for SHAP analysis if needed\n",
    "        X_numeric = X_for_shap.select_dtypes(include=[np.number])\n",
    "        \n",
    "        # Check if any columns were dropped\n",
    "        if X_for_shap.shape[1] != X_numeric.shape[1]:\n",
    "            print(f\"Warning: {X_for_shap.shape[1] - X_numeric.shape[1]} non-numeric columns excluded from SHAP analysis\")\n",
    "        \n",
    "        # Create directories for output\n",
    "        os.makedirs('plots', exist_ok=True)\n",
    "        \n",
    "        # Create SHAP explainer with additivity check disabled\n",
    "        explainer = shap.Explainer(tuned_model, X_numeric)\n",
    "        shap_values = explainer(X_numeric, check_additivity=False)  # Added check_additivity=False\n",
    "        \n",
    "        # Generate and save SHAP summary plot\n",
    "        plt.figure(figsize=(12, 10))\n",
    "        shap.summary_plot(shap_values, X_numeric, show=False)\n",
    "        plt.tight_layout()\n",
    "        plt.savefig('plots/shap_summary.png')\n",
    "        plt.close()\n",
    "        print(\"SHAP analysis completed and saved as 'plots/shap_summary.png'\")\n",
    "    except Exception as e:\n",
    "        print(f\"SHAP analysis failed: {e}\")\n",
    "        print(\"Consider using a different model or approach for feature importance.\")"
   ]
  },
  {
   "cell_type": "code",
   "execution_count": 43,
   "id": "1849adbd-faec-4101-a227-794e17c2e1c2",
   "metadata": {},
   "outputs": [
    {
     "name": "stdout",
     "output_type": "stream",
     "text": [
      "\n",
      "Extracting direct feature importance...\n",
      "Failed to extract feature importance: name 'X' is not defined\n",
      "\n",
      "Analysis complete!\n",
      "Cell executed at: 2025-05-15 20:14:36.547142\n"
     ]
    }
   ],
   "source": [
    "    # Extract feature importance directly (if available)\n",
    "    print(\"\\nExtracting direct feature importance...\")\n",
    "    try:\n",
    "        if hasattr(tuned_model, 'feature_importances_'):\n",
    "            # Use the preprocessed feature names\n",
    "            fi = pd.DataFrame({\n",
    "                'Feature': pycaret_X.columns,\n",
    "                'Importance': tuned_model.feature_importances_\n",
    "            })\n",
    "            fi = fi.sort_values('Importance', ascending=False)\n",
    "            print(\"\\nFeature importances:\")\n",
    "            print(fi.head(15))  # Show top 15 features\n",
    "            fi.to_csv('feature_importance.csv', index=False)\n",
    "            print(\"Feature importance saved to 'feature_importance.csv'\")\n",
    "        else:\n",
    "            print(\"Feature importance attribute not available for this model\")\n",
    "    except Exception as e:\n",
    "        print(f\"Failed to extract feature importance: {e}\")\n",
    "\n",
    "except Exception as e:\n",
    "    print(f\"\\nError in PyCaret workflow: {e}\")\n",
    "    print(\"Check if PyCaret is installed correctly: pip install pycaret\")\n",
    "\n",
    "print(\"\\nAnalysis complete!\")"
   ]
  },
  {
   "cell_type": "code",
   "execution_count": null,
   "id": "f53d1498-04ea-495a-ae5b-db0b584602a2",
   "metadata": {},
   "outputs": [],
   "source": []
  },
  {
   "cell_type": "code",
   "execution_count": null,
   "id": "158d4cfd-2f3e-4add-92bd-067944e304c3",
   "metadata": {},
   "outputs": [],
   "source": []
  },
  {
   "cell_type": "code",
   "execution_count": null,
   "id": "a39a380b-4c86-4ac0-a42b-61d1098a27f5",
   "metadata": {},
   "outputs": [],
   "source": []
  },
  {
   "cell_type": "code",
   "execution_count": null,
   "id": "3344fbce-ee3b-456d-81c2-ef525011e3f7",
   "metadata": {},
   "outputs": [],
   "source": []
  },
  {
   "cell_type": "code",
   "execution_count": null,
   "id": "dcce337c-4e56-4e0a-b179-19c96d7066e2",
   "metadata": {},
   "outputs": [],
   "source": []
  }
 ],
 "metadata": {
  "kernelspec": {
   "display_name": "Python 3 (ipykernel)",
   "language": "python",
   "name": "python3"
  },
  "language_info": {
   "codemirror_mode": {
    "name": "ipython",
    "version": 3
   },
   "file_extension": ".py",
   "mimetype": "text/x-python",
   "name": "python",
   "nbconvert_exporter": "python",
   "pygments_lexer": "ipython3",
   "version": "3.11.11"
  }
 },
 "nbformat": 4,
 "nbformat_minor": 5
}
