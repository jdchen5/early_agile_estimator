{
 "cells": [
  {
   "cell_type": "markdown",
   "id": "0d858163-147e-4e71-9b62-fc6caf6e810f",
   "metadata": {},
   "source": [
    "<span style=\"color: blue;font-weight: bold; font-size: 40px;\">ISBSG Data Analysis & Regression </span>"
   ]
  },
  {
   "cell_type": "code",
   "execution_count": 1,
   "id": "1361d7b3-22a6-4a13-85d9-3b2d5872d03a",
   "metadata": {},
   "outputs": [],
   "source": [
    "# # ISBSG Data Analysis and Regression Modeling\n",
    "# \n",
    "# This notebook performs data cleaning, preprocessing, and regression modeling on the ISBSG dataset.\n",
    "\n",
    "# ## Setup and Environment Configuration\n",
    "\n",
    "# Install required packages (uncomment if needed)\n",
    "# !pip install -r requirements.txt"
   ]
  },
  {
   "cell_type": "code",
   "execution_count": 2,
   "id": "dc191195-5abd-4d48-8376-d9de1b57987a",
   "metadata": {},
   "outputs": [],
   "source": [
    "# Import basic libraries\n",
    "import pandas as pd\n",
    "import numpy as np\n",
    "import matplotlib.pyplot as plt\n",
    "import seaborn as sns\n",
    "from datetime import datetime\n",
    "import re"
   ]
  },
  {
   "cell_type": "markdown",
   "id": "7b3f3ef8-d3e8-464e-bc57-8be3464f1ddf",
   "metadata": {},
   "source": [
    "<a id = 'Index:'></a>\n",
    "\n",
    "# Table of Content\n",
    "\n",
    "In this notebook you will apply xxxxxxx\n",
    "\n",
    "\n",
    "- [Part 1](#part1)- Data Loading and Initial Exploration\n",
    "- [Part 2](#part2)- Data Cleaning and Preprocessing\n",
    "- [Part 3](#part3)- Data Profiling\n",
    "- [Part 4](#part4)- Module Building with PyCaret\n",
    "- [Part 5](#part5)- Model Preparation\n",
    "- [Part 6](#part6)- Baseline Modeling and Evaluation\n",
    "- [Part 7](#part7)- Advanced Modeling and Hyperparameter Tuning\n",
    "- [Part 8](#part8)- Model Comparison and Selection\n",
    "- [Part 9](#part9)- End\n"
   ]
  },
  {
   "cell_type": "code",
   "execution_count": 3,
   "id": "8c58c6d0-4039-44fb-9b6a-515296790a8a",
   "metadata": {},
   "outputs": [],
   "source": [
    "# Configure timestamp callback for Jupyter cells\n",
    "from IPython import get_ipython\n",
    "\n",
    "def setup_timestamp_callback():\n",
    "    \"\"\"Setup a timestamp callback for Jupyter cells without clearing existing callbacks.\"\"\"\n",
    "    ip = get_ipython()\n",
    "    if ip is not None:\n",
    "        # Define timestamp function\n",
    "        def print_timestamp(*args, **kwargs):\n",
    "            \"\"\"Print timestamp after cell execution.\"\"\"\n",
    "            print(f\"Cell executed at: {datetime.now()}\")\n",
    "        \n",
    "        # Check if our callback is already registered\n",
    "        callbacks = ip.events.callbacks.get('post_run_cell', [])\n",
    "        for cb in callbacks:\n",
    "            if hasattr(cb, '__name__') and cb.__name__ == 'print_timestamp':\n",
    "                # Already registered\n",
    "                return\n",
    "                \n",
    "        # Register new callback if not already present\n",
    "        ip.events.register('post_run_cell', print_timestamp)\n",
    "        print(\"Timestamp printing activated.\")\n",
    "    else:\n",
    "        print(\"Not running in IPython/Jupyter environment.\")"
   ]
  },
  {
   "cell_type": "code",
   "execution_count": 4,
   "id": "622026d3-5fe1-4fce-8def-b39811aeb7cc",
   "metadata": {},
   "outputs": [
    {
     "name": "stdout",
     "output_type": "stream",
     "text": [
      "Timestamp printing activated.\n",
      "Cell executed at: 2025-05-16 16:40:39.457465\n"
     ]
    }
   ],
   "source": [
    "# Setup timestamp callback\n",
    "setup_timestamp_callback()\n",
    "\n",
    "# Set visualization style\n",
    "sns.set_style(\"whitegrid\")\n",
    "plt.rcParams['figure.figsize'] = (12, 8)"
   ]
  },
  {
   "cell_type": "markdown",
   "id": "08d9ec97-3705-4c9d-a1e6-e0dbcd1d99ac",
   "metadata": {},
   "source": [
    "[Back to top](#Index:)\n",
    "\n",
    "<a id='part1'></a>\n",
    "\n",
    "# Part 1 -Data Loading and Initial Exploration\n",
    "\n",
    "This section is dedicated to loading the dataset, performing initial data exploration such as viewing the first few rows, and summarizing the dataset's characteristics, including missing values and basic statistical measures."
   ]
  },
  {
   "cell_type": "code",
   "execution_count": 5,
   "id": "b1fd30b9-fe3e-4952-9237-cf18928a4958",
   "metadata": {},
   "outputs": [
    {
     "name": "stdout",
     "output_type": "stream",
     "text": [
      "Loading data...\n",
      "Cell executed at: 2025-05-16 16:40:42.803495\n"
     ]
    }
   ],
   "source": [
    "# Load the data\n",
    "print(\"Loading data...\")\n",
    "df = pd.read_excel(\"data/ISBSG2016R1.1-Formatted4CSVAgileOnly.xlsx\")\n"
   ]
  },
  {
   "cell_type": "code",
   "execution_count": 6,
   "id": "325c3beb-a93e-4659-a072-00c25bbbb21d",
   "metadata": {},
   "outputs": [
    {
     "name": "stdout",
     "output_type": "stream",
     "text": [
      "Cell executed at: 2025-05-16 16:40:42.822122\n"
     ]
    }
   ],
   "source": [
    "# Clean column names function\n",
    "def clean_column_names(columns):\n",
    "    cleaned_cols = []\n",
    "    for col in columns:\n",
    "        # First replace ampersands with _&_ to match PyCaret's transformation\n",
    "        col_clean = col.replace(' & ', '_&_')\n",
    "        # Then remove any remaining special chars\n",
    "        col_clean = re.sub(r'[^\\w\\s&]', '', col_clean)\n",
    "        # Finally replace spaces with underscores\n",
    "        col_clean = col_clean.replace(' ', '_')\n",
    "        cleaned_cols.append(col_clean)\n",
    "    return cleaned_cols\n",
    "\n",
    "# Clean column names\n",
    "original_columns = df.columns.tolist()  # Save original column names for reference\n",
    "df.columns = clean_column_names(df.columns)"
   ]
  },
  {
   "cell_type": "code",
   "execution_count": 7,
   "id": "0ce49eec-356d-4d07-b980-529083310368",
   "metadata": {},
   "outputs": [
    {
     "name": "stdout",
     "output_type": "stream",
     "text": [
      "\n",
      "Column name mapping (original -> cleaned):\n",
      "  'ISBSG Project ID' -> 'ISBSG_Project_ID'\n",
      "  'External_EEF_Data Quality Rating' -> 'External_EEF_Data_Quality_Rating'\n",
      "  'Project_PRF_Year of Project' -> 'Project_PRF_Year_of_Project'\n",
      "  'External_EEF_Industry Sector' -> 'External_EEF_Industry_Sector'\n",
      "  'External_EEF_Organisation Type' -> 'External_EEF_Organisation_Type'\n",
      "  'Project_PRF_Application Group' -> 'Project_PRF_Application_Group'\n",
      "  'Project_PRF_Application Type' -> 'Project_PRF_Application_Type'\n",
      "  'Project_PRF_Development Type' -> 'Project_PRF_Development_Type'\n",
      "  'Tech_TF_Development Platform' -> 'Tech_TF_Development_Platform'\n",
      "  'Tech_TF_Language Type' -> 'Tech_TF_Language_Type'\n",
      "  'Tech_TF_Primary Programming Language' -> 'Tech_TF_Primary_Programming_Language'\n",
      "  'Project_PRF_Functional Size' -> 'Project_PRF_Functional_Size'\n",
      "  'Project_PRF_Relative Size' -> 'Project_PRF_Relative_Size'\n",
      "  'Project_PRF_Normalised Work Effort Level 1' -> 'Project_PRF_Normalised_Work_Effort_Level_1'\n",
      "  'Project_PRF_Normalised Work Effort' -> 'Project_PRF_Normalised_Work_Effort'\n",
      "  'Project_PRF_Normalised Level 1 PDR_ufp' -> 'Project_PRF_Normalised_Level_1_PDR_ufp'\n",
      "  'Project_PRF_Normalised PDR_ufp' -> 'Project_PRF_Normalised_PDR_ufp'\n",
      "  'Project_PRF_Defect Density' -> 'Project_PRF_Defect_Density'\n",
      "  'Project_PRF_Speed of Delivery' -> 'Project_PRF_Speed_of_Delivery'\n",
      "  'Project_PRF_Manpower Delivery Rate' -> 'Project_PRF_Manpower_Delivery_Rate'\n",
      "  'Project_PRF_Project Elapsed Time' -> 'Project_PRF_Project_Elapsed_Time'\n",
      "  'Project_PRF_Team Size Group' -> 'Project_PRF_Team_Size_Group'\n",
      "  'Project_PRF_Max Team Size' -> 'Project_PRF_Max_Team_Size'\n",
      "  'Project_PRF_CASE Tool Used' -> 'Project_PRF_CASE_Tool_Used'\n",
      "  'Process_PMF_Development Methodologies' -> 'Process_PMF_Development_Methodologies'\n",
      "  'Process_PMF_Prototyping Used' -> 'Process_PMF_Prototyping_Used'\n",
      "Cell executed at: 2025-05-16 16:40:42.833957\n"
     ]
    }
   ],
   "source": [
    "# Create a mapping from original to cleaned column names\n",
    "column_mapping = dict(zip(original_columns, df.columns))\n",
    "print(\"\\nColumn name mapping (original -> cleaned):\")\n",
    "for orig, clean in column_mapping.items():\n",
    "    if orig != clean:  # Only show columns that changed\n",
    "        print(f\"  '{orig}' -> '{clean}'\")\n"
   ]
  },
  {
   "cell_type": "code",
   "execution_count": 8,
   "id": "b64360b6-c4b3-4237-a553-b67aa75179f3",
   "metadata": {},
   "outputs": [
    {
     "name": "stdout",
     "output_type": "stream",
     "text": [
      "Dataset shape: (7058, 51)\n",
      "\n",
      "First 5 rows:\n",
      "   ISBSG_Project_ID External_EEF_Data_Quality_Rating  \\\n",
      "0             10003                                B   \n",
      "1             10011                                B   \n",
      "2             10012                                B   \n",
      "3             10014                                B   \n",
      "4             10015                                B   \n",
      "\n",
      "   Project_PRF_Year_of_Project External_EEF_Industry_Sector  \\\n",
      "0                         2015                Communication   \n",
      "1                         1996                 Construction   \n",
      "2                         2002           Wholesale & Retail   \n",
      "3                         2004                          NaN   \n",
      "4                         2000           Wholesale & Retail   \n",
      "\n",
      "  External_EEF_Organisation_Type Project_PRF_Application_Group  \\\n",
      "0            Telecommunications;          Business Application   \n",
      "1                  Construction;          Business Application   \n",
      "2                       Billing;          Business Application   \n",
      "3                            NaN                           NaN   \n",
      "4      Wholesale & Retail Trade;          Business Application   \n",
      "\n",
      "        Project_PRF_Application_Type Project_PRF_Development_Type  \\\n",
      "0                    Online. eSales;                  Enhancement   \n",
      "1  Stock control & order processing;              New Development   \n",
      "2                           Billing;                  Enhancement   \n",
      "3                                NaN                  Enhancement   \n",
      "4     Management Information System;                  Enhancement   \n",
      "\n",
      "  Tech_TF_Development_Platform Tech_TF_Language_Type  ...  \\\n",
      "0                        Multi                   NaN  ...   \n",
      "1                        Multi                   4GL  ...   \n",
      "2                          NaN                   3GL  ...   \n",
      "3                          NaN                   NaN  ...   \n",
      "4                           MF                   3GL  ...   \n",
      "\n",
      "  People_PRF_IT_experience_great_than_3_yr  \\\n",
      "0                                      NaN   \n",
      "1                                      NaN   \n",
      "2                                      NaN   \n",
      "3                                      NaN   \n",
      "4                                      NaN   \n",
      "\n",
      "   People_PRF_IT_experience_less_than_3_yr People_PRF_IT_experience_3_to_9_yr  \\\n",
      "0                                      NaN                                NaN   \n",
      "1                                      NaN                                NaN   \n",
      "2                                      NaN                                NaN   \n",
      "3                                      NaN                                NaN   \n",
      "4                                      NaN                                NaN   \n",
      "\n",
      "   People_PRF_IT_experience_great_than_9_yr  \\\n",
      "0                                       NaN   \n",
      "1                                       NaN   \n",
      "2                                       NaN   \n",
      "3                                       NaN   \n",
      "4                                       NaN   \n",
      "\n",
      "   People_PRF_Project_manage_experience  People_PRF_Project_manage_changes  \\\n",
      "0                                   NaN                                NaN   \n",
      "1                                   NaN                                NaN   \n",
      "2                                   NaN                                NaN   \n",
      "3                                   NaN                                NaN   \n",
      "4                                   NaN                                NaN   \n",
      "\n",
      "   People_PRF_Personnel_changes  Project_PRF_Total_project_cost  \\\n",
      "0                           NaN                             NaN   \n",
      "1                           NaN                             NaN   \n",
      "2                           NaN                             NaN   \n",
      "3                           NaN                             NaN   \n",
      "4                           NaN                             NaN   \n",
      "\n",
      "   Project_PRF_Cost_currency  Project_PRF_Currency_multiple  \n",
      "0                        NaN                            NaN  \n",
      "1                        NaN                            NaN  \n",
      "2                        NaN                            NaN  \n",
      "3                        NaN                            NaN  \n",
      "4                        NaN                            NaN  \n",
      "\n",
      "[5 rows x 51 columns]\n",
      "Cell executed at: 2025-05-16 16:40:42.850325\n"
     ]
    }
   ],
   "source": [
    "# Display basic information\n",
    "print(f\"Dataset shape: {df.shape}\")\n",
    "print(\"\\nFirst 5 rows:\")\n",
    "print(df.head())\n"
   ]
  },
  {
   "cell_type": "code",
   "execution_count": 9,
   "id": "036f2be3-8eb2-48be-8014-15d76b7b4497",
   "metadata": {},
   "outputs": [
    {
     "name": "stdout",
     "output_type": "stream",
     "text": [
      "\n",
      "Data Summary (first 10 columns):\n",
      "                            Feature data_type  Null_number   Null_pct  \\\n",
      "0                  ISBSG_Project_ID     int64            0   0.000000   \n",
      "1  External_EEF_Data_Quality_Rating    object            0   0.000000   \n",
      "2       Project_PRF_Year_of_Project     int64            0   0.000000   \n",
      "3      External_EEF_Industry_Sector    object         1222  17.313687   \n",
      "4    External_EEF_Organisation_Type    object         1205  17.072825   \n",
      "5     Project_PRF_Application_Group    object         2096  29.696798   \n",
      "6      Project_PRF_Application_Type    object         1467  20.784925   \n",
      "7      Project_PRF_Development_Type    object            0   0.000000   \n",
      "8      Tech_TF_Development_Platform    object         1860  26.353075   \n",
      "9             Tech_TF_Language_Type    object         1292  18.305469   \n",
      "\n",
      "   Unique_counts                                     unique_samples  \n",
      "0           7055                [10003, 10011, 10012, 10014, 10015]  \n",
      "1              2                                             [B, A]  \n",
      "2             27                     [2015, 1996, 2002, 2004, 2000]  \n",
      "3             17  [Communication, Construction, Wholesale & Reta...  \n",
      "4            179  [Telecommunications;, Construction;, Billing;,...  \n",
      "5              6  [Business Application, Mathematically-Intensiv...  \n",
      "6            539  [Online. eSales;, Stock control & order proces...  \n",
      "7              3     [Enhancement, New Development, Re-development]  \n",
      "8              6                   [Multi, MF, PC, MR, Proprietary]  \n",
      "9              6                          [4GL, 3GL, ApG, 2GL, APG]  \n",
      "Cell executed at: 2025-05-16 16:40:42.962081\n"
     ]
    }
   ],
   "source": [
    "# Create a function to get comprehensive data summary\n",
    "def get_data_summary(df, n_unique_samples=5):\n",
    "    \"\"\"\n",
    "    Generate a comprehensive summary of the dataframe.\n",
    "    \n",
    "    Args:\n",
    "        df: Pandas DataFrame\n",
    "        n_unique_samples: Number of unique values to show as sample\n",
    "        \n",
    "    Returns:\n",
    "        DataFrame with summary information\n",
    "    \"\"\"\n",
    "    # Summary dataframe with basic info\n",
    "    summary = pd.DataFrame({\n",
    "        'Feature': df.columns,\n",
    "        'data_type': df.dtypes.values,\n",
    "        'Null_number': df.isnull().sum().values,\n",
    "        'Null_pct': (df.isnull().mean() * 100).values,\n",
    "        'Unique_counts': df.nunique().values,\n",
    "        'unique_samples': [list(df[col].dropna().unique()[:n_unique_samples]) for col in df.columns]\n",
    "    })\n",
    "    \n",
    "    return summary\n",
    "\n",
    "# Generate and display data summary\n",
    "summary_df = get_data_summary(df)\n",
    "print(\"\\nData Summary (first 10 columns):\")\n",
    "print(summary_df.head(10))\n"
   ]
  },
  {
   "cell_type": "code",
   "execution_count": 10,
   "id": "ded2a650-102c-4283-85c4-812d73753850",
   "metadata": {},
   "outputs": [
    {
     "name": "stdout",
     "output_type": "stream",
     "text": [
      "\n",
      "Descriptive Statistics (first 5 rows):\n",
      "                                             count          mean  \\\n",
      "ISBSG_Project_ID                            7058.0  21335.873052   \n",
      "Project_PRF_Year_of_Project                 7058.0   2004.763814   \n",
      "Project_PRF_Functional_Size                 6150.0    316.933496   \n",
      "Project_PRF_Normalised_Work_Effort_Level_1  6288.0   3888.236164   \n",
      "Project_PRF_Normalised_Work_Effort          7058.0   4314.558373   \n",
      "\n",
      "                                                     std      min      25%  \\\n",
      "ISBSG_Project_ID                             6545.814378  10003.0  15655.5   \n",
      "Project_PRF_Year_of_Project                     5.892202   1989.0   2000.0   \n",
      "Project_PRF_Functional_Size                   640.302478      2.0     64.0   \n",
      "Project_PRF_Normalised_Work_Effort_Level_1   8674.167063      4.0    619.0   \n",
      "Project_PRF_Normalised_Work_Effort          10076.657930      4.0    687.0   \n",
      "\n",
      "                                                50%       75%       max  \n",
      "ISBSG_Project_ID                            21367.5  26920.50   32767.0  \n",
      "Project_PRF_Year_of_Project                  2004.0   2010.00    2015.0  \n",
      "Project_PRF_Functional_Size                   137.0    323.00   16148.0  \n",
      "Project_PRF_Normalised_Work_Effort_Level_1   1550.5   3847.25  230514.0  \n",
      "Project_PRF_Normalised_Work_Effort           1666.0   4106.75  266946.0  \n",
      "Cell executed at: 2025-05-16 16:40:43.053874\n"
     ]
    }
   ],
   "source": [
    "# Display descriptive statistics for numeric columns\n",
    "desc_stats = df.describe().T\n",
    "print(\"\\nDescriptive Statistics (first 5 rows):\")\n",
    "print(desc_stats.head())"
   ]
  },
  {
   "cell_type": "code",
   "execution_count": 11,
   "id": "6992df08-5bd0-46a1-b342-050a8305315f",
   "metadata": {},
   "outputs": [
    {
     "name": "stdout",
     "output_type": "stream",
     "text": [
      "\n",
      "Target variable: 'Project_PRF_Normalised_Work_Effort'\n",
      "Cell executed at: 2025-05-16 16:40:43.062904\n"
     ]
    }
   ],
   "source": [
    "# Identify target column\n",
    "target_col = 'Project_PRF_Normalised_Work_Effort'\n",
    "print(f\"\\nTarget variable: '{target_col}'\")"
   ]
  },
  {
   "cell_type": "markdown",
   "id": "be13dacd-ecd5-4a4a-a559-105f99f9bc7b",
   "metadata": {},
   "source": [
    "[Back to top](#Index:)\n",
    "\n",
    "<a id='part2'></a>\n",
    "\n",
    "# Part 2 - Data Cleaning and Preprocessing\n",
    "\n",
    "Here, data cleaning tasks like handling missing values and providing a detailed summary of each feature, including its type, number of unique values, and a preview of unique values, are performed."
   ]
  },
  {
   "cell_type": "code",
   "execution_count": 12,
   "id": "1478ab15-90a8-47aa-9ed6-831732588629",
   "metadata": {},
   "outputs": [
    {
     "name": "stdout",
     "output_type": "stream",
     "text": [
      "\n",
      "Analysing missing values...\n",
      "Top 10 columns with highest missing percentages:\n",
      "People_PRF_IT_experience_less_than_1_yr         99.192406\n",
      "People_PRF_IT_experience_1_to_3_yr              99.036554\n",
      "People_PRF_IT_experience_great_than_3_yr        98.838198\n",
      "Tech_TF_Server_Roles                            96.217059\n",
      "People_PRF_IT_experience_less_than_3_yr         96.132049\n",
      "People_PRF_BA_team_experience_less_than_1_yr    96.117880\n",
      "Tech_TF_Client_Roles                            96.047039\n",
      "People_PRF_BA_team_experience_1_to_3_yr         95.834514\n",
      "People_PRF_IT_experience_great_than_9_yr        95.792009\n",
      "People_PRF_IT_experience_3_to_9_yr              95.168603\n",
      "dtype: float64\n",
      "Cell executed at: 2025-05-16 16:40:43.085790\n"
     ]
    }
   ],
   "source": [
    "# Analyse missing values\n",
    "print(\"\\nAnalysing missing values...\")\n",
    "missing_pct = df.isnull().mean() * 100\n",
    "missing_sorted = missing_pct.sort_values(ascending=False)\n",
    "print(\"Top 10 columns with highest missing percentages:\")\n",
    "print(missing_sorted.head(10))"
   ]
  },
  {
   "cell_type": "code",
   "execution_count": 13,
   "id": "91eed99a-7179-4aae-a7de-6d0cedbff7f0",
   "metadata": {},
   "outputs": [
    {
     "name": "stdout",
     "output_type": "stream",
     "text": [
      "\n",
      "Columns with >70% missing values (23 columns):\n",
      "  - Project_PRF_Defect_Density: 79.40% missing\n",
      "  - Project_PRF_Manpower_Delivery_Rate: 71.39% missing\n",
      "  - Process_PMF_Prototyping_Used: 85.62% missing\n",
      "  - Tech_TF_Client_Roles: 96.05% missing\n",
      "  - Tech_TF_Server_Roles: 96.22% missing\n",
      "  - ... and 18 more columns\n",
      "Cell executed at: 2025-05-16 16:40:43.097170\n"
     ]
    }
   ],
   "source": [
    "# Identify columns with high missing values (>70%)\n",
    "high_missing_cols = missing_pct[missing_pct > 70].index.tolist()\n",
    "print(f\"\\nColumns with >70% missing values ({len(high_missing_cols)} columns):\")\n",
    "for col in high_missing_cols[:5]:  # Show first 5\n",
    "    print(f\"  - {col}: {missing_pct[col]:.2f}% missing\")\n",
    "if len(high_missing_cols) > 5:\n",
    "    print(f\"  - ... and {len(high_missing_cols) - 5} more columns\")"
   ]
  },
  {
   "cell_type": "code",
   "execution_count": 14,
   "id": "9106b8ff-475a-406a-b1b1-203e0cd4e18c",
   "metadata": {},
   "outputs": [
    {
     "name": "stdout",
     "output_type": "stream",
     "text": [
      "\n",
      "Data shape after dropping high-missing columns: (7058, 28)\n",
      "Cell executed at: 2025-05-16 16:40:43.102991\n"
     ]
    }
   ],
   "source": [
    "# Create a clean dataframe by dropping high-missing columns\n",
    "df_clean = df.drop(columns=high_missing_cols)\n",
    "print(f\"\\nData shape after dropping high-missing columns: {df_clean.shape}\")"
   ]
  },
  {
   "cell_type": "code",
   "execution_count": 15,
   "id": "91d90a2b-18c7-47d4-b5d2-54f5f635ef37",
   "metadata": {},
   "outputs": [
    {
     "name": "stdout",
     "output_type": "stream",
     "text": [
      "\n",
      "Handling remaining missing values...\n",
      "Cell executed at: 2025-05-16 16:40:43.117416\n"
     ]
    }
   ],
   "source": [
    "# Handle remaining missing values\n",
    "print(\"\\nHandling remaining missing values...\")"
   ]
  },
  {
   "cell_type": "code",
   "execution_count": 16,
   "id": "b3da6431-b898-4bdc-afce-cd700f5b2a9a",
   "metadata": {},
   "outputs": [
    {
     "name": "stdout",
     "output_type": "stream",
     "text": [
      "Cell executed at: 2025-05-16 16:40:43.156088\n"
     ]
    }
   ],
   "source": [
    "# Fill missing values in categorical columns with \"Missing\"\n",
    "cat_cols = df_clean.select_dtypes(include=['object', 'category']).columns\n",
    "for col in cat_cols:\n",
    "    df_clean[col].fillna('Missing', inplace=True)"
   ]
  },
  {
   "cell_type": "code",
   "execution_count": 17,
   "id": "2fcc7aeb-1e09-4c8e-8c5b-38511eb644fc",
   "metadata": {},
   "outputs": [
    {
     "name": "stdout",
     "output_type": "stream",
     "text": [
      "\n",
      "Columns with remaining missing values: 8\n",
      "Top columns with missing values:\n",
      "Project_PRF_Max_Team_Size                 4817\n",
      "Tech_TF_Tools_Used                        2618\n",
      "Project_PRF_Normalised_Level_1_PDR_ufp    1648\n",
      "Project_PRF_Speed_of_Delivery             1619\n",
      "Project_PRF_Functional_Size                908\n",
      "dtype: int64\n",
      "Cell executed at: 2025-05-16 16:40:43.185421\n"
     ]
    }
   ],
   "source": [
    "# Check remaining missing values\n",
    "remaining_missing = df_clean.isnull().sum()\n",
    "remaining_missing_count = sum(remaining_missing > 0)\n",
    "print(f\"\\nColumns with remaining missing values: {remaining_missing_count}\")\n",
    "if remaining_missing_count > 0:\n",
    "    print(\"Top columns with missing values:\")\n",
    "    print(remaining_missing[remaining_missing > 0].sort_values(ascending=False).head())"
   ]
  },
  {
   "cell_type": "code",
   "execution_count": 18,
   "id": "256be495-1710-46ab-8fbd-61d703cf0a06",
   "metadata": {},
   "outputs": [
    {
     "name": "stdout",
     "output_type": "stream",
     "text": [
      "\n",
      "Target variable 'Project_PRF_Normalised_Work_Effort' summary:\n",
      "Unique values: 4214\n",
      "Missing values: 0\n",
      "Top value counts:\n",
      "Project_PRF_Normalised_Work_Effort\n",
      "995    9\n",
      "304    9\n",
      "620    9\n",
      "473    9\n",
      "62     9\n",
      "Name: count, dtype: int64\n",
      "Cell executed at: 2025-05-16 16:40:43.194482\n"
     ]
    }
   ],
   "source": [
    "# Verify target variable\n",
    "print(f\"\\nTarget variable '{target_col}' summary:\")\n",
    "print(f\"Unique values: {df_clean[target_col].nunique()}\")\n",
    "print(f\"Missing values: {df_clean[target_col].isnull().sum()}\")\n",
    "print(f\"Top value counts:\")\n",
    "print(df_clean[target_col].value_counts().head())\n"
   ]
  },
  {
   "cell_type": "code",
   "execution_count": 19,
   "id": "b41adf2f-9588-4d04-a0c3-265cb3029645",
   "metadata": {},
   "outputs": [
    {
     "name": "stdout",
     "output_type": "stream",
     "text": [
      "\n",
      "Number of infinite values: 0\n",
      "Cell executed at: 2025-05-16 16:40:43.210289\n"
     ]
    }
   ],
   "source": [
    "# Check for infinite values\n",
    "inf_check = np.isinf(df_clean.select_dtypes(include=[np.number])).sum().sum()\n",
    "print(f\"\\nNumber of infinite values: {inf_check}\")"
   ]
  },
  {
   "cell_type": "code",
   "execution_count": 20,
   "id": "5e09da5f-54a5-406f-b042-d71f0c52aefe",
   "metadata": {},
   "outputs": [
    {
     "name": "stdout",
     "output_type": "stream",
     "text": [
      "\n",
      "Cleaned data saved to 'data/cleaned_data.csv'\n",
      "Cell executed at: 2025-05-16 16:40:43.386004\n"
     ]
    }
   ],
   "source": [
    "# Save cleaned data\n",
    "df_clean.to_csv('data/cleaned_data.csv', index=False)\n",
    "print(\"\\nCleaned data saved to 'data/cleaned_data.csv'\")\n"
   ]
  },
  {
   "cell_type": "markdown",
   "id": "f28854fb-ea58-4788-9a87-6221a41629b2",
   "metadata": {},
   "source": [
    "[Back to top](#Index:)\n",
    "\n",
    "<a id='part3'></a>\n",
    "\n",
    "# Part 3 - Feature Engineering and Selection\n",
    "\n",
    "Involves creating or selecting specific features for the model based on insights from EDA, including handling categorical variables and reducing dimensionality if necessary."
   ]
  },
  {
   "cell_type": "code",
   "execution_count": 21,
   "id": "02146b23-08d2-4afe-a4f3-df54babca0ab",
   "metadata": {},
   "outputs": [
    {
     "name": "stdout",
     "output_type": "stream",
     "text": [
      "\n",
      "Categorical columns and their cardinality:\n",
      "  External_EEF_Data_Quality_Rating: 2 unique values\n",
      "  External_EEF_Industry_Sector: 18 unique values\n",
      "  External_EEF_Organisation_Type: 180 unique values\n",
      "  Project_PRF_Application_Group: 7 unique values\n",
      "  Project_PRF_Application_Type: 540 unique values\n",
      "  ... and 11 more columns\n",
      "Cell executed at: 2025-05-16 16:40:43.409202\n"
     ]
    }
   ],
   "source": [
    "# Identify categorical columns and check cardinality\n",
    "print(\"\\nCategorical columns and their cardinality:\")\n",
    "cat_cols = df_clean.select_dtypes(include=['object', 'category']).columns.tolist()\n",
    "for col in cat_cols[:5]:  # Show first 5\n",
    "    print(f\"  {col}: {df_clean[col].nunique()} unique values\")\n",
    "if len(cat_cols) > 5:\n",
    "    print(f\"  ... and {len(cat_cols) - 5} more columns\")"
   ]
  },
  {
   "cell_type": "code",
   "execution_count": 22,
   "id": "13827e97-52a7-4706-93e8-56993f34bb34",
   "metadata": {},
   "outputs": [
    {
     "name": "stdout",
     "output_type": "stream",
     "text": [
      "\n",
      "Applying one-hot encoding to 9 low-cardinality columns:\n",
      "  - External_EEF_Data_Quality_Rating\n",
      "  - Project_PRF_Application_Group\n",
      "  - Project_PRF_Development_Type\n",
      "  - Tech_TF_Development_Platform\n",
      "  - Tech_TF_Language_Type\n",
      "  - ... and 4 more columns\n",
      "Cell executed at: 2025-05-16 16:40:43.438545\n"
     ]
    }
   ],
   "source": [
    "# One-hot encode categorical columns with low cardinality (<10 unique values)\n",
    "low_card_cols = [col for col in cat_cols if df_clean[col].nunique() < 10]\n",
    "print(f\"\\nApplying one-hot encoding to {len(low_card_cols)} low-cardinality columns:\")\n",
    "for col in low_card_cols[:5]:  # Show first 5\n",
    "    print(f\"  - {col}\")\n",
    "if len(low_card_cols) > 5:\n",
    "    print(f\"  - ... and {len(low_card_cols) - 5} more columns\")\n"
   ]
  },
  {
   "cell_type": "code",
   "execution_count": 23,
   "id": "3fb3b252-b306-42b8-b048-52f5770905cb",
   "metadata": {},
   "outputs": [
    {
     "name": "stdout",
     "output_type": "stream",
     "text": [
      "\n",
      "Data shape after one-hot encoding: (7058, 56)\n",
      "\n",
      "All column names:\n",
      "['ISBSG_Project_ID', 'Project_PRF_Year_of_Project', 'External_EEF_Industry_Sector', 'External_EEF_Organisation_Type', 'Project_PRF_Application_Type', 'Tech_TF_Primary_Programming_Language', 'Project_PRF_Functional_Size', 'Project_PRF_Relative_Size', 'Project_PRF_Normalised_Work_Effort_Level_1', 'Project_PRF_Normalised_Work_Effort', 'Project_PRF_Normalised_Level_1_PDR_ufp', 'Project_PRF_Normalised_PDR_ufp', 'Project_PRF_Speed_of_Delivery', 'Project_PRF_Project_Elapsed_Time', 'Project_PRF_Team_Size_Group', 'Project_PRF_Max_Team_Size', 'Process_PMF_Development_Methodologies', 'Process_PMF_Docs', 'Tech_TF_Tools_Used', 'External_EEF_Data_Quality_Rating_B', 'Project_PRF_Application_Group_Business Application; Infrastructure Software;', 'Project_PRF_Application_Group_Infrastructure Software', 'Project_PRF_Application_Group_Mathematically intensive application', 'Project_PRF_Application_Group_Mathematically-Intensive Application', 'Project_PRF_Application_Group_Missing', 'Project_PRF_Application_Group_Real-Time Application', 'Project_PRF_Development_Type_New Development', 'Project_PRF_Development_Type_Re-development', 'Tech_TF_Development_Platform_MF', 'Tech_TF_Development_Platform_MR', 'Tech_TF_Development_Platform_Missing', 'Tech_TF_Development_Platform_Multi', 'Tech_TF_Development_Platform_PC', 'Tech_TF_Development_Platform_Proprietary', 'Tech_TF_Language_Type_3GL', 'Tech_TF_Language_Type_4GL', 'Tech_TF_Language_Type_5GL', 'Tech_TF_Language_Type_APG', 'Tech_TF_Language_Type_ApG', 'Tech_TF_Language_Type_Missing', 'Project_PRF_CASE_Tool_Used_Missing', 'Project_PRF_CASE_Tool_Used_No', 'Project_PRF_CASE_Tool_Used_Yes', 'Tech_TF_Architecture_Missing', 'Tech_TF_Architecture_Multi-tier', 'Tech_TF_Architecture_Multi-tier / Client server', 'Tech_TF_Architecture_Multi-tier with web interface', 'Tech_TF_Architecture_Multi-tier with web public interface', 'Tech_TF_Architecture_Stand alone', 'Tech_TF_Architecture_Stand-alone', 'Tech_TF_Client_Server_Missing', 'Tech_TF_Client_Server_No', 'Tech_TF_Client_Server_Not Applicable', 'Tech_TF_Client_Server_Yes', 'Tech_TF_DBMS_Used_No', 'Tech_TF_DBMS_Used_Yes']\n",
      "Cell executed at: 2025-05-16 16:40:43.474521\n"
     ]
    }
   ],
   "source": [
    "# Create encoded dataframe\n",
    "df_encoded = pd.get_dummies(df_clean, columns=low_card_cols, drop_first=True)\n",
    "print(f\"\\nData shape after one-hot encoding: {df_encoded.shape}\")\n",
    "print(\"\\nAll column names:\")\n",
    "print(df_encoded.columns.tolist())\n"
   ]
  },
  {
   "cell_type": "code",
   "execution_count": 24,
   "id": "5c1d55a7-732b-4036-a48d-0fcb7ce960e2",
   "metadata": {},
   "outputs": [
    {
     "name": "stdout",
     "output_type": "stream",
     "text": [
      "\n",
      "Sample of original column names:\n",
      "0: ISBSG_Project_ID\n",
      "1: Project_PRF_Year_of_Project\n",
      "2: External_EEF_Industry_Sector\n",
      "3: External_EEF_Organisation_Type\n",
      "4: Project_PRF_Application_Type\n",
      "5: Tech_TF_Primary_Programming_Language\n",
      "6: Project_PRF_Functional_Size\n",
      "7: Project_PRF_Relative_Size\n",
      "8: Project_PRF_Normalised_Work_Effort_Level_1\n",
      "9: Project_PRF_Normalised_Work_Effort\n",
      "10: Project_PRF_Normalised_Level_1_PDR_ufp\n",
      "11: Project_PRF_Normalised_PDR_ufp\n",
      "12: Project_PRF_Speed_of_Delivery\n",
      "13: Project_PRF_Project_Elapsed_Time\n",
      "14: Project_PRF_Team_Size_Group\n",
      "\n",
      "Fixing column names for PyCaret compatibility...\n",
      "Changed 14 column names.\n",
      "No duplicate column names in the fixed DataFrame.\n",
      "\n",
      "Sample of fixed column names:\n",
      "Original: ISBSG_Project_ID -> Fixed: ISBSG_Project_ID\n",
      "Original: Project_PRF_Year_of_Project -> Fixed: Project_PRF_Year_of_Project\n",
      "Original: External_EEF_Industry_Sector -> Fixed: External_EEF_Industry_Sector\n",
      "Original: External_EEF_Organisation_Type -> Fixed: External_EEF_Organisation_Type\n",
      "Original: Project_PRF_Application_Type -> Fixed: Project_PRF_Application_Type\n",
      "Original: Tech_TF_Primary_Programming_Language -> Fixed: Tech_TF_Primary_Programming_Language\n",
      "Original: Project_PRF_Functional_Size -> Fixed: Project_PRF_Functional_Size\n",
      "Original: Project_PRF_Relative_Size -> Fixed: Project_PRF_Relative_Size\n",
      "Original: Project_PRF_Normalised_Work_Effort_Level_1 -> Fixed: Project_PRF_Normalised_Work_Effort_Level_1\n",
      "Original: Project_PRF_Normalised_Work_Effort -> Fixed: Project_PRF_Normalised_Work_Effort\n",
      "Original: Project_PRF_Normalised_Level_1_PDR_ufp -> Fixed: Project_PRF_Normalised_Level_1_PDR_ufp\n",
      "Original: Project_PRF_Normalised_PDR_ufp -> Fixed: Project_PRF_Normalised_PDR_ufp\n",
      "Original: Project_PRF_Speed_of_Delivery -> Fixed: Project_PRF_Speed_of_Delivery\n",
      "Original: Project_PRF_Project_Elapsed_Time -> Fixed: Project_PRF_Project_Elapsed_Time\n",
      "Original: Project_PRF_Team_Size_Group -> Fixed: Project_PRF_Team_Size_Group\n",
      "Cell executed at: 2025-05-16 16:40:43.506854\n"
     ]
    }
   ],
   "source": [
    "# MANUALLY fix the problematic column names BEFORE PyCaret setup\n",
    "\n",
    "# Function to fix the column names and prevent duplicates\n",
    "def fix_column_names_no_duplicates(df):\n",
    "    \"\"\"Fix column names that cause issues with PyCaret while preventing duplicates.\"\"\"\n",
    "    original_cols = df.columns.tolist()\n",
    "    fixed_columns = []\n",
    "    \n",
    "    # Track columns to check for duplicates\n",
    "    seen_columns = set()\n",
    "    \n",
    "    for col in original_cols:\n",
    "        # Replace spaces with underscores\n",
    "        fixed_col = col.replace(' ', '_')\n",
    "        # Replace ampersands \n",
    "        fixed_col = fixed_col.replace('&', 'and')\n",
    "        # Remove any other problematic characters\n",
    "        fixed_col = ''.join(c if c.isalnum() or c == '_' else '_' for c in fixed_col)\n",
    "        \n",
    "        # Handle duplicates by appending a suffix\n",
    "        base_col = fixed_col\n",
    "        suffix = 1\n",
    "        while fixed_col in seen_columns:\n",
    "            fixed_col = f\"{base_col}_{suffix}\"\n",
    "            suffix += 1\n",
    "        \n",
    "        seen_columns.add(fixed_col)\n",
    "        fixed_columns.append(fixed_col)\n",
    "    \n",
    "    # Create a new DataFrame with fixed column names\n",
    "    df_fixed = df.copy()\n",
    "    df_fixed.columns = fixed_columns\n",
    "    \n",
    "    # Print statistics about the renaming\n",
    "    n_changed = sum(1 for old, new in zip(original_cols, fixed_columns) if old != new)\n",
    "    print(f\"Changed {n_changed} column names.\")\n",
    "    \n",
    "    # Check for duplicates in the new column names\n",
    "    dup_check = [item for item, count in pd.Series(fixed_columns).value_counts().items() if count > 1]\n",
    "    if dup_check:\n",
    "        print(f\"WARNING: Found {len(dup_check)} duplicate column names after fixing: {dup_check}\")\n",
    "    else:\n",
    "        print(\"No duplicate column names in the fixed DataFrame.\")\n",
    "    \n",
    "    return df_fixed\n",
    "\n",
    "# Show some of the original column names to help diagnose issues\n",
    "print(\"\\nSample of original column names:\")\n",
    "for i, col in enumerate(df_encoded.columns[:15]):  # Show first 15 for diagnosis\n",
    "    print(f\"{i}: {col}\")\n",
    "\n",
    "# Apply the fix to your dataframe\n",
    "print(\"\\nFixing column names for PyCaret compatibility...\")\n",
    "df_fixed = fix_column_names_no_duplicates(df_encoded)\n",
    "\n",
    "# Print some example fixed columns to verify\n",
    "print(\"\\nSample of fixed column names:\")\n",
    "for i, (old, new) in enumerate(zip(df_encoded.columns[:15], df_fixed.columns[:15])):\n",
    "    print(f\"Original: {old} -> Fixed: {new}\")"
   ]
  },
  {
   "cell_type": "code",
   "execution_count": 25,
   "id": "0c537ff5-d690-42ed-8d3c-f9e8bbb8bd60",
   "metadata": {},
   "outputs": [
    {
     "name": "stdout",
     "output_type": "stream",
     "text": [
      "Saved data with fixed column names to 'data/fixed_columns_data.csv'\n",
      "Cell executed at: 2025-05-16 16:40:43.725124\n"
     ]
    }
   ],
   "source": [
    "# Save this DataFrame with fixed column names\n",
    "df_fixed.to_csv('data/fixed_columns_data.csv', index=False)\n",
    "print(f\"Saved data with fixed column names to 'data/fixed_columns_data.csv'\")"
   ]
  },
  {
   "cell_type": "code",
   "execution_count": 26,
   "id": "5242616c-6c05-4fda-9d71-bbc80b0d7e28",
   "metadata": {},
   "outputs": [
    {
     "name": "stdout",
     "output_type": "stream",
     "text": [
      "Saved complete column transformations to 'column_transformations.txt'\n",
      "Cell executed at: 2025-05-16 16:40:43.741221\n"
     ]
    }
   ],
   "source": [
    "# Create a diagnostic file with all column transformations\n",
    "with open('column_transformations.txt', 'w') as f:\n",
    "    f.write(\"Column name transformations:\\n\")\n",
    "    f.write(\"--------------------------\\n\")\n",
    "    for old, new in zip(df_encoded.columns, df_fixed.columns):\n",
    "        f.write(f\"{old} -> {new}\\n\")\n",
    "print(\"Saved complete column transformations to 'column_transformations.txt'\")"
   ]
  },
  {
   "cell_type": "markdown",
   "id": "1d42eca8-d0cf-4068-9f5e-d690f0b93bd6",
   "metadata": {},
   "source": [
    "[Back to top](#Index:)\n",
    "\n",
    "<a id='part4'></a>\n",
    "\n",
    "# Part 4 - Data Profiling\n",
    "\n",
    "xxx"
   ]
  },
  {
   "cell_type": "code",
   "execution_count": 27,
   "id": "e217e573-7d82-4f45-8be3-6e3658b397bb",
   "metadata": {},
   "outputs": [
    {
     "data": {
      "text/html": [
       "\n",
       "            <div>\n",
       "                <ins><a href=\"https://ydata.ai/register\">Upgrade to ydata-sdk</a></ins>\n",
       "                <p>\n",
       "                    Improve your data and profiling with ydata-sdk, featuring data quality scoring, redundancy detection, outlier identification, text validation, and synthetic data generation.\n",
       "                </p>\n",
       "            </div>\n",
       "            "
      ],
      "text/plain": [
       "<IPython.core.display.HTML object>"
      ]
     },
     "metadata": {},
     "output_type": "display_data"
    },
    {
     "name": "stdout",
     "output_type": "stream",
     "text": [
      "\n",
      "Generating data profile report...\n"
     ]
    },
    {
     "data": {
      "application/vnd.jupyter.widget-view+json": {
       "model_id": "55ae4282d7544fdd9d38f27c6bcea2b2",
       "version_major": 2,
       "version_minor": 0
      },
      "text/plain": [
       "Summarize dataset:   0%|          | 0/5 [00:00<?, ?it/s]"
      ]
     },
     "metadata": {},
     "output_type": "display_data"
    },
    {
     "name": "stderr",
     "output_type": "stream",
     "text": [
      "\n",
      "\u001b[A%|          | 0/28 [00:00<?, ?it/s]\n",
      "\u001b[A%|█▍        | 4/28 [00:00<00:00, 36.90it/s]\n",
      "100%|██████████| 28/28 [00:00<00:00, 61.49it/s]\n"
     ]
    },
    {
     "data": {
      "application/vnd.jupyter.widget-view+json": {
       "model_id": "fd08b5da91aa46e6b565cc9164541404",
       "version_major": 2,
       "version_minor": 0
      },
      "text/plain": [
       "Generate report structure:   0%|          | 0/1 [00:00<?, ?it/s]"
      ]
     },
     "metadata": {},
     "output_type": "display_data"
    },
    {
     "data": {
      "application/vnd.jupyter.widget-view+json": {
       "model_id": "abfde67a10a8419cbaff5af48394cee2",
       "version_major": 2,
       "version_minor": 0
      },
      "text/plain": [
       "Render HTML:   0%|          | 0/1 [00:00<?, ?it/s]"
      ]
     },
     "metadata": {},
     "output_type": "display_data"
    },
    {
     "data": {
      "application/vnd.jupyter.widget-view+json": {
       "model_id": "aa4edd2ac74f4101848d2ace410fc95d",
       "version_major": 2,
       "version_minor": 0
      },
      "text/plain": [
       "Export report to file:   0%|          | 0/1 [00:00<?, ?it/s]"
      ]
     },
     "metadata": {},
     "output_type": "display_data"
    },
    {
     "name": "stdout",
     "output_type": "stream",
     "text": [
      "Data profile report saved to 'data_profile.html'\n",
      "Cell executed at: 2025-05-16 16:41:10.837847\n"
     ]
    }
   ],
   "source": [
    "# ## Data Profiling (Optional)\n",
    "\n",
    "try:\n",
    "    from ydata_profiling import ProfileReport\n",
    "    \n",
    "    print(\"\\nGenerating data profile report...\")\n",
    "    profile = ProfileReport(df_clean, title=\"ISBSG Dataset Profiling Report\", minimal=True)\n",
    "    profile.to_file(\"data_profile.html\")\n",
    "    print(\"Data profile report saved to 'data_profile.html'\")\n",
    "except ImportError:\n",
    "    print(\"\\nSkipping data profiling (ydata_profiling not installed)\")\n",
    "    print(\"To install: pip install ydata-profiling\")"
   ]
  },
  {
   "cell_type": "markdown",
   "id": "65d552c1-4a33-494b-bdf9-37292f354793",
   "metadata": {},
   "source": [
    "[Back to top](#Index:)\n",
    "\n",
    "<a id='part5'></a>\n",
    "\n",
    "# Part 5 - Model Building with PyCaret\n",
    "\n",
    "xxx"
   ]
  },
  {
   "cell_type": "code",
   "execution_count": 28,
   "id": "0841acfb-b8fc-400e-b7dc-a1d4c4a70d1b",
   "metadata": {},
   "outputs": [
    {
     "name": "stdout",
     "output_type": "stream",
     "text": [
      "\n",
      "Setting up PyCaret environment...\n",
      "Cell executed at: 2025-05-16 16:41:28.731424\n"
     ]
    }
   ],
   "source": [
    "# Import PyCaret regression module\n",
    "from pycaret.regression import setup, compare_models, create_model, pull, plot_model\n",
    "from pycaret.regression import tune_model, evaluate_model, save_model, get_config\n",
    "\n",
    "# Setup PyCaret environment ONCE\n",
    "print(\"\\nSetting up PyCaret environment...\")\n",
    "try:\n",
    "    # Split data into features and target\n",
    "    target_col_fixed = target_col  # Adjust if your target column name changed\n",
    "    X = df_fixed.drop(columns=[target_col_fixed])\n",
    "    y = df_fixed[target_col_fixed]\n",
    "    \n",
    "    # PyCaret setup with MINIMAL preprocessing\n",
    "    # The key is to avoid PyCaret's automatic preprocessing of column names\n",
    "    setup_results = setup(\n",
    "        data=df_fixed,\n",
    "        target=target_col_fixed,\n",
    "        session_id=123,\n",
    "        preprocess=True,\n",
    "        verbose=False\n",
    "    )\n",
    "except Exception as e:\n",
    "    print(\"Error during PyCaret setup:\", e)"
   ]
  },
  {
   "cell_type": "code",
   "execution_count": 29,
   "id": "d548f80f-8f2d-4dc1-9c0d-150581463e55",
   "metadata": {},
   "outputs": [
    {
     "name": "stdout",
     "output_type": "stream",
     "text": [
      "\n",
      "Preprocessed data shape: (7058, 55)\n",
      "Numeric features: 11\n",
      "Categorical features: 7\n",
      "PyCaret preprocessed data saved to CSV files\n",
      "Cell executed at: 2025-05-16 16:41:28.990953\n"
     ]
    }
   ],
   "source": [
    "    # Get preprocessed data for later use\n",
    "    pycaret_X = get_config(\"X\")\n",
    "    pycaret_y = get_config(\"y\")\n",
    "    \n",
    "    # Check data info\n",
    "    print(f\"\\nPreprocessed data shape: {pycaret_X.shape}\")\n",
    "    print(f\"Numeric features: {len(pycaret_X.select_dtypes(include=[np.number]).columns)}\")\n",
    "    print(f\"Categorical features: {len(pycaret_X.select_dtypes(include=['object', 'category']).columns)}\")\n",
    "    \n",
    "    # Save preprocessed data\n",
    "    pycaret_X.to_csv('data/pycaret_processed_features.csv', index=False)\n",
    "    pycaret_y.to_csv('data/pycaret_processed_target.csv', index=False)\n",
    "    print(\"PyCaret preprocessed data saved to CSV files\")\n"
   ]
  },
  {
   "cell_type": "code",
   "execution_count": 30,
   "id": "76f48f5e-42f0-40eb-b99e-272ca79ab42a",
   "metadata": {},
   "outputs": [
    {
     "name": "stdout",
     "output_type": "stream",
     "text": [
      "\n",
      "Comparing regression models...\n"
     ]
    },
    {
     "data": {
      "text/html": [],
      "text/plain": [
       "<IPython.core.display.HTML object>"
      ]
     },
     "metadata": {},
     "output_type": "display_data"
    },
    {
     "data": {
      "text/html": [
       "<style type=\"text/css\">\n",
       "#T_94f5a th {\n",
       "  text-align: left;\n",
       "}\n",
       "#T_94f5a_row0_col0, #T_94f5a_row1_col0, #T_94f5a_row1_col1, #T_94f5a_row1_col2, #T_94f5a_row1_col3, #T_94f5a_row1_col4, #T_94f5a_row1_col5, #T_94f5a_row1_col6, #T_94f5a_row2_col0, #T_94f5a_row2_col1, #T_94f5a_row2_col2, #T_94f5a_row2_col3, #T_94f5a_row2_col4, #T_94f5a_row2_col5, #T_94f5a_row2_col6, #T_94f5a_row3_col0, #T_94f5a_row3_col1, #T_94f5a_row3_col2, #T_94f5a_row3_col3, #T_94f5a_row3_col4, #T_94f5a_row3_col5, #T_94f5a_row3_col6, #T_94f5a_row4_col0, #T_94f5a_row4_col1, #T_94f5a_row4_col2, #T_94f5a_row4_col3, #T_94f5a_row4_col4, #T_94f5a_row4_col5, #T_94f5a_row4_col6, #T_94f5a_row5_col0, #T_94f5a_row5_col1, #T_94f5a_row5_col2, #T_94f5a_row5_col3, #T_94f5a_row5_col4, #T_94f5a_row5_col5, #T_94f5a_row5_col6, #T_94f5a_row6_col0, #T_94f5a_row6_col1, #T_94f5a_row6_col2, #T_94f5a_row6_col3, #T_94f5a_row6_col4, #T_94f5a_row6_col5, #T_94f5a_row6_col6, #T_94f5a_row7_col0, #T_94f5a_row7_col1, #T_94f5a_row7_col2, #T_94f5a_row7_col3, #T_94f5a_row7_col4, #T_94f5a_row7_col5, #T_94f5a_row7_col6, #T_94f5a_row8_col0, #T_94f5a_row8_col1, #T_94f5a_row8_col2, #T_94f5a_row8_col3, #T_94f5a_row8_col4, #T_94f5a_row8_col5, #T_94f5a_row8_col6, #T_94f5a_row9_col0, #T_94f5a_row9_col1, #T_94f5a_row9_col2, #T_94f5a_row9_col3, #T_94f5a_row9_col4, #T_94f5a_row9_col5, #T_94f5a_row9_col6, #T_94f5a_row10_col0, #T_94f5a_row10_col1, #T_94f5a_row10_col2, #T_94f5a_row10_col3, #T_94f5a_row10_col4, #T_94f5a_row10_col5, #T_94f5a_row10_col6, #T_94f5a_row11_col0, #T_94f5a_row11_col1, #T_94f5a_row11_col2, #T_94f5a_row11_col3, #T_94f5a_row11_col4, #T_94f5a_row11_col5, #T_94f5a_row11_col6, #T_94f5a_row12_col0, #T_94f5a_row12_col1, #T_94f5a_row12_col2, #T_94f5a_row12_col3, #T_94f5a_row12_col4, #T_94f5a_row12_col5, #T_94f5a_row12_col6, #T_94f5a_row13_col0, #T_94f5a_row13_col1, #T_94f5a_row13_col2, #T_94f5a_row13_col3, #T_94f5a_row13_col4, #T_94f5a_row13_col5, #T_94f5a_row13_col6, #T_94f5a_row14_col0, #T_94f5a_row14_col1, #T_94f5a_row14_col2, #T_94f5a_row14_col3, #T_94f5a_row14_col4, #T_94f5a_row14_col5, #T_94f5a_row14_col6, #T_94f5a_row15_col0, #T_94f5a_row15_col1, #T_94f5a_row15_col2, #T_94f5a_row15_col3, #T_94f5a_row15_col4, #T_94f5a_row15_col5, #T_94f5a_row15_col6, #T_94f5a_row16_col0, #T_94f5a_row16_col1, #T_94f5a_row16_col2, #T_94f5a_row16_col3, #T_94f5a_row16_col4, #T_94f5a_row16_col5, #T_94f5a_row16_col6, #T_94f5a_row17_col0, #T_94f5a_row17_col1, #T_94f5a_row17_col2, #T_94f5a_row17_col3, #T_94f5a_row17_col4, #T_94f5a_row17_col5, #T_94f5a_row17_col6, #T_94f5a_row18_col0, #T_94f5a_row18_col1, #T_94f5a_row18_col2, #T_94f5a_row18_col3, #T_94f5a_row18_col4, #T_94f5a_row18_col5, #T_94f5a_row18_col6, #T_94f5a_row19_col0, #T_94f5a_row19_col1, #T_94f5a_row19_col2, #T_94f5a_row19_col3, #T_94f5a_row19_col4, #T_94f5a_row19_col5, #T_94f5a_row19_col6 {\n",
       "  text-align: left;\n",
       "}\n",
       "#T_94f5a_row0_col1, #T_94f5a_row0_col2, #T_94f5a_row0_col3, #T_94f5a_row0_col4, #T_94f5a_row0_col5, #T_94f5a_row0_col6 {\n",
       "  text-align: left;\n",
       "  background-color: yellow;\n",
       "}\n",
       "#T_94f5a_row0_col7, #T_94f5a_row1_col7, #T_94f5a_row2_col7, #T_94f5a_row3_col7, #T_94f5a_row4_col7, #T_94f5a_row5_col7, #T_94f5a_row6_col7, #T_94f5a_row7_col7, #T_94f5a_row8_col7, #T_94f5a_row9_col7, #T_94f5a_row10_col7, #T_94f5a_row11_col7, #T_94f5a_row12_col7, #T_94f5a_row13_col7, #T_94f5a_row14_col7, #T_94f5a_row15_col7, #T_94f5a_row16_col7, #T_94f5a_row17_col7, #T_94f5a_row19_col7 {\n",
       "  text-align: left;\n",
       "  background-color: lightgrey;\n",
       "}\n",
       "#T_94f5a_row18_col7 {\n",
       "  text-align: left;\n",
       "  background-color: yellow;\n",
       "  background-color: lightgrey;\n",
       "}\n",
       "</style>\n",
       "<table id=\"T_94f5a\">\n",
       "  <thead>\n",
       "    <tr>\n",
       "      <th class=\"blank level0\" >&nbsp;</th>\n",
       "      <th id=\"T_94f5a_level0_col0\" class=\"col_heading level0 col0\" >Model</th>\n",
       "      <th id=\"T_94f5a_level0_col1\" class=\"col_heading level0 col1\" >MAE</th>\n",
       "      <th id=\"T_94f5a_level0_col2\" class=\"col_heading level0 col2\" >MSE</th>\n",
       "      <th id=\"T_94f5a_level0_col3\" class=\"col_heading level0 col3\" >RMSE</th>\n",
       "      <th id=\"T_94f5a_level0_col4\" class=\"col_heading level0 col4\" >R2</th>\n",
       "      <th id=\"T_94f5a_level0_col5\" class=\"col_heading level0 col5\" >RMSLE</th>\n",
       "      <th id=\"T_94f5a_level0_col6\" class=\"col_heading level0 col6\" >MAPE</th>\n",
       "      <th id=\"T_94f5a_level0_col7\" class=\"col_heading level0 col7\" >TT (Sec)</th>\n",
       "    </tr>\n",
       "  </thead>\n",
       "  <tbody>\n",
       "    <tr>\n",
       "      <th id=\"T_94f5a_level0_row0\" class=\"row_heading level0 row0\" >et</th>\n",
       "      <td id=\"T_94f5a_row0_col0\" class=\"data row0 col0\" >Extra Trees Regressor</td>\n",
       "      <td id=\"T_94f5a_row0_col1\" class=\"data row0 col1\" >503.2762</td>\n",
       "      <td id=\"T_94f5a_row0_col2\" class=\"data row0 col2\" >13277409.6465</td>\n",
       "      <td id=\"T_94f5a_row0_col3\" class=\"data row0 col3\" >3167.2358</td>\n",
       "      <td id=\"T_94f5a_row0_col4\" class=\"data row0 col4\" >0.8926</td>\n",
       "      <td id=\"T_94f5a_row0_col5\" class=\"data row0 col5\" >0.2069</td>\n",
       "      <td id=\"T_94f5a_row0_col6\" class=\"data row0 col6\" >0.0995</td>\n",
       "      <td id=\"T_94f5a_row0_col7\" class=\"data row0 col7\" >2.1700</td>\n",
       "    </tr>\n",
       "    <tr>\n",
       "      <th id=\"T_94f5a_level0_row1\" class=\"row_heading level0 row1\" >gbr</th>\n",
       "      <td id=\"T_94f5a_row1_col0\" class=\"data row1 col0\" >Gradient Boosting Regressor</td>\n",
       "      <td id=\"T_94f5a_row1_col1\" class=\"data row1 col1\" >719.3396</td>\n",
       "      <td id=\"T_94f5a_row1_col2\" class=\"data row1 col2\" >14149244.9609</td>\n",
       "      <td id=\"T_94f5a_row1_col3\" class=\"data row1 col3\" >3290.5400</td>\n",
       "      <td id=\"T_94f5a_row1_col4\" class=\"data row1 col4\" >0.8878</td>\n",
       "      <td id=\"T_94f5a_row1_col5\" class=\"data row1 col5\" >0.5085</td>\n",
       "      <td id=\"T_94f5a_row1_col6\" class=\"data row1 col6\" >0.5309</td>\n",
       "      <td id=\"T_94f5a_row1_col7\" class=\"data row1 col7\" >0.7250</td>\n",
       "    </tr>\n",
       "    <tr>\n",
       "      <th id=\"T_94f5a_level0_row2\" class=\"row_heading level0 row2\" >rf</th>\n",
       "      <td id=\"T_94f5a_row2_col0\" class=\"data row2 col0\" >Random Forest Regressor</td>\n",
       "      <td id=\"T_94f5a_row2_col1\" class=\"data row2 col1\" >525.4149</td>\n",
       "      <td id=\"T_94f5a_row2_col2\" class=\"data row2 col2\" >13565340.0642</td>\n",
       "      <td id=\"T_94f5a_row2_col3\" class=\"data row2 col3\" >3294.8602</td>\n",
       "      <td id=\"T_94f5a_row2_col4\" class=\"data row2 col4\" >0.8849</td>\n",
       "      <td id=\"T_94f5a_row2_col5\" class=\"data row2 col5\" >0.2184</td>\n",
       "      <td id=\"T_94f5a_row2_col6\" class=\"data row2 col6\" >0.1034</td>\n",
       "      <td id=\"T_94f5a_row2_col7\" class=\"data row2 col7\" >2.2520</td>\n",
       "    </tr>\n",
       "    <tr>\n",
       "      <th id=\"T_94f5a_level0_row3\" class=\"row_heading level0 row3\" >xgboost</th>\n",
       "      <td id=\"T_94f5a_row3_col0\" class=\"data row3 col0\" >Extreme Gradient Boosting</td>\n",
       "      <td id=\"T_94f5a_row3_col1\" class=\"data row3 col1\" >604.2027</td>\n",
       "      <td id=\"T_94f5a_row3_col2\" class=\"data row3 col2\" >16188296.5906</td>\n",
       "      <td id=\"T_94f5a_row3_col3\" class=\"data row3 col3\" >3276.8846</td>\n",
       "      <td id=\"T_94f5a_row3_col4\" class=\"data row3 col4\" >0.8830</td>\n",
       "      <td id=\"T_94f5a_row3_col5\" class=\"data row3 col5\" >0.3133</td>\n",
       "      <td id=\"T_94f5a_row3_col6\" class=\"data row3 col6\" >0.1771</td>\n",
       "      <td id=\"T_94f5a_row3_col7\" class=\"data row3 col7\" >0.2440</td>\n",
       "    </tr>\n",
       "    <tr>\n",
       "      <th id=\"T_94f5a_level0_row4\" class=\"row_heading level0 row4\" >catboost</th>\n",
       "      <td id=\"T_94f5a_row4_col0\" class=\"data row4 col0\" >CatBoost Regressor</td>\n",
       "      <td id=\"T_94f5a_row4_col1\" class=\"data row4 col1\" >600.4510</td>\n",
       "      <td id=\"T_94f5a_row4_col2\" class=\"data row4 col2\" >19946043.8889</td>\n",
       "      <td id=\"T_94f5a_row4_col3\" class=\"data row4 col3\" >3689.9275</td>\n",
       "      <td id=\"T_94f5a_row4_col4\" class=\"data row4 col4\" >0.8587</td>\n",
       "      <td id=\"T_94f5a_row4_col5\" class=\"data row4 col5\" >0.3837</td>\n",
       "      <td id=\"T_94f5a_row4_col6\" class=\"data row4 col6\" >0.2769</td>\n",
       "      <td id=\"T_94f5a_row4_col7\" class=\"data row4 col7\" >2.9350</td>\n",
       "    </tr>\n",
       "    <tr>\n",
       "      <th id=\"T_94f5a_level0_row5\" class=\"row_heading level0 row5\" >lightgbm</th>\n",
       "      <td id=\"T_94f5a_row5_col0\" class=\"data row5 col0\" >Light Gradient Boosting Machine</td>\n",
       "      <td id=\"T_94f5a_row5_col1\" class=\"data row5 col1\" >810.1306</td>\n",
       "      <td id=\"T_94f5a_row5_col2\" class=\"data row5 col2\" >26476195.6065</td>\n",
       "      <td id=\"T_94f5a_row5_col3\" class=\"data row5 col3\" >4513.4841</td>\n",
       "      <td id=\"T_94f5a_row5_col4\" class=\"data row5 col4\" >0.7957</td>\n",
       "      <td id=\"T_94f5a_row5_col5\" class=\"data row5 col5\" >0.4070</td>\n",
       "      <td id=\"T_94f5a_row5_col6\" class=\"data row5 col6\" >0.3129</td>\n",
       "      <td id=\"T_94f5a_row5_col7\" class=\"data row5 col7\" >0.3110</td>\n",
       "    </tr>\n",
       "    <tr>\n",
       "      <th id=\"T_94f5a_level0_row6\" class=\"row_heading level0 row6\" >dt</th>\n",
       "      <td id=\"T_94f5a_row6_col0\" class=\"data row6 col0\" >Decision Tree Regressor</td>\n",
       "      <td id=\"T_94f5a_row6_col1\" class=\"data row6 col1\" >638.0895</td>\n",
       "      <td id=\"T_94f5a_row6_col2\" class=\"data row6 col2\" >24073135.6644</td>\n",
       "      <td id=\"T_94f5a_row6_col3\" class=\"data row6 col3\" >4336.3695</td>\n",
       "      <td id=\"T_94f5a_row6_col4\" class=\"data row6 col4\" >0.7778</td>\n",
       "      <td id=\"T_94f5a_row6_col5\" class=\"data row6 col5\" >0.2453</td>\n",
       "      <td id=\"T_94f5a_row6_col6\" class=\"data row6 col6\" >0.1016</td>\n",
       "      <td id=\"T_94f5a_row6_col7\" class=\"data row6 col7\" >0.1260</td>\n",
       "    </tr>\n",
       "    <tr>\n",
       "      <th id=\"T_94f5a_level0_row7\" class=\"row_heading level0 row7\" >lasso</th>\n",
       "      <td id=\"T_94f5a_row7_col0\" class=\"data row7 col0\" >Lasso Regression</td>\n",
       "      <td id=\"T_94f5a_row7_col1\" class=\"data row7 col1\" >1671.7410</td>\n",
       "      <td id=\"T_94f5a_row7_col2\" class=\"data row7 col2\" >24874465.7860</td>\n",
       "      <td id=\"T_94f5a_row7_col3\" class=\"data row7 col3\" >4561.1952</td>\n",
       "      <td id=\"T_94f5a_row7_col4\" class=\"data row7 col4\" >0.7643</td>\n",
       "      <td id=\"T_94f5a_row7_col5\" class=\"data row7 col5\" >1.0610</td>\n",
       "      <td id=\"T_94f5a_row7_col6\" class=\"data row7 col6\" >1.9398</td>\n",
       "      <td id=\"T_94f5a_row7_col7\" class=\"data row7 col7\" >0.3060</td>\n",
       "    </tr>\n",
       "    <tr>\n",
       "      <th id=\"T_94f5a_level0_row8\" class=\"row_heading level0 row8\" >ridge</th>\n",
       "      <td id=\"T_94f5a_row8_col0\" class=\"data row8 col0\" >Ridge Regression</td>\n",
       "      <td id=\"T_94f5a_row8_col1\" class=\"data row8 col1\" >1679.2914</td>\n",
       "      <td id=\"T_94f5a_row8_col2\" class=\"data row8 col2\" >24863359.4279</td>\n",
       "      <td id=\"T_94f5a_row8_col3\" class=\"data row8 col3\" >4560.7502</td>\n",
       "      <td id=\"T_94f5a_row8_col4\" class=\"data row8 col4\" >0.7643</td>\n",
       "      <td id=\"T_94f5a_row8_col5\" class=\"data row8 col5\" >1.0462</td>\n",
       "      <td id=\"T_94f5a_row8_col6\" class=\"data row8 col6\" >1.9424</td>\n",
       "      <td id=\"T_94f5a_row8_col7\" class=\"data row8 col7\" >0.0900</td>\n",
       "    </tr>\n",
       "    <tr>\n",
       "      <th id=\"T_94f5a_level0_row9\" class=\"row_heading level0 row9\" >llar</th>\n",
       "      <td id=\"T_94f5a_row9_col0\" class=\"data row9 col0\" >Lasso Least Angle Regression</td>\n",
       "      <td id=\"T_94f5a_row9_col1\" class=\"data row9 col1\" >1672.0987</td>\n",
       "      <td id=\"T_94f5a_row9_col2\" class=\"data row9 col2\" >24874684.3109</td>\n",
       "      <td id=\"T_94f5a_row9_col3\" class=\"data row9 col3\" >4561.2921</td>\n",
       "      <td id=\"T_94f5a_row9_col4\" class=\"data row9 col4\" >0.7643</td>\n",
       "      <td id=\"T_94f5a_row9_col5\" class=\"data row9 col5\" >1.0602</td>\n",
       "      <td id=\"T_94f5a_row9_col6\" class=\"data row9 col6\" >1.9403</td>\n",
       "      <td id=\"T_94f5a_row9_col7\" class=\"data row9 col7\" >0.1060</td>\n",
       "    </tr>\n",
       "    <tr>\n",
       "      <th id=\"T_94f5a_level0_row10\" class=\"row_heading level0 row10\" >en</th>\n",
       "      <td id=\"T_94f5a_row10_col0\" class=\"data row10 col0\" >Elastic Net</td>\n",
       "      <td id=\"T_94f5a_row10_col1\" class=\"data row10 col1\" >1433.1870</td>\n",
       "      <td id=\"T_94f5a_row10_col2\" class=\"data row10 col2\" >25538394.5968</td>\n",
       "      <td id=\"T_94f5a_row10_col3\" class=\"data row10 col3\" >4591.0118</td>\n",
       "      <td id=\"T_94f5a_row10_col4\" class=\"data row10 col4\" >0.7637</td>\n",
       "      <td id=\"T_94f5a_row10_col5\" class=\"data row10 col5\" >0.9390</td>\n",
       "      <td id=\"T_94f5a_row10_col6\" class=\"data row10 col6\" >1.5949</td>\n",
       "      <td id=\"T_94f5a_row10_col7\" class=\"data row10 col7\" >0.3090</td>\n",
       "    </tr>\n",
       "    <tr>\n",
       "      <th id=\"T_94f5a_level0_row11\" class=\"row_heading level0 row11\" >lr</th>\n",
       "      <td id=\"T_94f5a_row11_col0\" class=\"data row11 col0\" >Linear Regression</td>\n",
       "      <td id=\"T_94f5a_row11_col1\" class=\"data row11 col1\" >1697.8919</td>\n",
       "      <td id=\"T_94f5a_row11_col2\" class=\"data row11 col2\" >24912887.8911</td>\n",
       "      <td id=\"T_94f5a_row11_col3\" class=\"data row11 col3\" >4569.8871</td>\n",
       "      <td id=\"T_94f5a_row11_col4\" class=\"data row11 col4\" >0.7633</td>\n",
       "      <td id=\"T_94f5a_row11_col5\" class=\"data row11 col5\" >1.0567</td>\n",
       "      <td id=\"T_94f5a_row11_col6\" class=\"data row11 col6\" >1.9451</td>\n",
       "      <td id=\"T_94f5a_row11_col7\" class=\"data row11 col7\" >1.6260</td>\n",
       "    </tr>\n",
       "    <tr>\n",
       "      <th id=\"T_94f5a_level0_row12\" class=\"row_heading level0 row12\" >br</th>\n",
       "      <td id=\"T_94f5a_row12_col0\" class=\"data row12 col0\" >Bayesian Ridge</td>\n",
       "      <td id=\"T_94f5a_row12_col1\" class=\"data row12 col1\" >1508.6388</td>\n",
       "      <td id=\"T_94f5a_row12_col2\" class=\"data row12 col2\" >26956133.1110</td>\n",
       "      <td id=\"T_94f5a_row12_col3\" class=\"data row12 col3\" >4764.5869</td>\n",
       "      <td id=\"T_94f5a_row12_col4\" class=\"data row12 col4\" >0.7464</td>\n",
       "      <td id=\"T_94f5a_row12_col5\" class=\"data row12 col5\" >1.0096</td>\n",
       "      <td id=\"T_94f5a_row12_col6\" class=\"data row12 col6\" >1.8624</td>\n",
       "      <td id=\"T_94f5a_row12_col7\" class=\"data row12 col7\" >0.1130</td>\n",
       "    </tr>\n",
       "    <tr>\n",
       "      <th id=\"T_94f5a_level0_row13\" class=\"row_heading level0 row13\" >omp</th>\n",
       "      <td id=\"T_94f5a_row13_col0\" class=\"data row13 col0\" >Orthogonal Matching Pursuit</td>\n",
       "      <td id=\"T_94f5a_row13_col1\" class=\"data row13 col1\" >1506.7213</td>\n",
       "      <td id=\"T_94f5a_row13_col2\" class=\"data row13 col2\" >27009348.6692</td>\n",
       "      <td id=\"T_94f5a_row13_col3\" class=\"data row13 col3\" >4769.3113</td>\n",
       "      <td id=\"T_94f5a_row13_col4\" class=\"data row13 col4\" >0.7460</td>\n",
       "      <td id=\"T_94f5a_row13_col5\" class=\"data row13 col5\" >1.0072</td>\n",
       "      <td id=\"T_94f5a_row13_col6\" class=\"data row13 col6\" >1.8322</td>\n",
       "      <td id=\"T_94f5a_row13_col7\" class=\"data row13 col7\" >0.0940</td>\n",
       "    </tr>\n",
       "    <tr>\n",
       "      <th id=\"T_94f5a_level0_row14\" class=\"row_heading level0 row14\" >huber</th>\n",
       "      <td id=\"T_94f5a_row14_col0\" class=\"data row14 col0\" >Huber Regressor</td>\n",
       "      <td id=\"T_94f5a_row14_col1\" class=\"data row14 col1\" >806.0686</td>\n",
       "      <td id=\"T_94f5a_row14_col2\" class=\"data row14 col2\" >27876435.8843</td>\n",
       "      <td id=\"T_94f5a_row14_col3\" class=\"data row14 col3\" >4819.8868</td>\n",
       "      <td id=\"T_94f5a_row14_col4\" class=\"data row14 col4\" >0.7364</td>\n",
       "      <td id=\"T_94f5a_row14_col5\" class=\"data row14 col5\" >0.5005</td>\n",
       "      <td id=\"T_94f5a_row14_col6\" class=\"data row14 col6\" >0.3414</td>\n",
       "      <td id=\"T_94f5a_row14_col7\" class=\"data row14 col7\" >0.2740</td>\n",
       "    </tr>\n",
       "    <tr>\n",
       "      <th id=\"T_94f5a_level0_row15\" class=\"row_heading level0 row15\" >par</th>\n",
       "      <td id=\"T_94f5a_row15_col0\" class=\"data row15 col0\" >Passive Aggressive Regressor</td>\n",
       "      <td id=\"T_94f5a_row15_col1\" class=\"data row15 col1\" >1458.1774</td>\n",
       "      <td id=\"T_94f5a_row15_col2\" class=\"data row15 col2\" >27780359.7492</td>\n",
       "      <td id=\"T_94f5a_row15_col3\" class=\"data row15 col3\" >4912.6839</td>\n",
       "      <td id=\"T_94f5a_row15_col4\" class=\"data row15 col4\" >0.7353</td>\n",
       "      <td id=\"T_94f5a_row15_col5\" class=\"data row15 col5\" >0.9556</td>\n",
       "      <td id=\"T_94f5a_row15_col6\" class=\"data row15 col6\" >1.5092</td>\n",
       "      <td id=\"T_94f5a_row15_col7\" class=\"data row15 col7\" >0.0940</td>\n",
       "    </tr>\n",
       "    <tr>\n",
       "      <th id=\"T_94f5a_level0_row16\" class=\"row_heading level0 row16\" >knn</th>\n",
       "      <td id=\"T_94f5a_row16_col0\" class=\"data row16 col0\" >K Neighbors Regressor</td>\n",
       "      <td id=\"T_94f5a_row16_col1\" class=\"data row16 col1\" >1223.1884</td>\n",
       "      <td id=\"T_94f5a_row16_col2\" class=\"data row16 col2\" >29379214.0024</td>\n",
       "      <td id=\"T_94f5a_row16_col3\" class=\"data row16 col3\" >5038.7925</td>\n",
       "      <td id=\"T_94f5a_row16_col4\" class=\"data row16 col4\" >0.7286</td>\n",
       "      <td id=\"T_94f5a_row16_col5\" class=\"data row16 col5\" >0.7151</td>\n",
       "      <td id=\"T_94f5a_row16_col6\" class=\"data row16 col6\" >0.9260</td>\n",
       "      <td id=\"T_94f5a_row16_col7\" class=\"data row16 col7\" >0.1020</td>\n",
       "    </tr>\n",
       "    <tr>\n",
       "      <th id=\"T_94f5a_level0_row17\" class=\"row_heading level0 row17\" >ada</th>\n",
       "      <td id=\"T_94f5a_row17_col0\" class=\"data row17 col0\" >AdaBoost Regressor</td>\n",
       "      <td id=\"T_94f5a_row17_col1\" class=\"data row17 col1\" >4069.0582</td>\n",
       "      <td id=\"T_94f5a_row17_col2\" class=\"data row17 col2\" >40171987.5841</td>\n",
       "      <td id=\"T_94f5a_row17_col3\" class=\"data row17 col3\" >6022.6857</td>\n",
       "      <td id=\"T_94f5a_row17_col4\" class=\"data row17 col4\" >0.5969</td>\n",
       "      <td id=\"T_94f5a_row17_col5\" class=\"data row17 col5\" >1.6909</td>\n",
       "      <td id=\"T_94f5a_row17_col6\" class=\"data row17 col6\" >8.5051</td>\n",
       "      <td id=\"T_94f5a_row17_col7\" class=\"data row17 col7\" >0.3540</td>\n",
       "    </tr>\n",
       "    <tr>\n",
       "      <th id=\"T_94f5a_level0_row18\" class=\"row_heading level0 row18\" >dummy</th>\n",
       "      <td id=\"T_94f5a_row18_col0\" class=\"data row18 col0\" >Dummy Regressor</td>\n",
       "      <td id=\"T_94f5a_row18_col1\" class=\"data row18 col1\" >4394.2583</td>\n",
       "      <td id=\"T_94f5a_row18_col2\" class=\"data row18 col2\" >101895046.8525</td>\n",
       "      <td id=\"T_94f5a_row18_col3\" class=\"data row18 col3\" >9748.0736</td>\n",
       "      <td id=\"T_94f5a_row18_col4\" class=\"data row18 col4\" >-0.0025</td>\n",
       "      <td id=\"T_94f5a_row18_col5\" class=\"data row18 col5\" >1.7383</td>\n",
       "      <td id=\"T_94f5a_row18_col6\" class=\"data row18 col6\" >8.1066</td>\n",
       "      <td id=\"T_94f5a_row18_col7\" class=\"data row18 col7\" >0.0820</td>\n",
       "    </tr>\n",
       "    <tr>\n",
       "      <th id=\"T_94f5a_level0_row19\" class=\"row_heading level0 row19\" >lar</th>\n",
       "      <td id=\"T_94f5a_row19_col0\" class=\"data row19 col0\" >Least Angle Regression</td>\n",
       "      <td id=\"T_94f5a_row19_col1\" class=\"data row19 col1\" >9904132210027578343606089366560740322910362679911414370288952667813912094680691619290747802017937354394776539148647282898303325479214119965505128918252586621693299547794458059362725272772770234137480334302255310183298367058832792757710075824942196537086580279067665235968.0000</td>\n",
       "      <td id=\"T_94f5a_row19_col2\" class=\"data row19 col2\" >inf</td>\n",
       "      <td id=\"T_94f5a_row19_col3\" class=\"data row19 col3\" >inf</td>\n",
       "      <td id=\"T_94f5a_row19_col4\" class=\"data row19 col4\" >-inf</td>\n",
       "      <td id=\"T_94f5a_row19_col5\" class=\"data row19 col5\" >66.6141</td>\n",
       "      <td id=\"T_94f5a_row19_col6\" class=\"data row19 col6\" >23023381162017265276406949564882731659548520113073729290229311420285928854274498363551572754644727087724423912997019759399329216016532409099489521916022772336367681401969984279399146681522892969915442547518195645754300351542822291856130143891632315029084462964619083776.0000</td>\n",
       "      <td id=\"T_94f5a_row19_col7\" class=\"data row19 col7\" >0.1160</td>\n",
       "    </tr>\n",
       "  </tbody>\n",
       "</table>\n"
      ],
      "text/plain": [
       "<pandas.io.formats.style.Styler at 0x1e433217b10>"
      ]
     },
     "metadata": {},
     "output_type": "display_data"
    },
    {
     "data": {
      "text/html": [],
      "text/plain": [
       "<IPython.core.display.HTML object>"
      ]
     },
     "metadata": {},
     "output_type": "display_data"
    },
    {
     "name": "stdout",
     "output_type": "stream",
     "text": [
      "\n",
      "Model comparison results:\n",
      "                                    Model            MAE           MSE  \\\n",
      "et                  Extra Trees Regressor   5.032762e+02  1.327741e+07   \n",
      "gbr           Gradient Boosting Regressor   7.193396e+02  1.414924e+07   \n",
      "rf                Random Forest Regressor   5.254149e+02  1.356534e+07   \n",
      "xgboost         Extreme Gradient Boosting   6.042027e+02  1.618830e+07   \n",
      "catboost               CatBoost Regressor   6.004510e+02  1.994604e+07   \n",
      "lightgbm  Light Gradient Boosting Machine   8.101306e+02  2.647620e+07   \n",
      "dt                Decision Tree Regressor   6.380895e+02  2.407314e+07   \n",
      "lasso                    Lasso Regression   1.671741e+03  2.487447e+07   \n",
      "ridge                    Ridge Regression   1.679291e+03  2.486336e+07   \n",
      "llar         Lasso Least Angle Regression   1.672099e+03  2.487468e+07   \n",
      "en                            Elastic Net   1.433187e+03  2.553839e+07   \n",
      "lr                      Linear Regression   1.697892e+03  2.491289e+07   \n",
      "br                         Bayesian Ridge   1.508639e+03  2.695613e+07   \n",
      "omp           Orthogonal Matching Pursuit   1.506721e+03  2.700935e+07   \n",
      "huber                     Huber Regressor   8.060686e+02  2.787644e+07   \n",
      "par          Passive Aggressive Regressor   1.458177e+03  2.778036e+07   \n",
      "knn                 K Neighbors Regressor   1.223188e+03  2.937921e+07   \n",
      "ada                    AdaBoost Regressor   4.069058e+03  4.017199e+07   \n",
      "dummy                     Dummy Regressor   4.394258e+03  1.018950e+08   \n",
      "lar                Least Angle Regression  9.904132e+270           inf   \n",
      "\n",
      "               RMSE      R2    RMSLE           MAPE  TT (Sec)  \n",
      "et        3167.2358  0.8926   0.2069   9.950000e-02     2.170  \n",
      "gbr       3290.5400  0.8878   0.5085   5.309000e-01     0.725  \n",
      "rf        3294.8602  0.8849   0.2184   1.034000e-01     2.252  \n",
      "xgboost   3276.8846  0.8830   0.3133   1.771000e-01     0.244  \n",
      "catboost  3689.9275  0.8587   0.3837   2.769000e-01     2.935  \n",
      "lightgbm  4513.4841  0.7957   0.4070   3.129000e-01     0.311  \n",
      "dt        4336.3695  0.7778   0.2453   1.016000e-01     0.126  \n",
      "lasso     4561.1952  0.7643   1.0610   1.939800e+00     0.306  \n",
      "ridge     4560.7502  0.7643   1.0462   1.942400e+00     0.090  \n",
      "llar      4561.2921  0.7643   1.0602   1.940300e+00     0.106  \n",
      "en        4591.0118  0.7637   0.9390   1.594900e+00     0.309  \n",
      "lr        4569.8871  0.7633   1.0567   1.945100e+00     1.626  \n",
      "br        4764.5869  0.7464   1.0096   1.862400e+00     0.113  \n",
      "omp       4769.3113  0.7460   1.0072   1.832200e+00     0.094  \n",
      "huber     4819.8868  0.7364   0.5005   3.414000e-01     0.274  \n",
      "par       4912.6839  0.7353   0.9556   1.509200e+00     0.094  \n",
      "knn       5038.7925  0.7286   0.7151   9.260000e-01     0.102  \n",
      "ada       6022.6857  0.5969   1.6909   8.505100e+00     0.354  \n",
      "dummy     9748.0736 -0.0025   1.7383   8.106600e+00     0.082  \n",
      "lar             inf    -inf  66.6141  2.302338e+268     0.116  \n",
      "Cell executed at: 2025-05-16 16:43:48.047022\n"
     ]
    }
   ],
   "source": [
    "   \n",
    "# Compare regression models\n",
    "print(\"\\nComparing regression models...\")\n",
    "best_models = compare_models(n_select=3)  # Select top 3 models\n",
    "model_results = pull()\n",
    "print(\"\\nModel comparison results:\")\n",
    "print(model_results)"
   ]
  },
  {
   "cell_type": "code",
   "execution_count": 32,
   "id": "f8124221-8801-4db8-a38c-6016b81c9fea",
   "metadata": {},
   "outputs": [
    {
     "name": "stdout",
     "output_type": "stream",
     "text": [
      "\n",
      "Creating best model: et\n"
     ]
    },
    {
     "data": {
      "text/html": [],
      "text/plain": [
       "<IPython.core.display.HTML object>"
      ]
     },
     "metadata": {},
     "output_type": "display_data"
    },
    {
     "data": {
      "text/html": [
       "<style type=\"text/css\">\n",
       "#T_f025b_row10_col0, #T_f025b_row10_col1, #T_f025b_row10_col2, #T_f025b_row10_col3, #T_f025b_row10_col4, #T_f025b_row10_col5 {\n",
       "  background: yellow;\n",
       "}\n",
       "</style>\n",
       "<table id=\"T_f025b\">\n",
       "  <thead>\n",
       "    <tr>\n",
       "      <th class=\"blank level0\" >&nbsp;</th>\n",
       "      <th id=\"T_f025b_level0_col0\" class=\"col_heading level0 col0\" >MAE</th>\n",
       "      <th id=\"T_f025b_level0_col1\" class=\"col_heading level0 col1\" >MSE</th>\n",
       "      <th id=\"T_f025b_level0_col2\" class=\"col_heading level0 col2\" >RMSE</th>\n",
       "      <th id=\"T_f025b_level0_col3\" class=\"col_heading level0 col3\" >R2</th>\n",
       "      <th id=\"T_f025b_level0_col4\" class=\"col_heading level0 col4\" >RMSLE</th>\n",
       "      <th id=\"T_f025b_level0_col5\" class=\"col_heading level0 col5\" >MAPE</th>\n",
       "    </tr>\n",
       "    <tr>\n",
       "      <th class=\"index_name level0\" >Fold</th>\n",
       "      <th class=\"blank col0\" >&nbsp;</th>\n",
       "      <th class=\"blank col1\" >&nbsp;</th>\n",
       "      <th class=\"blank col2\" >&nbsp;</th>\n",
       "      <th class=\"blank col3\" >&nbsp;</th>\n",
       "      <th class=\"blank col4\" >&nbsp;</th>\n",
       "      <th class=\"blank col5\" >&nbsp;</th>\n",
       "    </tr>\n",
       "  </thead>\n",
       "  <tbody>\n",
       "    <tr>\n",
       "      <th id=\"T_f025b_level0_row0\" class=\"row_heading level0 row0\" >0</th>\n",
       "      <td id=\"T_f025b_row0_col0\" class=\"data row0 col0\" >884.2739</td>\n",
       "      <td id=\"T_f025b_row0_col1\" class=\"data row0 col1\" >55407139.4678</td>\n",
       "      <td id=\"T_f025b_row0_col2\" class=\"data row0 col2\" >7443.5972</td>\n",
       "      <td id=\"T_f025b_row0_col3\" class=\"data row0 col3\" >0.7730</td>\n",
       "      <td id=\"T_f025b_row0_col4\" class=\"data row0 col4\" >0.2211</td>\n",
       "      <td id=\"T_f025b_row0_col5\" class=\"data row0 col5\" >0.1014</td>\n",
       "    </tr>\n",
       "    <tr>\n",
       "      <th id=\"T_f025b_level0_row1\" class=\"row_heading level0 row1\" >1</th>\n",
       "      <td id=\"T_f025b_row1_col0\" class=\"data row1 col0\" >382.6128</td>\n",
       "      <td id=\"T_f025b_row1_col1\" class=\"data row1 col1\" >2239050.3146</td>\n",
       "      <td id=\"T_f025b_row1_col2\" class=\"data row1 col2\" >1496.3457</td>\n",
       "      <td id=\"T_f025b_row1_col3\" class=\"data row1 col3\" >0.9640</td>\n",
       "      <td id=\"T_f025b_row1_col4\" class=\"data row1 col4\" >0.1869</td>\n",
       "      <td id=\"T_f025b_row1_col5\" class=\"data row1 col5\" >0.0881</td>\n",
       "    </tr>\n",
       "    <tr>\n",
       "      <th id=\"T_f025b_level0_row2\" class=\"row_heading level0 row2\" >2</th>\n",
       "      <td id=\"T_f025b_row2_col0\" class=\"data row2 col0\" >538.6472</td>\n",
       "      <td id=\"T_f025b_row2_col1\" class=\"data row2 col1\" >6717338.7147</td>\n",
       "      <td id=\"T_f025b_row2_col2\" class=\"data row2 col2\" >2591.7829</td>\n",
       "      <td id=\"T_f025b_row2_col3\" class=\"data row2 col3\" >0.9261</td>\n",
       "      <td id=\"T_f025b_row2_col4\" class=\"data row2 col4\" >0.2282</td>\n",
       "      <td id=\"T_f025b_row2_col5\" class=\"data row2 col5\" >0.1214</td>\n",
       "    </tr>\n",
       "    <tr>\n",
       "      <th id=\"T_f025b_level0_row3\" class=\"row_heading level0 row3\" >3</th>\n",
       "      <td id=\"T_f025b_row3_col0\" class=\"data row3 col0\" >493.0081</td>\n",
       "      <td id=\"T_f025b_row3_col1\" class=\"data row3 col1\" >9595418.2138</td>\n",
       "      <td id=\"T_f025b_row3_col2\" class=\"data row3 col2\" >3097.6472</td>\n",
       "      <td id=\"T_f025b_row3_col3\" class=\"data row3 col3\" >0.9346</td>\n",
       "      <td id=\"T_f025b_row3_col4\" class=\"data row3 col4\" >0.1914</td>\n",
       "      <td id=\"T_f025b_row3_col5\" class=\"data row3 col5\" >0.0818</td>\n",
       "    </tr>\n",
       "    <tr>\n",
       "      <th id=\"T_f025b_level0_row4\" class=\"row_heading level0 row4\" >4</th>\n",
       "      <td id=\"T_f025b_row4_col0\" class=\"data row4 col0\" >532.4317</td>\n",
       "      <td id=\"T_f025b_row4_col1\" class=\"data row4 col1\" >24509494.4561</td>\n",
       "      <td id=\"T_f025b_row4_col2\" class=\"data row4 col2\" >4950.7065</td>\n",
       "      <td id=\"T_f025b_row4_col3\" class=\"data row4 col3\" >0.7689</td>\n",
       "      <td id=\"T_f025b_row4_col4\" class=\"data row4 col4\" >0.1924</td>\n",
       "      <td id=\"T_f025b_row4_col5\" class=\"data row4 col5\" >0.0832</td>\n",
       "    </tr>\n",
       "    <tr>\n",
       "      <th id=\"T_f025b_level0_row5\" class=\"row_heading level0 row5\" >5</th>\n",
       "      <td id=\"T_f025b_row5_col0\" class=\"data row5 col0\" >576.9346</td>\n",
       "      <td id=\"T_f025b_row5_col1\" class=\"data row5 col1\" >17555614.6916</td>\n",
       "      <td id=\"T_f025b_row5_col2\" class=\"data row5 col2\" >4189.9421</td>\n",
       "      <td id=\"T_f025b_row5_col3\" class=\"data row5 col3\" >0.8284</td>\n",
       "      <td id=\"T_f025b_row5_col4\" class=\"data row5 col4\" >0.2035</td>\n",
       "      <td id=\"T_f025b_row5_col5\" class=\"data row5 col5\" >0.0708</td>\n",
       "    </tr>\n",
       "    <tr>\n",
       "      <th id=\"T_f025b_level0_row6\" class=\"row_heading level0 row6\" >6</th>\n",
       "      <td id=\"T_f025b_row6_col0\" class=\"data row6 col0\" >274.3069</td>\n",
       "      <td id=\"T_f025b_row6_col1\" class=\"data row6 col1\" >1216929.0077</td>\n",
       "      <td id=\"T_f025b_row6_col2\" class=\"data row6 col2\" >1103.1451</td>\n",
       "      <td id=\"T_f025b_row6_col3\" class=\"data row6 col3\" >0.9647</td>\n",
       "      <td id=\"T_f025b_row6_col4\" class=\"data row6 col4\" >0.1921</td>\n",
       "      <td id=\"T_f025b_row6_col5\" class=\"data row6 col5\" >0.0986</td>\n",
       "    </tr>\n",
       "    <tr>\n",
       "      <th id=\"T_f025b_level0_row7\" class=\"row_heading level0 row7\" >7</th>\n",
       "      <td id=\"T_f025b_row7_col0\" class=\"data row7 col0\" >452.8986</td>\n",
       "      <td id=\"T_f025b_row7_col1\" class=\"data row7 col1\" >3922056.4356</td>\n",
       "      <td id=\"T_f025b_row7_col2\" class=\"data row7 col2\" >1980.4182</td>\n",
       "      <td id=\"T_f025b_row7_col3\" class=\"data row7 col3\" >0.9656</td>\n",
       "      <td id=\"T_f025b_row7_col4\" class=\"data row7 col4\" >0.2631</td>\n",
       "      <td id=\"T_f025b_row7_col5\" class=\"data row7 col5\" >0.1565</td>\n",
       "    </tr>\n",
       "    <tr>\n",
       "      <th id=\"T_f025b_level0_row8\" class=\"row_heading level0 row8\" >8</th>\n",
       "      <td id=\"T_f025b_row8_col0\" class=\"data row8 col0\" >496.6227</td>\n",
       "      <td id=\"T_f025b_row8_col1\" class=\"data row8 col1\" >5711179.1488</td>\n",
       "      <td id=\"T_f025b_row8_col2\" class=\"data row8 col2\" >2389.8073</td>\n",
       "      <td id=\"T_f025b_row8_col3\" class=\"data row8 col3\" >0.9035</td>\n",
       "      <td id=\"T_f025b_row8_col4\" class=\"data row8 col4\" >0.2383</td>\n",
       "      <td id=\"T_f025b_row8_col5\" class=\"data row8 col5\" >0.1239</td>\n",
       "    </tr>\n",
       "    <tr>\n",
       "      <th id=\"T_f025b_level0_row9\" class=\"row_heading level0 row9\" >9</th>\n",
       "      <td id=\"T_f025b_row9_col0\" class=\"data row9 col0\" >401.0256</td>\n",
       "      <td id=\"T_f025b_row9_col1\" class=\"data row9 col1\" >5899876.0142</td>\n",
       "      <td id=\"T_f025b_row9_col2\" class=\"data row9 col2\" >2428.9660</td>\n",
       "      <td id=\"T_f025b_row9_col3\" class=\"data row9 col3\" >0.8970</td>\n",
       "      <td id=\"T_f025b_row9_col4\" class=\"data row9 col4\" >0.1524</td>\n",
       "      <td id=\"T_f025b_row9_col5\" class=\"data row9 col5\" >0.0696</td>\n",
       "    </tr>\n",
       "    <tr>\n",
       "      <th id=\"T_f025b_level0_row10\" class=\"row_heading level0 row10\" >Mean</th>\n",
       "      <td id=\"T_f025b_row10_col0\" class=\"data row10 col0\" >503.2762</td>\n",
       "      <td id=\"T_f025b_row10_col1\" class=\"data row10 col1\" >13277409.6465</td>\n",
       "      <td id=\"T_f025b_row10_col2\" class=\"data row10 col2\" >3167.2358</td>\n",
       "      <td id=\"T_f025b_row10_col3\" class=\"data row10 col3\" >0.8926</td>\n",
       "      <td id=\"T_f025b_row10_col4\" class=\"data row10 col4\" >0.2069</td>\n",
       "      <td id=\"T_f025b_row10_col5\" class=\"data row10 col5\" >0.0995</td>\n",
       "    </tr>\n",
       "    <tr>\n",
       "      <th id=\"T_f025b_level0_row11\" class=\"row_heading level0 row11\" >Std</th>\n",
       "      <td id=\"T_f025b_row11_col0\" class=\"data row11 col0\" >152.5829</td>\n",
       "      <td id=\"T_f025b_row11_col1\" class=\"data row11 col1\" >15628395.7720</td>\n",
       "      <td id=\"T_f025b_row11_col2\" class=\"data row11 col2\" >1801.6734</td>\n",
       "      <td id=\"T_f025b_row11_col3\" class=\"data row11 col3\" >0.0724</td>\n",
       "      <td id=\"T_f025b_row11_col4\" class=\"data row11 col4\" >0.0297</td>\n",
       "      <td id=\"T_f025b_row11_col5\" class=\"data row11 col5\" >0.0260</td>\n",
       "    </tr>\n",
       "  </tbody>\n",
       "</table>\n"
      ],
      "text/plain": [
       "<pandas.io.formats.style.Styler at 0x1e422804d90>"
      ]
     },
     "metadata": {},
     "output_type": "display_data"
    },
    {
     "data": {
      "text/html": [],
      "text/plain": [
       "<IPython.core.display.HTML object>"
      ]
     },
     "metadata": {},
     "output_type": "display_data"
    },
    {
     "name": "stdout",
     "output_type": "stream",
     "text": [
      "Cell executed at: 2025-05-16 17:01:14.428424\n"
     ]
    }
   ],
   "source": [
    "    # Select best model and create it\n",
    "    best_model_name = model_results.index[0]\n",
    "    print(f\"\\nCreating best model: {best_model_name}\")\n",
    "    model = create_model(best_model_name)"
   ]
  },
  {
   "cell_type": "code",
   "execution_count": 33,
   "id": "996a2b1c-6d57-4389-bfd3-f69f77ce1f1d",
   "metadata": {},
   "outputs": [
    {
     "name": "stdout",
     "output_type": "stream",
     "text": [
      "\n",
      "Tuning the best model...\n"
     ]
    },
    {
     "data": {
      "text/html": [],
      "text/plain": [
       "<IPython.core.display.HTML object>"
      ]
     },
     "metadata": {},
     "output_type": "display_data"
    },
    {
     "data": {
      "text/html": [
       "<style type=\"text/css\">\n",
       "#T_89860_row10_col0, #T_89860_row10_col1, #T_89860_row10_col2, #T_89860_row10_col3, #T_89860_row10_col4, #T_89860_row10_col5 {\n",
       "  background: yellow;\n",
       "}\n",
       "</style>\n",
       "<table id=\"T_89860\">\n",
       "  <thead>\n",
       "    <tr>\n",
       "      <th class=\"blank level0\" >&nbsp;</th>\n",
       "      <th id=\"T_89860_level0_col0\" class=\"col_heading level0 col0\" >MAE</th>\n",
       "      <th id=\"T_89860_level0_col1\" class=\"col_heading level0 col1\" >MSE</th>\n",
       "      <th id=\"T_89860_level0_col2\" class=\"col_heading level0 col2\" >RMSE</th>\n",
       "      <th id=\"T_89860_level0_col3\" class=\"col_heading level0 col3\" >R2</th>\n",
       "      <th id=\"T_89860_level0_col4\" class=\"col_heading level0 col4\" >RMSLE</th>\n",
       "      <th id=\"T_89860_level0_col5\" class=\"col_heading level0 col5\" >MAPE</th>\n",
       "    </tr>\n",
       "    <tr>\n",
       "      <th class=\"index_name level0\" >Fold</th>\n",
       "      <th class=\"blank col0\" >&nbsp;</th>\n",
       "      <th class=\"blank col1\" >&nbsp;</th>\n",
       "      <th class=\"blank col2\" >&nbsp;</th>\n",
       "      <th class=\"blank col3\" >&nbsp;</th>\n",
       "      <th class=\"blank col4\" >&nbsp;</th>\n",
       "      <th class=\"blank col5\" >&nbsp;</th>\n",
       "    </tr>\n",
       "  </thead>\n",
       "  <tbody>\n",
       "    <tr>\n",
       "      <th id=\"T_89860_level0_row0\" class=\"row_heading level0 row0\" >0</th>\n",
       "      <td id=\"T_89860_row0_col0\" class=\"data row0 col0\" >1389.2786</td>\n",
       "      <td id=\"T_89860_row0_col1\" class=\"data row0 col1\" >97825996.9469</td>\n",
       "      <td id=\"T_89860_row0_col2\" class=\"data row0 col2\" >9890.7026</td>\n",
       "      <td id=\"T_89860_row0_col3\" class=\"data row0 col3\" >0.5993</td>\n",
       "      <td id=\"T_89860_row0_col4\" class=\"data row0 col4\" >0.6097</td>\n",
       "      <td id=\"T_89860_row0_col5\" class=\"data row0 col5\" >0.9303</td>\n",
       "    </tr>\n",
       "    <tr>\n",
       "      <th id=\"T_89860_level0_row1\" class=\"row_heading level0 row1\" >1</th>\n",
       "      <td id=\"T_89860_row1_col0\" class=\"data row1 col0\" >905.6087</td>\n",
       "      <td id=\"T_89860_row1_col1\" class=\"data row1 col1\" >8245823.2851</td>\n",
       "      <td id=\"T_89860_row1_col2\" class=\"data row1 col2\" >2871.5542</td>\n",
       "      <td id=\"T_89860_row1_col3\" class=\"data row1 col3\" >0.8674</td>\n",
       "      <td id=\"T_89860_row1_col4\" class=\"data row1 col4\" >0.6199</td>\n",
       "      <td id=\"T_89860_row1_col5\" class=\"data row1 col5\" >0.7719</td>\n",
       "    </tr>\n",
       "    <tr>\n",
       "      <th id=\"T_89860_level0_row2\" class=\"row_heading level0 row2\" >2</th>\n",
       "      <td id=\"T_89860_row2_col0\" class=\"data row2 col0\" >1032.6248</td>\n",
       "      <td id=\"T_89860_row2_col1\" class=\"data row2 col1\" >18340253.6999</td>\n",
       "      <td id=\"T_89860_row2_col2\" class=\"data row2 col2\" >4282.5522</td>\n",
       "      <td id=\"T_89860_row2_col3\" class=\"data row2 col3\" >0.7982</td>\n",
       "      <td id=\"T_89860_row2_col4\" class=\"data row2 col4\" >0.5526</td>\n",
       "      <td id=\"T_89860_row2_col5\" class=\"data row2 col5\" >0.5890</td>\n",
       "    </tr>\n",
       "    <tr>\n",
       "      <th id=\"T_89860_level0_row3\" class=\"row_heading level0 row3\" >3</th>\n",
       "      <td id=\"T_89860_row3_col0\" class=\"data row3 col0\" >946.8931</td>\n",
       "      <td id=\"T_89860_row3_col1\" class=\"data row3 col1\" >49912153.8690</td>\n",
       "      <td id=\"T_89860_row3_col2\" class=\"data row3 col2\" >7064.8534</td>\n",
       "      <td id=\"T_89860_row3_col3\" class=\"data row3 col3\" >0.6600</td>\n",
       "      <td id=\"T_89860_row3_col4\" class=\"data row3 col4\" >0.5687</td>\n",
       "      <td id=\"T_89860_row3_col5\" class=\"data row3 col5\" >0.6337</td>\n",
       "    </tr>\n",
       "    <tr>\n",
       "      <th id=\"T_89860_level0_row4\" class=\"row_heading level0 row4\" >4</th>\n",
       "      <td id=\"T_89860_row4_col0\" class=\"data row4 col0\" >894.9310</td>\n",
       "      <td id=\"T_89860_row4_col1\" class=\"data row4 col1\" >39600980.8167</td>\n",
       "      <td id=\"T_89860_row4_col2\" class=\"data row4 col2\" >6292.9310</td>\n",
       "      <td id=\"T_89860_row4_col3\" class=\"data row4 col3\" >0.6266</td>\n",
       "      <td id=\"T_89860_row4_col4\" class=\"data row4 col4\" >0.5442</td>\n",
       "      <td id=\"T_89860_row4_col5\" class=\"data row4 col5\" >0.6008</td>\n",
       "    </tr>\n",
       "    <tr>\n",
       "      <th id=\"T_89860_level0_row5\" class=\"row_heading level0 row5\" >5</th>\n",
       "      <td id=\"T_89860_row5_col0\" class=\"data row5 col0\" >1143.7622</td>\n",
       "      <td id=\"T_89860_row5_col1\" class=\"data row5 col1\" >29305639.8051</td>\n",
       "      <td id=\"T_89860_row5_col2\" class=\"data row5 col2\" >5413.4684</td>\n",
       "      <td id=\"T_89860_row5_col3\" class=\"data row5 col3\" >0.7135</td>\n",
       "      <td id=\"T_89860_row5_col4\" class=\"data row5 col4\" >0.6892</td>\n",
       "      <td id=\"T_89860_row5_col5\" class=\"data row5 col5\" >1.0150</td>\n",
       "    </tr>\n",
       "    <tr>\n",
       "      <th id=\"T_89860_level0_row6\" class=\"row_heading level0 row6\" >6</th>\n",
       "      <td id=\"T_89860_row6_col0\" class=\"data row6 col0\" >621.2060</td>\n",
       "      <td id=\"T_89860_row6_col1\" class=\"data row6 col1\" >2229029.5746</td>\n",
       "      <td id=\"T_89860_row6_col2\" class=\"data row6 col2\" >1492.9935</td>\n",
       "      <td id=\"T_89860_row6_col3\" class=\"data row6 col3\" >0.9354</td>\n",
       "      <td id=\"T_89860_row6_col4\" class=\"data row6 col4\" >0.5655</td>\n",
       "      <td id=\"T_89860_row6_col5\" class=\"data row6 col5\" >0.6896</td>\n",
       "    </tr>\n",
       "    <tr>\n",
       "      <th id=\"T_89860_level0_row7\" class=\"row_heading level0 row7\" >7</th>\n",
       "      <td id=\"T_89860_row7_col0\" class=\"data row7 col0\" >988.7821</td>\n",
       "      <td id=\"T_89860_row7_col1\" class=\"data row7 col1\" >15102101.9858</td>\n",
       "      <td id=\"T_89860_row7_col2\" class=\"data row7 col2\" >3886.1423</td>\n",
       "      <td id=\"T_89860_row7_col3\" class=\"data row7 col3\" >0.8676</td>\n",
       "      <td id=\"T_89860_row7_col4\" class=\"data row7 col4\" >0.6529</td>\n",
       "      <td id=\"T_89860_row7_col5\" class=\"data row7 col5\" >0.8995</td>\n",
       "    </tr>\n",
       "    <tr>\n",
       "      <th id=\"T_89860_level0_row8\" class=\"row_heading level0 row8\" >8</th>\n",
       "      <td id=\"T_89860_row8_col0\" class=\"data row8 col0\" >905.0841</td>\n",
       "      <td id=\"T_89860_row8_col1\" class=\"data row8 col1\" >7162889.6167</td>\n",
       "      <td id=\"T_89860_row8_col2\" class=\"data row8 col2\" >2676.3575</td>\n",
       "      <td id=\"T_89860_row8_col3\" class=\"data row8 col3\" >0.8790</td>\n",
       "      <td id=\"T_89860_row8_col4\" class=\"data row8 col4\" >0.5526</td>\n",
       "      <td id=\"T_89860_row8_col5\" class=\"data row8 col5\" >0.6344</td>\n",
       "    </tr>\n",
       "    <tr>\n",
       "      <th id=\"T_89860_level0_row9\" class=\"row_heading level0 row9\" >9</th>\n",
       "      <td id=\"T_89860_row9_col0\" class=\"data row9 col0\" >749.6643</td>\n",
       "      <td id=\"T_89860_row9_col1\" class=\"data row9 col1\" >7325720.3639</td>\n",
       "      <td id=\"T_89860_row9_col2\" class=\"data row9 col2\" >2706.6068</td>\n",
       "      <td id=\"T_89860_row9_col3\" class=\"data row9 col3\" >0.8722</td>\n",
       "      <td id=\"T_89860_row9_col4\" class=\"data row9 col4\" >0.5652</td>\n",
       "      <td id=\"T_89860_row9_col5\" class=\"data row9 col5\" >0.6375</td>\n",
       "    </tr>\n",
       "    <tr>\n",
       "      <th id=\"T_89860_level0_row10\" class=\"row_heading level0 row10\" >Mean</th>\n",
       "      <td id=\"T_89860_row10_col0\" class=\"data row10 col0\" >957.7835</td>\n",
       "      <td id=\"T_89860_row10_col1\" class=\"data row10 col1\" >27505058.9964</td>\n",
       "      <td id=\"T_89860_row10_col2\" class=\"data row10 col2\" >4657.8162</td>\n",
       "      <td id=\"T_89860_row10_col3\" class=\"data row10 col3\" >0.7819</td>\n",
       "      <td id=\"T_89860_row10_col4\" class=\"data row10 col4\" >0.5921</td>\n",
       "      <td id=\"T_89860_row10_col5\" class=\"data row10 col5\" >0.7402</td>\n",
       "    </tr>\n",
       "    <tr>\n",
       "      <th id=\"T_89860_level0_row11\" class=\"row_heading level0 row11\" >Std</th>\n",
       "      <td id=\"T_89860_row11_col0\" class=\"data row11 col0\" >198.3695</td>\n",
       "      <td id=\"T_89860_row11_col1\" class=\"data row11 col1\" >27686274.6063</td>\n",
       "      <td id=\"T_89860_row11_col2\" class=\"data row11 col2\" >2410.3542</td>\n",
       "      <td id=\"T_89860_row11_col3\" class=\"data row11 col3\" >0.1154</td>\n",
       "      <td id=\"T_89860_row11_col4\" class=\"data row11 col4\" >0.0465</td>\n",
       "      <td id=\"T_89860_row11_col5\" class=\"data row11 col5\" >0.1470</td>\n",
       "    </tr>\n",
       "  </tbody>\n",
       "</table>\n"
      ],
      "text/plain": [
       "<pandas.io.formats.style.Styler at 0x1e47f936c50>"
      ]
     },
     "metadata": {},
     "output_type": "display_data"
    },
    {
     "data": {
      "text/html": [],
      "text/plain": [
       "<IPython.core.display.HTML object>"
      ]
     },
     "metadata": {},
     "output_type": "display_data"
    },
    {
     "name": "stdout",
     "output_type": "stream",
     "text": [
      "Fitting 10 folds for each of 10 candidates, totalling 100 fits\n",
      "Original model was better than the tuned model, hence it will be returned. NOTE: The display metrics are for the tuned model (not the original one).\n",
      "Cell executed at: 2025-05-16 17:10:50.545619\n"
     ]
    }
   ],
   "source": [
    "    # Tune the best model\n",
    "    print(\"\\nTuning the best model...\")\n",
    "    tuned_model = tune_model(model, n_iter=10)\n",
    "    "
   ]
  },
  {
   "cell_type": "code",
   "execution_count": 38,
   "id": "337ad84c-d61a-4d52-826e-b4ebb7702d19",
   "metadata": {},
   "outputs": [
    {
     "name": "stdout",
     "output_type": "stream",
     "text": [
      "\n",
      "Evaluating tuned model...\n"
     ]
    },
    {
     "data": {
      "application/vnd.jupyter.widget-view+json": {
       "model_id": "76f444856a414ff49a95031a7ae51c47",
       "version_major": 2,
       "version_minor": 0
      },
      "text/plain": [
       "interactive(children=(ToggleButtons(description='Plot Type:', icons=('',), options=(('Pipeline Plot', 'pipelin…"
      ]
     },
     "metadata": {},
     "output_type": "display_data"
    },
    {
     "name": "stdout",
     "output_type": "stream",
     "text": [
      "Cell executed at: 2025-05-15 20:03:56.447855\n"
     ]
    }
   ],
   "source": [
    "    # Evaluate tuned model\n",
    "    print(\"\\nEvaluating tuned model...\")\n",
    "    evaluate_model(tuned_model)"
   ]
  },
  {
   "cell_type": "code",
   "execution_count": 39,
   "id": "2e9b2734-0302-4b3c-b7ff-bd180431310a",
   "metadata": {},
   "outputs": [
    {
     "name": "stdout",
     "output_type": "stream",
     "text": [
      "Transformation Pipeline and Model Successfully Saved\n",
      "\n",
      "Best model saved as 'best_model'\n",
      "Cell executed at: 2025-05-15 20:03:56.896293\n"
     ]
    }
   ],
   "source": [
    "    # Save the model\n",
    "    save_model(tuned_model, 'best_model')\n",
    "    print(\"\\nBest model saved as 'best_model'\")"
   ]
  },
  {
   "cell_type": "code",
   "execution_count": 46,
   "id": "c8e1e22a-1dc2-4fb3-ad85-178319eecd06",
   "metadata": {},
   "outputs": [
    {
     "name": "stdout",
     "output_type": "stream",
     "text": [
      "\n",
      "Generating feature importance plot...\n",
      "Could not generate feature plot: plot_model() got an unexpected keyword argument 'filename'\n",
      "Cell executed at: 2025-05-15 20:31:38.026499\n"
     ]
    }
   ],
   "source": [
    "    # Feature importance visualization\n",
    "    print(\"\\nGenerating feature importance plot...\")\n",
    "    try:\n",
    "        if hasattr(model, 'feature_importances_'):\n",
    "            # Create directory for plots if it doesn't exist\n",
    "            import os\n",
    "            os.makedirs('plots', exist_ok=True)\n",
    "            \n",
    "            plot_model(tuned_model, plot='feature', save=True, filename='plots/feature_importance')\n",
    "            print(\"Feature importance plot saved to 'plots/feature_importance.png'\")\n",
    "        else:\n",
    "            print(\"This model type doesn't support direct feature importance plotting.\")\n",
    "    except Exception as e:\n",
    "        print(f\"Could not generate feature plot: {e}\")"
   ]
  },
  {
   "cell_type": "code",
   "execution_count": null,
   "id": "5e06b737-b09e-4c03-9867-e68b9cd752b3",
   "metadata": {},
   "outputs": [
    {
     "name": "stdout",
     "output_type": "stream",
     "text": [
      "\n",
      "Attempting SHAP analysis...\n",
      "\n",
      "Available columns in X:\n",
      "['Unnamed_0', 'Project_PRF_Year_of_Project', 'External_EEF_Industry_Sector', 'External_EEF_Organisation_Type', 'Project_PRF_Application_Type', 'Tech_TF_Primary_Programming_Language', 'Project_PRF_Functional_Size', 'Project_PRF_Relative_Size', 'Project_PRF_Normalised_Work_Effort_Level_1', 'Project_PRF_Normalised_Level_1_PDR_ufp', 'Project_PRF_Normalised_PDR_ufp', 'Project_PRF_Speed_of_Delivery', 'Project_PRF_Project_Elapsed_Time', 'Project_PRF_Team_Size_Group', 'Project_PRF_Max_Team_Size', 'Process_PMF_Development_Methodologies', 'Process_PMF_Docs', 'Tech_TF_Tools_Used', 'External_EEF_Data_Quality_Rating_B', 'Project_PRF_Application_Group_Business Application; Infrastructure Software;', 'Project_PRF_Application_Group_Infrastructure Software', 'Project_PRF_Application_Group_Mathematically intensive application', 'Project_PRF_Application_Group_Mathematically-Intensive Application', 'Project_PRF_Application_Group_Missing', 'Project_PRF_Application_Group_Real-Time Application', 'Project_PRF_Development_Type_New Development', 'Project_PRF_Development_Type_Re-development', 'Tech_TF_Development_Platform_MF', 'Tech_TF_Development_Platform_MR', 'Tech_TF_Development_Platform_Missing', 'Tech_TF_Development_Platform_Multi', 'Tech_TF_Development_Platform_PC', 'Tech_TF_Development_Platform_Proprietary', 'Tech_TF_Language_Type_3GL', 'Tech_TF_Language_Type_4GL', 'Tech_TF_Language_Type_5GL', 'Tech_TF_Language_Type_APG', 'Tech_TF_Language_Type_ApG', 'Tech_TF_Language_Type_Missing', 'Project_PRF_CASE_Tool_Used_Missing', 'Project_PRF_CASE_Tool_Used_No', 'Project_PRF_CASE_Tool_Used_Yes', 'Tech_TF_Architecture_Missing', 'Tech_TF_Architecture_Multi-tier', 'Tech_TF_Architecture_Multi-tier / Client server', 'Tech_TF_Architecture_Multi-tier with web interface', 'Tech_TF_Architecture_Multi-tier with web public interface', 'Tech_TF_Architecture_Stand alone', 'Tech_TF_Architecture_Stand-alone', 'Tech_TF_Client_Server_Missing', 'Tech_TF_Client_Server_No', 'Tech_TF_Client_Server_Not Applicable', 'Tech_TF_Client_Server_Yes', 'Tech_TF_DBMS_Used_No', 'Tech_TF_DBMS_Used_Yes']\n",
      "\n",
      "Numeric feature set created. Shape: (7058, 11)\n",
      "\n",
      "Warning: The following non-numeric columns were excluded from SHAP analysis: {'Project_PRF_Application_Group_Infrastructure Software', 'Project_PRF_Application_Group_Mathematically intensive application', 'Tech_TF_Development_Platform_PC', 'Tech_TF_Language_Type_ApG', 'Project_PRF_Application_Group_Real-Time Application', 'Tech_TF_Language_Type_3GL', 'Tech_TF_Architecture_Stand-alone', 'Project_PRF_Application_Type', 'Project_PRF_Development_Type_Re-development', 'Tech_TF_Language_Type_Missing', 'Tech_TF_Architecture_Multi-tier with web interface', 'Tech_TF_Client_Server_No', 'External_EEF_Organisation_Type', 'Project_PRF_Relative_Size', 'Project_PRF_Application_Group_Missing', 'Tech_TF_Architecture_Stand alone', 'Project_PRF_Development_Type_New Development', 'Project_PRF_Application_Group_Business Application; Infrastructure Software;', 'Project_PRF_CASE_Tool_Used_No', 'External_EEF_Industry_Sector', 'Tech_TF_Language_Type_4GL', 'Tech_TF_Architecture_Multi-tier with web public interface', 'Project_PRF_CASE_Tool_Used_Yes', 'Project_PRF_CASE_Tool_Used_Missing', 'Tech_TF_Development_Platform_Multi', 'Tech_TF_Client_Server_Not Applicable', 'Project_PRF_Team_Size_Group', 'Project_PRF_Application_Group_Mathematically-Intensive Application', 'Tech_TF_Development_Platform_Proprietary', 'Tech_TF_Architecture_Missing', 'Tech_TF_DBMS_Used_Yes', 'Tech_TF_Development_Platform_Missing', 'Tech_TF_Language_Type_5GL', 'Tech_TF_DBMS_Used_No', 'Process_PMF_Development_Methodologies', 'Tech_TF_Development_Platform_MF', 'Tech_TF_Development_Platform_MR', 'Tech_TF_Architecture_Multi-tier', 'External_EEF_Data_Quality_Rating_B', 'Tech_TF_Client_Server_Yes', 'Tech_TF_Primary_Programming_Language', 'Tech_TF_Language_Type_APG', 'Tech_TF_Client_Server_Missing', 'Tech_TF_Architecture_Multi-tier / Client server'}\n",
      "\n",
      "Creating SHAP explainer...\n",
      "SHAP explainer created successfully.\n",
      "\n",
      "Calculating SHAP values...\n"
     ]
    },
    {
     "name": "stderr",
     "output_type": "stream",
     "text": [
      " 99%|===================| 6992/7058 [00:34<00:00]        "
     ]
    },
    {
     "name": "stdout",
     "output_type": "stream",
     "text": [
      "\n",
      "SHAP analysis failed: Additivity check failed in TreeExplainer! Please ensure the data matrix you passed to the explainer is the same shape that the model was trained on. If your data shape is correct then please report this on GitHub. This check failed because for one of the samples the sum of the SHAP values was 69485.730887, while the model output was 213759.070000. If this difference is acceptable you can set check_additivity=False to disable this check.\n",
      "Consider verifying the processed_data DataFrame and the specified target_col.\n",
      "Cell executed at: 2025-05-15 20:45:04.381878\n"
     ]
    }
   ],
   "source": [
    "    # SHAP analysis with proper error handling\n",
    "    print(\"\\nAttempting SHAP analysis...\")\n",
    "    try:\n",
    "        import shap\n",
    "        \n",
    "        # Get the preprocessed features that PyCaret actually used for training\n",
    "        X_for_shap = pycaret_X\n",
    "        \n",
    "        # Select only numeric features for SHAP analysis if needed\n",
    "        X_numeric = X_for_shap.select_dtypes(include=[np.number])\n",
    "        \n",
    "        # Check if any columns were dropped\n",
    "        if X_for_shap.shape[1] != X_numeric.shape[1]:\n",
    "            print(f\"Warning: {X_for_shap.shape[1] - X_numeric.shape[1]} non-numeric columns excluded from SHAP analysis\")\n",
    "        \n",
    "        # Create directories for output\n",
    "        os.makedirs('plots', exist_ok=True)\n",
    "        \n",
    "        # Create SHAP explainer with additivity check disabled\n",
    "        explainer = shap.Explainer(tuned_model, X_numeric)\n",
    "        shap_values = explainer(X_numeric, check_additivity=False)  # Added check_additivity=False\n",
    "        \n",
    "        # Generate and save SHAP summary plot\n",
    "        plt.figure(figsize=(12, 10))\n",
    "        shap.summary_plot(shap_values, X_numeric, show=False)\n",
    "        plt.tight_layout()\n",
    "        plt.savefig('plots/shap_summary.png')\n",
    "        plt.close()\n",
    "        print(\"SHAP analysis completed and saved as 'plots/shap_summary.png'\")\n",
    "    except Exception as e:\n",
    "        print(f\"SHAP analysis failed: {e}\")\n",
    "        print(\"Consider using a different model or approach for feature importance.\")"
   ]
  },
  {
   "cell_type": "code",
   "execution_count": 43,
   "id": "1849adbd-faec-4101-a227-794e17c2e1c2",
   "metadata": {},
   "outputs": [
    {
     "name": "stdout",
     "output_type": "stream",
     "text": [
      "\n",
      "Extracting direct feature importance...\n",
      "Failed to extract feature importance: name 'X' is not defined\n",
      "\n",
      "Analysis complete!\n",
      "Cell executed at: 2025-05-15 20:14:36.547142\n"
     ]
    }
   ],
   "source": [
    "    # Extract feature importance directly (if available)\n",
    "    print(\"\\nExtracting direct feature importance...\")\n",
    "    try:\n",
    "        if hasattr(tuned_model, 'feature_importances_'):\n",
    "            # Use the preprocessed feature names\n",
    "            fi = pd.DataFrame({\n",
    "                'Feature': pycaret_X.columns,\n",
    "                'Importance': tuned_model.feature_importances_\n",
    "            })\n",
    "            fi = fi.sort_values('Importance', ascending=False)\n",
    "            print(\"\\nFeature importances:\")\n",
    "            print(fi.head(15))  # Show top 15 features\n",
    "            fi.to_csv('feature_importance.csv', index=False)\n",
    "            print(\"Feature importance saved to 'feature_importance.csv'\")\n",
    "        else:\n",
    "            print(\"Feature importance attribute not available for this model\")\n",
    "    except Exception as e:\n",
    "        print(f\"Failed to extract feature importance: {e}\")\n",
    "\n",
    "except Exception as e:\n",
    "    print(f\"\\nError in PyCaret workflow: {e}\")\n",
    "    print(\"Check if PyCaret is installed correctly: pip install pycaret\")\n",
    "\n",
    "print(\"\\nAnalysis complete!\")"
   ]
  },
  {
   "cell_type": "code",
   "execution_count": null,
   "id": "f53d1498-04ea-495a-ae5b-db0b584602a2",
   "metadata": {},
   "outputs": [],
   "source": []
  },
  {
   "cell_type": "code",
   "execution_count": null,
   "id": "158d4cfd-2f3e-4add-92bd-067944e304c3",
   "metadata": {},
   "outputs": [],
   "source": []
  },
  {
   "cell_type": "code",
   "execution_count": null,
   "id": "a39a380b-4c86-4ac0-a42b-61d1098a27f5",
   "metadata": {},
   "outputs": [],
   "source": []
  },
  {
   "cell_type": "code",
   "execution_count": null,
   "id": "3344fbce-ee3b-456d-81c2-ef525011e3f7",
   "metadata": {},
   "outputs": [],
   "source": []
  },
  {
   "cell_type": "code",
   "execution_count": null,
   "id": "dcce337c-4e56-4e0a-b179-19c96d7066e2",
   "metadata": {},
   "outputs": [],
   "source": []
  }
 ],
 "metadata": {
  "kernelspec": {
   "display_name": "Python 3 (ipykernel)",
   "language": "python",
   "name": "python3"
  },
  "language_info": {
   "codemirror_mode": {
    "name": "ipython",
    "version": 3
   },
   "file_extension": ".py",
   "mimetype": "text/x-python",
   "name": "python",
   "nbconvert_exporter": "python",
   "pygments_lexer": "ipython3",
   "version": "3.11.11"
  }
 },
 "nbformat": 4,
 "nbformat_minor": 5
}
