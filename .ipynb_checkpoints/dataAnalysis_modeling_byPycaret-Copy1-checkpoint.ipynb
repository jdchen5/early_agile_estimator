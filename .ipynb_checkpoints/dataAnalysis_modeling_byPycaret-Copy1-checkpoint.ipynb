{
 "cells": [
  {
   "cell_type": "markdown",
   "id": "0d858163-147e-4e71-9b62-fc6caf6e810f",
   "metadata": {},
   "source": [
    "<span style=\"color: blue;font-weight: bold; font-size: 40px;\">ISBSG Data Analysis & Regression </span>"
   ]
  },
  {
   "cell_type": "code",
   "execution_count": 1,
   "id": "1361d7b3-22a6-4a13-85d9-3b2d5872d03a",
   "metadata": {},
   "outputs": [],
   "source": [
    "# # ISBSG Data Analysis and Regression Modeling\n",
    "# \n",
    "# This notebook performs data cleaning, preprocessing, and regression modeling on the ISBSG dataset.\n",
    "\n",
    "# ## Setup and Environment Configuration\n",
    "\n",
    "# Install required packages (uncomment if needed)\n",
    "# !pip install -r requirements.txt"
   ]
  },
  {
   "cell_type": "code",
   "execution_count": 35,
   "id": "dc191195-5abd-4d48-8376-d9de1b57987a",
   "metadata": {},
   "outputs": [
    {
     "name": "stdout",
     "output_type": "stream",
     "text": [
      "Cell executed at: 2025-05-17 12:33:05.366613\n"
     ]
    }
   ],
   "source": [
    "# Import basic libraries\n",
    "import pandas as pd\n",
    "import numpy as np\n",
    "import matplotlib.pyplot as plt\n",
    "import seaborn as sns\n",
    "from datetime import datetime\n",
    "import re"
   ]
  },
  {
   "cell_type": "markdown",
   "id": "7b3f3ef8-d3e8-464e-bc57-8be3464f1ddf",
   "metadata": {},
   "source": [
    "<a id = 'Index:'></a>\n",
    "\n",
    "# Table of Content\n",
    "\n",
    "In this notebook you will apply xxxxxxx\n",
    "\n",
    "\n",
    "- [Part 1](#part1)- Data Loading and Initial Exploration\n",
    "- [Part 2](#part2)- Data Cleaning and Preprocessing\n",
    "- [Part 3](#part3)- Data Profiling\n",
    "- [Part 4](#part4)- Module Building with PyCaret\n",
    "- [Part 5](#part5)- Model Preparation\n",
    "- [Part 6](#part6)- Baseline Modeling and Evaluation\n",
    "- [Part 7](#part7)- Advanced Modeling and Hyperparameter Tuning\n",
    "- [Part 8](#part8)- Model Comparison and Selection\n",
    "- [Part 9](#part9)- End\n"
   ]
  },
  {
   "cell_type": "code",
   "execution_count": 36,
   "id": "8c58c6d0-4039-44fb-9b6a-515296790a8a",
   "metadata": {},
   "outputs": [
    {
     "name": "stdout",
     "output_type": "stream",
     "text": [
      "Cell executed at: 2025-05-17 12:33:06.320449\n"
     ]
    }
   ],
   "source": [
    "# Configure timestamp callback for Jupyter cells\n",
    "from IPython import get_ipython\n",
    "\n",
    "def setup_timestamp_callback():\n",
    "    \"\"\"Setup a timestamp callback for Jupyter cells without clearing existing callbacks.\"\"\"\n",
    "    ip = get_ipython()\n",
    "    if ip is not None:\n",
    "        # Define timestamp function\n",
    "        def print_timestamp(*args, **kwargs):\n",
    "            \"\"\"Print timestamp after cell execution.\"\"\"\n",
    "            print(f\"Cell executed at: {datetime.now()}\")\n",
    "        \n",
    "        # Check if our callback is already registered\n",
    "        callbacks = ip.events.callbacks.get('post_run_cell', [])\n",
    "        for cb in callbacks:\n",
    "            if hasattr(cb, '__name__') and cb.__name__ == 'print_timestamp':\n",
    "                # Already registered\n",
    "                return\n",
    "                \n",
    "        # Register new callback if not already present\n",
    "        ip.events.register('post_run_cell', print_timestamp)\n",
    "        print(\"Timestamp printing activated.\")\n",
    "    else:\n",
    "        print(\"Not running in IPython/Jupyter environment.\")"
   ]
  },
  {
   "cell_type": "code",
   "execution_count": 37,
   "id": "622026d3-5fe1-4fce-8def-b39811aeb7cc",
   "metadata": {},
   "outputs": [
    {
     "name": "stdout",
     "output_type": "stream",
     "text": [
      "Cell executed at: 2025-05-17 12:33:07.086946\n"
     ]
    }
   ],
   "source": [
    "# Setup timestamp callback\n",
    "setup_timestamp_callback()\n",
    "\n",
    "# Set visualization style\n",
    "sns.set_style(\"whitegrid\")\n",
    "plt.rcParams['figure.figsize'] = (12, 8)"
   ]
  },
  {
   "cell_type": "markdown",
   "id": "08d9ec97-3705-4c9d-a1e6-e0dbcd1d99ac",
   "metadata": {},
   "source": [
    "[Back to top](#Index:)\n",
    "\n",
    "<a id='part1'></a>\n",
    "\n",
    "# Part 1 -Data Loading and Initial Exploration\n",
    "\n",
    "This section is dedicated to loading the dataset, performing initial data exploration such as viewing the first few rows, and summarizing the dataset's characteristics, including missing values and basic statistical measures."
   ]
  },
  {
   "cell_type": "code",
   "execution_count": 38,
   "id": "b1fd30b9-fe3e-4952-9237-cf18928a4958",
   "metadata": {},
   "outputs": [
    {
     "name": "stdout",
     "output_type": "stream",
     "text": [
      "Loading data...\n",
      "Cell executed at: 2025-05-17 12:33:08.749040\n"
     ]
    }
   ],
   "source": [
    "# Load the data\n",
    "print(\"Loading data...\")\n",
    "df = pd.read_csv(\"data/ISBSG2016R1.1-Formatted4CSVAgileOnly_cleaned.csv\")\n"
   ]
  },
  {
   "cell_type": "code",
   "execution_count": 39,
   "id": "325c3beb-a93e-4659-a072-00c25bbbb21d",
   "metadata": {},
   "outputs": [
    {
     "name": "stdout",
     "output_type": "stream",
     "text": [
      "Cell executed at: 2025-05-17 12:33:10.160667\n"
     ]
    }
   ],
   "source": [
    "# Clean column names function\n",
    "def clean_column_names(columns):\n",
    "    cleaned_cols = []\n",
    "    for col in columns:\n",
    "        # First replace ampersands with _&_ to match PyCaret's transformation\n",
    "        col_clean = col.replace(' & ', '_&_')\n",
    "        # Then remove any remaining special chars\n",
    "        col_clean = re.sub(r'[^\\w\\s&]', '', col_clean)\n",
    "        # Finally replace spaces with underscores\n",
    "        col_clean = col_clean.replace(' ', '_')\n",
    "        cleaned_cols.append(col_clean)\n",
    "    return cleaned_cols\n",
    "\n",
    "# Clean column names\n",
    "original_columns = df.columns.tolist()  # Save original column names for reference\n",
    "df.columns = clean_column_names(df.columns)"
   ]
  },
  {
   "cell_type": "code",
   "execution_count": 40,
   "id": "0ce49eec-356d-4d07-b980-529083310368",
   "metadata": {},
   "outputs": [
    {
     "name": "stdout",
     "output_type": "stream",
     "text": [
      "\n",
      "Column name mapping (original -> cleaned):\n",
      "Cell executed at: 2025-05-17 12:33:12.518249\n"
     ]
    }
   ],
   "source": [
    "# Create a mapping from original to cleaned column names\n",
    "column_mapping = dict(zip(original_columns, df.columns))\n",
    "print(\"\\nColumn name mapping (original -> cleaned):\")\n",
    "for orig, clean in column_mapping.items():\n",
    "    if orig != clean:  # Only show columns that changed\n",
    "        print(f\"  '{orig}' -> '{clean}'\")\n"
   ]
  },
  {
   "cell_type": "code",
   "execution_count": 41,
   "id": "b64360b6-c4b3-4237-a553-b67aa75179f3",
   "metadata": {},
   "outputs": [
    {
     "name": "stdout",
     "output_type": "stream",
     "text": [
      "Dataset shape: (85, 51)\n",
      "\n",
      "First 5 rows:\n",
      "   isbsg_project_id external_eef_data_quality_rating  \\\n",
      "0             10279                                b   \n",
      "1             10317                                b   \n",
      "2             10572                                b   \n",
      "3             11278                                a   \n",
      "4             11497                                b   \n",
      "\n",
      "   project_prf_year_of_project external_eef_industry_sector  \\\n",
      "0                         2013                      banking   \n",
      "1                         2015                   government   \n",
      "2                         2014                   government   \n",
      "3                         2010             service industry   \n",
      "4                         2012                      banking   \n",
      "\n",
      "                      external_eef_organisation_type  \\\n",
      "0  banking; communications; education institution...   \n",
      "1                                         government   \n",
      "2                                         government   \n",
      "3                                 community services   \n",
      "4  banking; communications; education institution...   \n",
      "\n",
      "  project_prf_application_group  \\\n",
      "0          business application   \n",
      "1          business application   \n",
      "2          business application   \n",
      "3          business application   \n",
      "4          business application   \n",
      "\n",
      "                        project_prf_application_type  \\\n",
      "0                          surveillance and security   \n",
      "1                               business application   \n",
      "2                               business application   \n",
      "3  complex process control; workflow support & ma...   \n",
      "4                          surveillance and security   \n",
      "\n",
      "  project_prf_development_type tech_tf_development_platform  \\\n",
      "0                  enhancement                           pc   \n",
      "1                  enhancement                          NaN   \n",
      "2                  enhancement                          NaN   \n",
      "3                  enhancement                        multi   \n",
      "4                  enhancement                           pc   \n",
      "\n",
      "  tech_tf_language_type  ... people_prf_it_experience_great_than_3_yr  \\\n",
      "0                   3GL  ...                                      NaN   \n",
      "1                   4GL  ...                                      NaN   \n",
      "2                   4GL  ...                                      NaN   \n",
      "3                   3GL  ...                                      NaN   \n",
      "4                   3GL  ...                                      NaN   \n",
      "\n",
      "   people_prf_it_experience_less_than_3_yr people_prf_it_experience_3_to_9_yr  \\\n",
      "0                                      NaN                                NaN   \n",
      "1                                      NaN                                NaN   \n",
      "2                                      NaN                                NaN   \n",
      "3                                      0.0                                5.0   \n",
      "4                                      NaN                                NaN   \n",
      "\n",
      "   people_prf_it_experience_great_than_9_yr  \\\n",
      "0                                       NaN   \n",
      "1                                       NaN   \n",
      "2                                       NaN   \n",
      "3                                       4.0   \n",
      "4                                       NaN   \n",
      "\n",
      "   people_prf_project_manage_experience  people_prf_project_manage_changes  \\\n",
      "0                                   NaN                                NaN   \n",
      "1                                   NaN                                NaN   \n",
      "2                                   NaN                                NaN   \n",
      "3                                   3.0                                0.0   \n",
      "4                                   NaN                                NaN   \n",
      "\n",
      "   people_prf_personnel_changes  project_prf_total_project_cost  \\\n",
      "0                           NaN                             NaN   \n",
      "1                           NaN                         81500.0   \n",
      "2                           NaN                         69850.0   \n",
      "3                           3.0                             NaN   \n",
      "4                           NaN                             NaN   \n",
      "\n",
      "   project_prf_cost_currency  project_prf_currency_multiple  \n",
      "0                        NaN                            NaN  \n",
      "1             european, euro                             no  \n",
      "2             european, euro                             no  \n",
      "3                        NaN                            NaN  \n",
      "4                        NaN                            NaN  \n",
      "\n",
      "[5 rows x 51 columns]\n",
      "Cell executed at: 2025-05-17 12:33:14.216836\n"
     ]
    }
   ],
   "source": [
    "# Display basic information\n",
    "print(f\"Dataset shape: {df.shape}\")\n",
    "print(\"\\nFirst 5 rows:\")\n",
    "print(df.head())\n"
   ]
  },
  {
   "cell_type": "code",
   "execution_count": 42,
   "id": "036f2be3-8eb2-48be-8014-15d76b7b4497",
   "metadata": {},
   "outputs": [
    {
     "name": "stdout",
     "output_type": "stream",
     "text": [
      "\n",
      "Data Summary (first 10 columns):\n",
      "                            Feature data_type  Null_number   Null_pct  \\\n",
      "0                  isbsg_project_id     int64            0   0.000000   \n",
      "1  external_eef_data_quality_rating    object            0   0.000000   \n",
      "2       project_prf_year_of_project     int64            0   0.000000   \n",
      "3      external_eef_industry_sector    object            1   1.176471   \n",
      "4    external_eef_organisation_type    object            0   0.000000   \n",
      "5     project_prf_application_group    object            5   5.882353   \n",
      "6      project_prf_application_type    object            0   0.000000   \n",
      "7      project_prf_development_type    object            0   0.000000   \n",
      "8      tech_tf_development_platform    object           15  17.647059   \n",
      "9             tech_tf_language_type    object            0   0.000000   \n",
      "\n",
      "   Unique_counts                                     unique_samples  \n",
      "0             84                [10279, 10317, 10572, 11278, 11497]  \n",
      "1              2                                             [b, a]  \n",
      "2              9                     [2013, 2015, 2014, 2010, 2012]  \n",
      "3             11  [banking, government, service industry, commun...  \n",
      "4             25  [banking; communications; education institutio...  \n",
      "5              4  [business application, real-time application, ...  \n",
      "6             32  [surveillance and security, business applicati...  \n",
      "7              3     [enhancement, re-development, new development]  \n",
      "8              4                       [pc, multi, proprietary, mr]  \n",
      "9              3                                    [3GL, 4GL, 5GL]  \n",
      "Cell executed at: 2025-05-17 12:33:15.583245\n"
     ]
    }
   ],
   "source": [
    "# Create a function to get comprehensive data summary\n",
    "def get_data_summary(df, n_unique_samples=5):\n",
    "    \"\"\"\n",
    "    Generate a comprehensive summary of the dataframe.\n",
    "    \n",
    "    Args:\n",
    "        df: Pandas DataFrame\n",
    "        n_unique_samples: Number of unique values to show as sample\n",
    "        \n",
    "    Returns:\n",
    "        DataFrame with summary information\n",
    "    \"\"\"\n",
    "    # Summary dataframe with basic info\n",
    "    summary = pd.DataFrame({\n",
    "        'Feature': df.columns,\n",
    "        'data_type': df.dtypes.values,\n",
    "        'Null_number': df.isnull().sum().values,\n",
    "        'Null_pct': (df.isnull().mean() * 100).values,\n",
    "        'Unique_counts': df.nunique().values,\n",
    "        'unique_samples': [list(df[col].dropna().unique()[:n_unique_samples]) for col in df.columns]\n",
    "    })\n",
    "    \n",
    "    return summary\n",
    "\n",
    "# Generate and display data summary\n",
    "summary_df = get_data_summary(df)\n",
    "print(\"\\nData Summary (first 10 columns):\")\n",
    "print(summary_df.head(10))\n"
   ]
  },
  {
   "cell_type": "code",
   "execution_count": 43,
   "id": "ded2a650-102c-4283-85c4-812d73753850",
   "metadata": {},
   "outputs": [
    {
     "name": "stdout",
     "output_type": "stream",
     "text": [
      "\n",
      "Descriptive Statistics (first 5 rows):\n",
      "                                            count          mean          std  \\\n",
      "isbsg_project_id                             85.0  21197.176471  6796.647824   \n",
      "project_prf_year_of_project                  85.0   2011.376471     2.132383   \n",
      "project_prf_functional_size                  84.0    188.464286   316.182327   \n",
      "project_prf_normalised_work_effort_level_1   85.0   2310.494118  7041.106335   \n",
      "project_prf_normalised_work_effort           85.0   2590.352941  8670.472883   \n",
      "\n",
      "                                                min       25%      50%  \\\n",
      "isbsg_project_id                            10279.0  14928.00  20465.0   \n",
      "project_prf_year_of_project                  2005.0   2010.00   2012.0   \n",
      "project_prf_functional_size                     2.0     23.75     83.5   \n",
      "project_prf_normalised_work_effort_level_1      6.0     74.00    489.0   \n",
      "project_prf_normalised_work_effort              6.0     82.00    489.0   \n",
      "\n",
      "                                                 75%      max  \n",
      "isbsg_project_id                            27063.00  32725.0  \n",
      "project_prf_year_of_project                  2013.00   2015.0  \n",
      "project_prf_functional_size                   170.25   2003.0  \n",
      "project_prf_normalised_work_effort_level_1   1020.00  47493.0  \n",
      "project_prf_normalised_work_effort           1047.00  60047.0  \n",
      "Cell executed at: 2025-05-17 12:33:17.877917\n"
     ]
    }
   ],
   "source": [
    "# Display descriptive statistics for numeric columns\n",
    "desc_stats = df.describe().T\n",
    "print(\"\\nDescriptive Statistics (first 5 rows):\")\n",
    "print(desc_stats.head())"
   ]
  },
  {
   "cell_type": "code",
   "execution_count": 44,
   "id": "6992df08-5bd0-46a1-b342-050a8305315f",
   "metadata": {},
   "outputs": [
    {
     "name": "stdout",
     "output_type": "stream",
     "text": [
      "\n",
      "Target variable: 'project_prf_normalised_work_effort'\n",
      "Cell executed at: 2025-05-17 12:33:20.019612\n"
     ]
    }
   ],
   "source": [
    "# Identify target column\n",
    "target_col = 'project_prf_normalised_work_effort'\n",
    "print(f\"\\nTarget variable: '{target_col}'\")"
   ]
  },
  {
   "cell_type": "markdown",
   "id": "be13dacd-ecd5-4a4a-a559-105f99f9bc7b",
   "metadata": {},
   "source": [
    "[Back to top](#Index:)\n",
    "\n",
    "<a id='part2'></a>\n",
    "\n",
    "# Part 2 - Data Cleaning and Preprocessing\n",
    "\n",
    "Here, data cleaning tasks like handling missing values and providing a detailed summary of each feature, including its type, number of unique values, and a preview of unique values, are performed."
   ]
  },
  {
   "cell_type": "code",
   "execution_count": 45,
   "id": "1478ab15-90a8-47aa-9ed6-831732588629",
   "metadata": {},
   "outputs": [
    {
     "name": "stdout",
     "output_type": "stream",
     "text": [
      "\n",
      "Analysing missing values...\n",
      "Top 10 columns with highest missing percentages:\n",
      "people_prf_it_experience_great_than_3_yr         100.000000\n",
      "people_prf_it_experience_1_to_3_yr               100.000000\n",
      "people_prf_it_experience_less_than_1_yr          100.000000\n",
      "people_prf_project_user_involvement              100.000000\n",
      "tech_tf_type_of_server                           100.000000\n",
      "process_pmf_prototyping_used                      95.294118\n",
      "people_prf_ba_team_experience_less_than_1_yr      84.705882\n",
      "project_prf_case_tool_used                        83.529412\n",
      "people_prf_it_experience_great_than_9_yr          82.352941\n",
      "people_prf_ba_team_experience_great_than_3_yr     82.352941\n",
      "dtype: float64\n",
      "Cell executed at: 2025-05-17 12:33:23.560540\n"
     ]
    }
   ],
   "source": [
    "# Analyse missing values\n",
    "print(\"\\nAnalysing missing values...\")\n",
    "missing_pct = df.isnull().mean() * 100\n",
    "missing_sorted = missing_pct.sort_values(ascending=False)\n",
    "print(\"Top 10 columns with highest missing percentages:\")\n",
    "print(missing_sorted.head(10))"
   ]
  },
  {
   "cell_type": "code",
   "execution_count": 46,
   "id": "91eed99a-7179-4aae-a7de-6d0cedbff7f0",
   "metadata": {},
   "outputs": [
    {
     "name": "stdout",
     "output_type": "stream",
     "text": [
      "\n",
      "Columns with >70% missing values (16 columns):\n",
      "  - project_prf_case_tool_used: 83.53% missing\n",
      "  - process_pmf_prototyping_used: 95.29% missing\n",
      "  - tech_tf_client_roles: 70.59% missing\n",
      "  - tech_tf_type_of_server: 100.00% missing\n",
      "  - people_prf_project_user_involvement: 100.00% missing\n",
      "  - ... and 11 more columns\n",
      "Cell executed at: 2025-05-17 12:33:28.608616\n"
     ]
    }
   ],
   "source": [
    "# Identify columns with high missing values (>70%)\n",
    "high_missing_cols = missing_pct[missing_pct > 70].index.tolist()\n",
    "print(f\"\\nColumns with >70% missing values ({len(high_missing_cols)} columns):\")\n",
    "for col in high_missing_cols[:5]:  # Show first 5\n",
    "    print(f\"  - {col}: {missing_pct[col]:.2f}% missing\")\n",
    "if len(high_missing_cols) > 5:\n",
    "    print(f\"  - ... and {len(high_missing_cols) - 5} more columns\")"
   ]
  },
  {
   "cell_type": "code",
   "execution_count": 47,
   "id": "9106b8ff-475a-406a-b1b1-203e0cd4e18c",
   "metadata": {},
   "outputs": [
    {
     "name": "stdout",
     "output_type": "stream",
     "text": [
      "\n",
      "Data shape after dropping high-missing columns: (85, 35)\n",
      "\n",
      "High missing columns got dropped are: ['project_prf_case_tool_used', 'process_pmf_prototyping_used', 'tech_tf_client_roles', 'tech_tf_type_of_server', 'people_prf_project_user_involvement', 'people_prf_ba_team_experience_less_than_1_yr', 'people_prf_ba_team_experience_1_to_3_yr', 'people_prf_ba_team_experience_great_than_3_yr', 'people_prf_it_experience_less_than_1_yr', 'people_prf_it_experience_1_to_3_yr', 'people_prf_it_experience_great_than_3_yr', 'people_prf_it_experience_less_than_3_yr', 'people_prf_it_experience_3_to_9_yr', 'people_prf_it_experience_great_than_9_yr', 'people_prf_project_manage_experience', 'project_prf_currency_multiple']\n",
      "\n",
      "Numerical columns:\n",
      "['isbsg_project_id', 'project_prf_year_of_project', 'project_prf_functional_size', 'project_prf_normalised_work_effort_level_1', 'project_prf_normalised_work_effort', 'project_prf_normalised_level_1_pdr_ufp', 'project_prf_normalised_pdr_ufp', 'project_prf_defect_density', 'project_prf_speed_of_delivery', 'project_prf_manpower_delivery_rate', 'project_prf_project_elapsed_time', 'project_prf_max_team_size', 'process_pmf_docs', 'tech_tf_type_of_server', 'tech_tf_tools_used', 'people_prf_project_user_involvement', 'people_prf_ba_team_experience_less_than_1_yr', 'people_prf_ba_team_experience_1_to_3_yr', 'people_prf_ba_team_experience_great_than_3_yr', 'people_prf_it_experience_less_than_1_yr', 'people_prf_it_experience_1_to_3_yr', 'people_prf_it_experience_great_than_3_yr', 'people_prf_it_experience_less_than_3_yr', 'people_prf_it_experience_3_to_9_yr', 'people_prf_it_experience_great_than_9_yr', 'people_prf_project_manage_experience', 'people_prf_project_manage_changes', 'people_prf_personnel_changes', 'project_prf_total_project_cost']\n",
      "\n",
      "Categorical columns:\n",
      "['external_eef_data_quality_rating', 'external_eef_industry_sector', 'external_eef_organisation_type', 'project_prf_application_group', 'project_prf_application_type', 'project_prf_development_type', 'tech_tf_development_platform', 'tech_tf_language_type', 'tech_tf_primary_programming_language', 'project_prf_relative_size', 'project_prf_team_size_group', 'project_prf_case_tool_used', 'process_pmf_development_methodologies', 'process_pmf_prototyping_used', 'tech_tf_architecture', 'tech_tf_client_server', 'tech_tf_client_roles', 'tech_tf_server_roles', 'tech_tf_web_development', 'tech_tf_dbms_used', 'project_prf_cost_currency', 'project_prf_currency_multiple']\n",
      "Cell executed at: 2025-05-17 12:33:29.911329\n"
     ]
    }
   ],
   "source": [
    "# Create a clean dataframe by dropping high-missing columns\n",
    "df_clean = df.drop(columns=high_missing_cols)\n",
    "print(f\"\\nData shape after dropping high-missing columns: {df_clean.shape}\")\n",
    "print(f\"\\nHigh missing columns got dropped are: {high_missing_cols}\")\n",
    "\n",
    "# Numerical columns\n",
    "num_cols = df.select_dtypes(include=['number']).columns.tolist()\n",
    "print(\"\\nNumerical columns:\")\n",
    "print(num_cols)\n",
    "\n",
    "# Categorical columns (object or category dtype)\n",
    "cat_cols = df.select_dtypes(include=['object', 'category']).columns.tolist()\n",
    "print(\"\\nCategorical columns:\")\n",
    "print(cat_cols)\n",
    "\n"
   ]
  },
  {
   "cell_type": "code",
   "execution_count": 48,
   "id": "91d90a2b-18c7-47d4-b5d2-54f5f635ef37",
   "metadata": {},
   "outputs": [
    {
     "name": "stdout",
     "output_type": "stream",
     "text": [
      "\n",
      "Handling remaining missing values...\n",
      "Cell executed at: 2025-05-17 12:33:31.070323\n"
     ]
    }
   ],
   "source": [
    "# Handle remaining missing values\n",
    "print(\"\\nHandling remaining missing values...\")"
   ]
  },
  {
   "cell_type": "code",
   "execution_count": 49,
   "id": "b3da6431-b898-4bdc-afce-cd700f5b2a9a",
   "metadata": {},
   "outputs": [
    {
     "name": "stdout",
     "output_type": "stream",
     "text": [
      "Cell executed at: 2025-05-17 12:33:33.326789\n"
     ]
    }
   ],
   "source": [
    "# Fill missing values in categorical columns with \"Missing\"\n",
    "cat_cols = df_clean.select_dtypes(include=['object', 'category']).columns\n",
    "for col in cat_cols:\n",
    "    df_clean[col].fillna('Missing', inplace=True)"
   ]
  },
  {
   "cell_type": "code",
   "execution_count": 50,
   "id": "2fcc7aeb-1e09-4c8e-8c5b-38511eb644fc",
   "metadata": {},
   "outputs": [
    {
     "name": "stdout",
     "output_type": "stream",
     "text": [
      "\n",
      "Columns with remaining missing values: 12\n",
      "Top columns with missing values:\n",
      "project_prf_total_project_cost       57\n",
      "project_prf_defect_density           55\n",
      "people_prf_project_manage_changes    55\n",
      "people_prf_personnel_changes         55\n",
      "tech_tf_tools_used                   31\n",
      "dtype: int64\n",
      "Cell executed at: 2025-05-17 12:33:33.961086\n"
     ]
    }
   ],
   "source": [
    "# Check remaining missing values\n",
    "remaining_missing = df_clean.isnull().sum()\n",
    "remaining_missing_count = sum(remaining_missing > 0)\n",
    "print(f\"\\nColumns with remaining missing values: {remaining_missing_count}\")\n",
    "if remaining_missing_count > 0:\n",
    "    print(\"Top columns with missing values:\")\n",
    "    print(remaining_missing[remaining_missing > 0].sort_values(ascending=False).head())"
   ]
  },
  {
   "cell_type": "code",
   "execution_count": 51,
   "id": "256be495-1710-46ab-8fbd-61d703cf0a06",
   "metadata": {},
   "outputs": [
    {
     "name": "stdout",
     "output_type": "stream",
     "text": [
      "\n",
      "Target variable 'project_prf_normalised_work_effort' summary:\n",
      "Unique values: 78\n",
      "Missing values: 0\n",
      "Top value counts:\n",
      "project_prf_normalised_work_effort\n",
      "47      4\n",
      "225     2\n",
      "1105    2\n",
      "125     2\n",
      "51      2\n",
      "Name: count, dtype: int64\n",
      "Cell executed at: 2025-05-17 12:33:35.366074\n"
     ]
    }
   ],
   "source": [
    "# Verify target variable\n",
    "print(f\"\\nTarget variable '{target_col}' summary:\")\n",
    "print(f\"Unique values: {df_clean[target_col].nunique()}\")\n",
    "print(f\"Missing values: {df_clean[target_col].isnull().sum()}\")\n",
    "print(f\"Top value counts:\")\n",
    "print(df_clean[target_col].value_counts().head())\n"
   ]
  },
  {
   "cell_type": "code",
   "execution_count": 52,
   "id": "b41adf2f-9588-4d04-a0c3-265cb3029645",
   "metadata": {},
   "outputs": [
    {
     "name": "stdout",
     "output_type": "stream",
     "text": [
      "\n",
      "Number of infinite values: 0\n",
      "Cell executed at: 2025-05-17 12:33:37.215156\n"
     ]
    }
   ],
   "source": [
    "# Check for infinite values\n",
    "inf_check = np.isinf(df_clean.select_dtypes(include=[np.number])).sum().sum()\n",
    "print(f\"\\nNumber of infinite values: {inf_check}\")"
   ]
  },
  {
   "cell_type": "code",
   "execution_count": 53,
   "id": "5e09da5f-54a5-406f-b042-d71f0c52aefe",
   "metadata": {},
   "outputs": [
    {
     "name": "stdout",
     "output_type": "stream",
     "text": [
      "\n",
      "Cleaned data saved to 'data/cleaned_data.csv'\n",
      "Cell executed at: 2025-05-17 12:33:40.128776\n"
     ]
    }
   ],
   "source": [
    "# Save cleaned data\n",
    "df_clean.to_csv('data/cleaned_data.csv', index=False)\n",
    "print(\"\\nCleaned data saved to 'data/cleaned_data.csv'\")\n"
   ]
  },
  {
   "cell_type": "markdown",
   "id": "f28854fb-ea58-4788-9a87-6221a41629b2",
   "metadata": {},
   "source": [
    "[Back to top](#Index:)\n",
    "\n",
    "<a id='part3'></a>\n",
    "\n",
    "# Part 3 - Feature Engineering and Selection\n",
    "\n",
    "Involves creating or selecting specific features for the model based on insights from EDA, including handling categorical variables and reducing dimensionality if necessary."
   ]
  },
  {
   "cell_type": "code",
   "execution_count": 54,
   "id": "02146b23-08d2-4afe-a4f3-df54babca0ab",
   "metadata": {},
   "outputs": [
    {
     "name": "stdout",
     "output_type": "stream",
     "text": [
      "\n",
      "Categorical columns and their cardinality:\n",
      "  external_eef_data_quality_rating: 2 unique values\n",
      "  external_eef_industry_sector: 12 unique values\n",
      "  external_eef_organisation_type: 25 unique values\n",
      "  project_prf_application_group: 5 unique values\n",
      "  project_prf_application_type: 32 unique values\n",
      "  ... and 13 more columns\n",
      "Cell executed at: 2025-05-17 12:33:43.103487\n"
     ]
    }
   ],
   "source": [
    "# Identify categorical columns and check cardinality\n",
    "print(\"\\nCategorical columns and their cardinality:\")\n",
    "cat_cols = df_clean.select_dtypes(include=['object', 'category']).columns.tolist()\n",
    "for col in cat_cols[:5]:  # Show first 5\n",
    "    print(f\"  {col}: {df_clean[col].nunique()} unique values\")\n",
    "if len(cat_cols) > 5:\n",
    "    print(f\"  ... and {len(cat_cols) - 5} more columns\")"
   ]
  },
  {
   "cell_type": "code",
   "execution_count": 55,
   "id": "13827e97-52a7-4706-93e8-56993f34bb34",
   "metadata": {},
   "outputs": [
    {
     "name": "stdout",
     "output_type": "stream",
     "text": [
      "\n",
      "Applying one-hot encoding to 14 low-cardinality columns:\n",
      "  - external_eef_data_quality_rating\n",
      "  - project_prf_application_group\n",
      "  - project_prf_development_type\n",
      "  - tech_tf_development_platform\n",
      "  - tech_tf_language_type\n",
      "  - ... and 9 more columns\n",
      "Cell executed at: 2025-05-17 12:33:44.353003\n"
     ]
    }
   ],
   "source": [
    "# One-hot encode categorical columns with low cardinality (<10 unique values)\n",
    "low_card_cols = [col for col in cat_cols if df_clean[col].nunique() < 10]\n",
    "print(f\"\\nApplying one-hot encoding to {len(low_card_cols)} low-cardinality columns:\")\n",
    "for col in low_card_cols[:5]:  # Show first 5\n",
    "    print(f\"  - {col}\")\n",
    "if len(low_card_cols) > 5:\n",
    "    print(f\"  - ... and {len(low_card_cols) - 5} more columns\")\n"
   ]
  },
  {
   "cell_type": "code",
   "execution_count": 56,
   "id": "3fb3b252-b306-42b8-b048-52f5770905cb",
   "metadata": {},
   "outputs": [
    {
     "name": "stdout",
     "output_type": "stream",
     "text": [
      "\n",
      "Data shape after one-hot encoding: (85, 73)\n",
      "\n",
      "All column names:\n",
      "['isbsg_project_id', 'project_prf_year_of_project', 'external_eef_industry_sector', 'external_eef_organisation_type', 'project_prf_application_type', 'project_prf_functional_size', 'project_prf_normalised_work_effort_level_1', 'project_prf_normalised_work_effort', 'project_prf_normalised_level_1_pdr_ufp', 'project_prf_normalised_pdr_ufp', 'project_prf_defect_density', 'project_prf_speed_of_delivery', 'project_prf_manpower_delivery_rate', 'project_prf_project_elapsed_time', 'project_prf_max_team_size', 'process_pmf_docs', 'tech_tf_server_roles', 'tech_tf_tools_used', 'people_prf_project_manage_changes', 'people_prf_personnel_changes', 'project_prf_total_project_cost', 'external_eef_data_quality_rating_b', 'project_prf_application_group_business application', 'project_prf_application_group_infrastructure software', 'project_prf_application_group_mathematically-intensive application', 'project_prf_application_group_real-time application', 'project_prf_development_type_new development', 'project_prf_development_type_re-development', 'tech_tf_development_platform_mr', 'tech_tf_development_platform_multi', 'tech_tf_development_platform_pc', 'tech_tf_development_platform_proprietary', 'tech_tf_language_type_4GL', 'tech_tf_language_type_5GL', 'tech_tf_primary_programming_language_abap', 'tech_tf_primary_programming_language_c#', 'tech_tf_primary_programming_language_c++', 'tech_tf_primary_programming_language_java', 'tech_tf_primary_programming_language_javascript', 'tech_tf_primary_programming_language_oracle', 'tech_tf_primary_programming_language_pl/i', 'tech_tf_primary_programming_language_proprietary agile platform', 'project_prf_relative_size_l', 'project_prf_relative_size_m1', 'project_prf_relative_size_m2', 'project_prf_relative_size_s', 'project_prf_relative_size_xs', 'project_prf_relative_size_xxs', 'project_prf_team_size_group_2', 'project_prf_team_size_group_21-30', 'project_prf_team_size_group_3-4', 'project_prf_team_size_group_41-50', 'project_prf_team_size_group_5-8', 'project_prf_team_size_group_61-70', 'project_prf_team_size_group_9-14', 'project_prf_team_size_group_Missing', 'process_pmf_development_methodologies_agile development', 'process_pmf_development_methodologies_agile development; iterative', 'process_pmf_development_methodologies_agile development; joint application development (jad); multifunctional teams', 'process_pmf_development_methodologies_agile development; personal software process (psp); unified process', 'process_pmf_development_methodologies_agile development; scrum', 'process_pmf_development_methodologies_agile development; unified process', 'process_pmf_development_methodologies_personal software process (psp); unified process', 'tech_tf_architecture_client-server', 'tech_tf_architecture_multi-tier', 'tech_tf_architecture_multi-tier with web public interface', 'tech_tf_architecture_stand-alone', 'tech_tf_client_server_no', 'tech_tf_client_server_yes', 'tech_tf_web_development_web', 'tech_tf_dbms_used_yes', 'project_prf_cost_currency_canada, dollar', 'project_prf_cost_currency_european, euro']\n",
      "Cell executed at: 2025-05-17 12:33:46.477583\n"
     ]
    }
   ],
   "source": [
    "# Create encoded dataframe\n",
    "df_encoded = pd.get_dummies(df_clean, columns=low_card_cols, drop_first=True)\n",
    "print(f\"\\nData shape after one-hot encoding: {df_encoded.shape}\")\n",
    "print(\"\\nAll column names:\")\n",
    "print(df_encoded.columns.tolist())\n"
   ]
  },
  {
   "cell_type": "code",
   "execution_count": 57,
   "id": "5c1d55a7-732b-4036-a48d-0fcb7ce960e2",
   "metadata": {},
   "outputs": [
    {
     "name": "stdout",
     "output_type": "stream",
     "text": [
      "\n",
      "Sample of original column names:\n",
      "0: isbsg_project_id\n",
      "1: project_prf_year_of_project\n",
      "2: external_eef_industry_sector\n",
      "3: external_eef_organisation_type\n",
      "4: project_prf_application_type\n",
      "5: project_prf_functional_size\n",
      "6: project_prf_normalised_work_effort_level_1\n",
      "7: project_prf_normalised_work_effort\n",
      "8: project_prf_normalised_level_1_pdr_ufp\n",
      "9: project_prf_normalised_pdr_ufp\n",
      "10: project_prf_defect_density\n",
      "11: project_prf_speed_of_delivery\n",
      "12: project_prf_manpower_delivery_rate\n",
      "13: project_prf_project_elapsed_time\n",
      "14: project_prf_max_team_size\n",
      "\n",
      "Fixing column names for PyCaret compatibility...\n",
      "Changed 29 column names.\n",
      "No duplicate column names in the fixed DataFrame.\n",
      "\n",
      "Sample of fixed column names:\n",
      "Original: isbsg_project_id -> Fixed: isbsg_project_id\n",
      "Original: project_prf_year_of_project -> Fixed: project_prf_year_of_project\n",
      "Original: external_eef_industry_sector -> Fixed: external_eef_industry_sector\n",
      "Original: external_eef_organisation_type -> Fixed: external_eef_organisation_type\n",
      "Original: project_prf_application_type -> Fixed: project_prf_application_type\n",
      "Original: project_prf_functional_size -> Fixed: project_prf_functional_size\n",
      "Original: project_prf_normalised_work_effort_level_1 -> Fixed: project_prf_normalised_work_effort_level_1\n",
      "Original: project_prf_normalised_work_effort -> Fixed: project_prf_normalised_work_effort\n",
      "Original: project_prf_normalised_level_1_pdr_ufp -> Fixed: project_prf_normalised_level_1_pdr_ufp\n",
      "Original: project_prf_normalised_pdr_ufp -> Fixed: project_prf_normalised_pdr_ufp\n",
      "Original: project_prf_defect_density -> Fixed: project_prf_defect_density\n",
      "Original: project_prf_speed_of_delivery -> Fixed: project_prf_speed_of_delivery\n",
      "Original: project_prf_manpower_delivery_rate -> Fixed: project_prf_manpower_delivery_rate\n",
      "Original: project_prf_project_elapsed_time -> Fixed: project_prf_project_elapsed_time\n",
      "Original: project_prf_max_team_size -> Fixed: project_prf_max_team_size\n",
      "Cell executed at: 2025-05-17 12:33:50.512106\n"
     ]
    }
   ],
   "source": [
    "# MANUALLY fix the problematic column names BEFORE PyCaret setup\n",
    "\n",
    "# Function to fix the column names and prevent duplicates\n",
    "def fix_column_names_no_duplicates(df):\n",
    "    \"\"\"Fix column names that cause issues with PyCaret while preventing duplicates.\"\"\"\n",
    "    original_cols = df.columns.tolist()\n",
    "    fixed_columns = []\n",
    "    \n",
    "    # Track columns to check for duplicates\n",
    "    seen_columns = set()\n",
    "    \n",
    "    for col in original_cols:\n",
    "        # Replace spaces with underscores\n",
    "        fixed_col = col.replace(' ', '_')\n",
    "        # Replace ampersands \n",
    "        fixed_col = fixed_col.replace('&', 'and')\n",
    "        # Remove any other problematic characters\n",
    "        fixed_col = ''.join(c if c.isalnum() or c == '_' else '_' for c in fixed_col)\n",
    "        \n",
    "        # Handle duplicates by appending a suffix\n",
    "        base_col = fixed_col\n",
    "        suffix = 1\n",
    "        while fixed_col in seen_columns:\n",
    "            fixed_col = f\"{base_col}_{suffix}\"\n",
    "            suffix += 1\n",
    "        \n",
    "        seen_columns.add(fixed_col)\n",
    "        fixed_columns.append(fixed_col)\n",
    "    \n",
    "    # Create a new DataFrame with fixed column names\n",
    "    df_fixed = df.copy()\n",
    "    df_fixed.columns = fixed_columns\n",
    "    \n",
    "    # Print statistics about the renaming\n",
    "    n_changed = sum(1 for old, new in zip(original_cols, fixed_columns) if old != new)\n",
    "    print(f\"Changed {n_changed} column names.\")\n",
    "    \n",
    "    # Check for duplicates in the new column names\n",
    "    dup_check = [item for item, count in pd.Series(fixed_columns).value_counts().items() if count > 1]\n",
    "    if dup_check:\n",
    "        print(f\"WARNING: Found {len(dup_check)} duplicate column names after fixing: {dup_check}\")\n",
    "    else:\n",
    "        print(\"No duplicate column names in the fixed DataFrame.\")\n",
    "    \n",
    "    return df_fixed\n",
    "\n",
    "# Show some of the original column names to help diagnose issues\n",
    "print(\"\\nSample of original column names:\")\n",
    "for i, col in enumerate(df_encoded.columns[:15]):  # Show first 15 for diagnosis\n",
    "    print(f\"{i}: {col}\")\n",
    "\n",
    "# Apply the fix to your dataframe\n",
    "print(\"\\nFixing column names for PyCaret compatibility...\")\n",
    "df_fixed = fix_column_names_no_duplicates(df_encoded)\n",
    "\n",
    "# Print some example fixed columns to verify\n",
    "print(\"\\nSample of fixed column names:\")\n",
    "for i, (old, new) in enumerate(zip(df_encoded.columns[:15], df_fixed.columns[:15])):\n",
    "    print(f\"Original: {old} -> Fixed: {new}\")"
   ]
  },
  {
   "cell_type": "code",
   "execution_count": 58,
   "id": "0c537ff5-d690-42ed-8d3c-f9e8bbb8bd60",
   "metadata": {},
   "outputs": [
    {
     "name": "stdout",
     "output_type": "stream",
     "text": [
      "Saved data with fixed column names to 'data/fixed_columns_data.csv'\n",
      "Cell executed at: 2025-05-17 12:36:11.550142\n"
     ]
    }
   ],
   "source": [
    "# Save this DataFrame with fixed column names\n",
    "df_fixed.to_csv('data/fixed_columns_data.csv', index=False)\n",
    "print(f\"Saved data with fixed column names to 'data/fixed_columns_data.csv'\")"
   ]
  },
  {
   "cell_type": "code",
   "execution_count": 59,
   "id": "5242616c-6c05-4fda-9d71-bbc80b0d7e28",
   "metadata": {},
   "outputs": [
    {
     "name": "stdout",
     "output_type": "stream",
     "text": [
      "Saved complete column transformations to 'column_transformations.txt'\n",
      "Cell executed at: 2025-05-17 12:36:13.381186\n"
     ]
    }
   ],
   "source": [
    "# Create a diagnostic file with all column transformations\n",
    "with open('column_transformations.txt', 'w') as f:\n",
    "    f.write(\"Column name transformations:\\n\")\n",
    "    f.write(\"--------------------------\\n\")\n",
    "    for old, new in zip(df_encoded.columns, df_fixed.columns):\n",
    "        f.write(f\"{old} -> {new}\\n\")\n",
    "print(\"Saved complete column transformations to 'column_transformations.txt'\")"
   ]
  },
  {
   "cell_type": "markdown",
   "id": "1d42eca8-d0cf-4068-9f5e-d690f0b93bd6",
   "metadata": {},
   "source": [
    "[Back to top](#Index:)\n",
    "\n",
    "<a id='part4'></a>\n",
    "\n",
    "# Part 4 - Data Profiling\n",
    "\n",
    "xxx"
   ]
  },
  {
   "cell_type": "code",
   "execution_count": 60,
   "id": "e217e573-7d82-4f45-8be3-6e3658b397bb",
   "metadata": {},
   "outputs": [
    {
     "data": {
      "text/html": [
       "\n",
       "            <div>\n",
       "                <ins><a href=\"https://ydata.ai/register\">Upgrade to ydata-sdk</a></ins>\n",
       "                <p>\n",
       "                    Improve your data and profiling with ydata-sdk, featuring data quality scoring, redundancy detection, outlier identification, text validation, and synthetic data generation.\n",
       "                </p>\n",
       "            </div>\n",
       "            "
      ],
      "text/plain": [
       "<IPython.core.display.HTML object>"
      ]
     },
     "metadata": {},
     "output_type": "display_data"
    },
    {
     "name": "stdout",
     "output_type": "stream",
     "text": [
      "\n",
      "Generating data profile report...\n"
     ]
    },
    {
     "data": {
      "application/vnd.jupyter.widget-view+json": {
       "model_id": "2ffc894ff90241ec9bde683a10287e2b",
       "version_major": 2,
       "version_minor": 0
      },
      "text/plain": [
       "Summarize dataset:   0%|          | 0/5 [00:00<?, ?it/s]"
      ]
     },
     "metadata": {},
     "output_type": "display_data"
    },
    {
     "name": "stderr",
     "output_type": "stream",
     "text": [
      "\n",
      "\u001b[A%|          | 0/35 [00:00<?, ?it/s]\n",
      "100%|██████████| 35/35 [00:00<00:00, 107.56it/s]\n"
     ]
    },
    {
     "data": {
      "application/vnd.jupyter.widget-view+json": {
       "model_id": "2f7ce0c9329040aabef0de4d37253db3",
       "version_major": 2,
       "version_minor": 0
      },
      "text/plain": [
       "Generate report structure:   0%|          | 0/1 [00:00<?, ?it/s]"
      ]
     },
     "metadata": {},
     "output_type": "display_data"
    },
    {
     "data": {
      "application/vnd.jupyter.widget-view+json": {
       "model_id": "37ad144e118b47d39eb16bebb28c942f",
       "version_major": 2,
       "version_minor": 0
      },
      "text/plain": [
       "Render HTML:   0%|          | 0/1 [00:00<?, ?it/s]"
      ]
     },
     "metadata": {},
     "output_type": "display_data"
    },
    {
     "data": {
      "application/vnd.jupyter.widget-view+json": {
       "model_id": "94d5e80007a94b078ffde40d95d8add3",
       "version_major": 2,
       "version_minor": 0
      },
      "text/plain": [
       "Export report to file:   0%|          | 0/1 [00:00<?, ?it/s]"
      ]
     },
     "metadata": {},
     "output_type": "display_data"
    },
    {
     "name": "stdout",
     "output_type": "stream",
     "text": [
      "Data profile report saved to 'data_profile.html'\n",
      "Cell executed at: 2025-05-17 12:37:18.750031\n"
     ]
    }
   ],
   "source": [
    "# ## Data Profiling (Optional)\n",
    "\n",
    "try:\n",
    "    from ydata_profiling import ProfileReport\n",
    "    \n",
    "    print(\"\\nGenerating data profile report...\")\n",
    "    profile = ProfileReport(df_clean, title=\"ISBSG Dataset Profiling Report\", minimal=True)\n",
    "    profile.to_file(\"data_profile.html\")\n",
    "    print(\"Data profile report saved to 'data_profile.html'\")\n",
    "except ImportError:\n",
    "    print(\"\\nSkipping data profiling (ydata_profiling not installed)\")\n",
    "    print(\"To install: pip install ydata-profiling\")"
   ]
  },
  {
   "cell_type": "code",
   "execution_count": null,
   "id": "11f8b277-390c-461b-b520-198b60fb9ce7",
   "metadata": {},
   "outputs": [],
   "source": []
  },
  {
   "cell_type": "markdown",
   "id": "fa943057-abe3-4106-bd72-ac7c37aeb57f",
   "metadata": {},
   "source": [
    "[Back to top](#Index:)\n",
    "\n",
    "<a id='part5'></a>\n",
    "\n",
    "# Part 5 - PyCaret setup\n",
    "\n",
    "xxx"
   ]
  },
  {
   "cell_type": "code",
   "execution_count": 84,
   "id": "0b5bcf4b-f351-47c0-8d85-571e1b2c6f30",
   "metadata": {},
   "outputs": [
    {
     "name": "stdout",
     "output_type": "stream",
     "text": [
      "Cell executed at: 2025-05-17 13:29:08.576013\n"
     ]
    }
   ],
   "source": [
    "from pycaret.regression import setup, get_config\n",
    "setup_results = setup(\n",
    "    data=df,\n",
    "    target=target_col,\n",
    "    session_id=123,\n",
    "    preprocess=True,\n",
    "    # ...other options...\n",
    "    verbose=False\n",
    ")"
   ]
  },
  {
   "cell_type": "code",
   "execution_count": null,
   "id": "cc67c7ad-b091-4cb6-8fd1-9a13c05fdac0",
   "metadata": {},
   "outputs": [],
   "source": []
  },
  {
   "cell_type": "markdown",
   "id": "557bd817-37cb-49ff-81c2-9c9ca1884c7a",
   "metadata": {},
   "source": [
    "[Back to top](#Index:)\n",
    "\n",
    "<a id='part6'></a>\n",
    "\n",
    "# Part 6 - Feature Correlation Analysis\n",
    "\n",
    "xxx"
   ]
  },
  {
   "cell_type": "code",
   "execution_count": 86,
   "id": "93647a03-0bf7-4fa5-8073-b17b72301c94",
   "metadata": {},
   "outputs": [
    {
     "name": "stdout",
     "output_type": "stream",
     "text": [
      "\n",
      "Analyzing feature correlations...\n",
      "Analyzing correlations among 28 numeric features\n",
      "Large number of features detected (28). Creating filtered correlation matrix.\n",
      "Correlation heatmap saved as plots/correlation_heatmap.png\n",
      "Could not calculate VIF: exog contains inf or nans\n",
      "\n",
      "Found 46 feature pairs with correlation > 0.7:\n",
      "  • people_prf_project_manage_experience and project_prf_total_project_cost: 1.0000\n",
      "  • people_prf_ba_team_experience_great_than_3_yr and project_prf_total_project_cost: 1.0000\n",
      "  • people_prf_it_experience_great_than_9_yr and project_prf_total_project_cost: 1.0000\n",
      "  • project_prf_normalised_level_1_pdr_ufp and project_prf_normalised_pdr_ufp: 1.0000\n",
      "  • people_prf_personnel_changes and project_prf_total_project_cost: 0.9987\n",
      "  • project_prf_manpower_delivery_rate and project_prf_total_project_cost: 0.9894\n",
      "  • project_prf_normalised_work_effort_level_1 and project_prf_max_team_size: 0.9807\n",
      "  • people_prf_ba_team_experience_1_to_3_yr and people_prf_it_experience_3_to_9_yr: 0.9649\n",
      "  • project_prf_max_team_size and people_prf_ba_team_experience_1_to_3_yr: 0.9594\n",
      "  • project_prf_normalised_work_effort_level_1 and people_prf_ba_team_experience_great_than_3_yr: 0.9520\n",
      "  • project_prf_max_team_size and people_prf_ba_team_experience_great_than_3_yr: 0.9443\n",
      "  • people_prf_ba_team_experience_1_to_3_yr and people_prf_it_experience_less_than_3_yr: 0.9317\n",
      "  • project_prf_normalised_work_effort_level_1 and people_prf_ba_team_experience_1_to_3_yr: 0.9309\n",
      "  • people_prf_it_experience_less_than_3_yr and people_prf_it_experience_3_to_9_yr: 0.9301\n",
      "  • project_prf_max_team_size and people_prf_personnel_changes: 0.9229\n",
      "  • people_prf_it_experience_3_to_9_yr and people_prf_personnel_changes: 0.9172\n",
      "  • people_prf_ba_team_experience_1_to_3_yr and people_prf_personnel_changes: 0.9118\n",
      "  • project_prf_functional_size and project_prf_max_team_size: 0.8981\n",
      "  • project_prf_max_team_size and people_prf_it_experience_3_to_9_yr: 0.8947\n",
      "  • project_prf_normalised_work_effort_level_1 and people_prf_personnel_changes: 0.8944\n",
      "  • project_prf_functional_size and people_prf_personnel_changes: 0.8829\n",
      "  • project_prf_functional_size and people_prf_ba_team_experience_1_to_3_yr: 0.8754\n",
      "  • people_prf_ba_team_experience_great_than_3_yr and people_prf_it_experience_great_than_9_yr: 0.8752\n",
      "  • people_prf_ba_team_experience_1_to_3_yr and people_prf_ba_team_experience_great_than_3_yr: 0.8671\n",
      "  • project_prf_normalised_work_effort_level_1 and people_prf_it_experience_3_to_9_yr: 0.8604\n",
      "  • project_prf_functional_size and people_prf_it_experience_3_to_9_yr: 0.8440\n",
      "  • people_prf_ba_team_experience_great_than_3_yr and people_prf_personnel_changes: 0.8411\n",
      "  • tech_tf_tools_used and project_prf_total_project_cost: -0.8398\n",
      "  • project_prf_functional_size and people_prf_ba_team_experience_great_than_3_yr: 0.8277\n",
      "  • project_prf_max_team_size and project_prf_total_project_cost: -0.8162\n",
      "  • project_prf_speed_of_delivery and people_prf_it_experience_3_to_9_yr: 0.8129\n",
      "  • people_prf_ba_team_experience_great_than_3_yr and people_prf_it_experience_less_than_3_yr: 0.8094\n",
      "  • project_prf_normalised_work_effort_level_1 and people_prf_it_experience_great_than_9_yr: 0.7972\n",
      "  • process_pmf_docs and tech_tf_tools_used: 0.7915\n",
      "  • people_prf_ba_team_experience_great_than_3_yr and people_prf_it_experience_3_to_9_yr: 0.7852\n",
      "  • project_prf_max_team_size and people_prf_it_experience_great_than_9_yr: 0.7817\n",
      "  • project_prf_speed_of_delivery and people_prf_ba_team_experience_1_to_3_yr: 0.7810\n",
      "  • project_prf_functional_size and project_prf_total_project_cost: 0.7703\n",
      "  • project_prf_max_team_size and people_prf_it_experience_less_than_3_yr: 0.7641\n",
      "  • people_prf_ba_team_experience_less_than_1_yr and people_prf_it_experience_less_than_3_yr: 0.7493\n",
      "  • people_prf_it_experience_great_than_9_yr and people_prf_project_manage_changes: 0.7284\n",
      "  • project_prf_speed_of_delivery and people_prf_it_experience_less_than_3_yr: 0.7139\n",
      "  • project_prf_max_team_size and people_prf_ba_team_experience_less_than_1_yr: 0.7084\n",
      "  • people_prf_ba_team_experience_less_than_1_yr and people_prf_personnel_changes: 0.7060\n",
      "  • project_prf_speed_of_delivery and project_prf_manpower_delivery_rate: 0.7043\n",
      "  • people_prf_it_experience_less_than_3_yr and people_prf_personnel_changes: 0.7002\n",
      "Feature correlation analysis failed: 'VIF'\n",
      "Cell executed at: 2025-05-17 13:30:44.087167\n"
     ]
    }
   ],
   "source": [
    "# Feature correlation analysis\n",
    "print(\"\\nAnalyzing feature correlations...\")\n",
    "try:\n",
    "    import pandas as pd\n",
    "    import numpy as np\n",
    "    import matplotlib.pyplot as plt\n",
    "    import seaborn as sns\n",
    "    import os\n",
    "    from pycaret.regression import get_config\n",
    "    \n",
    "    # Create directory for plots\n",
    "    os.makedirs('plots', exist_ok=True)\n",
    "    \n",
    "    # Get data from PyCaret\n",
    "    X = get_config('X')\n",
    "    \n",
    "    # Ensure we're working with numeric data only\n",
    "    X_numeric = X.select_dtypes(include=[np.number])\n",
    "    \n",
    "    # Get number of features\n",
    "    n_features = X_numeric.shape[1]\n",
    "    print(f\"Analyzing correlations among {n_features} numeric features\")\n",
    "    \n",
    "    # Calculate correlation matrix\n",
    "    corr_matrix = X_numeric.corr()\n",
    "    \n",
    "    # Determine features with high correlation\n",
    "    correlation_threshold = 0.7\n",
    "    high_corr_pairs = []\n",
    "    \n",
    "    # Find highly correlated feature pairs\n",
    "    for i in range(n_features):\n",
    "        for j in range(i+1, n_features):\n",
    "            if abs(corr_matrix.iloc[i, j]) > correlation_threshold:\n",
    "                high_corr_pairs.append((\n",
    "                    X_numeric.columns[i],\n",
    "                    X_numeric.columns[j],\n",
    "                    corr_matrix.iloc[i, j]\n",
    "                ))\n",
    "    \n",
    "    # Plot correlation heatmap\n",
    "    plt.figure(figsize=(14, 12))\n",
    "    mask = np.triu(corr_matrix)\n",
    "    cmap = sns.diverging_palette(220, 10, as_cmap=True)\n",
    "    \n",
    "    # If there are too many features, show only the ones with high correlation\n",
    "    if n_features > 20:\n",
    "        print(f\"Large number of features detected ({n_features}). Creating filtered correlation matrix.\")\n",
    "        # Get list of features with high correlation\n",
    "        high_corr_features = set()\n",
    "        for feat1, feat2, _ in high_corr_pairs:\n",
    "            high_corr_features.add(feat1)\n",
    "            high_corr_features.add(feat2)\n",
    "        \n",
    "        # If there are high correlations, show only those features\n",
    "        if high_corr_features:\n",
    "            high_corr_features = list(high_corr_features)\n",
    "            filtered_corr = corr_matrix.loc[high_corr_features, high_corr_features]\n",
    "            \n",
    "            # Plot filtered heatmap\n",
    "            sns.heatmap(filtered_corr, mask=np.triu(filtered_corr), \n",
    "                       cmap=cmap, vmax=1, vmin=-1, center=0,\n",
    "                       square=True, linewidths=.5, cbar_kws={\"shrink\": .5},\n",
    "                       annot=True, fmt=\".2f\")\n",
    "            plt.title('Correlation Heatmap (Filtered to Highly Correlated Features)')\n",
    "        else:\n",
    "            # No high correlations, show full matrix\n",
    "            sns.heatmap(corr_matrix, mask=mask, \n",
    "                       cmap=cmap, vmax=1, vmin=-1, center=0,\n",
    "                       square=True, linewidths=.5, cbar_kws={\"shrink\": .5})\n",
    "            plt.title('Correlation Heatmap (All Features)')\n",
    "    else:\n",
    "        # For smaller feature sets, show the full correlation matrix\n",
    "        sns.heatmap(corr_matrix, mask=mask, \n",
    "                   cmap=cmap, vmax=1, vmin=-1, center=0,\n",
    "                   square=True, linewidths=.5, cbar_kws={\"shrink\": .5},\n",
    "                   annot=True, fmt=\".2f\")\n",
    "        plt.title('Correlation Heatmap (All Features)')\n",
    "    \n",
    "    plt.tight_layout()\n",
    "    plt.savefig('plots/correlation_heatmap.png')\n",
    "    plt.close()\n",
    "    print(\"Correlation heatmap saved as plots/correlation_heatmap.png\")\n",
    "    \n",
    "    # Calculate Variance Inflation Factor (VIF) if there are enough samples\n",
    "    vif_data = None\n",
    "    if X_numeric.shape[0] > X_numeric.shape[1]:\n",
    "        try:\n",
    "            from statsmodels.stats.outliers_influence import variance_inflation_factor\n",
    "            \n",
    "            # Calculate VIF for each feature\n",
    "            vif_data = pd.DataFrame()\n",
    "            vif_data[\"Feature\"] = X_numeric.columns\n",
    "            vif_data[\"VIF\"] = [variance_inflation_factor(X_numeric.values, i) \n",
    "                              for i in range(X_numeric.shape[1])]\n",
    "            \n",
    "            # Sort by VIF value\n",
    "            vif_data = vif_data.sort_values(\"VIF\", ascending=False)\n",
    "            \n",
    "            # Plot VIF values\n",
    "            plt.figure(figsize=(12, 8))\n",
    "            plt.barh(vif_data[\"Feature\"], vif_data[\"VIF\"])\n",
    "            plt.axvline(x=5, color='r', linestyle='--', label='VIF=5 (Moderate multicollinearity)')\n",
    "            plt.axvline(x=10, color='darkred', linestyle='--', label='VIF=10 (High multicollinearity)')\n",
    "            plt.xlabel('VIF Value')\n",
    "            plt.title('Variance Inflation Factor (VIF) for Features')\n",
    "            plt.legend()\n",
    "            plt.tight_layout()\n",
    "            plt.savefig('plots/vif_values.png')\n",
    "            plt.close()\n",
    "            print(\"VIF values plot saved as plots/vif_values.png\")\n",
    "        except Exception as vif_err:\n",
    "            print(f\"Could not calculate VIF: {vif_err}\")\n",
    "    else:\n",
    "        print(\"Not enough samples to calculate VIF (need more samples than features)\")\n",
    "    \n",
    "    # Print results\n",
    "    print(f\"\\nFound {len(high_corr_pairs)} feature pairs with correlation > {correlation_threshold}:\")\n",
    "    for feat1, feat2, corr in sorted(high_corr_pairs, key=lambda x: abs(x[2]), reverse=True):\n",
    "        print(f\"  • {feat1} and {feat2}: {corr:.4f}\")\n",
    "    \n",
    "    # Print VIF results if available\n",
    "    if vif_data is not None:\n",
    "        high_vif_threshold = 10\n",
    "        high_vif_features = vif_data[vif_data[\"VIF\"] > high_vif_threshold]\n",
    "        if not high_vif_features.empty:\n",
    "            print(f\"\\nFeatures with high VIF (> {high_vif_threshold}):\")\n",
    "            for _, row in high_vif_features.iterrows():\n",
    "                print(f\"  • {row['Feature']}: {row['VIF']:.2f}\")\n",
    "        else:\n",
    "            print(f\"\\nNo features have VIF > {high_vif_threshold}\")\n",
    "    \n",
    "    # Recommendations based on analysis\n",
    "    print(\"\\n--- Multicollinearity Analysis Recommendations ---\")\n",
    "    if high_corr_pairs:\n",
    "        print(\"Consider addressing multicollinearity by:\")\n",
    "        print(\"1. Removing one feature from each highly correlated pair\")\n",
    "        print(\"2. Creating new features by combining correlated features\")\n",
    "        print(\"3. Applying dimensionality reduction techniques like PCA\")\n",
    "        \n",
    "        # Identify top candidates for removal\n",
    "        if len(high_corr_pairs) > 0:\n",
    "            print(\"\\nPotential candidates for removal:\")\n",
    "            # Count frequency of each feature in high correlation pairs\n",
    "            freq = {}\n",
    "            for feat1, feat2, _ in high_corr_pairs:\n",
    "                freq[feat1] = freq.get(feat1, 0) + 1\n",
    "                freq[feat2] = freq.get(feat2, 0) + 1\n",
    "            \n",
    "            # Features that appear most frequently in high correlation pairs\n",
    "            freq_df = pd.DataFrame({'Feature': list(freq.keys()), \n",
    "                                     'Frequency in high corr pairs': list(freq.values())})\n",
    "            freq_df = freq_df.sort_values('Frequency in high corr pairs', ascending=False)\n",
    "            \n",
    "            for _, row in freq_df.head(5).iterrows():\n",
    "                print(f\"  • {row['Feature']} (appears in {row['Frequency in high corr pairs']} high correlation pairs)\")\n",
    "    else:\n",
    "        print(\"No significant multicollinearity detected based on correlation analysis.\")\n",
    "        \n",
    "    if vif_data is not None and not high_vif_features.empty:\n",
    "        print(\"\\nBased on VIF analysis, consider removing or transforming these features with high VIF values.\")\n",
    "    \n",
    "except Exception as e:\n",
    "    print(f\"Feature correlation analysis failed: {e}\")"
   ]
  },
  {
   "cell_type": "code",
   "execution_count": null,
   "id": "f4c2e34c-4940-4245-b843-74c6d418902b",
   "metadata": {},
   "outputs": [],
   "source": []
  },
  {
   "cell_type": "code",
   "execution_count": null,
   "id": "8eeef1c6-749b-4100-a390-584707947b97",
   "metadata": {},
   "outputs": [],
   "source": []
  },
  {
   "cell_type": "code",
   "execution_count": null,
   "id": "7fcd0dca-7bc1-47eb-9f4e-e4c5dd4516c5",
   "metadata": {},
   "outputs": [],
   "source": []
  },
  {
   "cell_type": "markdown",
   "id": "65d552c1-4a33-494b-bdf9-37292f354793",
   "metadata": {},
   "source": [
    "[Back to top](#Index:)\n",
    "\n",
    "<a id='part5'></a>\n",
    "\n",
    "# Part 5 - Model Building with PyCaret\n",
    "\n",
    "xxx"
   ]
  },
  {
   "cell_type": "code",
   "execution_count": 61,
   "id": "0841acfb-b8fc-400e-b7dc-a1d4c4a70d1b",
   "metadata": {},
   "outputs": [
    {
     "name": "stdout",
     "output_type": "stream",
     "text": [
      "\n",
      "Setting up PyCaret environment...\n",
      "\n",
      "Preprocessed data shape: (85, 72)\n",
      "Numeric features: 16\n",
      "Categorical features: 4\n",
      "PyCaret preprocessed data saved to CSV files\n",
      "\n",
      "Comparing regression models...\n"
     ]
    },
    {
     "data": {
      "text/html": [],
      "text/plain": [
       "<IPython.core.display.HTML object>"
      ]
     },
     "metadata": {},
     "output_type": "display_data"
    },
    {
     "data": {
      "text/html": [
       "<style type=\"text/css\">\n",
       "#T_f54c3 th {\n",
       "  text-align: left;\n",
       "}\n",
       "#T_f54c3_row0_col0, #T_f54c3_row1_col0, #T_f54c3_row1_col1, #T_f54c3_row1_col2, #T_f54c3_row1_col3, #T_f54c3_row1_col4, #T_f54c3_row1_col5, #T_f54c3_row1_col6, #T_f54c3_row2_col0, #T_f54c3_row2_col1, #T_f54c3_row2_col2, #T_f54c3_row2_col3, #T_f54c3_row2_col4, #T_f54c3_row2_col5, #T_f54c3_row2_col6, #T_f54c3_row3_col0, #T_f54c3_row3_col1, #T_f54c3_row3_col2, #T_f54c3_row3_col3, #T_f54c3_row3_col4, #T_f54c3_row3_col5, #T_f54c3_row3_col6, #T_f54c3_row4_col0, #T_f54c3_row4_col1, #T_f54c3_row4_col2, #T_f54c3_row4_col3, #T_f54c3_row4_col4, #T_f54c3_row4_col5, #T_f54c3_row4_col6, #T_f54c3_row5_col0, #T_f54c3_row5_col1, #T_f54c3_row5_col2, #T_f54c3_row5_col3, #T_f54c3_row5_col4, #T_f54c3_row5_col5, #T_f54c3_row5_col6, #T_f54c3_row6_col0, #T_f54c3_row6_col1, #T_f54c3_row6_col2, #T_f54c3_row6_col3, #T_f54c3_row6_col4, #T_f54c3_row6_col5, #T_f54c3_row6_col6, #T_f54c3_row7_col0, #T_f54c3_row7_col1, #T_f54c3_row7_col2, #T_f54c3_row7_col3, #T_f54c3_row7_col4, #T_f54c3_row7_col5, #T_f54c3_row7_col6, #T_f54c3_row8_col0, #T_f54c3_row8_col1, #T_f54c3_row8_col2, #T_f54c3_row8_col3, #T_f54c3_row8_col4, #T_f54c3_row8_col5, #T_f54c3_row8_col6, #T_f54c3_row9_col0, #T_f54c3_row9_col1, #T_f54c3_row9_col2, #T_f54c3_row9_col3, #T_f54c3_row9_col4, #T_f54c3_row9_col5, #T_f54c3_row9_col6, #T_f54c3_row10_col0, #T_f54c3_row10_col1, #T_f54c3_row10_col2, #T_f54c3_row10_col3, #T_f54c3_row10_col4, #T_f54c3_row10_col5, #T_f54c3_row10_col6, #T_f54c3_row11_col0, #T_f54c3_row11_col1, #T_f54c3_row11_col2, #T_f54c3_row11_col3, #T_f54c3_row11_col4, #T_f54c3_row11_col5, #T_f54c3_row11_col6, #T_f54c3_row12_col0, #T_f54c3_row12_col1, #T_f54c3_row12_col2, #T_f54c3_row12_col3, #T_f54c3_row12_col4, #T_f54c3_row12_col5, #T_f54c3_row12_col6, #T_f54c3_row13_col0, #T_f54c3_row13_col1, #T_f54c3_row13_col2, #T_f54c3_row13_col3, #T_f54c3_row13_col4, #T_f54c3_row13_col5, #T_f54c3_row13_col6, #T_f54c3_row14_col0, #T_f54c3_row14_col1, #T_f54c3_row14_col2, #T_f54c3_row14_col3, #T_f54c3_row14_col4, #T_f54c3_row14_col5, #T_f54c3_row14_col6, #T_f54c3_row15_col0, #T_f54c3_row15_col1, #T_f54c3_row15_col2, #T_f54c3_row15_col3, #T_f54c3_row15_col4, #T_f54c3_row15_col5, #T_f54c3_row15_col6, #T_f54c3_row16_col0, #T_f54c3_row16_col1, #T_f54c3_row16_col2, #T_f54c3_row16_col3, #T_f54c3_row16_col4, #T_f54c3_row16_col5, #T_f54c3_row16_col6, #T_f54c3_row17_col0, #T_f54c3_row17_col1, #T_f54c3_row17_col2, #T_f54c3_row17_col3, #T_f54c3_row17_col4, #T_f54c3_row17_col5, #T_f54c3_row17_col6, #T_f54c3_row18_col0, #T_f54c3_row18_col1, #T_f54c3_row18_col2, #T_f54c3_row18_col3, #T_f54c3_row18_col4, #T_f54c3_row18_col5, #T_f54c3_row18_col6 {\n",
       "  text-align: left;\n",
       "}\n",
       "#T_f54c3_row0_col1, #T_f54c3_row0_col2, #T_f54c3_row0_col3, #T_f54c3_row0_col4, #T_f54c3_row0_col5, #T_f54c3_row0_col6 {\n",
       "  text-align: left;\n",
       "  background-color: yellow;\n",
       "}\n",
       "#T_f54c3_row0_col7, #T_f54c3_row1_col7, #T_f54c3_row2_col7, #T_f54c3_row3_col7, #T_f54c3_row4_col7, #T_f54c3_row5_col7, #T_f54c3_row6_col7, #T_f54c3_row7_col7, #T_f54c3_row8_col7, #T_f54c3_row10_col7, #T_f54c3_row11_col7, #T_f54c3_row12_col7, #T_f54c3_row13_col7, #T_f54c3_row14_col7, #T_f54c3_row15_col7, #T_f54c3_row16_col7, #T_f54c3_row17_col7, #T_f54c3_row18_col7 {\n",
       "  text-align: left;\n",
       "  background-color: lightgrey;\n",
       "}\n",
       "#T_f54c3_row9_col7 {\n",
       "  text-align: left;\n",
       "  background-color: yellow;\n",
       "  background-color: lightgrey;\n",
       "}\n",
       "</style>\n",
       "<table id=\"T_f54c3\">\n",
       "  <thead>\n",
       "    <tr>\n",
       "      <th class=\"blank level0\" >&nbsp;</th>\n",
       "      <th id=\"T_f54c3_level0_col0\" class=\"col_heading level0 col0\" >Model</th>\n",
       "      <th id=\"T_f54c3_level0_col1\" class=\"col_heading level0 col1\" >MAE</th>\n",
       "      <th id=\"T_f54c3_level0_col2\" class=\"col_heading level0 col2\" >MSE</th>\n",
       "      <th id=\"T_f54c3_level0_col3\" class=\"col_heading level0 col3\" >RMSE</th>\n",
       "      <th id=\"T_f54c3_level0_col4\" class=\"col_heading level0 col4\" >R2</th>\n",
       "      <th id=\"T_f54c3_level0_col5\" class=\"col_heading level0 col5\" >RMSLE</th>\n",
       "      <th id=\"T_f54c3_level0_col6\" class=\"col_heading level0 col6\" >MAPE</th>\n",
       "      <th id=\"T_f54c3_level0_col7\" class=\"col_heading level0 col7\" >TT (Sec)</th>\n",
       "    </tr>\n",
       "  </thead>\n",
       "  <tbody>\n",
       "    <tr>\n",
       "      <th id=\"T_f54c3_level0_row0\" class=\"row_heading level0 row0\" >huber</th>\n",
       "      <td id=\"T_f54c3_row0_col0\" class=\"data row0 col0\" >Huber Regressor</td>\n",
       "      <td id=\"T_f54c3_row0_col1\" class=\"data row0 col1\" >392.7805</td>\n",
       "      <td id=\"T_f54c3_row0_col2\" class=\"data row0 col2\" >9169237.5495</td>\n",
       "      <td id=\"T_f54c3_row0_col3\" class=\"data row0 col3\" >961.7070</td>\n",
       "      <td id=\"T_f54c3_row0_col4\" class=\"data row0 col4\" >0.9794</td>\n",
       "      <td id=\"T_f54c3_row0_col5\" class=\"data row0 col5\" >0.1028</td>\n",
       "      <td id=\"T_f54c3_row0_col6\" class=\"data row0 col6\" >0.0264</td>\n",
       "      <td id=\"T_f54c3_row0_col7\" class=\"data row0 col7\" >0.0560</td>\n",
       "    </tr>\n",
       "    <tr>\n",
       "      <th id=\"T_f54c3_level0_row1\" class=\"row_heading level0 row1\" >gbr</th>\n",
       "      <td id=\"T_f54c3_row1_col0\" class=\"data row1 col0\" >Gradient Boosting Regressor</td>\n",
       "      <td id=\"T_f54c3_row1_col1\" class=\"data row1 col1\" >1188.6026</td>\n",
       "      <td id=\"T_f54c3_row1_col2\" class=\"data row1 col2\" >33884195.0831</td>\n",
       "      <td id=\"T_f54c3_row1_col3\" class=\"data row1 col3\" >2778.7089</td>\n",
       "      <td id=\"T_f54c3_row1_col4\" class=\"data row1 col4\" >0.8161</td>\n",
       "      <td id=\"T_f54c3_row1_col5\" class=\"data row1 col5\" >0.3101</td>\n",
       "      <td id=\"T_f54c3_row1_col6\" class=\"data row1 col6\" >0.2097</td>\n",
       "      <td id=\"T_f54c3_row1_col7\" class=\"data row1 col7\" >0.0910</td>\n",
       "    </tr>\n",
       "    <tr>\n",
       "      <th id=\"T_f54c3_level0_row2\" class=\"row_heading level0 row2\" >xgboost</th>\n",
       "      <td id=\"T_f54c3_row2_col0\" class=\"data row2 col0\" >Extreme Gradient Boosting</td>\n",
       "      <td id=\"T_f54c3_row2_col1\" class=\"data row2 col1\" >1305.3936</td>\n",
       "      <td id=\"T_f54c3_row2_col2\" class=\"data row2 col2\" >42316315.9515</td>\n",
       "      <td id=\"T_f54c3_row2_col3\" class=\"data row2 col3\" >3014.6269</td>\n",
       "      <td id=\"T_f54c3_row2_col4\" class=\"data row2 col4\" >0.7144</td>\n",
       "      <td id=\"T_f54c3_row2_col5\" class=\"data row2 col5\" >0.4056</td>\n",
       "      <td id=\"T_f54c3_row2_col6\" class=\"data row2 col6\" >0.2970</td>\n",
       "      <td id=\"T_f54c3_row2_col7\" class=\"data row2 col7\" >0.1310</td>\n",
       "    </tr>\n",
       "    <tr>\n",
       "      <th id=\"T_f54c3_level0_row3\" class=\"row_heading level0 row3\" >llar</th>\n",
       "      <td id=\"T_f54c3_row3_col0\" class=\"data row3 col0\" >Lasso Least Angle Regression</td>\n",
       "      <td id=\"T_f54c3_row3_col1\" class=\"data row3 col1\" >1072.6980</td>\n",
       "      <td id=\"T_f54c3_row3_col2\" class=\"data row3 col2\" >11810511.9471</td>\n",
       "      <td id=\"T_f54c3_row3_col3\" class=\"data row3 col3\" >2148.6331</td>\n",
       "      <td id=\"T_f54c3_row3_col4\" class=\"data row3 col4\" >0.5328</td>\n",
       "      <td id=\"T_f54c3_row3_col5\" class=\"data row3 col5\" >0.8294</td>\n",
       "      <td id=\"T_f54c3_row3_col6\" class=\"data row3 col6\" >1.3220</td>\n",
       "      <td id=\"T_f54c3_row3_col7\" class=\"data row3 col7\" >0.0570</td>\n",
       "    </tr>\n",
       "    <tr>\n",
       "      <th id=\"T_f54c3_level0_row4\" class=\"row_heading level0 row4\" >br</th>\n",
       "      <td id=\"T_f54c3_row4_col0\" class=\"data row4 col0\" >Bayesian Ridge</td>\n",
       "      <td id=\"T_f54c3_row4_col1\" class=\"data row4 col1\" >1192.1230</td>\n",
       "      <td id=\"T_f54c3_row4_col2\" class=\"data row4 col2\" >11863067.8653</td>\n",
       "      <td id=\"T_f54c3_row4_col3\" class=\"data row4 col3\" >2136.5092</td>\n",
       "      <td id=\"T_f54c3_row4_col4\" class=\"data row4 col4\" >0.4125</td>\n",
       "      <td id=\"T_f54c3_row4_col5\" class=\"data row4 col5\" >1.3961</td>\n",
       "      <td id=\"T_f54c3_row4_col6\" class=\"data row4 col6\" >5.6784</td>\n",
       "      <td id=\"T_f54c3_row4_col7\" class=\"data row4 col7\" >0.0560</td>\n",
       "    </tr>\n",
       "    <tr>\n",
       "      <th id=\"T_f54c3_level0_row5\" class=\"row_heading level0 row5\" >dt</th>\n",
       "      <td id=\"T_f54c3_row5_col0\" class=\"data row5 col0\" >Decision Tree Regressor</td>\n",
       "      <td id=\"T_f54c3_row5_col1\" class=\"data row5 col1\" >1383.1667</td>\n",
       "      <td id=\"T_f54c3_row5_col2\" class=\"data row5 col2\" >33172123.3400</td>\n",
       "      <td id=\"T_f54c3_row5_col3\" class=\"data row5 col3\" >3066.2831</td>\n",
       "      <td id=\"T_f54c3_row5_col4\" class=\"data row5 col4\" >0.3111</td>\n",
       "      <td id=\"T_f54c3_row5_col5\" class=\"data row5 col5\" >0.4435</td>\n",
       "      <td id=\"T_f54c3_row5_col6\" class=\"data row5 col6\" >0.3093</td>\n",
       "      <td id=\"T_f54c3_row5_col7\" class=\"data row5 col7\" >0.0580</td>\n",
       "    </tr>\n",
       "    <tr>\n",
       "      <th id=\"T_f54c3_level0_row6\" class=\"row_heading level0 row6\" >lr</th>\n",
       "      <td id=\"T_f54c3_row6_col0\" class=\"data row6 col0\" >Linear Regression</td>\n",
       "      <td id=\"T_f54c3_row6_col1\" class=\"data row6 col1\" >997.9922</td>\n",
       "      <td id=\"T_f54c3_row6_col2\" class=\"data row6 col2\" >11247579.3740</td>\n",
       "      <td id=\"T_f54c3_row6_col3\" class=\"data row6 col3\" >2046.2479</td>\n",
       "      <td id=\"T_f54c3_row6_col4\" class=\"data row6 col4\" >0.2161</td>\n",
       "      <td id=\"T_f54c3_row6_col5\" class=\"data row6 col5\" >0.5569</td>\n",
       "      <td id=\"T_f54c3_row6_col6\" class=\"data row6 col6\" >0.7651</td>\n",
       "      <td id=\"T_f54c3_row6_col7\" class=\"data row6 col7\" >2.2670</td>\n",
       "    </tr>\n",
       "    <tr>\n",
       "      <th id=\"T_f54c3_level0_row7\" class=\"row_heading level0 row7\" >catboost</th>\n",
       "      <td id=\"T_f54c3_row7_col0\" class=\"data row7 col0\" >CatBoost Regressor</td>\n",
       "      <td id=\"T_f54c3_row7_col1\" class=\"data row7 col1\" >1471.4600</td>\n",
       "      <td id=\"T_f54c3_row7_col2\" class=\"data row7 col2\" >48978369.1528</td>\n",
       "      <td id=\"T_f54c3_row7_col3\" class=\"data row7 col3\" >3173.0558</td>\n",
       "      <td id=\"T_f54c3_row7_col4\" class=\"data row7 col4\" >0.1221</td>\n",
       "      <td id=\"T_f54c3_row7_col5\" class=\"data row7 col5\" >0.8559</td>\n",
       "      <td id=\"T_f54c3_row7_col6\" class=\"data row7 col6\" >1.4986</td>\n",
       "      <td id=\"T_f54c3_row7_col7\" class=\"data row7 col7\" >1.4560</td>\n",
       "    </tr>\n",
       "    <tr>\n",
       "      <th id=\"T_f54c3_level0_row8\" class=\"row_heading level0 row8\" >rf</th>\n",
       "      <td id=\"T_f54c3_row8_col0\" class=\"data row8 col0\" >Random Forest Regressor</td>\n",
       "      <td id=\"T_f54c3_row8_col1\" class=\"data row8 col1\" >1426.5497</td>\n",
       "      <td id=\"T_f54c3_row8_col2\" class=\"data row8 col2\" >44153278.4189</td>\n",
       "      <td id=\"T_f54c3_row8_col3\" class=\"data row8 col3\" >3273.6768</td>\n",
       "      <td id=\"T_f54c3_row8_col4\" class=\"data row8 col4\" >0.1133</td>\n",
       "      <td id=\"T_f54c3_row8_col5\" class=\"data row8 col5\" >0.5110</td>\n",
       "      <td id=\"T_f54c3_row8_col6\" class=\"data row8 col6\" >1.4188</td>\n",
       "      <td id=\"T_f54c3_row8_col7\" class=\"data row8 col7\" >0.1420</td>\n",
       "    </tr>\n",
       "    <tr>\n",
       "      <th id=\"T_f54c3_level0_row9\" class=\"row_heading level0 row9\" >knn</th>\n",
       "      <td id=\"T_f54c3_row9_col0\" class=\"data row9 col0\" >K Neighbors Regressor</td>\n",
       "      <td id=\"T_f54c3_row9_col1\" class=\"data row9 col1\" >1829.5307</td>\n",
       "      <td id=\"T_f54c3_row9_col2\" class=\"data row9 col2\" >44176631.6424</td>\n",
       "      <td id=\"T_f54c3_row9_col3\" class=\"data row9 col3\" >3666.1359</td>\n",
       "      <td id=\"T_f54c3_row9_col4\" class=\"data row9 col4\" >-0.0431</td>\n",
       "      <td id=\"T_f54c3_row9_col5\" class=\"data row9 col5\" >1.3173</td>\n",
       "      <td id=\"T_f54c3_row9_col6\" class=\"data row9 col6\" >3.6788</td>\n",
       "      <td id=\"T_f54c3_row9_col7\" class=\"data row9 col7\" >0.0510</td>\n",
       "    </tr>\n",
       "    <tr>\n",
       "      <th id=\"T_f54c3_level0_row10\" class=\"row_heading level0 row10\" >en</th>\n",
       "      <td id=\"T_f54c3_row10_col0\" class=\"data row10 col0\" >Elastic Net</td>\n",
       "      <td id=\"T_f54c3_row10_col1\" class=\"data row10 col1\" >1208.8583</td>\n",
       "      <td id=\"T_f54c3_row10_col2\" class=\"data row10 col2\" >11457827.4660</td>\n",
       "      <td id=\"T_f54c3_row10_col3\" class=\"data row10 col3\" >2183.6590</td>\n",
       "      <td id=\"T_f54c3_row10_col4\" class=\"data row10 col4\" >-0.2021</td>\n",
       "      <td id=\"T_f54c3_row10_col5\" class=\"data row10 col5\" >1.3222</td>\n",
       "      <td id=\"T_f54c3_row10_col6\" class=\"data row10 col6\" >4.4619</td>\n",
       "      <td id=\"T_f54c3_row10_col7\" class=\"data row10 col7\" >0.0650</td>\n",
       "    </tr>\n",
       "    <tr>\n",
       "      <th id=\"T_f54c3_level0_row11\" class=\"row_heading level0 row11\" >ada</th>\n",
       "      <td id=\"T_f54c3_row11_col0\" class=\"data row11 col0\" >AdaBoost Regressor</td>\n",
       "      <td id=\"T_f54c3_row11_col1\" class=\"data row11 col1\" >1806.9725</td>\n",
       "      <td id=\"T_f54c3_row11_col2\" class=\"data row11 col2\" >51552451.5499</td>\n",
       "      <td id=\"T_f54c3_row11_col3\" class=\"data row11 col3\" >3680.7820</td>\n",
       "      <td id=\"T_f54c3_row11_col4\" class=\"data row11 col4\" >-0.2801</td>\n",
       "      <td id=\"T_f54c3_row11_col5\" class=\"data row11 col5\" >1.5518</td>\n",
       "      <td id=\"T_f54c3_row11_col6\" class=\"data row11 col6\" >7.6996</td>\n",
       "      <td id=\"T_f54c3_row11_col7\" class=\"data row11 col7\" >0.0890</td>\n",
       "    </tr>\n",
       "    <tr>\n",
       "      <th id=\"T_f54c3_level0_row12\" class=\"row_heading level0 row12\" >ridge</th>\n",
       "      <td id=\"T_f54c3_row12_col0\" class=\"data row12 col0\" >Ridge Regression</td>\n",
       "      <td id=\"T_f54c3_row12_col1\" class=\"data row12 col1\" >1135.3245</td>\n",
       "      <td id=\"T_f54c3_row12_col2\" class=\"data row12 col2\" >11150645.7922</td>\n",
       "      <td id=\"T_f54c3_row12_col3\" class=\"data row12 col3\" >2128.5539</td>\n",
       "      <td id=\"T_f54c3_row12_col4\" class=\"data row12 col4\" >-0.4903</td>\n",
       "      <td id=\"T_f54c3_row12_col5\" class=\"data row12 col5\" >1.0768</td>\n",
       "      <td id=\"T_f54c3_row12_col6\" class=\"data row12 col6\" >2.6831</td>\n",
       "      <td id=\"T_f54c3_row12_col7\" class=\"data row12 col7\" >0.0630</td>\n",
       "    </tr>\n",
       "    <tr>\n",
       "      <th id=\"T_f54c3_level0_row13\" class=\"row_heading level0 row13\" >omp</th>\n",
       "      <td id=\"T_f54c3_row13_col0\" class=\"data row13 col0\" >Orthogonal Matching Pursuit</td>\n",
       "      <td id=\"T_f54c3_row13_col1\" class=\"data row13 col1\" >1488.7657</td>\n",
       "      <td id=\"T_f54c3_row13_col2\" class=\"data row13 col2\" >12545243.9998</td>\n",
       "      <td id=\"T_f54c3_row13_col3\" class=\"data row13 col3\" >2510.7117</td>\n",
       "      <td id=\"T_f54c3_row13_col4\" class=\"data row13 col4\" >-1.9271</td>\n",
       "      <td id=\"T_f54c3_row13_col5\" class=\"data row13 col5\" >1.5425</td>\n",
       "      <td id=\"T_f54c3_row13_col6\" class=\"data row13 col6\" >8.1810</td>\n",
       "      <td id=\"T_f54c3_row13_col7\" class=\"data row13 col7\" >0.0550</td>\n",
       "    </tr>\n",
       "    <tr>\n",
       "      <th id=\"T_f54c3_level0_row14\" class=\"row_heading level0 row14\" >et</th>\n",
       "      <td id=\"T_f54c3_row14_col0\" class=\"data row14 col0\" >Extra Trees Regressor</td>\n",
       "      <td id=\"T_f54c3_row14_col1\" class=\"data row14 col1\" >1469.0081</td>\n",
       "      <td id=\"T_f54c3_row14_col2\" class=\"data row14 col2\" >42617664.5858</td>\n",
       "      <td id=\"T_f54c3_row14_col3\" class=\"data row14 col3\" >3409.2823</td>\n",
       "      <td id=\"T_f54c3_row14_col4\" class=\"data row14 col4\" >-2.2347</td>\n",
       "      <td id=\"T_f54c3_row14_col5\" class=\"data row14 col5\" >0.5592</td>\n",
       "      <td id=\"T_f54c3_row14_col6\" class=\"data row14 col6\" >2.9193</td>\n",
       "      <td id=\"T_f54c3_row14_col7\" class=\"data row14 col7\" >0.1420</td>\n",
       "    </tr>\n",
       "    <tr>\n",
       "      <th id=\"T_f54c3_level0_row15\" class=\"row_heading level0 row15\" >par</th>\n",
       "      <td id=\"T_f54c3_row15_col0\" class=\"data row15 col0\" >Passive Aggressive Regressor</td>\n",
       "      <td id=\"T_f54c3_row15_col1\" class=\"data row15 col1\" >2049.0240</td>\n",
       "      <td id=\"T_f54c3_row15_col2\" class=\"data row15 col2\" >21737315.3196</td>\n",
       "      <td id=\"T_f54c3_row15_col3\" class=\"data row15 col3\" >3156.6079</td>\n",
       "      <td id=\"T_f54c3_row15_col4\" class=\"data row15 col4\" >-3.7559</td>\n",
       "      <td id=\"T_f54c3_row15_col5\" class=\"data row15 col5\" >1.7452</td>\n",
       "      <td id=\"T_f54c3_row15_col6\" class=\"data row15 col6\" >12.7409</td>\n",
       "      <td id=\"T_f54c3_row15_col7\" class=\"data row15 col7\" >0.0550</td>\n",
       "    </tr>\n",
       "    <tr>\n",
       "      <th id=\"T_f54c3_level0_row16\" class=\"row_heading level0 row16\" >lasso</th>\n",
       "      <td id=\"T_f54c3_row16_col0\" class=\"data row16 col0\" >Lasso Regression</td>\n",
       "      <td id=\"T_f54c3_row16_col1\" class=\"data row16 col1\" >887.6734</td>\n",
       "      <td id=\"T_f54c3_row16_col2\" class=\"data row16 col2\" >14451866.3571</td>\n",
       "      <td id=\"T_f54c3_row16_col3\" class=\"data row16 col3\" >2034.0873</td>\n",
       "      <td id=\"T_f54c3_row16_col4\" class=\"data row16 col4\" >-4.8775</td>\n",
       "      <td id=\"T_f54c3_row16_col5\" class=\"data row16 col5\" >0.7940</td>\n",
       "      <td id=\"T_f54c3_row16_col6\" class=\"data row16 col6\" >3.6346</td>\n",
       "      <td id=\"T_f54c3_row16_col7\" class=\"data row16 col7\" >0.0680</td>\n",
       "    </tr>\n",
       "    <tr>\n",
       "      <th id=\"T_f54c3_level0_row17\" class=\"row_heading level0 row17\" >dummy</th>\n",
       "      <td id=\"T_f54c3_row17_col0\" class=\"data row17 col0\" >Dummy Regressor</td>\n",
       "      <td id=\"T_f54c3_row17_col1\" class=\"data row17 col1\" >3764.8129</td>\n",
       "      <td id=\"T_f54c3_row17_col2\" class=\"data row17 col2\" >72312142.5202</td>\n",
       "      <td id=\"T_f54c3_row17_col3\" class=\"data row17 col3\" >5680.0574</td>\n",
       "      <td id=\"T_f54c3_row17_col4\" class=\"data row17 col4\" >-20.3801</td>\n",
       "      <td id=\"T_f54c3_row17_col5\" class=\"data row17 col5\" >2.7643</td>\n",
       "      <td id=\"T_f54c3_row17_col6\" class=\"data row17 col6\" >34.8643</td>\n",
       "      <td id=\"T_f54c3_row17_col7\" class=\"data row17 col7\" >0.0640</td>\n",
       "    </tr>\n",
       "    <tr>\n",
       "      <th id=\"T_f54c3_level0_row18\" class=\"row_heading level0 row18\" >lar</th>\n",
       "      <td id=\"T_f54c3_row18_col0\" class=\"data row18 col0\" >Least Angle Regression</td>\n",
       "      <td id=\"T_f54c3_row18_col1\" class=\"data row18 col1\" >65697680785888390862611775909210841664191642956341577886037049108206619120615813676007424.0000</td>\n",
       "      <td id=\"T_f54c3_row18_col2\" class=\"data row18 col2\" >129829860917921676703843248474877523279521522626782935086053962614338146604454101951816336395137975782057629008419674236545776561852164813686947810820160103227451378735807872368640.0000</td>\n",
       "      <td id=\"T_f54c3_row18_col3\" class=\"data row18 col3\" >113942907158770404193634692124318990298242828653481264756351237799162698483257559769677824.0000</td>\n",
       "      <td id=\"T_f54c3_row18_col4\" class=\"data row18 col4\" >-33701462020963739534553948425421544315356483774002919992999650382982033501711940734353737517675506420087175095435986635412008605243275832355857111425708580675972352519962624.0000</td>\n",
       "      <td id=\"T_f54c3_row18_col5\" class=\"data row18 col5\" >93.7249</td>\n",
       "      <td id=\"T_f54c3_row18_col6\" class=\"data row18 col6\" >15494238495730249423426388607923046234662532003869872395777496671806811299013961187328.0000</td>\n",
       "      <td id=\"T_f54c3_row18_col7\" class=\"data row18 col7\" >0.0720</td>\n",
       "    </tr>\n",
       "  </tbody>\n",
       "</table>\n"
      ],
      "text/plain": [
       "<pandas.io.formats.style.Styler at 0x2bad8dc1cd0>"
      ]
     },
     "metadata": {},
     "output_type": "display_data"
    },
    {
     "data": {
      "text/html": [],
      "text/plain": [
       "<IPython.core.display.HTML object>"
      ]
     },
     "metadata": {},
     "output_type": "display_data"
    },
    {
     "name": "stdout",
     "output_type": "stream",
     "text": [
      "\n",
      "Model comparison results:\n",
      "                                 Model           MAE            MSE  \\\n",
      "huber                  Huber Regressor  3.927805e+02   9.169238e+06   \n",
      "gbr        Gradient Boosting Regressor  1.188603e+03   3.388420e+07   \n",
      "xgboost      Extreme Gradient Boosting  1.305394e+03   4.231632e+07   \n",
      "llar      Lasso Least Angle Regression  1.072698e+03   1.181051e+07   \n",
      "br                      Bayesian Ridge  1.192123e+03   1.186307e+07   \n",
      "dt             Decision Tree Regressor  1.383167e+03   3.317212e+07   \n",
      "lr                   Linear Regression  9.979922e+02   1.124758e+07   \n",
      "catboost            CatBoost Regressor  1.471460e+03   4.897837e+07   \n",
      "rf             Random Forest Regressor  1.426550e+03   4.415328e+07   \n",
      "knn              K Neighbors Regressor  1.829531e+03   4.417663e+07   \n",
      "en                         Elastic Net  1.208858e+03   1.145783e+07   \n",
      "ada                 AdaBoost Regressor  1.806973e+03   5.155245e+07   \n",
      "ridge                 Ridge Regression  1.135324e+03   1.115065e+07   \n",
      "omp        Orthogonal Matching Pursuit  1.488766e+03   1.254524e+07   \n",
      "et               Extra Trees Regressor  1.469008e+03   4.261766e+07   \n",
      "par       Passive Aggressive Regressor  2.049024e+03   2.173732e+07   \n",
      "lasso                 Lasso Regression  8.876734e+02   1.445187e+07   \n",
      "dummy                  Dummy Regressor  3.764813e+03   7.231214e+07   \n",
      "lar             Least Angle Regression  6.569768e+88  1.298299e+179   \n",
      "\n",
      "                  RMSE             R2    RMSLE          MAPE  TT (Sec)  \n",
      "huber     9.617070e+02   9.794000e-01   0.1028  2.640000e-02     0.056  \n",
      "gbr       2.778709e+03   8.161000e-01   0.3101  2.097000e-01     0.091  \n",
      "xgboost   3.014627e+03   7.144000e-01   0.4056  2.970000e-01     0.131  \n",
      "llar      2.148633e+03   5.328000e-01   0.8294  1.322000e+00     0.057  \n",
      "br        2.136509e+03   4.125000e-01   1.3961  5.678400e+00     0.056  \n",
      "dt        3.066283e+03   3.111000e-01   0.4435  3.093000e-01     0.058  \n",
      "lr        2.046248e+03   2.161000e-01   0.5569  7.651000e-01     2.267  \n",
      "catboost  3.173056e+03   1.221000e-01   0.8559  1.498600e+00     1.456  \n",
      "rf        3.273677e+03   1.133000e-01   0.5110  1.418800e+00     0.142  \n",
      "knn       3.666136e+03  -4.310000e-02   1.3173  3.678800e+00     0.051  \n",
      "en        2.183659e+03  -2.021000e-01   1.3222  4.461900e+00     0.065  \n",
      "ada       3.680782e+03  -2.801000e-01   1.5518  7.699600e+00     0.089  \n",
      "ridge     2.128554e+03  -4.903000e-01   1.0768  2.683100e+00     0.063  \n",
      "omp       2.510712e+03  -1.927100e+00   1.5425  8.181000e+00     0.055  \n",
      "et        3.409282e+03  -2.234700e+00   0.5592  2.919300e+00     0.142  \n",
      "par       3.156608e+03  -3.755900e+00   1.7452  1.274090e+01     0.055  \n",
      "lasso     2.034087e+03  -4.877500e+00   0.7940  3.634600e+00     0.068  \n",
      "dummy     5.680057e+03  -2.038010e+01   2.7643  3.486430e+01     0.064  \n",
      "lar       1.139429e+89 -3.370146e+172  93.7249  1.549424e+85     0.072  \n",
      "\n",
      "Creating best model: huber\n"
     ]
    },
    {
     "data": {
      "text/html": [],
      "text/plain": [
       "<IPython.core.display.HTML object>"
      ]
     },
     "metadata": {},
     "output_type": "display_data"
    },
    {
     "data": {
      "text/html": [
       "<style type=\"text/css\">\n",
       "#T_46ffc_row10_col0, #T_46ffc_row10_col1, #T_46ffc_row10_col2, #T_46ffc_row10_col3, #T_46ffc_row10_col4, #T_46ffc_row10_col5 {\n",
       "  background: yellow;\n",
       "}\n",
       "</style>\n",
       "<table id=\"T_46ffc\">\n",
       "  <thead>\n",
       "    <tr>\n",
       "      <th class=\"blank level0\" >&nbsp;</th>\n",
       "      <th id=\"T_46ffc_level0_col0\" class=\"col_heading level0 col0\" >MAE</th>\n",
       "      <th id=\"T_46ffc_level0_col1\" class=\"col_heading level0 col1\" >MSE</th>\n",
       "      <th id=\"T_46ffc_level0_col2\" class=\"col_heading level0 col2\" >RMSE</th>\n",
       "      <th id=\"T_46ffc_level0_col3\" class=\"col_heading level0 col3\" >R2</th>\n",
       "      <th id=\"T_46ffc_level0_col4\" class=\"col_heading level0 col4\" >RMSLE</th>\n",
       "      <th id=\"T_46ffc_level0_col5\" class=\"col_heading level0 col5\" >MAPE</th>\n",
       "    </tr>\n",
       "    <tr>\n",
       "      <th class=\"index_name level0\" >Fold</th>\n",
       "      <th class=\"blank col0\" >&nbsp;</th>\n",
       "      <th class=\"blank col1\" >&nbsp;</th>\n",
       "      <th class=\"blank col2\" >&nbsp;</th>\n",
       "      <th class=\"blank col3\" >&nbsp;</th>\n",
       "      <th class=\"blank col4\" >&nbsp;</th>\n",
       "      <th class=\"blank col5\" >&nbsp;</th>\n",
       "    </tr>\n",
       "  </thead>\n",
       "  <tbody>\n",
       "    <tr>\n",
       "      <th id=\"T_46ffc_level0_row0\" class=\"row_heading level0 row0\" >0</th>\n",
       "      <td id=\"T_46ffc_row0_col0\" class=\"data row0 col0\" >14.6863</td>\n",
       "      <td id=\"T_46ffc_row0_col1\" class=\"data row0 col1\" >1264.9770</td>\n",
       "      <td id=\"T_46ffc_row0_col2\" class=\"data row0 col2\" >35.5665</td>\n",
       "      <td id=\"T_46ffc_row0_col3\" class=\"data row0 col3\" >0.9875</td>\n",
       "      <td id=\"T_46ffc_row0_col4\" class=\"data row0 col4\" >0.6709</td>\n",
       "      <td id=\"T_46ffc_row0_col5\" class=\"data row0 col5\" >0.1360</td>\n",
       "    </tr>\n",
       "    <tr>\n",
       "      <th id=\"T_46ffc_level0_row1\" class=\"row_heading level0 row1\" >1</th>\n",
       "      <td id=\"T_46ffc_row1_col0\" class=\"data row1 col0\" >0.2310</td>\n",
       "      <td id=\"T_46ffc_row1_col1\" class=\"data row1 col1\" >0.0872</td>\n",
       "      <td id=\"T_46ffc_row1_col2\" class=\"data row1 col2\" >0.2953</td>\n",
       "      <td id=\"T_46ffc_row1_col3\" class=\"data row1 col3\" >1.0000</td>\n",
       "      <td id=\"T_46ffc_row1_col4\" class=\"data row1 col4\" >0.0005</td>\n",
       "      <td id=\"T_46ffc_row1_col5\" class=\"data row1 col5\" >0.0004</td>\n",
       "    </tr>\n",
       "    <tr>\n",
       "      <th id=\"T_46ffc_level0_row2\" class=\"row_heading level0 row2\" >2</th>\n",
       "      <td id=\"T_46ffc_row2_col0\" class=\"data row2 col0\" >0.6010</td>\n",
       "      <td id=\"T_46ffc_row2_col1\" class=\"data row2 col1\" >1.0921</td>\n",
       "      <td id=\"T_46ffc_row2_col2\" class=\"data row2 col2\" >1.0450</td>\n",
       "      <td id=\"T_46ffc_row2_col3\" class=\"data row2 col3\" >1.0000</td>\n",
       "      <td id=\"T_46ffc_row2_col4\" class=\"data row2 col4\" >0.0020</td>\n",
       "      <td id=\"T_46ffc_row2_col5\" class=\"data row2 col5\" >0.0011</td>\n",
       "    </tr>\n",
       "    <tr>\n",
       "      <th id=\"T_46ffc_level0_row3\" class=\"row_heading level0 row3\" >3</th>\n",
       "      <td id=\"T_46ffc_row3_col0\" class=\"data row3 col0\" >2.1389</td>\n",
       "      <td id=\"T_46ffc_row3_col1\" class=\"data row3 col1\" >13.0449</td>\n",
       "      <td id=\"T_46ffc_row3_col2\" class=\"data row3 col2\" >3.6118</td>\n",
       "      <td id=\"T_46ffc_row3_col3\" class=\"data row3 col3\" >1.0000</td>\n",
       "      <td id=\"T_46ffc_row3_col4\" class=\"data row3 col4\" >0.1399</td>\n",
       "      <td id=\"T_46ffc_row3_col5\" class=\"data row3 col5\" >0.0529</td>\n",
       "    </tr>\n",
       "    <tr>\n",
       "      <th id=\"T_46ffc_level0_row4\" class=\"row_heading level0 row4\" >4</th>\n",
       "      <td id=\"T_46ffc_row4_col0\" class=\"data row4 col0\" >0.2517</td>\n",
       "      <td id=\"T_46ffc_row4_col1\" class=\"data row4 col1\" >0.1003</td>\n",
       "      <td id=\"T_46ffc_row4_col2\" class=\"data row4 col2\" >0.3166</td>\n",
       "      <td id=\"T_46ffc_row4_col3\" class=\"data row4 col3\" >1.0000</td>\n",
       "      <td id=\"T_46ffc_row4_col4\" class=\"data row4 col4\" >0.0062</td>\n",
       "      <td id=\"T_46ffc_row4_col5\" class=\"data row4 col5\" >0.0036</td>\n",
       "    </tr>\n",
       "    <tr>\n",
       "      <th id=\"T_46ffc_level0_row5\" class=\"row_heading level0 row5\" >5</th>\n",
       "      <td id=\"T_46ffc_row5_col0\" class=\"data row5 col0\" >0.3018</td>\n",
       "      <td id=\"T_46ffc_row5_col1\" class=\"data row5 col1\" >0.1171</td>\n",
       "      <td id=\"T_46ffc_row5_col2\" class=\"data row5 col2\" >0.3422</td>\n",
       "      <td id=\"T_46ffc_row5_col3\" class=\"data row5 col3\" >1.0000</td>\n",
       "      <td id=\"T_46ffc_row5_col4\" class=\"data row5 col4\" >0.0036</td>\n",
       "      <td id=\"T_46ffc_row5_col5\" class=\"data row5 col5\" >0.0024</td>\n",
       "    </tr>\n",
       "    <tr>\n",
       "      <th id=\"T_46ffc_level0_row6\" class=\"row_heading level0 row6\" >6</th>\n",
       "      <td id=\"T_46ffc_row6_col0\" class=\"data row6 col0\" >3909.3094</td>\n",
       "      <td id=\"T_46ffc_row6_col1\" class=\"data row6 col1\" >91691096.0335</td>\n",
       "      <td id=\"T_46ffc_row6_col2\" class=\"data row6 col2\" >9575.5468</td>\n",
       "      <td id=\"T_46ffc_row6_col3\" class=\"data row6 col3\" >0.8064</td>\n",
       "      <td id=\"T_46ffc_row6_col4\" class=\"data row6 col4\" >0.2022</td>\n",
       "      <td id=\"T_46ffc_row6_col5\" class=\"data row6 col5\" >0.0652</td>\n",
       "    </tr>\n",
       "    <tr>\n",
       "      <th id=\"T_46ffc_level0_row7\" class=\"row_heading level0 row7\" >7</th>\n",
       "      <td id=\"T_46ffc_row7_col0\" class=\"data row7 col0\" >0.0881</td>\n",
       "      <td id=\"T_46ffc_row7_col1\" class=\"data row7 col1\" >0.0110</td>\n",
       "      <td id=\"T_46ffc_row7_col2\" class=\"data row7 col2\" >0.1047</td>\n",
       "      <td id=\"T_46ffc_row7_col3\" class=\"data row7 col3\" >1.0000</td>\n",
       "      <td id=\"T_46ffc_row7_col4\" class=\"data row7 col4\" >0.0012</td>\n",
       "      <td id=\"T_46ffc_row7_col5\" class=\"data row7 col5\" >0.0010</td>\n",
       "    </tr>\n",
       "    <tr>\n",
       "      <th id=\"T_46ffc_level0_row8\" class=\"row_heading level0 row8\" >8</th>\n",
       "      <td id=\"T_46ffc_row8_col0\" class=\"data row8 col0\" >0.0683</td>\n",
       "      <td id=\"T_46ffc_row8_col1\" class=\"data row8 col1\" >0.0063</td>\n",
       "      <td id=\"T_46ffc_row8_col2\" class=\"data row8 col2\" >0.0794</td>\n",
       "      <td id=\"T_46ffc_row8_col3\" class=\"data row8 col3\" >1.0000</td>\n",
       "      <td id=\"T_46ffc_row8_col4\" class=\"data row8 col4\" >0.0016</td>\n",
       "      <td id=\"T_46ffc_row8_col5\" class=\"data row8 col5\" >0.0011</td>\n",
       "    </tr>\n",
       "    <tr>\n",
       "      <th id=\"T_46ffc_level0_row9\" class=\"row_heading level0 row9\" >9</th>\n",
       "      <td id=\"T_46ffc_row9_col0\" class=\"data row9 col0\" >0.1280</td>\n",
       "      <td id=\"T_46ffc_row9_col1\" class=\"data row9 col1\" >0.0260</td>\n",
       "      <td id=\"T_46ffc_row9_col2\" class=\"data row9 col2\" >0.1613</td>\n",
       "      <td id=\"T_46ffc_row9_col3\" class=\"data row9 col3\" >1.0000</td>\n",
       "      <td id=\"T_46ffc_row9_col4\" class=\"data row9 col4\" >0.0004</td>\n",
       "      <td id=\"T_46ffc_row9_col5\" class=\"data row9 col5\" >0.0003</td>\n",
       "    </tr>\n",
       "    <tr>\n",
       "      <th id=\"T_46ffc_level0_row10\" class=\"row_heading level0 row10\" >Mean</th>\n",
       "      <td id=\"T_46ffc_row10_col0\" class=\"data row10 col0\" >392.7805</td>\n",
       "      <td id=\"T_46ffc_row10_col1\" class=\"data row10 col1\" >9169237.5495</td>\n",
       "      <td id=\"T_46ffc_row10_col2\" class=\"data row10 col2\" >961.7070</td>\n",
       "      <td id=\"T_46ffc_row10_col3\" class=\"data row10 col3\" >0.9794</td>\n",
       "      <td id=\"T_46ffc_row10_col4\" class=\"data row10 col4\" >0.1028</td>\n",
       "      <td id=\"T_46ffc_row10_col5\" class=\"data row10 col5\" >0.0264</td>\n",
       "    </tr>\n",
       "    <tr>\n",
       "      <th id=\"T_46ffc_level0_row11\" class=\"row_heading level0 row11\" >Std</th>\n",
       "      <td id=\"T_46ffc_row11_col0\" class=\"data row11 col0\" >1172.1841</td>\n",
       "      <td id=\"T_46ffc_row11_col1\" class=\"data row11 col1\" >27507286.1639</td>\n",
       "      <td id=\"T_46ffc_row11_col2\" class=\"data row11 col2\" >2871.2989</td>\n",
       "      <td id=\"T_46ffc_row11_col3\" class=\"data row11 col3\" >0.0578</td>\n",
       "      <td id=\"T_46ffc_row11_col4\" class=\"data row11 col4\" >0.2012</td>\n",
       "      <td id=\"T_46ffc_row11_col5\" class=\"data row11 col5\" >0.0431</td>\n",
       "    </tr>\n",
       "  </tbody>\n",
       "</table>\n"
      ],
      "text/plain": [
       "<pandas.io.formats.style.Styler at 0x2bad8dc2a50>"
      ]
     },
     "metadata": {},
     "output_type": "display_data"
    },
    {
     "data": {
      "text/html": [],
      "text/plain": [
       "<IPython.core.display.HTML object>"
      ]
     },
     "metadata": {},
     "output_type": "display_data"
    },
    {
     "name": "stdout",
     "output_type": "stream",
     "text": [
      "\n",
      "Tuning the best model...\n"
     ]
    },
    {
     "data": {
      "text/html": [],
      "text/plain": [
       "<IPython.core.display.HTML object>"
      ]
     },
     "metadata": {},
     "output_type": "display_data"
    },
    {
     "data": {
      "text/html": [
       "<style type=\"text/css\">\n",
       "#T_bc0d4_row10_col0, #T_bc0d4_row10_col1, #T_bc0d4_row10_col2, #T_bc0d4_row10_col3, #T_bc0d4_row10_col4, #T_bc0d4_row10_col5 {\n",
       "  background: yellow;\n",
       "}\n",
       "</style>\n",
       "<table id=\"T_bc0d4\">\n",
       "  <thead>\n",
       "    <tr>\n",
       "      <th class=\"blank level0\" >&nbsp;</th>\n",
       "      <th id=\"T_bc0d4_level0_col0\" class=\"col_heading level0 col0\" >MAE</th>\n",
       "      <th id=\"T_bc0d4_level0_col1\" class=\"col_heading level0 col1\" >MSE</th>\n",
       "      <th id=\"T_bc0d4_level0_col2\" class=\"col_heading level0 col2\" >RMSE</th>\n",
       "      <th id=\"T_bc0d4_level0_col3\" class=\"col_heading level0 col3\" >R2</th>\n",
       "      <th id=\"T_bc0d4_level0_col4\" class=\"col_heading level0 col4\" >RMSLE</th>\n",
       "      <th id=\"T_bc0d4_level0_col5\" class=\"col_heading level0 col5\" >MAPE</th>\n",
       "    </tr>\n",
       "    <tr>\n",
       "      <th class=\"index_name level0\" >Fold</th>\n",
       "      <th class=\"blank col0\" >&nbsp;</th>\n",
       "      <th class=\"blank col1\" >&nbsp;</th>\n",
       "      <th class=\"blank col2\" >&nbsp;</th>\n",
       "      <th class=\"blank col3\" >&nbsp;</th>\n",
       "      <th class=\"blank col4\" >&nbsp;</th>\n",
       "      <th class=\"blank col5\" >&nbsp;</th>\n",
       "    </tr>\n",
       "  </thead>\n",
       "  <tbody>\n",
       "    <tr>\n",
       "      <th id=\"T_bc0d4_level0_row0\" class=\"row_heading level0 row0\" >0</th>\n",
       "      <td id=\"T_bc0d4_row0_col0\" class=\"data row0 col0\" >14.5608</td>\n",
       "      <td id=\"T_bc0d4_row0_col1\" class=\"data row0 col1\" >1258.9321</td>\n",
       "      <td id=\"T_bc0d4_row0_col2\" class=\"data row0 col2\" >35.4814</td>\n",
       "      <td id=\"T_bc0d4_row0_col3\" class=\"data row0 col3\" >0.9876</td>\n",
       "      <td id=\"T_bc0d4_row0_col4\" class=\"data row0 col4\" >0.6668</td>\n",
       "      <td id=\"T_bc0d4_row0_col5\" class=\"data row0 col5\" >0.1356</td>\n",
       "    </tr>\n",
       "    <tr>\n",
       "      <th id=\"T_bc0d4_level0_row1\" class=\"row_heading level0 row1\" >1</th>\n",
       "      <td id=\"T_bc0d4_row1_col0\" class=\"data row1 col0\" >0.2033</td>\n",
       "      <td id=\"T_bc0d4_row1_col1\" class=\"data row1 col1\" >0.0725</td>\n",
       "      <td id=\"T_bc0d4_row1_col2\" class=\"data row1 col2\" >0.2692</td>\n",
       "      <td id=\"T_bc0d4_row1_col3\" class=\"data row1 col3\" >1.0000</td>\n",
       "      <td id=\"T_bc0d4_row1_col4\" class=\"data row1 col4\" >0.0004</td>\n",
       "      <td id=\"T_bc0d4_row1_col5\" class=\"data row1 col5\" >0.0003</td>\n",
       "    </tr>\n",
       "    <tr>\n",
       "      <th id=\"T_bc0d4_level0_row2\" class=\"row_heading level0 row2\" >2</th>\n",
       "      <td id=\"T_bc0d4_row2_col0\" class=\"data row2 col0\" >0.5251</td>\n",
       "      <td id=\"T_bc0d4_row2_col1\" class=\"data row2 col1\" >0.8082</td>\n",
       "      <td id=\"T_bc0d4_row2_col2\" class=\"data row2 col2\" >0.8990</td>\n",
       "      <td id=\"T_bc0d4_row2_col3\" class=\"data row2 col3\" >1.0000</td>\n",
       "      <td id=\"T_bc0d4_row2_col4\" class=\"data row2 col4\" >0.0018</td>\n",
       "      <td id=\"T_bc0d4_row2_col5\" class=\"data row2 col5\" >0.0010</td>\n",
       "    </tr>\n",
       "    <tr>\n",
       "      <th id=\"T_bc0d4_level0_row3\" class=\"row_heading level0 row3\" >3</th>\n",
       "      <td id=\"T_bc0d4_row3_col0\" class=\"data row3 col0\" >2.1438</td>\n",
       "      <td id=\"T_bc0d4_row3_col1\" class=\"data row3 col1\" >12.7737</td>\n",
       "      <td id=\"T_bc0d4_row3_col2\" class=\"data row3 col2\" >3.5740</td>\n",
       "      <td id=\"T_bc0d4_row3_col3\" class=\"data row3 col3\" >1.0000</td>\n",
       "      <td id=\"T_bc0d4_row3_col4\" class=\"data row3 col4\" >0.1300</td>\n",
       "      <td id=\"T_bc0d4_row3_col5\" class=\"data row3 col5\" >0.0473</td>\n",
       "    </tr>\n",
       "    <tr>\n",
       "      <th id=\"T_bc0d4_level0_row4\" class=\"row_heading level0 row4\" >4</th>\n",
       "      <td id=\"T_bc0d4_row4_col0\" class=\"data row4 col0\" >0.2261</td>\n",
       "      <td id=\"T_bc0d4_row4_col1\" class=\"data row4 col1\" >0.0821</td>\n",
       "      <td id=\"T_bc0d4_row4_col2\" class=\"data row4 col2\" >0.2866</td>\n",
       "      <td id=\"T_bc0d4_row4_col3\" class=\"data row4 col3\" >1.0000</td>\n",
       "      <td id=\"T_bc0d4_row4_col4\" class=\"data row4 col4\" >0.0057</td>\n",
       "      <td id=\"T_bc0d4_row4_col5\" class=\"data row4 col5\" >0.0033</td>\n",
       "    </tr>\n",
       "    <tr>\n",
       "      <th id=\"T_bc0d4_level0_row5\" class=\"row_heading level0 row5\" >5</th>\n",
       "      <td id=\"T_bc0d4_row5_col0\" class=\"data row5 col0\" >0.1531</td>\n",
       "      <td id=\"T_bc0d4_row5_col1\" class=\"data row5 col1\" >0.0294</td>\n",
       "      <td id=\"T_bc0d4_row5_col2\" class=\"data row5 col2\" >0.1716</td>\n",
       "      <td id=\"T_bc0d4_row5_col3\" class=\"data row5 col3\" >1.0000</td>\n",
       "      <td id=\"T_bc0d4_row5_col4\" class=\"data row5 col4\" >0.0018</td>\n",
       "      <td id=\"T_bc0d4_row5_col5\" class=\"data row5 col5\" >0.0011</td>\n",
       "    </tr>\n",
       "    <tr>\n",
       "      <th id=\"T_bc0d4_level0_row6\" class=\"row_heading level0 row6\" >6</th>\n",
       "      <td id=\"T_bc0d4_row6_col0\" class=\"data row6 col0\" >3909.2234</td>\n",
       "      <td id=\"T_bc0d4_row6_col1\" class=\"data row6 col1\" >91686313.0213</td>\n",
       "      <td id=\"T_bc0d4_row6_col2\" class=\"data row6 col2\" >9575.2970</td>\n",
       "      <td id=\"T_bc0d4_row6_col3\" class=\"data row6 col3\" >0.8064</td>\n",
       "      <td id=\"T_bc0d4_row6_col4\" class=\"data row6 col4\" >0.2022</td>\n",
       "      <td id=\"T_bc0d4_row6_col5\" class=\"data row6 col5\" >0.0652</td>\n",
       "    </tr>\n",
       "    <tr>\n",
       "      <th id=\"T_bc0d4_level0_row7\" class=\"row_heading level0 row7\" >7</th>\n",
       "      <td id=\"T_bc0d4_row7_col0\" class=\"data row7 col0\" >0.0799</td>\n",
       "      <td id=\"T_bc0d4_row7_col1\" class=\"data row7 col1\" >0.0097</td>\n",
       "      <td id=\"T_bc0d4_row7_col2\" class=\"data row7 col2\" >0.0983</td>\n",
       "      <td id=\"T_bc0d4_row7_col3\" class=\"data row7 col3\" >1.0000</td>\n",
       "      <td id=\"T_bc0d4_row7_col4\" class=\"data row7 col4\" >0.0008</td>\n",
       "      <td id=\"T_bc0d4_row7_col5\" class=\"data row7 col5\" >0.0007</td>\n",
       "    </tr>\n",
       "    <tr>\n",
       "      <th id=\"T_bc0d4_level0_row8\" class=\"row_heading level0 row8\" >8</th>\n",
       "      <td id=\"T_bc0d4_row8_col0\" class=\"data row8 col0\" >0.0609</td>\n",
       "      <td id=\"T_bc0d4_row8_col1\" class=\"data row8 col1\" >0.0049</td>\n",
       "      <td id=\"T_bc0d4_row8_col2\" class=\"data row8 col2\" >0.0703</td>\n",
       "      <td id=\"T_bc0d4_row8_col3\" class=\"data row8 col3\" >1.0000</td>\n",
       "      <td id=\"T_bc0d4_row8_col4\" class=\"data row8 col4\" >0.0013</td>\n",
       "      <td id=\"T_bc0d4_row8_col5\" class=\"data row8 col5\" >0.0009</td>\n",
       "    </tr>\n",
       "    <tr>\n",
       "      <th id=\"T_bc0d4_level0_row9\" class=\"row_heading level0 row9\" >9</th>\n",
       "      <td id=\"T_bc0d4_row9_col0\" class=\"data row9 col0\" >0.1046</td>\n",
       "      <td id=\"T_bc0d4_row9_col1\" class=\"data row9 col1\" >0.0215</td>\n",
       "      <td id=\"T_bc0d4_row9_col2\" class=\"data row9 col2\" >0.1465</td>\n",
       "      <td id=\"T_bc0d4_row9_col3\" class=\"data row9 col3\" >1.0000</td>\n",
       "      <td id=\"T_bc0d4_row9_col4\" class=\"data row9 col4\" >0.0002</td>\n",
       "      <td id=\"T_bc0d4_row9_col5\" class=\"data row9 col5\" >0.0001</td>\n",
       "    </tr>\n",
       "    <tr>\n",
       "      <th id=\"T_bc0d4_level0_row10\" class=\"row_heading level0 row10\" >Mean</th>\n",
       "      <td id=\"T_bc0d4_row10_col0\" class=\"data row10 col0\" >392.7281</td>\n",
       "      <td id=\"T_bc0d4_row10_col1\" class=\"data row10 col1\" >9168758.5755</td>\n",
       "      <td id=\"T_bc0d4_row10_col2\" class=\"data row10 col2\" >961.6294</td>\n",
       "      <td id=\"T_bc0d4_row10_col3\" class=\"data row10 col3\" >0.9794</td>\n",
       "      <td id=\"T_bc0d4_row10_col4\" class=\"data row10 col4\" >0.1011</td>\n",
       "      <td id=\"T_bc0d4_row10_col5\" class=\"data row10 col5\" >0.0256</td>\n",
       "    </tr>\n",
       "    <tr>\n",
       "      <th id=\"T_bc0d4_level0_row11\" class=\"row_heading level0 row11\" >Std</th>\n",
       "      <td id=\"T_bc0d4_row11_col0\" class=\"data row11 col0\" >1172.1728</td>\n",
       "      <td id=\"T_bc0d4_row11_col1\" class=\"data row11 col1\" >27505851.4845</td>\n",
       "      <td id=\"T_bc0d4_row11_col2\" class=\"data row11 col2\" >2871.2415</td>\n",
       "      <td id=\"T_bc0d4_row11_col3\" class=\"data row11 col3\" >0.0578</td>\n",
       "      <td id=\"T_bc0d4_row11_col4\" class=\"data row11 col4\" >0.2001</td>\n",
       "      <td id=\"T_bc0d4_row11_col5\" class=\"data row11 col5\" >0.0428</td>\n",
       "    </tr>\n",
       "  </tbody>\n",
       "</table>\n"
      ],
      "text/plain": [
       "<pandas.io.formats.style.Styler at 0x2bad8a39a10>"
      ]
     },
     "metadata": {},
     "output_type": "display_data"
    },
    {
     "data": {
      "text/html": [],
      "text/plain": [
       "<IPython.core.display.HTML object>"
      ]
     },
     "metadata": {},
     "output_type": "display_data"
    },
    {
     "name": "stdout",
     "output_type": "stream",
     "text": [
      "Fitting 10 folds for each of 10 candidates, totalling 100 fits\n",
      "Original model was better than the tuned model, hence it will be returned. NOTE: The display metrics are for the tuned model (not the original one).\n",
      "\n",
      "Evaluating tuned model...\n"
     ]
    },
    {
     "data": {
      "application/vnd.jupyter.widget-view+json": {
       "model_id": "37af161857c548999f94678ab5d18527",
       "version_major": 2,
       "version_minor": 0
      },
      "text/plain": [
       "interactive(children=(ToggleButtons(description='Plot Type:', icons=('',), options=(('Pipeline Plot', 'pipelin…"
      ]
     },
     "metadata": {},
     "output_type": "display_data"
    },
    {
     "name": "stdout",
     "output_type": "stream",
     "text": [
      "Transformation Pipeline and Model Successfully Saved\n",
      "\n",
      "Best model saved as 'best_model'\n",
      "\n",
      "Analysis complete!\n",
      "Cell executed at: 2025-05-17 12:39:04.662000\n"
     ]
    }
   ],
   "source": [
    "# Import PyCaret regression module\n",
    "from pycaret.regression import setup, compare_models, create_model, pull, plot_model\n",
    "from pycaret.regression import tune_model, evaluate_model, save_model, get_config\n",
    "\n",
    "# Setup PyCaret environment\n",
    "print(\"\\nSetting up PyCaret environment...\")\n",
    "try:\n",
    "    # Split data into features and target\n",
    "    target_col_fixed = target_col  # Adjust if your target column name changed\n",
    "    \n",
    "    # PyCaret setup\n",
    "    setup_results = setup(\n",
    "        data=df_fixed,\n",
    "        target=target_col_fixed,\n",
    "        session_id=123,\n",
    "        preprocess=True,\n",
    "        verbose=False\n",
    "    )\n",
    "    \n",
    "    # Get preprocessed data for later use\n",
    "    pycaret_X = get_config(\"X\")\n",
    "    pycaret_y = get_config(\"y\")\n",
    "    \n",
    "    # Check data info\n",
    "    print(f\"\\nPreprocessed data shape: {pycaret_X.shape}\")\n",
    "    print(f\"Numeric features: {len(pycaret_X.select_dtypes(include=[np.number]).columns)}\")\n",
    "    print(f\"Categorical features: {len(pycaret_X.select_dtypes(include=['object', 'category']).columns)}\")\n",
    "    \n",
    "    # Save preprocessed data\n",
    "    pycaret_X.to_csv('data/pycaret_processed_features.csv', index=False)\n",
    "    pycaret_y.to_csv('data/pycaret_processed_target.csv', index=False)\n",
    "    print(\"PyCaret preprocessed data saved to CSV files\")\n",
    "   \n",
    "    # Compare regression models\n",
    "    print(\"\\nComparing regression models...\")\n",
    "    best_models = compare_models(n_select=3)  # Select top 3 models\n",
    "    model_results = pull()\n",
    "    print(\"\\nModel comparison results:\")\n",
    "    print(model_results)\n",
    "    \n",
    "    # Select best model and create it\n",
    "    best_model_name = model_results.index[0]\n",
    "    print(f\"\\nCreating best model: {best_model_name}\")\n",
    "    model = create_model(best_model_name)\n",
    "    \n",
    "    # Tune the best model\n",
    "    print(\"\\nTuning the best model...\")\n",
    "    tuned_model = tune_model(model, n_iter=10)\n",
    "    \n",
    "    # Evaluate tuned model\n",
    "    print(\"\\nEvaluating tuned model...\")\n",
    "    evaluate_model(tuned_model)\n",
    "    \n",
    "    # Save the model\n",
    "    save_model(tuned_model, 'best_model')\n",
    "    print(\"\\nBest model saved as 'best_model'\")\n",
    "    \n",
    "    # Add the fixed feature importance and SHAP analysis code here\n",
    "    \n",
    "except Exception as e:\n",
    "    print(f\"\\nError in PyCaret workflow: {e}\")\n",
    "    print(\"Check if PyCaret is installed correctly: pip install pycaret\")\n",
    "\n",
    "print(\"\\nAnalysis complete!\")"
   ]
  },
  {
   "cell_type": "code",
   "execution_count": 63,
   "id": "6d688115-661d-4765-add7-89fa6859f897",
   "metadata": {},
   "outputs": [
    {
     "name": "stdout",
     "output_type": "stream",
     "text": [
      "<class 'sklearn.linear_model._huber.HuberRegressor'>\n",
      "Cell executed at: 2025-05-17 12:43:48.311578\n"
     ]
    }
   ],
   "source": [
    "# Only some models (e.g., tree-based models like Random Forest, XGBoost, LightGBM) have feature_importances_.\n",
    "# Many linear models (like LinearRegression, Lasso), KNN, and some ensemble models do not.\n",
    "\n",
    "print(type(tuned_model))\n"
   ]
  },
  {
   "cell_type": "code",
   "execution_count": null,
   "id": "65dc1e0a-32d0-4292-bc9b-62488b797e3f",
   "metadata": {},
   "outputs": [],
   "source": [
    "import numpy as np\n",
    "import matplotlib.pyplot as plt\n",
    "from sklearn.inspection import permutation_importance\n",
    "import pandas as pd\n",
    "\n",
    "def plot_huber_feature_importance(model, X, y, feature_names=None, method='coefficients'):\n",
    "    \"\"\"\n",
    "    Plot feature importance for HuberRegressor\n",
    "    \n",
    "    Parameters:\n",
    "    -----------\n",
    "    model : trained HuberRegressor model\n",
    "    X : feature matrix\n",
    "    y : target vector\n",
    "    feature_names : list of feature names (optional)\n",
    "    method : 'coefficients' or 'permutation'\n",
    "    \"\"\"\n",
    "    \n",
    "    # Create directory for plots if it doesn't exist\n",
    "    import os\n",
    "    os.makedirs('plots', exist_ok=True)\n",
    "    \n",
    "    # Get feature names if not provided\n",
    "    if feature_names is None:\n",
    "        if hasattr(X, 'columns'):  # If X is a DataFrame\n",
    "            feature_names = X.columns.tolist()\n",
    "        else:\n",
    "            feature_names = [f'Feature {i}' for i in range(X.shape[1])]\n",
    "    \n",
    "    plt.figure(figsize=(10, 6))\n",
    "    \n",
    "    if method == 'coefficients':\n",
    "        # Use absolute coefficient values as feature importance\n",
    "        importances = np.abs(model.coef_)\n",
    "        indices = np.argsort(importances)\n",
    "        \n",
    "        plt.title('Feature Importance Based on Coefficient Magnitude')\n",
    "        plt.barh(range(len(indices)), importances[indices], align='center')\n",
    "        plt.yticks(range(len(indices)), [feature_names[i] for i in indices])\n",
    "        plt.xlabel('Absolute Coefficient Magnitude')\n",
    "        \n",
    "    elif method == 'permutation':\n",
    "        # Calculate permutation importance\n",
    "        result = permutation_importance(\n",
    "            model, X, y, n_repeats=10, random_state=42, n_jobs=-1\n",
    "        )\n",
    "        \n",
    "        importances = result.importances_mean\n",
    "        std = result.importances_std\n",
    "        indices = np.argsort(importances)\n",
    "        \n",
    "        plt.title('Feature Importance Based on Permutation Importance')\n",
    "        plt.barh(range(len(indices)), importances[indices], xerr=std[indices], align='center')\n",
    "        plt.yticks(range(len(indices)), [feature_names[i] for i in indices])\n",
    "        plt.xlabel('Permutation Importance')\n",
    "    \n",
    "    plt.tight_layout()\n",
    "    plt.savefig(f'plots/huber_feature_importance_{method}.png')\n",
    "    print(f'Feature importance plot saved to plots/huber_feature_importance_{method}.png')\n",
    "    \n",
    "    # Return the importances for potential further analysis\n",
    "    importance_df = pd.DataFrame({\n",
    "        'Feature': feature_names,\n",
    "        'Importance': importances\n",
    "    }).sort_values('Importance', ascending=False)\n",
    "    \n",
    "    return importance_df\n",
    "\n",
    "# Example usage:\n",
    "# plot_huber_feature_importance(huber_model, X, y, feature_names=X.columns, method='coefficients')\n",
    "# plot_huber_feature_importance(huber_model, X, y, feature_names=X.columns, method='permutation')"
   ]
  },
  {
   "cell_type": "code",
   "execution_count": null,
   "id": "e7890176-4a9d-4fb9-97e3-8f1df8830cbf",
   "metadata": {},
   "outputs": [],
   "source": []
  },
  {
   "cell_type": "code",
   "execution_count": 72,
   "id": "f8262f6e-2a69-48e5-b8df-4da4ec3b4424",
   "metadata": {},
   "outputs": [
    {
     "name": "stdout",
     "output_type": "stream",
     "text": [
      "\n",
      "Generating PyCaret feature importance plot...\n"
     ]
    },
    {
     "data": {
      "text/html": [],
      "text/plain": [
       "<IPython.core.display.HTML object>"
      ]
     },
     "metadata": {},
     "output_type": "display_data"
    },
    {
     "data": {
      "image/png": "[encoded data removed]",
      "text/plain": [
       "<Figure size 800x500 with 1 Axes>"
      ]
     },
     "metadata": {},
     "output_type": "display_data"
    },
    {
     "name": "stdout",
     "output_type": "stream",
     "text": [
      "Feature importance plot saved to 'plots/feature_importance.png'\n"
     ]
    },
    {
     "data": {
      "text/plain": [
       "<Figure size 800x550 with 0 Axes>"
      ]
     },
     "metadata": {},
     "output_type": "display_data"
    },
    {
     "name": "stdout",
     "output_type": "stream",
     "text": [
      "Cell executed at: 2025-05-17 13:01:00.943973\n"
     ]
    }
   ],
   "source": [
    "# PyCaret's built-in feature importance plot\n",
    "print(\"\\nGenerating PyCaret feature importance plot...\")\n",
    "try:\n",
    "    # Use plt.savefig() instead of filename parameter\n",
    "        import matplotlib.pyplot as plt\n",
    "        \n",
    "        # Create the feature importance plot\n",
    "        plot_model(tuned_model, plot='feature', save=False)\n",
    "        plt.savefig('plots/feature_importance.png')\n",
    "        print(\"Feature importance plot saved to 'plots/feature_importance.png'\")\n",
    "except Exception as e:\n",
    "    print(f\"Could not generate feature plot with PyCaret: {e}\")\n",
    "    \n",
    "    # If PyCaret's plot_model doesn't work, fall back to our custom function\n",
    "    try:\n",
    "        importance_df = plot_huber_feature_importance(tuned_model, pycaret_X, pycaret_y, \n",
    "                                                    feature_names=pycaret_X.columns.tolist(), \n",
    "                                                    method='coefficients')\n",
    "        print(\"Top 5 important features:\")\n",
    "        print(importance_df.head(5))\n",
    "    except Exception as e2:\n",
    "        print(f\"Could not generate feature plot with custom function either: {e2}\")"
   ]
  },
  {
   "cell_type": "code",
   "execution_count": 73,
   "id": "7f9c504b-bb9a-4121-9625-378183b2ffad",
   "metadata": {},
   "outputs": [
    {
     "name": "stdout",
     "output_type": "stream",
     "text": [
      "\n",
      "Generating feature importance plot...\n",
      "Could not generate feature plot: list index out of range\n",
      "\n",
      "Generating permutation-based feature importance plot...\n",
      "Could not generate permutation feature plot: The feature names should match those that were passed during fit.\n",
      "Feature names unseen at fit time:\n",
      "- external_eef_industry_sector\n",
      "- external_eef_organisation_type\n",
      "- project_prf_application_type\n",
      "- tech_tf_server_roles\n",
      "Feature names seen at fit time, yet now missing:\n",
      "- external_eef_industry_sector_Missing\n",
      "- external_eef_industry_sector_banking\n",
      "- external_eef_industry_sector_communication\n",
      "- external_eef_industry_sector_education\n",
      "- external_eef_industry_sector_electronics & computers\n",
      "- ...\n",
      "\n"
     ]
    },
    {
     "data": {
      "image/png": "[encoded data removed]",
      "text/plain": [
       "<Figure size 1000x600 with 1 Axes>"
      ]
     },
     "metadata": {},
     "output_type": "display_data"
    },
    {
     "data": {
      "text/plain": [
       "<Figure size 1000x600 with 0 Axes>"
      ]
     },
     "metadata": {},
     "output_type": "display_data"
    },
    {
     "name": "stdout",
     "output_type": "stream",
     "text": [
      "Cell executed at: 2025-05-17 13:01:09.691365\n"
     ]
    }
   ],
   "source": [
    "# For coefficient-based feature importance\n",
    "print(\"\\nGenerating feature importance plot...\")\n",
    "try:\n",
    "    # Use pycaret_X and pycaret_y instead of X and y\n",
    "    # Get feature names from pycaret_X\n",
    "    feature_names = pycaret_X.columns.tolist()\n",
    "    \n",
    "    importance_df = plot_huber_feature_importance(tuned_model, pycaret_X, pycaret_y, \n",
    "                                                feature_names=feature_names, \n",
    "                                                method='coefficients')\n",
    "    print(\"Top 5 important features:\")\n",
    "    print(importance_df.head(5))\n",
    "except Exception as e:\n",
    "    print(f\"Could not generate feature plot: {e}\")\n",
    "\n",
    "# For permutation-based feature importance\n",
    "print(\"\\nGenerating permutation-based feature importance plot...\")\n",
    "try:\n",
    "    importance_df_perm = plot_huber_feature_importance(tuned_model, pycaret_X, pycaret_y, \n",
    "                                                     feature_names=feature_names, \n",
    "                                                     method='permutation')\n",
    "    print(\"Top 5 important features (permutation):\")\n",
    "    print(importance_df_perm.head(5))\n",
    "except Exception as e:\n",
    "    print(f\"Could not generate permutation feature plot: {e}\")"
   ]
  },
  {
   "cell_type": "code",
   "execution_count": null,
   "id": "5eb56948-f198-489b-a77b-e6afb332a73f",
   "metadata": {},
   "outputs": [],
   "source": []
  },
  {
   "cell_type": "code",
   "execution_count": 74,
   "id": "c8e1e22a-1dc2-4fb3-ad85-178319eecd06",
   "metadata": {},
   "outputs": [
    {
     "name": "stdout",
     "output_type": "stream",
     "text": [
      "\n",
      "Generating feature importance plot...\n",
      "This model type doesn't support direct feature importance plotting.\n",
      "Cell executed at: 2025-05-17 13:01:20.194216\n"
     ]
    }
   ],
   "source": [
    "# Feature importance visualization\n",
    "print(\"\\nGenerating feature importance plot...\")\n",
    "try:\n",
    "    if hasattr(model, 'feature_importances_'):\n",
    "        # Create directory for plots if it doesn't exist\n",
    "        import os\n",
    "        os.makedirs('plots', exist_ok=True)\n",
    "        \n",
    "        # Use plt.savefig() instead of filename parameter\n",
    "        import matplotlib.pyplot as plt\n",
    "        \n",
    "        # Create the feature importance plot\n",
    "        plot_model(tuned_model, plot='feature', save=False)\n",
    "        plt.savefig('plots/feature_importance.png')\n",
    "        print(\"Feature importance plot saved to 'plots/feature_importance.png'\")\n",
    "    else:\n",
    "        print(\"This model type doesn't support direct feature importance plotting.\")\n",
    "except Exception as e:\n",
    "    print(f\"Could not generate feature plot: {e}\")"
   ]
  },
  {
   "cell_type": "code",
   "execution_count": 70,
   "id": "92418fbb-0ed8-48b4-ae2d-f800afe58238",
   "metadata": {},
   "outputs": [
    {
     "name": "stdout",
     "output_type": "stream",
     "text": [
      "Cell executed at: 2025-05-17 12:59:02.204284\n"
     ]
    }
   ],
   "source": []
  },
  {
   "cell_type": "code",
   "execution_count": null,
   "id": "a45c51e9-5263-45e8-b30d-788dd65c7256",
   "metadata": {},
   "outputs": [],
   "source": []
  },
  {
   "cell_type": "code",
   "execution_count": 79,
   "id": "5e06b737-b09e-4c03-9867-e68b9cd752b3",
   "metadata": {},
   "outputs": [
    {
     "name": "stdout",
     "output_type": "stream",
     "text": [
      "\n",
      "Attempting SHAP analysis with manually encoded features...\n",
      "Encoding 4 categorical columns for SHAP analysis\n",
      "Combined data shape after encoding: (85, 98)\n",
      "Creating SHAP explainer with full dataset...\n",
      "SHAP analysis with encoding failed: shapes (133,) and (98,) not aligned: 133 (dim 0) != 98 (dim 0)\n",
      "Cell executed at: 2025-05-17 13:06:12.366022\n"
     ]
    }
   ],
   "source": [
    "# SHAP analysis with manual encoding of categorical features\n",
    "print(\"\\nAttempting SHAP analysis with manually encoded features...\")\n",
    "try:\n",
    "    import shap\n",
    "    import os\n",
    "    from sklearn.preprocessing import OneHotEncoder\n",
    "    \n",
    "    # Get all features\n",
    "    X_for_shap = pycaret_X\n",
    "    \n",
    "    # Identify categorical columns\n",
    "    cat_cols = X_for_shap.select_dtypes(include=['object', 'category']).columns.tolist()\n",
    "    num_cols = X_for_shap.select_dtypes(include='number').columns.tolist()\n",
    "    \n",
    "    if cat_cols:\n",
    "        print(f\"Encoding {len(cat_cols)} categorical columns for SHAP analysis\")\n",
    "        \n",
    "        # Create and fit one-hot encoder\n",
    "        # Replace 'sparse' with 'sparse_output'\n",
    "        encoder = OneHotEncoder(sparse_output=False, handle_unknown='ignore')\n",
    "        encoded_cats = encoder.fit_transform(X_for_shap[cat_cols])\n",
    "        \n",
    "        # Create DataFrame with encoded features\n",
    "        encoded_cols = []\n",
    "        for i, col in enumerate(cat_cols):\n",
    "            categories = encoder.categories_[i]\n",
    "            for cat in categories:\n",
    "                encoded_cols.append(f\"{col}_{cat}\")\n",
    "        \n",
    "        encoded_df = pd.DataFrame(encoded_cats, columns=encoded_cols, index=X_for_shap.index)\n",
    "        \n",
    "        # Combine with numeric features\n",
    "        X_combined = pd.concat([X_for_shap[num_cols], encoded_df], axis=1)\n",
    "        print(f\"Combined data shape after encoding: {X_combined.shape}\")\n",
    "    else:\n",
    "        X_combined = X_for_shap\n",
    "        print(\"No categorical columns to encode\")\n",
    "    \n",
    "    # Create directories for output\n",
    "    os.makedirs('plots', exist_ok=True)\n",
    "    \n",
    "    # IMPORTANT: Don't sample the data, use the full dataset\n",
    "    # This ensures that dimensions match between the model and explanation data\n",
    "    X_sample = X_combined\n",
    "    \n",
    "    # Create SHAP explainer\n",
    "    print(\"Creating SHAP explainer with full dataset...\")\n",
    "    explainer = shap.Explainer(tuned_model, X_sample)\n",
    "    shap_values = explainer(X_sample, check_additivity=False)\n",
    "    \n",
    "    # Generate and save SHAP summary plot\n",
    "    plt.figure(figsize=(12, 10))\n",
    "    shap.summary_plot(shap_values, X_sample, show=False)\n",
    "    plt.tight_layout()\n",
    "    plt.savefig('plots/shap_summary_encoded.png')\n",
    "    plt.close()\n",
    "    print(\"SHAP analysis with encoded features completed and saved as plots/shap_summary_encoded.png\")\n",
    "    \n",
    "    # Create a bar plot of mean absolute SHAP values for better visual of feature importance\n",
    "    plt.figure(figsize=(12, 8))\n",
    "    shap.summary_plot(shap_values, X_sample, plot_type=\"bar\", show=False)\n",
    "    plt.tight_layout()\n",
    "    plt.savefig('plots/shap_importance_bar.png')\n",
    "    plt.close()\n",
    "    print(\"SHAP feature importance bar plot saved as plots/shap_importance_bar.png\")\n",
    "    \n",
    "except Exception as e:\n",
    "    print(f\"SHAP analysis with encoding failed: {e}\")"
   ]
  },
  {
   "cell_type": "code",
   "execution_count": null,
   "id": "90784582-adcf-4de7-a342-37a3b1c02ab0",
   "metadata": {},
   "outputs": [],
   "source": []
  },
  {
   "cell_type": "code",
   "execution_count": null,
   "id": "e3d1905e-c8af-49c5-8e3d-e42846fceb3b",
   "metadata": {},
   "outputs": [],
   "source": []
  },
  {
   "cell_type": "code",
   "execution_count": 80,
   "id": "d9e03d2c-5329-457b-aeb0-8f5d430a255f",
   "metadata": {},
   "outputs": [
    {
     "name": "stdout",
     "output_type": "stream",
     "text": [
      "\n",
      "Attempting SHAP analysis with PyCaret's preprocessing...\n",
      "Transformed feature matrix shape: (85, 133)\n",
      "Creating SHAP explainer...\n",
      "Calculating SHAP values...\n",
      "SHAP analysis failed: loop of ufunc does not support argument 0 of type float which has no callable rint method\n",
      "\n",
      "Attempting to use PyCaret's built-in SHAP plot...\n"
     ]
    },
    {
     "data": {
      "text/html": [],
      "text/plain": [
       "<IPython.core.display.HTML object>"
      ]
     },
     "metadata": {},
     "output_type": "display_data"
    },
    {
     "name": "stdout",
     "output_type": "stream",
     "text": [
      "Feature importance plot created using PyCaret's built-in functionality\n",
      "Cell executed at: 2025-05-17 13:07:34.080846\n"
     ]
    }
   ],
   "source": [
    "# SHAP analysis using PyCaret's internal preprocessing\n",
    "print(\"\\nAttempting SHAP analysis with PyCaret's preprocessing...\")\n",
    "try:\n",
    "    import shap\n",
    "    import os\n",
    "    import numpy as np\n",
    "    from pycaret.regression import predict_model, get_config\n",
    "    \n",
    "    # Create directories for output\n",
    "    os.makedirs('plots', exist_ok=True)\n",
    "    \n",
    "    # Get the preprocessed data that was used for training\n",
    "    X_transformed = get_config('X_transformed')\n",
    "    \n",
    "    if X_transformed is None:\n",
    "        print(\"X_transformed not found in PyCaret config, attempting to get transformed data...\")\n",
    "        # Alternative approach: use PyCaret's transform_X function\n",
    "        from pycaret.regression import transform_X\n",
    "        X_transformed = transform_X(pycaret_X, tuned_model)\n",
    "    \n",
    "    print(f\"Transformed feature matrix shape: {X_transformed.shape}\")\n",
    "    \n",
    "    # For performance reasons, use a subset if the dataset is large\n",
    "    max_samples = 1000\n",
    "    if X_transformed.shape[0] > max_samples:\n",
    "        # Use a fixed random state for reproducibility\n",
    "        np.random.seed(42)\n",
    "        sample_indices = np.random.choice(X_transformed.shape[0], max_samples, replace=False)\n",
    "        X_sample = X_transformed[sample_indices]\n",
    "        print(f\"Using {max_samples} samples for SHAP analysis\")\n",
    "    else:\n",
    "        X_sample = X_transformed\n",
    "    \n",
    "    # Create SHAP explainer\n",
    "    print(\"Creating SHAP explainer...\")\n",
    "    \n",
    "    # Try different SHAP explainer approaches\n",
    "    try:\n",
    "        # First approach: standard Explainer\n",
    "        explainer = shap.Explainer(tuned_model, X_sample)\n",
    "    except Exception as e1:\n",
    "        print(f\"Standard SHAP explainer failed: {e1}\")\n",
    "        try:\n",
    "            # Second approach: KernelExplainer\n",
    "            explainer = shap.KernelExplainer(tuned_model.predict, X_sample)\n",
    "        except Exception as e2:\n",
    "            print(f\"KernelExplainer failed: {e2}\")\n",
    "            # Third approach: TreeExplainer if applicable\n",
    "            model_type = str(type(tuned_model)).lower()\n",
    "            if any(x in model_type for x in ['xgboost', 'lgbm', 'catboost', 'randomforest', 'tree']):\n",
    "                explainer = shap.TreeExplainer(tuned_model)\n",
    "            else:\n",
    "                raise Exception(\"Could not find compatible SHAP explainer for this model type\")\n",
    "    \n",
    "    # Calculate SHAP values\n",
    "    print(\"Calculating SHAP values...\")\n",
    "    shap_values = explainer(X_sample)\n",
    "    \n",
    "    # Generate and save SHAP summary plot\n",
    "    plt.figure(figsize=(12, 10))\n",
    "    shap.summary_plot(shap_values, X_sample, show=False)\n",
    "    plt.tight_layout()\n",
    "    plt.savefig('plots/shap_summary.png')\n",
    "    plt.close()\n",
    "    print(\"SHAP summary plot saved as plots/shap_summary.png\")\n",
    "    \n",
    "    # Create a bar plot of mean absolute SHAP values\n",
    "    plt.figure(figsize=(12, 8))\n",
    "    shap.summary_plot(shap_values, X_sample, plot_type=\"bar\", show=False)\n",
    "    plt.tight_layout()\n",
    "    plt.savefig('plots/shap_importance_bar.png')\n",
    "    plt.close()\n",
    "    print(\"SHAP feature importance bar plot saved as plots/shap_importance_bar.png\")\n",
    "    \n",
    "except Exception as e:\n",
    "    print(f\"SHAP analysis failed: {e}\")\n",
    "    \n",
    "    # Alternative approach: Use PyCaret's built-in SHAP plot if available\n",
    "    print(\"\\nAttempting to use PyCaret's built-in SHAP plot...\")\n",
    "    try:\n",
    "        from pycaret.regression import plot_model\n",
    "        plot_model(tuned_model, plot='feature', save=True)\n",
    "        print(\"Feature importance plot created using PyCaret's built-in functionality\")\n",
    "    except Exception as e2:\n",
    "        print(f\"PyCaret plot_model also failed: {e2}\")\n",
    "        \n",
    "        # Last resort: try a simpler feature importance approach\n",
    "        print(\"\\nFalling back to coefficient-based feature importance...\")\n",
    "        try:\n",
    "            # Extract coefficients if available\n",
    "            if hasattr(tuned_model, 'coef_'):\n",
    "                coefs = tuned_model.coef_\n",
    "                feature_names = get_config('X').columns\n",
    "                \n",
    "                # Create a DataFrame of feature importances\n",
    "                importance_df = pd.DataFrame({\n",
    "                    'Feature': feature_names,\n",
    "                    'Importance': np.abs(coefs)\n",
    "                }).sort_values('Importance', ascending=False)\n",
    "                \n",
    "                # Plot feature importances\n",
    "                plt.figure(figsize=(10, 8))\n",
    "                plt.barh(importance_df['Feature'][:20], importance_df['Importance'][:20])\n",
    "                plt.xlabel('Absolute Coefficient Value')\n",
    "                plt.title('Feature Importance Based on Coefficients')\n",
    "                plt.tight_layout()\n",
    "                plt.savefig('plots/coefficient_importance.png')\n",
    "                plt.close()\n",
    "                print(\"Coefficient-based feature importance plot saved as plots/coefficient_importance.png\")\n",
    "                print(\"\\nTop 10 important features:\")\n",
    "                print(importance_df.head(10))\n",
    "            else:\n",
    "                print(\"Model does not have coefficients, cannot create feature importance plot\")\n",
    "        except Exception as e3:\n",
    "            print(f\"All feature importance methods failed: {e3}\")"
   ]
  },
  {
   "cell_type": "code",
   "execution_count": 82,
   "id": "33b3fef2-71d0-4e43-af38-385aa62661d3",
   "metadata": {},
   "outputs": [
    {
     "name": "stdout",
     "output_type": "stream",
     "text": [
      "\n",
      "Attempting SHAP analysis with improved data handling...\n",
      "Transformed feature matrix shape: (85, 133)\n",
      "Data converted to float64 type to avoid SHAP errors\n",
      "Model type: HuberRegressor\n",
      "Using LinearExplainer for linear model\n",
      "SHAP summary plot saved as plots/shap_summary.png\n",
      "SHAP feature importance bar plot saved as plots/shap_importance_bar.png\n",
      "SHAP waterfall plot saved as plots/shap_waterfall.png\n",
      "Cell executed at: 2025-05-17 13:12:40.446443\n"
     ]
    }
   ],
   "source": [
    "# SHAP analysis with proper data type handling\n",
    "print(\"\\nAttempting SHAP analysis with improved data handling...\")\n",
    "try:\n",
    "    import shap\n",
    "    import os\n",
    "    import numpy as np\n",
    "    import pandas as pd\n",
    "    from pycaret.regression import get_config\n",
    "    import matplotlib.pyplot as plt\n",
    "    \n",
    "    # Create directories for output\n",
    "    os.makedirs('plots', exist_ok=True)\n",
    "    \n",
    "    # Get the transformed data\n",
    "    X_transformed = get_config('X_transformed')\n",
    "    print(f\"Transformed feature matrix shape: {X_transformed.shape}\")\n",
    "    \n",
    "    # Convert data to float64 to avoid data type issues\n",
    "    X_transformed_float = X_transformed.astype(np.float64)\n",
    "    print(\"Data converted to float64 type to avoid SHAP errors\")\n",
    "    \n",
    "    # Get feature names if possible\n",
    "    try:\n",
    "        feature_names = get_config('X').columns.tolist()\n",
    "    except:\n",
    "        feature_names = [f\"Feature_{i}\" for i in range(X_transformed.shape[1])]\n",
    "    \n",
    "    # Determine the right SHAP explainer based on model type\n",
    "    model_type = str(type(tuned_model)).lower()\n",
    "    print(f\"Model type: {type(tuned_model).__name__}\")\n",
    "    \n",
    "    if any(x in model_type for x in ['tree', 'forest', 'xgboost', 'lgbm', 'catboost']):\n",
    "        print(\"Using TreeExplainer for tree-based model\")\n",
    "        explainer = shap.TreeExplainer(tuned_model)\n",
    "        shap_values = explainer(X_transformed_float)\n",
    "    elif any(x in model_type for x in ['linear', 'logistic', 'ridge', 'lasso', 'huber']):\n",
    "        print(\"Using LinearExplainer for linear model\")\n",
    "        explainer = shap.LinearExplainer(tuned_model, X_transformed_float)\n",
    "        shap_values = explainer(X_transformed_float)\n",
    "    else:\n",
    "        print(\"Using KernelExplainer as fallback (this might be slow)\")\n",
    "        # For more complex models, use KernelExplainer with a subset of data for speed\n",
    "        sample_size = min(50, X_transformed_float.shape[0])\n",
    "        sample_indices = np.random.choice(X_transformed_float.shape[0], sample_size, replace=False)\n",
    "        X_sample = X_transformed_float[sample_indices]\n",
    "        \n",
    "        # Create a prediction function that returns a numpy array\n",
    "        def model_predict(X):\n",
    "            return tuned_model.predict(X)\n",
    "        \n",
    "        explainer = shap.KernelExplainer(model_predict, X_sample)\n",
    "        shap_values = explainer.shap_values(X_sample)\n",
    "    \n",
    "    # Generate and save SHAP summary plot\n",
    "    plt.figure(figsize=(12, 10))\n",
    "    if isinstance(shap_values, np.ndarray):\n",
    "        shap.summary_plot(shap_values, X_transformed_float if not 'X_sample' in locals() else X_sample, \n",
    "                          feature_names=feature_names, show=False)\n",
    "    else:\n",
    "        shap.summary_plot(shap_values, show=False)\n",
    "    plt.tight_layout()\n",
    "    plt.savefig('plots/shap_summary.png')\n",
    "    plt.close()\n",
    "    print(\"SHAP summary plot saved as plots/shap_summary.png\")\n",
    "    \n",
    "    # Create a bar plot of mean absolute SHAP values\n",
    "    plt.figure(figsize=(12, 8))\n",
    "    if isinstance(shap_values, np.ndarray):\n",
    "        shap.summary_plot(shap_values, X_transformed_float if not 'X_sample' in locals() else X_sample, \n",
    "                          feature_names=feature_names, plot_type=\"bar\", show=False)\n",
    "    else:\n",
    "        shap.summary_plot(shap_values, plot_type=\"bar\", show=False)\n",
    "    plt.tight_layout()\n",
    "    plt.savefig('plots/shap_importance_bar.png')\n",
    "    plt.close()\n",
    "    print(\"SHAP feature importance bar plot saved as plots/shap_importance_bar.png\")\n",
    "    \n",
    "    # Try to create waterfall plot for first instance\n",
    "    try:\n",
    "        plt.figure(figsize=(10, 8))\n",
    "        if isinstance(shap_values, np.ndarray):\n",
    "            shap.plots.waterfall(shap_values[0], show=False)\n",
    "        else:\n",
    "            shap.plots.waterfall(shap_values[0], show=False)\n",
    "        plt.tight_layout()\n",
    "        plt.savefig('plots/shap_waterfall.png')\n",
    "        plt.close()\n",
    "        print(\"SHAP waterfall plot saved as plots/shap_waterfall.png\")\n",
    "    except Exception as e:\n",
    "        print(f\"Could not create waterfall plot: {e}\")\n",
    "    \n",
    "except Exception as e:\n",
    "    print(f\"SHAP analysis failed: {e}\")\n",
    "    \n",
    "    # Try PyCaret's SHAP plot as fallback\n",
    "    print(\"\\nTrying PyCaret's built-in SHAP plot...\")\n",
    "    try:\n",
    "        from pycaret.regression import plot_model\n",
    "        plot_model(tuned_model, plot='shap', save=True)\n",
    "        print(\"SHAP plot created using PyCaret's built-in functionality\")\n",
    "    except Exception as e2:\n",
    "        print(f\"PyCaret's SHAP plot also failed: {e2}\")\n",
    "        print(\"\\nRecommendation: Rely on the feature importance plot that was successfully created earlier\")"
   ]
  },
  {
   "cell_type": "code",
   "execution_count": null,
   "id": "c00d4a79-548f-4d8e-8c54-448aacb4a5da",
   "metadata": {},
   "outputs": [],
   "source": []
  },
  {
   "cell_type": "code",
   "execution_count": null,
   "id": "934f3e0b-a54b-45de-a781-13f827a28485",
   "metadata": {},
   "outputs": [],
   "source": []
  },
  {
   "cell_type": "code",
   "execution_count": 76,
   "id": "1849adbd-faec-4101-a227-794e17c2e1c2",
   "metadata": {},
   "outputs": [
    {
     "name": "stdout",
     "output_type": "stream",
     "text": [
      "\n",
      "Extracting direct feature importance...\n",
      "Feature importance attribute not available for this model\n",
      "Cell executed at: 2025-05-17 13:02:12.135929\n"
     ]
    }
   ],
   "source": [
    "# Extract feature importance directly (if available)\n",
    "print(\"\\nExtracting direct feature importance...\")\n",
    "try:\n",
    "    if hasattr(tuned_model, 'feature_importances_'):\n",
    "        # Make sure the feature names and importance values match in length\n",
    "        feature_names = pycaret_X.columns\n",
    "        importances = tuned_model.feature_importances_\n",
    "        \n",
    "        # Ensure lengths match\n",
    "        if len(feature_names) != len(importances):\n",
    "            print(f\"Warning: Length mismatch - {len(feature_names)} features vs {len(importances)} importance values\")\n",
    "            # Use only the matching length\n",
    "            min_length = min(len(feature_names), len(importances))\n",
    "            feature_names = feature_names[:min_length]\n",
    "            importances = importances[:min_length]\n",
    "        \n",
    "        # Create DataFrame with matching lengths\n",
    "        fi = pd.DataFrame({\n",
    "            'feature': feature_names,\n",
    "            'importance': importances\n",
    "        })\n",
    "        \n",
    "        # Sort by importance value\n",
    "        fi = fi.sort_values('importance', ascending=False)\n",
    "        print(fi.head(15))  # Show top 15 features\n",
    "        \n",
    "        # Save to CSV\n",
    "        fi.to_csv('feature_importance.csv', index=False)\n",
    "        print(\"Feature importance saved to 'feature_importance.csv'\")\n",
    "    else:\n",
    "        print(\"Feature importance attribute not available for this model\")\n",
    "except Exception as e:\n",
    "    print(f\"Failed to extract feature importance: {e}\")"
   ]
  },
  {
   "cell_type": "code",
   "execution_count": null,
   "id": "f53d1498-04ea-495a-ae5b-db0b584602a2",
   "metadata": {},
   "outputs": [],
   "source": []
  },
  {
   "cell_type": "code",
   "execution_count": null,
   "id": "158d4cfd-2f3e-4add-92bd-067944e304c3",
   "metadata": {},
   "outputs": [],
   "source": []
  },
  {
   "cell_type": "code",
   "execution_count": null,
   "id": "a39a380b-4c86-4ac0-a42b-61d1098a27f5",
   "metadata": {},
   "outputs": [],
   "source": []
  },
  {
   "cell_type": "code",
   "execution_count": null,
   "id": "3344fbce-ee3b-456d-81c2-ef525011e3f7",
   "metadata": {},
   "outputs": [],
   "source": []
  },
  {
   "cell_type": "code",
   "execution_count": null,
   "id": "dcce337c-4e56-4e0a-b179-19c96d7066e2",
   "metadata": {},
   "outputs": [],
   "source": []
  }
 ],
 "metadata": {
  "kernelspec": {
   "display_name": "Python 3 (ipykernel)",
   "language": "python",
   "name": "python3"
  },
  "language_info": {
   "codemirror_mode": {
    "name": "ipython",
    "version": 3
   },
   "file_extension": ".py",
   "mimetype": "text/x-python",
   "name": "python",
   "nbconvert_exporter": "python",
   "pygments_lexer": "ipython3",
   "version": "3.11.11"
  }
 },
 "nbformat": 4,
 "nbformat_minor": 5
}
