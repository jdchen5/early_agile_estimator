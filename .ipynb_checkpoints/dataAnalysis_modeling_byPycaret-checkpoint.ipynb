{
 "cells": [
  {
   "cell_type": "code",
   "execution_count": 1,
   "id": "1361d7b3-22a6-4a13-85d9-3b2d5872d03a",
   "metadata": {},
   "outputs": [],
   "source": [
    "# # ISBSG Data Analysis and Regression Modeling\n",
    "# \n",
    "# This notebook performs data cleaning, preprocessing, and regression modeling on the ISBSG dataset.\n",
    "\n",
    "# ## Setup and Environment Configuration\n",
    "\n",
    "# Install required packages (uncomment if needed)\n",
    "# !pip install -r requirements.txt"
   ]
  },
  {
   "cell_type": "code",
   "execution_count": 2,
   "id": "dc191195-5abd-4d48-8376-d9de1b57987a",
   "metadata": {},
   "outputs": [],
   "source": [
    "# Import basic libraries\n",
    "import pandas as pd\n",
    "import numpy as np\n",
    "import matplotlib.pyplot as plt\n",
    "import seaborn as sns\n",
    "from datetime import datetime"
   ]
  },
  {
   "cell_type": "code",
   "execution_count": 3,
   "id": "8c58c6d0-4039-44fb-9b6a-515296790a8a",
   "metadata": {},
   "outputs": [],
   "source": [
    "# Configure timestamp callback for Jupyter cells\n",
    "from IPython import get_ipython\n",
    "\n",
    "def setup_timestamp_callback():\n",
    "    \"\"\"Setup a timestamp callback for Jupyter cells without clearing existing callbacks.\"\"\"\n",
    "    ip = get_ipython()\n",
    "    if ip is not None:\n",
    "        # Define timestamp function\n",
    "        def print_timestamp(*args, **kwargs):\n",
    "            \"\"\"Print timestamp after cell execution.\"\"\"\n",
    "            print(f\"Cell executed at: {datetime.now()}\")\n",
    "        \n",
    "        # Check if our callback is already registered\n",
    "        callbacks = ip.events.callbacks.get('post_run_cell', [])\n",
    "        for cb in callbacks:\n",
    "            if hasattr(cb, '__name__') and cb.__name__ == 'print_timestamp':\n",
    "                # Already registered\n",
    "                return\n",
    "                \n",
    "        # Register new callback if not already present\n",
    "        ip.events.register('post_run_cell', print_timestamp)\n",
    "        print(\"Timestamp printing activated.\")\n",
    "    else:\n",
    "        print(\"Not running in IPython/Jupyter environment.\")"
   ]
  },
  {
   "cell_type": "code",
   "execution_count": 4,
   "id": "622026d3-5fe1-4fce-8def-b39811aeb7cc",
   "metadata": {},
   "outputs": [
    {
     "name": "stdout",
     "output_type": "stream",
     "text": [
      "Timestamp printing activated.\n",
      "Cell executed at: 2025-05-15 17:53:03.321637\n"
     ]
    }
   ],
   "source": [
    "# Setup timestamp callback\n",
    "setup_timestamp_callback()\n",
    "\n",
    "# Set visualization style\n",
    "sns.set_style(\"whitegrid\")\n",
    "plt.rcParams['figure.figsize'] = (12, 8)"
   ]
  },
  {
   "cell_type": "code",
   "execution_count": 5,
   "id": "b419e697-acab-4121-bae2-e2a017a371b3",
   "metadata": {},
   "outputs": [
    {
     "name": "stdout",
     "output_type": "stream",
     "text": [
      "Cell executed at: 2025-05-15 17:53:03.324304\n"
     ]
    }
   ],
   "source": [
    "# ## Data Loading and Initial Exploration"
   ]
  },
  {
   "cell_type": "code",
   "execution_count": 11,
   "id": "b1fd30b9-fe3e-4952-9237-cf18928a4958",
   "metadata": {},
   "outputs": [
    {
     "name": "stdout",
     "output_type": "stream",
     "text": [
      "Loading data...\n",
      "Cell executed at: 2025-05-15 18:04:51.091933\n"
     ]
    }
   ],
   "source": [
    "# Load the data\n",
    "print(\"Loading data...\")\n",
    "df = pd.read_excel(\"data/ISBSG2016R1.1-Formatted4CSVAgileOnly.xlsx\")\n"
   ]
  },
  {
   "cell_type": "code",
   "execution_count": 12,
   "id": "325c3beb-a93e-4659-a072-00c25bbbb21d",
   "metadata": {},
   "outputs": [
    {
     "name": "stdout",
     "output_type": "stream",
     "text": [
      "Cell executed at: 2025-05-15 18:04:56.974719\n"
     ]
    }
   ],
   "source": [
    "import re\n",
    "\n",
    "def clean_column_names(columns):\n",
    "    cleaned_cols = []\n",
    "    for col in columns:\n",
    "        col_clean = re.sub(r'[^\\w\\s]', '', col)  # remove special chars\n",
    "        col_clean = col_clean.replace(' ', '_')  # replace spaces with _\n",
    "        cleaned_cols.append(col_clean)\n",
    "    return cleaned_cols\n",
    "\n",
    "df.columns = clean_column_names(df.columns)\n"
   ]
  },
  {
   "cell_type": "code",
   "execution_count": 13,
   "id": "b64360b6-c4b3-4237-a553-b67aa75179f3",
   "metadata": {},
   "outputs": [
    {
     "name": "stdout",
     "output_type": "stream",
     "text": [
      "Dataset shape: (84, 51)\n",
      "\n",
      "First 5 rows:\n",
      "   ISBSG_Project_ID External_EEF__Data_Quality_Rating  \\\n",
      "0             10279                                 B   \n",
      "1             10317                                 B   \n",
      "2             10572                                 B   \n",
      "3             11278                                 A   \n",
      "4             11497                                 B   \n",
      "\n",
      "   Project_PRF__Year_of_Project External_EEF__Industry_Sector  \\\n",
      "0                          2013                       Banking   \n",
      "1                          2015                    Government   \n",
      "2                          2014                    Government   \n",
      "3                          2010              Service Industry   \n",
      "4                          2012                       Banking   \n",
      "\n",
      "                     External_EEF__Organisation_Type  \\\n",
      "0  Government;Education Institution;Wholesale & R...   \n",
      "1                                        Government;   \n",
      "2                                        Government;   \n",
      "3                                Community Services;   \n",
      "4  Government;Education Institution;Wholesale & R...   \n",
      "\n",
      "  Project_PRF__Application_Group  \\\n",
      "0           Business Application   \n",
      "1           Business Application   \n",
      "2           Business Application   \n",
      "3           Business Application   \n",
      "4           Business Application   \n",
      "\n",
      "                       Project_PRF__Application_Type  \\\n",
      "0                         Surveillance and security;   \n",
      "1                              Business Application;   \n",
      "2                              Business Application;   \n",
      "3  Workflow support & management;Complex process ...   \n",
      "4                         Surveillance and security;   \n",
      "\n",
      "  Project_PRF__Development_Type Tech_TF__Development_Platform  \\\n",
      "0                   Enhancement                            PC   \n",
      "1                   Enhancement                           NaN   \n",
      "2                   Enhancement                           NaN   \n",
      "3                   Enhancement                         Multi   \n",
      "4                   Enhancement                            PC   \n",
      "\n",
      "  Tech_TF__Language_Type  ... People_PRF__IT_experience_great_than_3_yr  \\\n",
      "0                    3GL  ...                                       NaN   \n",
      "1                    4GL  ...                                       NaN   \n",
      "2                    4GL  ...                                       NaN   \n",
      "3                    3GL  ...                                       NaN   \n",
      "4                    3GL  ...                                       NaN   \n",
      "\n",
      "   People_PRF__IT_experience_less_than_3_yr  \\\n",
      "0                                       NaN   \n",
      "1                                       NaN   \n",
      "2                                       NaN   \n",
      "3                                       0.0   \n",
      "4                                       NaN   \n",
      "\n",
      "  People_PRF__IT_experience_3_to_9_yr  \\\n",
      "0                                 NaN   \n",
      "1                                 NaN   \n",
      "2                                 NaN   \n",
      "3                                 5.0   \n",
      "4                                 NaN   \n",
      "\n",
      "   People_PRF__IT_experience_great_than_9_yr  \\\n",
      "0                                        NaN   \n",
      "1                                        NaN   \n",
      "2                                        NaN   \n",
      "3                                        4.0   \n",
      "4                                        NaN   \n",
      "\n",
      "   People_PRF__Project_manage_experience  People_PRF__Project_manage_changes  \\\n",
      "0                                    NaN                                 NaN   \n",
      "1                                    NaN                                 NaN   \n",
      "2                                    NaN                                 NaN   \n",
      "3                                    3.0                                 0.0   \n",
      "4                                    NaN                                 NaN   \n",
      "\n",
      "   People_PRF__Personnel_changes  Project_PRF__Total_project_cost  \\\n",
      "0                            NaN                              NaN   \n",
      "1                            NaN                          81500.0   \n",
      "2                            NaN                          69850.0   \n",
      "3                            3.0                              NaN   \n",
      "4                            NaN                              NaN   \n",
      "\n",
      "   Project_PRF__Cost_currency  Project_PRF__Currency_multiple  \n",
      "0                         NaN                             NaN  \n",
      "1              European, euro                              No  \n",
      "2              European, euro                              No  \n",
      "3                         NaN                             NaN  \n",
      "4                         NaN                             NaN  \n",
      "\n",
      "[5 rows x 51 columns]\n",
      "Cell executed at: 2025-05-15 18:05:02.133401\n"
     ]
    }
   ],
   "source": [
    "# Display basic information\n",
    "print(f\"Dataset shape: {df.shape}\")\n",
    "print(\"\\nFirst 5 rows:\")\n",
    "print(df.head())\n"
   ]
  },
  {
   "cell_type": "code",
   "execution_count": 10,
   "id": "16075a0f-db8f-4e90-95c6-a271125fa7a7",
   "metadata": {},
   "outputs": [
    {
     "name": "stdout",
     "output_type": "stream",
     "text": [
      "Index(['ISBSG_Project_ID', 'External_EEF__Data_Quality_Rating',\n",
      "       'Project_PRF__Year_of_Project', 'External_EEF__Industry_Sector',\n",
      "       'External_EEF__Organisation_Type', 'Project_PRF__Application_Group',\n",
      "       'Project_PRF__Application_Type', 'Project_PRF__Development_Type',\n",
      "       'Tech_TF__Development_Platform', 'Tech_TF__Language_Type',\n",
      "       'Tech_TF__Primary_Programming_Language', 'Project_PRF__Functional_Size',\n",
      "       'Project_PRF__Relative_Size',\n",
      "       'Project_PRF__Normalised_Work_Effort_Level_1',\n",
      "       'Project_PRF__Normalised_Work_Effort',\n",
      "       'Project_PRF__Normalised_Level_1_PDR_ufp',\n",
      "       'Project_PRF__Normalised_PDR_ufp', 'Project_PRF__Defect_Density',\n",
      "       'Project_PRF__Speed_of_Delivery', 'Project_PRF__Manpower_Delivery_Rate',\n",
      "       'Project_PRF__Project_Elapsed_Time', 'Project_PRF__Team_Size_Group',\n",
      "       'Project_PRF__Max_Team_Size', '__CASE_Tool_Used',\n",
      "       'Process_PMF__Development_Methodologies',\n",
      "       'Process_PMF__Prototyping_Used', 'Process_PMF__Docs',\n",
      "       'Tech_TF__Architecture', 'Tech_TF__Client_Server',\n",
      "       'Tech_TF__Client_Roles', 'Tech_TF__Server_Roles',\n",
      "       'Tech_TF__Type_of_Server', 'Tech_TF__Web_Development',\n",
      "       'Tech_TF__DBMS_Used', 'Tech_TF__Tools_Used',\n",
      "       'People_PRF__Project_user_involvement',\n",
      "       'People_PRF__BA_team_experience_1_yr',\n",
      "       'People_PRF__BA_team_experience_1_to_3_yr',\n",
      "       'People_PRF__BA_team_experience_3_yr', 'People_PRF__IT_experience_1_yr',\n",
      "       'People_PRF__IT_experience_1_to_3_yr', 'People_PRF__IT_experience_3_yr',\n",
      "       'People_PRF__IT_experience_3_yr', 'People_PRF__IT_experience_3_to_9_yr',\n",
      "       'People_PRF__IT_experience_9_yr',\n",
      "       'People_PRF__Project_manage_experience',\n",
      "       'People_PRF__Project_manage_changes', 'People_PRF__Personnel_changes',\n",
      "       'Project_PRF__Total_project_cost', 'Project_PRF__Cost_currency',\n",
      "       'Project_PRF__Currency_multiple'],\n",
      "      dtype='object')\n",
      "<class 'pandas.core.indexes.base.Index'>\n",
      "Cell executed at: 2025-05-15 17:59:46.321025\n"
     ]
    }
   ],
   "source": [
    "print(df.columns)\n",
    "print(type(df.columns))\n"
   ]
  },
  {
   "cell_type": "code",
   "execution_count": 14,
   "id": "036f2be3-8eb2-48be-8014-15d76b7b4497",
   "metadata": {},
   "outputs": [
    {
     "name": "stdout",
     "output_type": "stream",
     "text": [
      "\n",
      "Data Summary:\n",
      "                                           Feature data_type  Null_number  \\\n",
      "0                                 ISBSG_Project_ID     int64            0   \n",
      "1                External_EEF__Data_Quality_Rating    object            0   \n",
      "2                     Project_PRF__Year_of_Project     int64            0   \n",
      "3                    External_EEF__Industry_Sector    object            1   \n",
      "4                  External_EEF__Organisation_Type    object            0   \n",
      "5                   Project_PRF__Application_Group    object            5   \n",
      "6                    Project_PRF__Application_Type    object            0   \n",
      "7                    Project_PRF__Development_Type    object            0   \n",
      "8                    Tech_TF__Development_Platform    object           15   \n",
      "9                           Tech_TF__Language_Type    object            0   \n",
      "10           Tech_TF__Primary_Programming_Language    object            0   \n",
      "11                    Project_PRF__Functional_Size   float64            1   \n",
      "12                      Project_PRF__Relative_Size    object            1   \n",
      "13     Project_PRF__Normalised_Work_Effort_Level_1     int64            0   \n",
      "14             Project_PRF__Normalised_Work_Effort     int64            0   \n",
      "15         Project_PRF__Normalised_Level_1_PDR_ufp   float64            1   \n",
      "16                 Project_PRF__Normalised_PDR_ufp   float64            1   \n",
      "17                     Project_PRF__Defect_Density   float64           53   \n",
      "18                  Project_PRF__Speed_of_Delivery   float64            3   \n",
      "19             Project_PRF__Manpower_Delivery_Rate   float64           28   \n",
      "20               Project_PRF__Project_Elapsed_Time   float64            2   \n",
      "21                    Project_PRF__Team_Size_Group    object           25   \n",
      "22                      Project_PRF__Max_Team_Size   float64           25   \n",
      "23                                __CASE_Tool_Used    object           68   \n",
      "24          Process_PMF__Development_Methodologies    object            4   \n",
      "25                   Process_PMF__Prototyping_Used    object           79   \n",
      "26                               Process_PMF__Docs     int64            0   \n",
      "27                           Tech_TF__Architecture    object           15   \n",
      "28                          Tech_TF__Client_Server    object           52   \n",
      "29                           Tech_TF__Client_Roles    object           58   \n",
      "30                           Tech_TF__Server_Roles    object           57   \n",
      "31                         Tech_TF__Type_of_Server   float64           84   \n",
      "32                        Tech_TF__Web_Development    object           50   \n",
      "33                              Tech_TF__DBMS_Used    object           27   \n",
      "34                             Tech_TF__Tools_Used     int64            0   \n",
      "35            People_PRF__Project_user_involvement   float64           84   \n",
      "36   People_PRF__BA_team_experience_less_than_1_yr   float64           69   \n",
      "37        People_PRF__BA_team_experience_1_to_3_yr   float64           66   \n",
      "38  People_PRF__BA_team_experience_great_than_3_yr   float64           67   \n",
      "39        People_PRF__IT_experience_less_than_1_yr   float64           84   \n",
      "40             People_PRF__IT_experience_1_to_3_yr   float64           84   \n",
      "41       People_PRF__IT_experience_great_than_3_yr   float64           84   \n",
      "42        People_PRF__IT_experience_less_than_3_yr   float64           61   \n",
      "43             People_PRF__IT_experience_3_to_9_yr   float64           63   \n",
      "44       People_PRF__IT_experience_great_than_9_yr   float64           67   \n",
      "45           People_PRF__Project_manage_experience   float64           65   \n",
      "46              People_PRF__Project_manage_changes   float64           52   \n",
      "47                   People_PRF__Personnel_changes   float64           52   \n",
      "48                 Project_PRF__Total_project_cost   float64           55   \n",
      "49                      Project_PRF__Cost_currency    object           54   \n",
      "50                  Project_PRF__Currency_multiple    object           66   \n",
      "\n",
      "      Null_pct  Unique_counts  \\\n",
      "0     0.000000             83   \n",
      "1     0.000000              4   \n",
      "2     0.000000              9   \n",
      "3     1.190476             10   \n",
      "4     0.000000             25   \n",
      "5     5.952381              4   \n",
      "6     0.000000             32   \n",
      "7     0.000000              3   \n",
      "8    17.857143              4   \n",
      "9     0.000000              3   \n",
      "10    0.000000              9   \n",
      "11    1.190476             75   \n",
      "12    1.190476              7   \n",
      "13    0.000000             75   \n",
      "14    0.000000             77   \n",
      "15    1.190476             65   \n",
      "16    1.190476             64   \n",
      "17   63.095238             14   \n",
      "18    3.571429             75   \n",
      "19   33.333333             46   \n",
      "20    2.380952             21   \n",
      "21   29.761905              8   \n",
      "22   29.761905             14   \n",
      "23   80.952381              2   \n",
      "24    4.761905              9   \n",
      "25   94.047619              1   \n",
      "26    0.000000             13   \n",
      "27   17.857143              4   \n",
      "28   61.904762              2   \n",
      "29   69.047619             10   \n",
      "30   67.857143             12   \n",
      "31  100.000000              0   \n",
      "32   59.523810              1   \n",
      "33   32.142857              1   \n",
      "34    0.000000              9   \n",
      "35  100.000000              0   \n",
      "36   82.142857              8   \n",
      "37   78.571429              8   \n",
      "38   79.761905              9   \n",
      "39  100.000000              0   \n",
      "40  100.000000              0   \n",
      "41  100.000000              0   \n",
      "42   72.619048              8   \n",
      "43   75.000000              9   \n",
      "44   79.761905              7   \n",
      "45   77.380952             12   \n",
      "46   61.904762              3   \n",
      "47   61.904762              5   \n",
      "48   65.476190             28   \n",
      "49   64.285714              3   \n",
      "50   78.571429              2   \n",
      "\n",
      "                                       unique_samples  \n",
      "0                 [10279, 10317, 10572, 11278, 11497]  \n",
      "1                                        [B, A, C, D]  \n",
      "2                      [2013, 2015, 2014, 2010, 2012]  \n",
      "3   [Banking, Government, Service Industry, Commun...  \n",
      "4   [Government;Education Institution;Wholesale & ...  \n",
      "5   [Business Application, Real-Time Application, ...  \n",
      "6   [Surveillance and security;, Business Applicat...  \n",
      "7      [Enhancement, Re-development, New Development]  \n",
      "8                        [PC, Multi, Proprietary, MR]  \n",
      "9                                     [3GL, 4GL, 5GL]  \n",
      "10                [C#, .Net, Oracle, JavaScript, C++]  \n",
      "11                      [26.0, 8.0, 85.0, 89.0, 31.0]  \n",
      "12                               [XS, XXS, S, M1, M2]  \n",
      "13                           [52, 816, 774, 4036, 88]  \n",
      "14                           [52, 816, 774, 4036, 88]  \n",
      "15                       [2.0, 102.0, 9.1, 45.3, 2.8]  \n",
      "16                       [2.0, 102.0, 9.1, 45.3, 2.8]  \n",
      "17                      [0.0, 56.2, 47.6, 43.5, 59.0]  \n",
      "18                       [2.2, 7.3, 212.5, 17.8, 2.6]  \n",
      "19                          [2.2, 2.0, 2.6, 3.6, 0.8]  \n",
      "20                         [12.0, 1.1, 0.4, 5.0, 7.0]  \n",
      "21                           [1, 9-14, 5-8, 2, 21-30]  \n",
      "22                         [1.0, 9.0, 8.0, 2.0, 22.0]  \n",
      "23                                          [No, Yes]  \n",
      "24  [Agile Development;, Agile Development;Unified...  \n",
      "25                                              [Yes]  \n",
      "26                                  [6, 3, 16, 18, 7]  \n",
      "27  [Stand alone, Client server, Multi-tier, Multi...  \n",
      "28                                          [Yes, No]  \n",
      "29  [Data entry & validation;Data retrieval & pres...  \n",
      "30  [HTML/web server;Security/authentication;, Mul...  \n",
      "31                                                 []  \n",
      "32                                              [Web]  \n",
      "33                                              [Yes]  \n",
      "34                                    [2, 0, 3, 7, 4]  \n",
      "35                                                 []  \n",
      "36                          [3.0, 8.0, 0.0, 5.0, 6.0]  \n",
      "37                          [1.0, 0.0, 5.0, 2.0, 4.0]  \n",
      "38                         [5.0, 0.0, 2.0, 16.0, 1.0]  \n",
      "39                                                 []  \n",
      "40                                                 []  \n",
      "41                                                 []  \n",
      "42                          [0.0, 2.0, 1.0, 4.0, 5.0]  \n",
      "43                          [5.0, 2.0, 0.0, 3.0, 1.0]  \n",
      "44                         [4.0, 0.0, 24.0, 3.0, 1.0]  \n",
      "45                      [3.0, 1.0, 10.0, 20.0, 200.0]  \n",
      "46                                    [0.0, 1.0, 2.0]  \n",
      "47                         [3.0, 0.0, 1.0, 2.0, 12.0]  \n",
      "48       [81500.0, 69850.0, 61435.0, 17160.0, 4871.0]  \n",
      "49  [European, euro, Canada, dollar, United States...  \n",
      "50                                   [No, Yes 10,000]  \n",
      "Cell executed at: 2025-05-15 18:05:11.417129\n"
     ]
    }
   ],
   "source": [
    "# Create a function to get comprehensive data summary\n",
    "def get_data_summary(df, n_unique_samples=5):\n",
    "    \"\"\"\n",
    "    Generate a comprehensive summary of the dataframe.\n",
    "    \n",
    "    Args:\n",
    "        df: Pandas DataFrame\n",
    "        n_unique_samples: Number of unique values to show as sample\n",
    "        \n",
    "    Returns:\n",
    "        DataFrame with summary information\n",
    "    \"\"\"\n",
    "    # Summary dataframe with basic info\n",
    "    summary = pd.DataFrame({\n",
    "        'Feature': df.columns,\n",
    "        'data_type': df.dtypes.values,\n",
    "        'Null_number': df.isnull().sum().values,\n",
    "        'Null_pct': (df.isnull().mean() * 100).values,\n",
    "        'Unique_counts': df.nunique().values,\n",
    "        'unique_samples': [list(df[col].dropna().unique()[:n_unique_samples]) for col in df.columns]\n",
    "    })\n",
    "    \n",
    "    return summary\n",
    "\n",
    "# Generate and display data summary\n",
    "summary_df = get_data_summary(df)\n",
    "print(\"\\nData Summary:\")\n",
    "print(summary_df)\n"
   ]
  },
  {
   "cell_type": "code",
   "execution_count": 15,
   "id": "ded2a650-102c-4283-85c4-812d73753850",
   "metadata": {},
   "outputs": [
    {
     "name": "stdout",
     "output_type": "stream",
     "text": [
      "\n",
      "Descriptive Statistics:\n",
      "                                                count           mean  \\\n",
      "ISBSG_Project_ID                                 84.0   20951.142857   \n",
      "Project_PRF__Year_of_Project                     84.0    2011.369048   \n",
      "Project_PRF__Functional_Size                     83.0     240.349398   \n",
      "Project_PRF__Normalised_Work_Effort_Level_1      84.0    2935.773810   \n",
      "Project_PRF__Normalised_Work_Effort              84.0    3219.678571   \n",
      "Project_PRF__Normalised_Level_1_PDR_ufp          83.0      12.912048   \n",
      "Project_PRF__Normalised_PDR_ufp                  83.0      12.944578   \n",
      "Project_PRF__Defect_Density                      31.0      19.229032   \n",
      "Project_PRF__Speed_of_Delivery                   81.0      83.383951   \n",
      "Project_PRF__Manpower_Delivery_Rate              56.0      46.051786   \n",
      "Project_PRF__Project_Elapsed_Time                82.0       6.420732   \n",
      "Project_PRF__Max_Team_Size                       59.0       6.355932   \n",
      "Process_PMF__Docs                                84.0       9.511905   \n",
      "Tech_TF__Type_of_Server                           0.0            NaN   \n",
      "Tech_TF__Tools_Used                              84.0       1.988095   \n",
      "People_PRF__Project_user_involvement              0.0            NaN   \n",
      "People_PRF__BA_team_experience_less_than_1_yr    15.0       2.466667   \n",
      "People_PRF__BA_team_experience_1_to_3_yr         18.0       3.777778   \n",
      "People_PRF__BA_team_experience_great_than_3_yr   17.0       4.588235   \n",
      "People_PRF__IT_experience_less_than_1_yr          0.0            NaN   \n",
      "People_PRF__IT_experience_1_to_3_yr               0.0            NaN   \n",
      "People_PRF__IT_experience_great_than_3_yr         0.0            NaN   \n",
      "People_PRF__IT_experience_less_than_3_yr         23.0       3.869565   \n",
      "People_PRF__IT_experience_3_to_9_yr              21.0       5.523810   \n",
      "People_PRF__IT_experience_great_than_9_yr        17.0       4.352941   \n",
      "People_PRF__Project_manage_experience            19.0      22.210526   \n",
      "People_PRF__Project_manage_changes               32.0       0.187500   \n",
      "People_PRF__Personnel_changes                    32.0       0.781250   \n",
      "Project_PRF__Total_project_cost                  29.0  106224.724138   \n",
      "\n",
      "                                                          std      min  \\\n",
      "ISBSG_Project_ID                                  6595.852569  10279.0   \n",
      "Project_PRF__Year_of_Project                         2.166446   2005.0   \n",
      "Project_PRF__Functional_Size                       643.223957      2.0   \n",
      "Project_PRF__Normalised_Work_Effort_Level_1       8964.927150      6.0   \n",
      "Project_PRF__Normalised_Work_Effort              10291.495141      6.0   \n",
      "Project_PRF__Normalised_Level_1_PDR_ufp             24.156448      0.1   \n",
      "Project_PRF__Normalised_PDR_ufp                     24.140298      0.1   \n",
      "Project_PRF__Defect_Density                         35.625732      0.0   \n",
      "Project_PRF__Speed_of_Delivery                     244.407717      0.2   \n",
      "Project_PRF__Manpower_Delivery_Rate                287.597615      0.2   \n",
      "Project_PRF__Project_Elapsed_Time                    5.030567      0.4   \n",
      "Project_PRF__Max_Team_Size                          11.842010      1.0   \n",
      "Process_PMF__Docs                                    6.066884      1.0   \n",
      "Tech_TF__Type_of_Server                                   NaN      NaN   \n",
      "Tech_TF__Tools_Used                                  1.916913      0.0   \n",
      "People_PRF__Project_user_involvement                      NaN      NaN   \n",
      "People_PRF__BA_team_experience_less_than_1_yr        3.481926      0.0   \n",
      "People_PRF__BA_team_experience_1_to_3_yr             7.408704      0.0   \n",
      "People_PRF__BA_team_experience_great_than_3_yr       6.605479      0.0   \n",
      "People_PRF__IT_experience_less_than_1_yr                  NaN      NaN   \n",
      "People_PRF__IT_experience_1_to_3_yr                       NaN      NaN   \n",
      "People_PRF__IT_experience_great_than_3_yr                 NaN      NaN   \n",
      "People_PRF__IT_experience_less_than_3_yr             5.488039      0.0   \n",
      "People_PRF__IT_experience_3_to_9_yr                  8.016352      0.0   \n",
      "People_PRF__IT_experience_great_than_9_yr            6.518638      0.0   \n",
      "People_PRF__Project_manage_experience               45.036502      1.0   \n",
      "People_PRF__Project_manage_changes                   0.470929      0.0   \n",
      "People_PRF__Personnel_changes                        2.181068      0.0   \n",
      "Project_PRF__Total_project_cost                 189999.228840   4871.0   \n",
      "\n",
      "                                                      25%       50%  \\\n",
      "ISBSG_Project_ID                                14851.250  20162.00   \n",
      "Project_PRF__Year_of_Project                     2009.750   2012.00   \n",
      "Project_PRF__Functional_Size                       24.500     85.00   \n",
      "Project_PRF__Normalised_Work_Effort_Level_1        77.750    470.50   \n",
      "Project_PRF__Normalised_Work_Effort                85.750    474.50   \n",
      "Project_PRF__Normalised_Level_1_PDR_ufp             2.350      3.60   \n",
      "Project_PRF__Normalised_PDR_ufp                     2.450      3.60   \n",
      "Project_PRF__Defect_Density                         0.000      0.00   \n",
      "Project_PRF__Speed_of_Delivery                      3.100     29.10   \n",
      "Project_PRF__Manpower_Delivery_Rate                 1.375      2.95   \n",
      "Project_PRF__Project_Elapsed_Time                   2.625      4.00   \n",
      "Project_PRF__Max_Team_Size                          1.000      2.00   \n",
      "Process_PMF__Docs                                   5.000      6.00   \n",
      "Tech_TF__Type_of_Server                               NaN       NaN   \n",
      "Tech_TF__Tools_Used                                 0.000      2.00   \n",
      "People_PRF__Project_user_involvement                  NaN       NaN   \n",
      "People_PRF__BA_team_experience_less_than_1_yr       0.000      1.00   \n",
      "People_PRF__BA_team_experience_1_to_3_yr            0.000      1.50   \n",
      "People_PRF__BA_team_experience_great_than_3_yr      1.000      2.00   \n",
      "People_PRF__IT_experience_less_than_1_yr              NaN       NaN   \n",
      "People_PRF__IT_experience_1_to_3_yr                   NaN       NaN   \n",
      "People_PRF__IT_experience_great_than_3_yr             NaN       NaN   \n",
      "People_PRF__IT_experience_less_than_3_yr            0.500      2.00   \n",
      "People_PRF__IT_experience_3_to_9_yr                 2.000      4.00   \n",
      "People_PRF__IT_experience_great_than_9_yr           1.000      2.00   \n",
      "People_PRF__Project_manage_experience               3.000      8.00   \n",
      "People_PRF__Project_manage_changes                  0.000      0.00   \n",
      "People_PRF__Personnel_changes                       0.000      0.00   \n",
      "Project_PRF__Total_project_cost                 15680.000  57035.00   \n",
      "\n",
      "                                                      75%       max  \n",
      "ISBSG_Project_ID                                26671.250   32010.0  \n",
      "Project_PRF__Year_of_Project                     2013.000    2015.0  \n",
      "Project_PRF__Functional_Size                      172.500    5393.0  \n",
      "Project_PRF__Normalised_Work_Effort_Level_1      1020.000   52743.0  \n",
      "Project_PRF__Normalised_Work_Effort              1060.750   60047.0  \n",
      "Project_PRF__Normalised_Level_1_PDR_ufp            12.100     171.0  \n",
      "Project_PRF__Normalised_PDR_ufp                    12.100     171.0  \n",
      "Project_PRF__Defect_Density                        32.700     173.9  \n",
      "Project_PRF__Speed_of_Delivery                     72.900    2157.2  \n",
      "Project_PRF__Manpower_Delivery_Rate                 9.575    2157.2  \n",
      "Project_PRF__Project_Elapsed_Time                  12.000      19.0  \n",
      "Project_PRF__Max_Team_Size                          5.000      68.0  \n",
      "Process_PMF__Docs                                  17.000      20.0  \n",
      "Tech_TF__Type_of_Server                               NaN       NaN  \n",
      "Tech_TF__Tools_Used                                 3.000       9.0  \n",
      "People_PRF__Project_user_involvement                  NaN       NaN  \n",
      "People_PRF__BA_team_experience_less_than_1_yr       4.000      11.0  \n",
      "People_PRF__BA_team_experience_1_to_3_yr            4.000      32.0  \n",
      "People_PRF__BA_team_experience_great_than_3_yr      5.000      25.0  \n",
      "People_PRF__IT_experience_less_than_1_yr              NaN       NaN  \n",
      "People_PRF__IT_experience_1_to_3_yr                   NaN       NaN  \n",
      "People_PRF__IT_experience_great_than_3_yr             NaN       NaN  \n",
      "People_PRF__IT_experience_less_than_3_yr            5.000      22.0  \n",
      "People_PRF__IT_experience_3_to_9_yr                 5.000      33.0  \n",
      "People_PRF__IT_experience_great_than_9_yr           4.000      24.0  \n",
      "People_PRF__Project_manage_experience              17.500     200.0  \n",
      "People_PRF__Project_manage_changes                  0.000       2.0  \n",
      "People_PRF__Personnel_changes                       1.000      12.0  \n",
      "Project_PRF__Total_project_cost                 81500.000  765000.0  \n",
      "Cell executed at: 2025-05-15 18:05:22.786167\n"
     ]
    }
   ],
   "source": [
    "# Display descriptive statistics for numeric columns\n",
    "desc_stats = df.describe().T\n",
    "print(\"\\nDescriptive Statistics:\")\n",
    "print(desc_stats)"
   ]
  },
  {
   "cell_type": "code",
   "execution_count": 8,
   "id": "8e3a2cd8-9023-4c07-a27a-df0917494f4d",
   "metadata": {},
   "outputs": [
    {
     "name": "stdout",
     "output_type": "stream",
     "text": [
      "Cell executed at: 2025-05-15 17:26:19.416517\n"
     ]
    }
   ],
   "source": [
    "# ## Data Cleaning and Preprocessing"
   ]
  },
  {
   "cell_type": "code",
   "execution_count": 16,
   "id": "1478ab15-90a8-47aa-9ed6-831732588629",
   "metadata": {},
   "outputs": [
    {
     "name": "stdout",
     "output_type": "stream",
     "text": [
      "\n",
      "Analyzing missing values...\n",
      "People_PRF__IT_experience_great_than_3_yr         100.000000\n",
      "People_PRF__IT_experience_1_to_3_yr               100.000000\n",
      "People_PRF__IT_experience_less_than_1_yr          100.000000\n",
      "People_PRF__Project_user_involvement              100.000000\n",
      "Tech_TF__Type_of_Server                           100.000000\n",
      "Process_PMF__Prototyping_Used                      94.047619\n",
      "People_PRF__BA_team_experience_less_than_1_yr      82.142857\n",
      "__CASE_Tool_Used                                   80.952381\n",
      "People_PRF__IT_experience_great_than_9_yr          79.761905\n",
      "People_PRF__BA_team_experience_great_than_3_yr     79.761905\n",
      "People_PRF__BA_team_experience_1_to_3_yr           78.571429\n",
      "Project_PRF__Currency_multiple                     78.571429\n",
      "People_PRF__Project_manage_experience              77.380952\n",
      "People_PRF__IT_experience_3_to_9_yr                75.000000\n",
      "People_PRF__IT_experience_less_than_3_yr           72.619048\n",
      "Tech_TF__Client_Roles                              69.047619\n",
      "Tech_TF__Server_Roles                              67.857143\n",
      "Project_PRF__Total_project_cost                    65.476190\n",
      "Project_PRF__Cost_currency                         64.285714\n",
      "Project_PRF__Defect_Density                        63.095238\n",
      "Tech_TF__Client_Server                             61.904762\n",
      "People_PRF__Project_manage_changes                 61.904762\n",
      "People_PRF__Personnel_changes                      61.904762\n",
      "Tech_TF__Web_Development                           59.523810\n",
      "Project_PRF__Manpower_Delivery_Rate                33.333333\n",
      "Tech_TF__DBMS_Used                                 32.142857\n",
      "Project_PRF__Max_Team_Size                         29.761905\n",
      "Project_PRF__Team_Size_Group                       29.761905\n",
      "Tech_TF__Architecture                              17.857143\n",
      "Tech_TF__Development_Platform                      17.857143\n",
      "Project_PRF__Application_Group                      5.952381\n",
      "Process_PMF__Development_Methodologies              4.761905\n",
      "Project_PRF__Speed_of_Delivery                      3.571429\n",
      "Project_PRF__Project_Elapsed_Time                   2.380952\n",
      "External_EEF__Industry_Sector                       1.190476\n",
      "Project_PRF__Functional_Size                        1.190476\n",
      "Project_PRF__Normalised_PDR_ufp                     1.190476\n",
      "Project_PRF__Normalised_Level_1_PDR_ufp             1.190476\n",
      "Project_PRF__Relative_Size                          1.190476\n",
      "Project_PRF__Year_of_Project                        0.000000\n",
      "Tech_TF__Primary_Programming_Language               0.000000\n",
      "External_EEF__Organisation_Type                     0.000000\n",
      "Project_PRF__Application_Type                       0.000000\n",
      "Project_PRF__Development_Type                       0.000000\n",
      "Tech_TF__Language_Type                              0.000000\n",
      "Tech_TF__Tools_Used                                 0.000000\n",
      "Project_PRF__Normalised_Work_Effort_Level_1         0.000000\n",
      "Process_PMF__Docs                                   0.000000\n",
      "External_EEF__Data_Quality_Rating                   0.000000\n",
      "Project_PRF__Normalised_Work_Effort                 0.000000\n",
      "ISBSG_Project_ID                                    0.000000\n",
      "dtype: float64\n",
      "Cell executed at: 2025-05-15 18:05:28.072723\n"
     ]
    }
   ],
   "source": [
    "# Analyze missing values\n",
    "print(\"\\nAnalyzing missing values...\")\n",
    "missing_pct = df.isnull().mean() * 100\n",
    "missing_sorted = missing_pct.sort_values(ascending=False)\n",
    "print(missing_sorted)"
   ]
  },
  {
   "cell_type": "code",
   "execution_count": 17,
   "id": "91eed99a-7179-4aae-a7de-6d0cedbff7f0",
   "metadata": {},
   "outputs": [
    {
     "name": "stdout",
     "output_type": "stream",
     "text": [
      "\n",
      "Columns with >70% missing values (15 columns):\n",
      "  - __CASE_Tool_Used: 80.95% missing\n",
      "  - Process_PMF__Prototyping_Used: 94.05% missing\n",
      "  - Tech_TF__Type_of_Server: 100.00% missing\n",
      "  - People_PRF__Project_user_involvement: 100.00% missing\n",
      "  - People_PRF__BA_team_experience_less_than_1_yr: 82.14% missing\n",
      "  - People_PRF__BA_team_experience_1_to_3_yr: 78.57% missing\n",
      "  - People_PRF__BA_team_experience_great_than_3_yr: 79.76% missing\n",
      "  - People_PRF__IT_experience_less_than_1_yr: 100.00% missing\n",
      "  - People_PRF__IT_experience_1_to_3_yr: 100.00% missing\n",
      "  - People_PRF__IT_experience_great_than_3_yr: 100.00% missing\n",
      "  - People_PRF__IT_experience_less_than_3_yr: 72.62% missing\n",
      "  - People_PRF__IT_experience_3_to_9_yr: 75.00% missing\n",
      "  - People_PRF__IT_experience_great_than_9_yr: 79.76% missing\n",
      "  - People_PRF__Project_manage_experience: 77.38% missing\n",
      "  - Project_PRF__Currency_multiple: 78.57% missing\n",
      "Cell executed at: 2025-05-15 18:06:13.348556\n"
     ]
    }
   ],
   "source": [
    "# Identify columns with high missing values (>70%)\n",
    "high_missing_cols = missing_pct[missing_pct > 70].index.tolist()\n",
    "print(f\"\\nColumns with >70% missing values ({len(high_missing_cols)} columns):\")\n",
    "for col in high_missing_cols:\n",
    "    print(f\"  - {col}: {missing_pct[col]:.2f}% missing\")\n"
   ]
  },
  {
   "cell_type": "code",
   "execution_count": 18,
   "id": "9106b8ff-475a-406a-b1b1-203e0cd4e18c",
   "metadata": {},
   "outputs": [
    {
     "name": "stdout",
     "output_type": "stream",
     "text": [
      "\n",
      "Data shape after dropping high-missing columns: (84, 36)\n",
      "Cell executed at: 2025-05-15 18:06:19.645175\n"
     ]
    }
   ],
   "source": [
    "# Create a clean dataframe by dropping high-missing columns\n",
    "df_clean = df.drop(columns=high_missing_cols)\n",
    "print(f\"\\nData shape after dropping high-missing columns: {df_clean.shape}\")"
   ]
  },
  {
   "cell_type": "code",
   "execution_count": 19,
   "id": "91d90a2b-18c7-47d4-b5d2-54f5f635ef37",
   "metadata": {},
   "outputs": [
    {
     "name": "stdout",
     "output_type": "stream",
     "text": [
      "\n",
      "Handling remaining missing values...\n",
      "Cell executed at: 2025-05-15 18:06:25.320719\n"
     ]
    }
   ],
   "source": [
    "# Handle remaining missing values\n",
    "print(\"\\nHandling remaining missing values...\")"
   ]
  },
  {
   "cell_type": "code",
   "execution_count": 20,
   "id": "b3da6431-b898-4bdc-afce-cd700f5b2a9a",
   "metadata": {},
   "outputs": [
    {
     "name": "stdout",
     "output_type": "stream",
     "text": [
      "Cell executed at: 2025-05-15 18:06:31.755005\n"
     ]
    }
   ],
   "source": [
    "# Fill missing values in categorical columns with \"Missing\"\n",
    "cat_cols = df_clean.select_dtypes(include=['object', 'category']).columns\n",
    "for col in cat_cols:\n",
    "    df_clean[col].fillna('Missing', inplace=True)"
   ]
  },
  {
   "cell_type": "code",
   "execution_count": 21,
   "id": "2fcc7aeb-1e09-4c8e-8c5b-38511eb644fc",
   "metadata": {},
   "outputs": [
    {
     "name": "stdout",
     "output_type": "stream",
     "text": [
      "\n",
      "Remaining missing values after handling categorical columns:\n",
      "Project_PRF__Functional_Size                1\n",
      "Project_PRF__Normalised_Level_1_PDR_ufp     1\n",
      "Project_PRF__Normalised_PDR_ufp             1\n",
      "Project_PRF__Defect_Density                53\n",
      "Project_PRF__Speed_of_Delivery              3\n",
      "Project_PRF__Manpower_Delivery_Rate        28\n",
      "Project_PRF__Project_Elapsed_Time           2\n",
      "Project_PRF__Max_Team_Size                 25\n",
      "People_PRF__Project_manage_changes         52\n",
      "People_PRF__Personnel_changes              52\n",
      "Project_PRF__Total_project_cost            55\n",
      "dtype: int64\n",
      "Cell executed at: 2025-05-15 18:06:37.940155\n"
     ]
    }
   ],
   "source": [
    "# Check remaining missing values\n",
    "remaining_missing = df_clean.isnull().sum()\n",
    "print(\"\\nRemaining missing values after handling categorical columns:\")\n",
    "print(remaining_missing[remaining_missing > 0])"
   ]
  },
  {
   "cell_type": "code",
   "execution_count": 24,
   "id": "dc338f55-af72-43a6-a4a4-f5996bbd8c6e",
   "metadata": {},
   "outputs": [
    {
     "name": "stdout",
     "output_type": "stream",
     "text": [
      "['ISBSG_Project_ID', 'External_EEF__Data_Quality_Rating', 'Project_PRF__Year_of_Project', 'External_EEF__Industry_Sector', 'External_EEF__Organisation_Type', 'Project_PRF__Application_Group', 'Project_PRF__Application_Type', 'Project_PRF__Development_Type', 'Tech_TF__Development_Platform', 'Tech_TF__Language_Type', 'Tech_TF__Primary_Programming_Language', 'Project_PRF__Functional_Size', 'Project_PRF__Relative_Size', 'Project_PRF__Normalised_Work_Effort_Level_1', 'Project_PRF__Normalised_Work_Effort', 'Project_PRF__Normalised_Level_1_PDR_ufp', 'Project_PRF__Normalised_PDR_ufp', 'Project_PRF__Defect_Density', 'Project_PRF__Speed_of_Delivery', 'Project_PRF__Manpower_Delivery_Rate', 'Project_PRF__Project_Elapsed_Time', 'Project_PRF__Team_Size_Group', 'Project_PRF__Max_Team_Size', 'Process_PMF__Development_Methodologies', 'Process_PMF__Docs', 'Tech_TF__Architecture', 'Tech_TF__Client_Server', 'Tech_TF__Client_Roles', 'Tech_TF__Server_Roles', 'Tech_TF__Web_Development', 'Tech_TF__DBMS_Used', 'Tech_TF__Tools_Used', 'People_PRF__Project_manage_changes', 'People_PRF__Personnel_changes', 'Project_PRF__Total_project_cost', 'Project_PRF__Cost_currency']\n",
      "Cell executed at: 2025-05-15 18:09:14.776948\n"
     ]
    }
   ],
   "source": [
    "print(df_clean.columns.tolist())\n"
   ]
  },
  {
   "cell_type": "code",
   "execution_count": 23,
   "id": "256be495-1710-46ab-8fbd-61d703cf0a06",
   "metadata": {},
   "outputs": [
    {
     "name": "stdout",
     "output_type": "stream",
     "text": [
      "\n",
      "Target variable 'Project_PRF_Normalised_Work_Effort' summary:\n"
     ]
    },
    {
     "ename": "KeyError",
     "evalue": "'Project_PRF_Normalised_Work_Effort'",
     "output_type": "error",
     "traceback": [
      "\u001b[31m---------------------------------------------------------------------------\u001b[39m",
      "\u001b[31mKeyError\u001b[39m                                  Traceback (most recent call last)",
      "\u001b[36mFile \u001b[39m\u001b[32m~\\.conda\\envs\\streamlit-env-agile\\Lib\\site-packages\\pandas\\core\\indexes\\base.py:3791\u001b[39m, in \u001b[36mIndex.get_loc\u001b[39m\u001b[34m(self, key)\u001b[39m\n\u001b[32m   3790\u001b[39m \u001b[38;5;28;01mtry\u001b[39;00m:\n\u001b[32m-> \u001b[39m\u001b[32m3791\u001b[39m     \u001b[38;5;28;01mreturn\u001b[39;00m \u001b[38;5;28mself\u001b[39m._engine.get_loc(casted_key)\n\u001b[32m   3792\u001b[39m \u001b[38;5;28;01mexcept\u001b[39;00m \u001b[38;5;167;01mKeyError\u001b[39;00m \u001b[38;5;28;01mas\u001b[39;00m err:\n",
      "\u001b[36mFile \u001b[39m\u001b[32mindex.pyx:152\u001b[39m, in \u001b[36mpandas._libs.index.IndexEngine.get_loc\u001b[39m\u001b[34m()\u001b[39m\n",
      "\u001b[36mFile \u001b[39m\u001b[32mindex.pyx:181\u001b[39m, in \u001b[36mpandas._libs.index.IndexEngine.get_loc\u001b[39m\u001b[34m()\u001b[39m\n",
      "\u001b[36mFile \u001b[39m\u001b[32mpandas\\_libs\\hashtable_class_helper.pxi:7080\u001b[39m, in \u001b[36mpandas._libs.hashtable.PyObjectHashTable.get_item\u001b[39m\u001b[34m()\u001b[39m\n",
      "\u001b[36mFile \u001b[39m\u001b[32mpandas\\_libs\\hashtable_class_helper.pxi:7088\u001b[39m, in \u001b[36mpandas._libs.hashtable.PyObjectHashTable.get_item\u001b[39m\u001b[34m()\u001b[39m\n",
      "\u001b[31mKeyError\u001b[39m: 'Project_PRF_Normalised_Work_Effort'",
      "\nThe above exception was the direct cause of the following exception:\n",
      "\u001b[31mKeyError\u001b[39m                                  Traceback (most recent call last)",
      "\u001b[36mCell\u001b[39m\u001b[36m \u001b[39m\u001b[32mIn[23]\u001b[39m\u001b[32m, line 4\u001b[39m\n\u001b[32m      2\u001b[39m target_col = \u001b[33m'\u001b[39m\u001b[33mProject_PRF_Normalised_Work_Effort\u001b[39m\u001b[33m'\u001b[39m\n\u001b[32m      3\u001b[39m \u001b[38;5;28mprint\u001b[39m(\u001b[33mf\u001b[39m\u001b[33m\"\u001b[39m\u001b[38;5;130;01m\\n\u001b[39;00m\u001b[33mTarget variable \u001b[39m\u001b[33m'\u001b[39m\u001b[38;5;132;01m{\u001b[39;00mtarget_col\u001b[38;5;132;01m}\u001b[39;00m\u001b[33m'\u001b[39m\u001b[33m summary:\u001b[39m\u001b[33m\"\u001b[39m)\n\u001b[32m----> \u001b[39m\u001b[32m4\u001b[39m \u001b[38;5;28mprint\u001b[39m(\u001b[33mf\u001b[39m\u001b[33m\"\u001b[39m\u001b[33mUnique values: \u001b[39m\u001b[38;5;132;01m{\u001b[39;00mdf_clean[target_col].nunique()\u001b[38;5;132;01m}\u001b[39;00m\u001b[33m\"\u001b[39m)\n\u001b[32m      5\u001b[39m \u001b[38;5;28mprint\u001b[39m(\u001b[33mf\u001b[39m\u001b[33m\"\u001b[39m\u001b[33mMissing values: \u001b[39m\u001b[38;5;132;01m{\u001b[39;00mdf_clean[target_col].isnull().sum()\u001b[38;5;132;01m}\u001b[39;00m\u001b[33m\"\u001b[39m)\n\u001b[32m      6\u001b[39m \u001b[38;5;28mprint\u001b[39m(\u001b[33mf\u001b[39m\u001b[33m\"\u001b[39m\u001b[33mTop value counts:\u001b[39m\u001b[33m\"\u001b[39m)\n",
      "\u001b[36mFile \u001b[39m\u001b[32m~\\.conda\\envs\\streamlit-env-agile\\Lib\\site-packages\\pandas\\core\\frame.py:3893\u001b[39m, in \u001b[36mDataFrame.__getitem__\u001b[39m\u001b[34m(self, key)\u001b[39m\n\u001b[32m   3891\u001b[39m \u001b[38;5;28;01mif\u001b[39;00m \u001b[38;5;28mself\u001b[39m.columns.nlevels > \u001b[32m1\u001b[39m:\n\u001b[32m   3892\u001b[39m     \u001b[38;5;28;01mreturn\u001b[39;00m \u001b[38;5;28mself\u001b[39m._getitem_multilevel(key)\n\u001b[32m-> \u001b[39m\u001b[32m3893\u001b[39m indexer = \u001b[38;5;28mself\u001b[39m.columns.get_loc(key)\n\u001b[32m   3894\u001b[39m \u001b[38;5;28;01mif\u001b[39;00m is_integer(indexer):\n\u001b[32m   3895\u001b[39m     indexer = [indexer]\n",
      "\u001b[36mFile \u001b[39m\u001b[32m~\\.conda\\envs\\streamlit-env-agile\\Lib\\site-packages\\pandas\\core\\indexes\\base.py:3798\u001b[39m, in \u001b[36mIndex.get_loc\u001b[39m\u001b[34m(self, key)\u001b[39m\n\u001b[32m   3793\u001b[39m     \u001b[38;5;28;01mif\u001b[39;00m \u001b[38;5;28misinstance\u001b[39m(casted_key, \u001b[38;5;28mslice\u001b[39m) \u001b[38;5;129;01mor\u001b[39;00m (\n\u001b[32m   3794\u001b[39m         \u001b[38;5;28misinstance\u001b[39m(casted_key, abc.Iterable)\n\u001b[32m   3795\u001b[39m         \u001b[38;5;129;01mand\u001b[39;00m \u001b[38;5;28many\u001b[39m(\u001b[38;5;28misinstance\u001b[39m(x, \u001b[38;5;28mslice\u001b[39m) \u001b[38;5;28;01mfor\u001b[39;00m x \u001b[38;5;129;01min\u001b[39;00m casted_key)\n\u001b[32m   3796\u001b[39m     ):\n\u001b[32m   3797\u001b[39m         \u001b[38;5;28;01mraise\u001b[39;00m InvalidIndexError(key)\n\u001b[32m-> \u001b[39m\u001b[32m3798\u001b[39m     \u001b[38;5;28;01mraise\u001b[39;00m \u001b[38;5;167;01mKeyError\u001b[39;00m(key) \u001b[38;5;28;01mfrom\u001b[39;00m\u001b[38;5;250m \u001b[39m\u001b[34;01merr\u001b[39;00m\n\u001b[32m   3799\u001b[39m \u001b[38;5;28;01mexcept\u001b[39;00m \u001b[38;5;167;01mTypeError\u001b[39;00m:\n\u001b[32m   3800\u001b[39m     \u001b[38;5;66;03m# If we have a listlike key, _check_indexing_error will raise\u001b[39;00m\n\u001b[32m   3801\u001b[39m     \u001b[38;5;66;03m#  InvalidIndexError. Otherwise we fall through and re-raise\u001b[39;00m\n\u001b[32m   3802\u001b[39m     \u001b[38;5;66;03m#  the TypeError.\u001b[39;00m\n\u001b[32m   3803\u001b[39m     \u001b[38;5;28mself\u001b[39m._check_indexing_error(key)\n",
      "\u001b[31mKeyError\u001b[39m: 'Project_PRF_Normalised_Work_Effort'"
     ]
    },
    {
     "name": "stdout",
     "output_type": "stream",
     "text": [
      "Cell executed at: 2025-05-15 18:08:02.298331\n"
     ]
    }
   ],
   "source": [
    "# Verify target variable\n",
    "target_col = 'Project_PRF_Normalised_Work_Effort'\n",
    "print(f\"\\nTarget variable '{target_col}' summary:\")\n",
    "print(f\"Unique values: {df_clean[target_col].nunique()}\")\n",
    "print(f\"Missing values: {df_clean[target_col].isnull().sum()}\")\n",
    "print(f\"Top value counts:\")\n",
    "print(df_clean[target_col].value_counts().head())\n"
   ]
  },
  {
   "cell_type": "code",
   "execution_count": 16,
   "id": "b41adf2f-9588-4d04-a0c3-265cb3029645",
   "metadata": {},
   "outputs": [
    {
     "name": "stdout",
     "output_type": "stream",
     "text": [
      "\n",
      "Number of infinite values: 0\n",
      "Cell executed at: 2025-05-15 17:29:23.458692\n"
     ]
    }
   ],
   "source": [
    "# Check for infinite values\n",
    "inf_check = np.isinf(df_clean.select_dtypes(include=[np.number])).sum().sum()\n",
    "print(f\"\\nNumber of infinite values: {inf_check}\")"
   ]
  },
  {
   "cell_type": "code",
   "execution_count": 17,
   "id": "5e09da5f-54a5-406f-b042-d71f0c52aefe",
   "metadata": {},
   "outputs": [
    {
     "name": "stdout",
     "output_type": "stream",
     "text": [
      "\n",
      "Cleaned data saved to 'data/cleaned_data.csv'\n",
      "Cell executed at: 2025-05-15 17:29:34.167274\n"
     ]
    }
   ],
   "source": [
    "# Save cleaned data\n",
    "df_clean.to_csv('data/cleaned_data.csv', index=False)\n",
    "print(\"\\nCleaned data saved to 'data/cleaned_data.csv'\")\n"
   ]
  },
  {
   "cell_type": "code",
   "execution_count": 18,
   "id": "3d5e4ebe-d3e0-4a56-8767-743a5d02acef",
   "metadata": {},
   "outputs": [
    {
     "name": "stdout",
     "output_type": "stream",
     "text": [
      "Cell executed at: 2025-05-15 17:29:42.763836\n"
     ]
    }
   ],
   "source": [
    "# ## Feature Engineering and Encoding"
   ]
  },
  {
   "cell_type": "code",
   "execution_count": 19,
   "id": "02146b23-08d2-4afe-a4f3-df54babca0ab",
   "metadata": {},
   "outputs": [
    {
     "name": "stdout",
     "output_type": "stream",
     "text": [
      "\n",
      "Categorical columns and their cardinality:\n",
      "  External (EEF) - Data Quality Rating: 4 unique values\n",
      "  External (EEF) - Industry Sector: 11 unique values\n",
      "  External (EEF) - Organisation Type: 25 unique values\n",
      "  Project (PRF) - Application Group: 5 unique values\n",
      "  Project (PRF) - Application Type: 32 unique values\n",
      "  Project (PRF) - Development Type: 3 unique values\n",
      "  Tech (TF) - Development Platform: 5 unique values\n",
      "  Tech (TF) - Language Type: 3 unique values\n",
      "  Tech (TF) - Primary Programming Language: 9 unique values\n",
      "  Project (PRF) - Relative Size: 8 unique values\n",
      "  Project (PRF) - Team Size Group: 9 unique values\n",
      "  Process (PMF) - Development Methodologies: 10 unique values\n",
      "  Tech (TF) - Architecture: 5 unique values\n",
      "  Tech (TF) - Client Server?: 3 unique values\n",
      "  Tech (TF) - Client Roles: 11 unique values\n",
      "  Tech (TF) - Server Roles: 13 unique values\n",
      "  Tech (TF) - Web Development: 2 unique values\n",
      "  Tech (TF) - DBMS Used: 2 unique values\n",
      "  Project (PRF) - Cost currency: 4 unique values\n",
      "Cell executed at: 2025-05-15 17:29:52.950818\n"
     ]
    }
   ],
   "source": [
    "# Identify categorical columns and check cardinality\n",
    "print(\"\\nCategorical columns and their cardinality:\")\n",
    "cat_cols = df_clean.select_dtypes(include=['object', 'category']).columns.tolist()\n",
    "for col in cat_cols:\n",
    "    print(f\"  {col}: {df_clean[col].nunique()} unique values\")"
   ]
  },
  {
   "cell_type": "code",
   "execution_count": 20,
   "id": "13827e97-52a7-4706-93e8-56993f34bb34",
   "metadata": {},
   "outputs": [
    {
     "name": "stdout",
     "output_type": "stream",
     "text": [
      "\n",
      "Applying one-hot encoding to 13 low-cardinality columns:\n",
      "  - External (EEF) - Data Quality Rating\n",
      "  - Project (PRF) - Application Group\n",
      "  - Project (PRF) - Development Type\n",
      "  - Tech (TF) - Development Platform\n",
      "  - Tech (TF) - Language Type\n",
      "  - Tech (TF) - Primary Programming Language\n",
      "  - Project (PRF) - Relative Size\n",
      "  - Project (PRF) - Team Size Group\n",
      "  - Tech (TF) - Architecture\n",
      "  - Tech (TF) - Client Server?\n",
      "  - ... and 3 more columns\n",
      "Cell executed at: 2025-05-15 17:30:27.860918\n"
     ]
    }
   ],
   "source": [
    "# One-hot encode categorical columns with low cardinality (<10 unique values)\n",
    "low_card_cols = [col for col in cat_cols if df_clean[col].nunique() < 10]\n",
    "print(f\"\\nApplying one-hot encoding to {len(low_card_cols)} low-cardinality columns:\")\n",
    "for col in low_card_cols[:10]:  # Show first 10\n",
    "    print(f\"  - {col}\")\n",
    "if len(low_card_cols) > 10:\n",
    "    print(f\"  - ... and {len(low_card_cols) - 10} more columns\")\n"
   ]
  },
  {
   "cell_type": "code",
   "execution_count": 21,
   "id": "3fb3b252-b306-42b8-b048-52f5770905cb",
   "metadata": {},
   "outputs": [
    {
     "name": "stdout",
     "output_type": "stream",
     "text": [
      "\n",
      "Data shape after one-hot encoding: (84, 72)\n",
      "Cell executed at: 2025-05-15 17:31:07.539019\n"
     ]
    }
   ],
   "source": [
    "# Create encoded dataframe\n",
    "df_encoded = pd.get_dummies(df_clean, columns=low_card_cols, drop_first=True)\n",
    "print(f\"\\nData shape after one-hot encoding: {df_encoded.shape}\")"
   ]
  },
  {
   "cell_type": "code",
   "execution_count": 22,
   "id": "0c537ff5-d690-42ed-8d3c-f9e8bbb8bd60",
   "metadata": {},
   "outputs": [
    {
     "name": "stdout",
     "output_type": "stream",
     "text": [
      "\n",
      "Encoded data saved to 'data/encoded_data.csv'\n",
      "Cell executed at: 2025-05-15 17:31:20.723759\n"
     ]
    }
   ],
   "source": [
    "# Save encoded data\n",
    "df_encoded.to_csv('data/encoded_data.csv', index=False)\n",
    "print(\"\\nEncoded data saved to 'data/encoded_data.csv'\")"
   ]
  },
  {
   "cell_type": "code",
   "execution_count": 24,
   "id": "e217e573-7d82-4f45-8be3-6e3658b397bb",
   "metadata": {},
   "outputs": [
    {
     "data": {
      "text/html": [
       "\n",
       "            <div>\n",
       "                <ins><a href=\"https://ydata.ai/register\">Upgrade to ydata-sdk</a></ins>\n",
       "                <p>\n",
       "                    Improve your data and profiling with ydata-sdk, featuring data quality scoring, redundancy detection, outlier identification, text validation, and synthetic data generation.\n",
       "                </p>\n",
       "            </div>\n",
       "            "
      ],
      "text/plain": [
       "<IPython.core.display.HTML object>"
      ]
     },
     "metadata": {},
     "output_type": "display_data"
    },
    {
     "name": "stdout",
     "output_type": "stream",
     "text": [
      "\n",
      "Generating data profile report...\n"
     ]
    },
    {
     "data": {
      "application/vnd.jupyter.widget-view+json": {
       "model_id": "992ba6c09f134ef883adf3020723a422",
       "version_major": 2,
       "version_minor": 0
      },
      "text/plain": [
       "Summarize dataset:   0%|          | 0/5 [00:00<?, ?it/s]"
      ]
     },
     "metadata": {},
     "output_type": "display_data"
    },
    {
     "name": "stderr",
     "output_type": "stream",
     "text": [
      "\n",
      "\u001b[A%|          | 0/36 [00:00<?, ?it/s]\n",
      "\u001b[A%|█▍        | 5/36 [00:00<00:01, 25.78it/s]\n",
      "100%|██████████| 36/36 [00:00<00:00, 85.11it/s]\n"
     ]
    },
    {
     "data": {
      "application/vnd.jupyter.widget-view+json": {
       "model_id": "2b860aab58344a58b4d1194944a861d5",
       "version_major": 2,
       "version_minor": 0
      },
      "text/plain": [
       "Generate report structure:   0%|          | 0/1 [00:00<?, ?it/s]"
      ]
     },
     "metadata": {},
     "output_type": "display_data"
    },
    {
     "data": {
      "application/vnd.jupyter.widget-view+json": {
       "model_id": "0a27d69660b8410887dbeaac6ac7d4e6",
       "version_major": 2,
       "version_minor": 0
      },
      "text/plain": [
       "Render HTML:   0%|          | 0/1 [00:00<?, ?it/s]"
      ]
     },
     "metadata": {},
     "output_type": "display_data"
    },
    {
     "data": {
      "application/vnd.jupyter.widget-view+json": {
       "model_id": "6425924b7f3840f6930bf39c77011fff",
       "version_major": 2,
       "version_minor": 0
      },
      "text/plain": [
       "Export report to file:   0%|          | 0/1 [00:00<?, ?it/s]"
      ]
     },
     "metadata": {},
     "output_type": "display_data"
    },
    {
     "name": "stdout",
     "output_type": "stream",
     "text": [
      "Data profile report saved to 'data_profile.html'\n",
      "Cell executed at: 2025-05-15 17:32:12.321297\n"
     ]
    }
   ],
   "source": [
    "# ## Data Profiling (Optional)\n",
    "\n",
    "try:\n",
    "    from ydata_profiling import ProfileReport\n",
    "    \n",
    "    print(\"\\nGenerating data profile report...\")\n",
    "    profile = ProfileReport(df_clean, title=\"ISBSG Dataset Profiling Report\", minimal=True)\n",
    "    profile.to_file(\"data_profile.html\")\n",
    "    print(\"Data profile report saved to 'data_profile.html'\")\n",
    "except ImportError:\n",
    "    print(\"\\nSkipping data profiling (ydata_profiling not installed)\")\n",
    "    print(\"To install: pip install ydata-profiling\")"
   ]
  },
  {
   "cell_type": "code",
   "execution_count": null,
   "id": "9fc061d7-566f-4568-b33c-e880eb10188d",
   "metadata": {},
   "outputs": [],
   "source": [
    "# ## Model Building with PyCaret"
   ]
  },
  {
   "cell_type": "code",
   "execution_count": 33,
   "id": "0841acfb-b8fc-400e-b7dc-a1d4c4a70d1b",
   "metadata": {},
   "outputs": [
    {
     "name": "stdout",
     "output_type": "stream",
     "text": [
      "\n",
      "Setting up PyCaret environment...\n",
      "Error during PyCaret setup: Do not support special JSON characters in feature name.\n",
      "Cell executed at: 2025-05-15 17:47:16.129631\n"
     ]
    }
   ],
   "source": [
    "# Import PyCaret regression module\n",
    "from pycaret.regression import setup, compare_models, create_model, pull, plot_model, tune_model, evaluate_model, save_model\n",
    "\n",
    "# Setup PyCaret environment\n",
    "print(\"\\nSetting up PyCaret environment...\")\n",
    "try:\n",
    "    setup_results = setup(\n",
    "        data=df_encoded,\n",
    "        target=target_col,\n",
    "        session_id=123,\n",
    "        preprocess=True,\n",
    "        imputation_type='simple',\n",
    "        numeric_imputation='mean',\n",
    "        categorical_imputation='mode',\n",
    "        encoding_method=None,  # Already encoded low-cardinality columns\n",
    "        normalize=True,\n",
    "        transformation=True,\n",
    "        # remove_outliers=True,\n",
    "        # outliers_threshold=0.05,\n",
    "        feature_selection=True,\n",
    "        # feature_selection_threshold=0.8,   # watch out: PyCaret will drop features with correlation above 0.8 (multicollinearity).\n",
    "        ignore_features=None,\n",
    "       verbose=False\n",
    "    )\n",
    "except Exception as e:\n",
    "    print(\"Error during PyCaret setup:\", e)"
   ]
  },
  {
   "cell_type": "code",
   "execution_count": 32,
   "id": "d548f80f-8f2d-4dc1-9c0d-150581463e55",
   "metadata": {},
   "outputs": [
    {
     "ename": "ValueError",
     "evalue": "_CURRENT_EXPERIMENT global variable is not set. Please run setup() first.",
     "output_type": "error",
     "traceback": [
      "\u001b[31m---------------------------------------------------------------------------\u001b[39m",
      "\u001b[31mValueError\u001b[39m                                Traceback (most recent call last)",
      "\u001b[36mCell\u001b[39m\u001b[36m \u001b[39m\u001b[32mIn[32]\u001b[39m\u001b[32m, line 2\u001b[39m\n\u001b[32m      1\u001b[39m \u001b[38;5;66;03m# Get preprocessed dataset\u001b[39;00m\n\u001b[32m----> \u001b[39m\u001b[32m2\u001b[39m processed_data = pull(\u001b[33m'\u001b[39m\u001b[33mdataset\u001b[39m\u001b[33m'\u001b[39m)\n\u001b[32m      3\u001b[39m processed_data.to_csv(\u001b[33m'\u001b[39m\u001b[33mdata/pycaret_processed_data.csv\u001b[39m\u001b[33m'\u001b[39m, index=\u001b[38;5;28;01mFalse\u001b[39;00m)\n\u001b[32m      4\u001b[39m \u001b[38;5;28mprint\u001b[39m(\u001b[33mf\u001b[39m\u001b[33m\"\u001b[39m\u001b[33mPyCaret preprocessed data saved to \u001b[39m\u001b[33m'\u001b[39m\u001b[33mdata/pycaret_processed_data.csv\u001b[39m\u001b[33m'\u001b[39m\u001b[33m\"\u001b[39m)\n",
      "\u001b[36mFile \u001b[39m\u001b[32m~\\.conda\\envs\\streamlit-env-agile\\Lib\\site-packages\\pycaret\\utils\\generic.py:963\u001b[39m, in \u001b[36mcheck_if_global_is_not_none.<locals>.decorator.<locals>.wrapper\u001b[39m\u001b[34m(*args, **kwargs)\u001b[39m\n\u001b[32m    961\u001b[39m \u001b[38;5;28;01mfor\u001b[39;00m name, message \u001b[38;5;129;01min\u001b[39;00m global_names.items():\n\u001b[32m    962\u001b[39m     \u001b[38;5;28;01mif\u001b[39;00m globals_d[name] \u001b[38;5;129;01mis\u001b[39;00m \u001b[38;5;28;01mNone\u001b[39;00m:\n\u001b[32m--> \u001b[39m\u001b[32m963\u001b[39m         \u001b[38;5;28;01mraise\u001b[39;00m \u001b[38;5;167;01mValueError\u001b[39;00m(message)\n\u001b[32m    964\u001b[39m \u001b[38;5;28;01mreturn\u001b[39;00m func(*args, **kwargs)\n",
      "\u001b[31mValueError\u001b[39m: _CURRENT_EXPERIMENT global variable is not set. Please run setup() first."
     ]
    },
    {
     "name": "stdout",
     "output_type": "stream",
     "text": [
      "Cell executed at: 2025-05-15 17:44:28.346951\n"
     ]
    }
   ],
   "source": [
    "# Get preprocessed dataset\n",
    "processed_data = pull('dataset')\n",
    "processed_data.to_csv('data/pycaret_processed_data.csv', index=False)\n",
    "print(f\"PyCaret preprocessed data saved to 'data/pycaret_processed_data.csv'\")\n",
    "    \n",
    "# Compare regression models\n",
    "print(\"\\nComparing regression models...\")\n",
    "best_models = compare_models(n_select=3)  # Select top 3 models\n",
    "model_results = pull()\n",
    "print(\"\\nModel comparison results:\")\n",
    "print(model_results)"
   ]
  },
  {
   "cell_type": "code",
   "execution_count": null,
   "id": "f8124221-8801-4db8-a38c-6016b81c9fea",
   "metadata": {},
   "outputs": [],
   "source": [
    "    # Select best model and create it\n",
    "    best_model_name = model_results.index[0]\n",
    "    print(f\"\\nCreating best model: {best_model_name}\")\n",
    "    model = create_model(best_model_name)"
   ]
  },
  {
   "cell_type": "code",
   "execution_count": null,
   "id": "996a2b1c-6d57-4389-bfd3-f69f77ce1f1d",
   "metadata": {},
   "outputs": [],
   "source": [
    "    # Tune the best model\n",
    "    print(\"\\nTuning the best model...\")\n",
    "    tuned_model = tune_model(model, n_iter=10)\n",
    "    "
   ]
  },
  {
   "cell_type": "code",
   "execution_count": null,
   "id": "337ad84c-d61a-4d52-826e-b4ebb7702d19",
   "metadata": {},
   "outputs": [],
   "source": [
    "    # Evaluate tuned model\n",
    "    print(\"\\nEvaluating tuned model...\")\n",
    "    evaluate_model(tuned_model)"
   ]
  },
  {
   "cell_type": "code",
   "execution_count": null,
   "id": "2e9b2734-0302-4b3c-b7ff-bd180431310a",
   "metadata": {},
   "outputs": [],
   "source": [
    "    # Save the model\n",
    "    save_model(tuned_model, 'best_model')\n",
    "    print(\"\\nBest model saved as 'best_model'\")"
   ]
  },
  {
   "cell_type": "code",
   "execution_count": null,
   "id": "c8e1e22a-1dc2-4fb3-ad85-178319eecd06",
   "metadata": {},
   "outputs": [],
   "source": [
    "    # Feature importance visualization\n",
    "    print(\"\\nGenerating feature importance plot...\")\n",
    "    try:\n",
    "        plot_model(tuned_model, plot='feature', save=True)\n",
    "        print(\"Feature importance plot saved\")\n",
    "    except Exception as e:\n",
    "        print(f\"Could not generate feature plot: {e}\")"
   ]
  },
  {
   "cell_type": "code",
   "execution_count": null,
   "id": "5e06b737-b09e-4c03-9867-e68b9cd752b3",
   "metadata": {},
   "outputs": [],
   "source": [
    "    # SHAP analysis (if applicable)\n",
    "    print(\"\\nAttempting SHAP analysis...\")\n",
    "    try:\n",
    "        import shap\n",
    "        \n",
    "        # Use only numeric features for SHAP analysis\n",
    "        X = processed_data.drop(columns=[target_col])\n",
    "        X_numeric = X.select_dtypes(include=[np.number])\n",
    "        \n",
    "        # Check if any columns were dropped\n",
    "        if X.shape[1] != X_numeric.shape[1]:\n",
    "            print(f\"Warning: {X.shape[1] - X_numeric.shape[1]} non-numeric columns excluded from SHAP analysis\")\n",
    "        \n",
    "        # Create SHAP explainer\n",
    "        explainer = shap.Explainer(tuned_model, X_numeric)\n",
    "        shap_values = explainer(X_numeric)\n",
    "        \n",
    "        # Generate and save SHAP summary plot\n",
    "        plt.figure(figsize=(12, 10))\n",
    "        shap.summary_plot(shap_values, X_numeric, show=False)\n",
    "        plt.tight_layout()\n",
    "        plt.savefig('shap_summary.png')\n",
    "        plt.close()\n",
    "        print(\"SHAP analysis completed and saved as 'shap_summary.png'\")\n",
    "    except Exception as e:\n",
    "        print(f\"SHAP analysis failed: {e}\")\n",
    "        print(\"Consider using a different model or preprocessing approach.\")"
   ]
  },
  {
   "cell_type": "code",
   "execution_count": null,
   "id": "1849adbd-faec-4101-a227-794e17c2e1c2",
   "metadata": {},
   "outputs": [],
   "source": [
    "    # Extract feature importance directly (if available)\n",
    "    print(\"\\nExtracting direct feature importance...\")\n",
    "    try:\n",
    "        if hasattr(tuned_model, 'feature_importances_'):\n",
    "            fi = pd.DataFrame({\n",
    "                'Feature': X.columns,\n",
    "                'Importance': tuned_model.feature_importances_\n",
    "            })\n",
    "            fi = fi.sort_values('Importance', ascending=False)\n",
    "            print(\"\\nFeature importances:\")\n",
    "            print(fi.head(15))  # Show top 15 features\n",
    "            fi.to_csv('feature_importance.csv', index=False)\n",
    "            print(\"Feature importance saved to 'feature_importance.csv'\")\n",
    "        else:\n",
    "            print(\"Feature importance attribute not available for this model\")\n",
    "    except Exception as e:\n",
    "        print(f\"Failed to extract feature importance: {e}\")\n",
    "\n",
    "except Exception as e:\n",
    "    print(f\"\\nError in PyCaret workflow: {e}\")\n",
    "    print(\"Check if PyCaret is installed correctly: pip install pycaret\")\n",
    "\n",
    "print(\"\\nAnalysis complete!\")"
   ]
  },
  {
   "cell_type": "code",
   "execution_count": null,
   "id": "f53d1498-04ea-495a-ae5b-db0b584602a2",
   "metadata": {},
   "outputs": [],
   "source": []
  },
  {
   "cell_type": "code",
   "execution_count": null,
   "id": "158d4cfd-2f3e-4add-92bd-067944e304c3",
   "metadata": {},
   "outputs": [],
   "source": []
  },
  {
   "cell_type": "code",
   "execution_count": null,
   "id": "a39a380b-4c86-4ac0-a42b-61d1098a27f5",
   "metadata": {},
   "outputs": [],
   "source": []
  },
  {
   "cell_type": "code",
   "execution_count": null,
   "id": "3344fbce-ee3b-456d-81c2-ef525011e3f7",
   "metadata": {},
   "outputs": [],
   "source": []
  },
  {
   "cell_type": "code",
   "execution_count": null,
   "id": "dcce337c-4e56-4e0a-b179-19c96d7066e2",
   "metadata": {},
   "outputs": [],
   "source": []
  }
 ],
 "metadata": {
  "kernelspec": {
   "display_name": "Python 3 (ipykernel)",
   "language": "python",
   "name": "python3"
  },
  "language_info": {
   "codemirror_mode": {
    "name": "ipython",
    "version": 3
   },
   "file_extension": ".py",
   "mimetype": "text/x-python",
   "name": "python",
   "nbconvert_exporter": "python",
   "pygments_lexer": "ipython3",
   "version": "3.11.11"
  }
 },
 "nbformat": 4,
 "nbformat_minor": 5
}
