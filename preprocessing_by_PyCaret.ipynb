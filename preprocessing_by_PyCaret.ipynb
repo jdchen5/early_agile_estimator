{
 "cells": [
  {
   "cell_type": "code",
   "execution_count": 1,
   "id": "27edcd5a-648f-448c-a961-37b8a7752253",
   "metadata": {},
   "outputs": [],
   "source": [
    "#!pip install -r requirements.txt"
   ]
  },
  {
   "cell_type": "code",
   "execution_count": 2,
   "id": "963228e6-3804-4d19-bd08-61085af9a200",
   "metadata": {},
   "outputs": [],
   "source": [
    "import pandas as pd\n",
    "from pycaret.regression import setup, get_config\n"
   ]
  },
  {
   "cell_type": "code",
   "execution_count": 3,
   "id": "5d740ebc-8aab-4cc7-ac46-334ed4ac812a",
   "metadata": {},
   "outputs": [
    {
     "name": "stdout",
     "output_type": "stream",
     "text": [
      "   ISBSG Project ID External (EEF) - Data Quality Rating  \\\n",
      "0             10003                                    B   \n",
      "1             10011                                    B   \n",
      "2             10012                                    B   \n",
      "3             10014                                    B   \n",
      "4             10015                                    B   \n",
      "\n",
      "   Project (PRF) - Year of Project External (EEF) - Industry Sector  \\\n",
      "0                             2015                    Communication   \n",
      "1                             1996                     Construction   \n",
      "2                             2002               Wholesale & Retail   \n",
      "3                             2004                              NaN   \n",
      "4                             2000               Wholesale & Retail   \n",
      "\n",
      "  External (EEF) - Organisation Type Project (PRF) - Application Group  \\\n",
      "0                Telecommunications;              Business Application   \n",
      "1                      Construction;              Business Application   \n",
      "2                           Billing;              Business Application   \n",
      "3                                NaN                               NaN   \n",
      "4          Wholesale & Retail Trade;              Business Application   \n",
      "\n",
      "    Project (PRF) - Application Type Project (PRF) - Development Type  \\\n",
      "0                    Online. eSales;                      Enhancement   \n",
      "1  Stock control & order processing;                  New Development   \n",
      "2                           Billing;                      Enhancement   \n",
      "3                                NaN                      Enhancement   \n",
      "4     Management Information System;                      Enhancement   \n",
      "\n",
      "  Tech (TF) - Development Platform Tech (TF) - Language Type  ...  \\\n",
      "0                            Multi                       NaN  ...   \n",
      "1                            Multi                       4GL  ...   \n",
      "2                              NaN                       3GL  ...   \n",
      "3                              NaN                       NaN  ...   \n",
      "4                               MF                       3GL  ...   \n",
      "\n",
      "  People (PRF) - IT experience >3 yr  People (PRF) - IT experience <3 yr  \\\n",
      "0                                NaN                                 NaN   \n",
      "1                                NaN                                 NaN   \n",
      "2                                NaN                                 NaN   \n",
      "3                                NaN                                 NaN   \n",
      "4                                NaN                                 NaN   \n",
      "\n",
      "  People (PRF) - IT experience 3 to 9 yr  People (PRF) - IT experience >9 yr  \\\n",
      "0                                    NaN                                 NaN   \n",
      "1                                    NaN                                 NaN   \n",
      "2                                    NaN                                 NaN   \n",
      "3                                    NaN                                 NaN   \n",
      "4                                    NaN                                 NaN   \n",
      "\n",
      "   People (PRF) - Project manage experience  \\\n",
      "0                                       NaN   \n",
      "1                                       NaN   \n",
      "2                                       NaN   \n",
      "3                                       NaN   \n",
      "4                                       NaN   \n",
      "\n",
      "   People (PRF) - Project manage changes  People (PRF) - Personnel changes  \\\n",
      "0                                    NaN                               NaN   \n",
      "1                                    NaN                               NaN   \n",
      "2                                    NaN                               NaN   \n",
      "3                                    NaN                               NaN   \n",
      "4                                    NaN                               NaN   \n",
      "\n",
      "   Project (PRF) - Total project cost  Project (PRF) - Cost currency  \\\n",
      "0                                 NaN                            NaN   \n",
      "1                                 NaN                            NaN   \n",
      "2                                 NaN                            NaN   \n",
      "3                                 NaN                            NaN   \n",
      "4                                 NaN                            NaN   \n",
      "\n",
      "   Project (PRF) - Currency multiple  \n",
      "0                                NaN  \n",
      "1                                NaN  \n",
      "2                                NaN  \n",
      "3                                NaN  \n",
      "4                                NaN  \n",
      "\n",
      "[5 rows x 52 columns]\n"
     ]
    }
   ],
   "source": [
    "# Step 1: Load the Excel data\n",
    "df = pd.read_excel(\"data/ISBSG2016R1.1 - FormattedForCSV.xlsx\")  # Replace with your file name\n",
    "\n",
    "# Preview data\n",
    "print(df.head())\n"
   ]
  },
  {
   "cell_type": "code",
   "execution_count": 4,
   "id": "34b593dc-948a-4ecd-b17e-c31f30df2425",
   "metadata": {},
   "outputs": [
    {
     "data": {
      "text/html": [
       "<style type=\"text/css\">\n",
       "#T_51bda_row10_col1 {\n",
       "  background-color: lightgreen;\n",
       "}\n",
       "</style>\n",
       "<table id=\"T_51bda\">\n",
       "  <thead>\n",
       "    <tr>\n",
       "      <th class=\"blank level0\" >&nbsp;</th>\n",
       "      <th id=\"T_51bda_level0_col0\" class=\"col_heading level0 col0\" >Description</th>\n",
       "      <th id=\"T_51bda_level0_col1\" class=\"col_heading level0 col1\" >Value</th>\n",
       "    </tr>\n",
       "  </thead>\n",
       "  <tbody>\n",
       "    <tr>\n",
       "      <th id=\"T_51bda_level0_row0\" class=\"row_heading level0 row0\" >0</th>\n",
       "      <td id=\"T_51bda_row0_col0\" class=\"data row0 col0\" >Session id</td>\n",
       "      <td id=\"T_51bda_row0_col1\" class=\"data row0 col1\" >123</td>\n",
       "    </tr>\n",
       "    <tr>\n",
       "      <th id=\"T_51bda_level0_row1\" class=\"row_heading level0 row1\" >1</th>\n",
       "      <td id=\"T_51bda_row1_col0\" class=\"data row1 col0\" >Target</td>\n",
       "      <td id=\"T_51bda_row1_col1\" class=\"data row1 col1\" >Project (PRF) - Normalised Work Effort</td>\n",
       "    </tr>\n",
       "    <tr>\n",
       "      <th id=\"T_51bda_level0_row2\" class=\"row_heading level0 row2\" >2</th>\n",
       "      <td id=\"T_51bda_row2_col0\" class=\"data row2 col0\" >Target type</td>\n",
       "      <td id=\"T_51bda_row2_col1\" class=\"data row2 col1\" >Regression</td>\n",
       "    </tr>\n",
       "    <tr>\n",
       "      <th id=\"T_51bda_level0_row3\" class=\"row_heading level0 row3\" >3</th>\n",
       "      <td id=\"T_51bda_row3_col0\" class=\"data row3 col0\" >Original data shape</td>\n",
       "      <td id=\"T_51bda_row3_col1\" class=\"data row3 col1\" >(7058, 52)</td>\n",
       "    </tr>\n",
       "    <tr>\n",
       "      <th id=\"T_51bda_level0_row4\" class=\"row_heading level0 row4\" >4</th>\n",
       "      <td id=\"T_51bda_row4_col0\" class=\"data row4 col0\" >Transformed data shape</td>\n",
       "      <td id=\"T_51bda_row4_col1\" class=\"data row4 col1\" >(7058, 160)</td>\n",
       "    </tr>\n",
       "    <tr>\n",
       "      <th id=\"T_51bda_level0_row5\" class=\"row_heading level0 row5\" >5</th>\n",
       "      <td id=\"T_51bda_row5_col0\" class=\"data row5 col0\" >Transformed train set shape</td>\n",
       "      <td id=\"T_51bda_row5_col1\" class=\"data row5 col1\" >(4940, 160)</td>\n",
       "    </tr>\n",
       "    <tr>\n",
       "      <th id=\"T_51bda_level0_row6\" class=\"row_heading level0 row6\" >6</th>\n",
       "      <td id=\"T_51bda_row6_col0\" class=\"data row6 col0\" >Transformed test set shape</td>\n",
       "      <td id=\"T_51bda_row6_col1\" class=\"data row6 col1\" >(2118, 160)</td>\n",
       "    </tr>\n",
       "    <tr>\n",
       "      <th id=\"T_51bda_level0_row7\" class=\"row_heading level0 row7\" >7</th>\n",
       "      <td id=\"T_51bda_row7_col0\" class=\"data row7 col0\" >Numeric features</td>\n",
       "      <td id=\"T_51bda_row7_col1\" class=\"data row7 col1\" >26</td>\n",
       "    </tr>\n",
       "    <tr>\n",
       "      <th id=\"T_51bda_level0_row8\" class=\"row_heading level0 row8\" >8</th>\n",
       "      <td id=\"T_51bda_row8_col0\" class=\"data row8 col0\" >Categorical features</td>\n",
       "      <td id=\"T_51bda_row8_col1\" class=\"data row8 col1\" >25</td>\n",
       "    </tr>\n",
       "    <tr>\n",
       "      <th id=\"T_51bda_level0_row9\" class=\"row_heading level0 row9\" >9</th>\n",
       "      <td id=\"T_51bda_row9_col0\" class=\"data row9 col0\" >Rows with missing values</td>\n",
       "      <td id=\"T_51bda_row9_col1\" class=\"data row9 col1\" >100.0%</td>\n",
       "    </tr>\n",
       "    <tr>\n",
       "      <th id=\"T_51bda_level0_row10\" class=\"row_heading level0 row10\" >10</th>\n",
       "      <td id=\"T_51bda_row10_col0\" class=\"data row10 col0\" >Preprocess</td>\n",
       "      <td id=\"T_51bda_row10_col1\" class=\"data row10 col1\" >True</td>\n",
       "    </tr>\n",
       "    <tr>\n",
       "      <th id=\"T_51bda_level0_row11\" class=\"row_heading level0 row11\" >11</th>\n",
       "      <td id=\"T_51bda_row11_col0\" class=\"data row11 col0\" >Imputation type</td>\n",
       "      <td id=\"T_51bda_row11_col1\" class=\"data row11 col1\" >simple</td>\n",
       "    </tr>\n",
       "    <tr>\n",
       "      <th id=\"T_51bda_level0_row12\" class=\"row_heading level0 row12\" >12</th>\n",
       "      <td id=\"T_51bda_row12_col0\" class=\"data row12 col0\" >Numeric imputation</td>\n",
       "      <td id=\"T_51bda_row12_col1\" class=\"data row12 col1\" >mean</td>\n",
       "    </tr>\n",
       "    <tr>\n",
       "      <th id=\"T_51bda_level0_row13\" class=\"row_heading level0 row13\" >13</th>\n",
       "      <td id=\"T_51bda_row13_col0\" class=\"data row13 col0\" >Categorical imputation</td>\n",
       "      <td id=\"T_51bda_row13_col1\" class=\"data row13 col1\" >mode</td>\n",
       "    </tr>\n",
       "    <tr>\n",
       "      <th id=\"T_51bda_level0_row14\" class=\"row_heading level0 row14\" >14</th>\n",
       "      <td id=\"T_51bda_row14_col0\" class=\"data row14 col0\" >Maximum one-hot encoding</td>\n",
       "      <td id=\"T_51bda_row14_col1\" class=\"data row14 col1\" >25</td>\n",
       "    </tr>\n",
       "    <tr>\n",
       "      <th id=\"T_51bda_level0_row15\" class=\"row_heading level0 row15\" >15</th>\n",
       "      <td id=\"T_51bda_row15_col0\" class=\"data row15 col0\" >Encoding method</td>\n",
       "      <td id=\"T_51bda_row15_col1\" class=\"data row15 col1\" >None</td>\n",
       "    </tr>\n",
       "    <tr>\n",
       "      <th id=\"T_51bda_level0_row16\" class=\"row_heading level0 row16\" >16</th>\n",
       "      <td id=\"T_51bda_row16_col0\" class=\"data row16 col0\" >Fold Generator</td>\n",
       "      <td id=\"T_51bda_row16_col1\" class=\"data row16 col1\" >KFold</td>\n",
       "    </tr>\n",
       "    <tr>\n",
       "      <th id=\"T_51bda_level0_row17\" class=\"row_heading level0 row17\" >17</th>\n",
       "      <td id=\"T_51bda_row17_col0\" class=\"data row17 col0\" >Fold Number</td>\n",
       "      <td id=\"T_51bda_row17_col1\" class=\"data row17 col1\" >10</td>\n",
       "    </tr>\n",
       "    <tr>\n",
       "      <th id=\"T_51bda_level0_row18\" class=\"row_heading level0 row18\" >18</th>\n",
       "      <td id=\"T_51bda_row18_col0\" class=\"data row18 col0\" >CPU Jobs</td>\n",
       "      <td id=\"T_51bda_row18_col1\" class=\"data row18 col1\" >-1</td>\n",
       "    </tr>\n",
       "    <tr>\n",
       "      <th id=\"T_51bda_level0_row19\" class=\"row_heading level0 row19\" >19</th>\n",
       "      <td id=\"T_51bda_row19_col0\" class=\"data row19 col0\" >Use GPU</td>\n",
       "      <td id=\"T_51bda_row19_col1\" class=\"data row19 col1\" >False</td>\n",
       "    </tr>\n",
       "    <tr>\n",
       "      <th id=\"T_51bda_level0_row20\" class=\"row_heading level0 row20\" >20</th>\n",
       "      <td id=\"T_51bda_row20_col0\" class=\"data row20 col0\" >Log Experiment</td>\n",
       "      <td id=\"T_51bda_row20_col1\" class=\"data row20 col1\" >False</td>\n",
       "    </tr>\n",
       "    <tr>\n",
       "      <th id=\"T_51bda_level0_row21\" class=\"row_heading level0 row21\" >21</th>\n",
       "      <td id=\"T_51bda_row21_col0\" class=\"data row21 col0\" >Experiment Name</td>\n",
       "      <td id=\"T_51bda_row21_col1\" class=\"data row21 col1\" >reg-default-name</td>\n",
       "    </tr>\n",
       "    <tr>\n",
       "      <th id=\"T_51bda_level0_row22\" class=\"row_heading level0 row22\" >22</th>\n",
       "      <td id=\"T_51bda_row22_col0\" class=\"data row22 col0\" >USI</td>\n",
       "      <td id=\"T_51bda_row22_col1\" class=\"data row22 col1\" >9372</td>\n",
       "    </tr>\n",
       "  </tbody>\n",
       "</table>\n"
      ],
      "text/plain": [
       "<pandas.io.formats.style.Styler at 0x1691d9375d0>"
      ]
     },
     "metadata": {},
     "output_type": "display_data"
    },
    {
     "name": "stdout",
     "output_type": "stream",
     "text": [
      "Loading profile... Please Wait!\n"
     ]
    },
    {
     "data": {
      "text/html": [
       "\n",
       "            <div>\n",
       "                <ins><a href=\"https://ydata.ai/register\">Upgrade to ydata-sdk</a></ins>\n",
       "                <p>\n",
       "                    Improve your data and profiling with ydata-sdk, featuring data quality scoring, redundancy detection, outlier identification, text validation, and synthetic data generation.\n",
       "                </p>\n",
       "            </div>\n",
       "            "
      ],
      "text/plain": [
       "<IPython.core.display.HTML object>"
      ]
     },
     "metadata": {},
     "output_type": "display_data"
    },
    {
     "name": "stdout",
     "output_type": "stream",
     "text": [
      "      ISBSG Project ID External (EEF) - Data Quality Rating  \\\n",
      "6995             32577                                    A   \n",
      "5294             26924                                    B   \n",
      "2673             18663                                    B   \n",
      "463              11468                                    B   \n",
      "3520             21338                                    B   \n",
      "\n",
      "      Project (PRF) - Year of Project External (EEF) - Industry Sector  \\\n",
      "6995                             2000                    Communication   \n",
      "5294                             2006                        Insurance   \n",
      "2673                             1998                              NaN   \n",
      "463                              2002                          Banking   \n",
      "3520                             1998                    Communication   \n",
      "\n",
      "     External (EEF) - Organisation Type Project (PRF) - Application Group  \\\n",
      "6995                    Communications;              Business Application   \n",
      "5294                         Insurance;                               NaN   \n",
      "2673                                NaN                               NaN   \n",
      "463                            Banking;                               NaN   \n",
      "3520                    Communications;              Business Application   \n",
      "\n",
      "     Project (PRF) - Application Type Project (PRF) - Development Type  \\\n",
      "6995      Interactive Voice Response;                  New Development   \n",
      "5294                              NaN                  New Development   \n",
      "2673                              NaN                      Enhancement   \n",
      "463                               NaN                  New Development   \n",
      "3520   Transaction/Production System;                      Enhancement   \n",
      "\n",
      "     Tech (TF) - Development Platform Tech (TF) - Language Type  ...  \\\n",
      "6995                               MR                       3GL  ...   \n",
      "5294                               MF                       3GL  ...   \n",
      "2673                              NaN                       NaN  ...   \n",
      "463                                MF                       4GL  ...   \n",
      "3520                               PC                       ApG  ...   \n",
      "\n",
      "     People (PRF) - IT experience <3 yr  \\\n",
      "6995                                NaN   \n",
      "5294                                NaN   \n",
      "2673                                NaN   \n",
      "463                                 NaN   \n",
      "3520                                NaN   \n",
      "\n",
      "      People (PRF) - IT experience 3 to 9 yr  \\\n",
      "6995                                     NaN   \n",
      "5294                                     NaN   \n",
      "2673                                     NaN   \n",
      "463                                      NaN   \n",
      "3520                                     NaN   \n",
      "\n",
      "     People (PRF) - IT experience >9 yr  \\\n",
      "6995                                NaN   \n",
      "5294                                NaN   \n",
      "2673                                NaN   \n",
      "463                                 NaN   \n",
      "3520                                NaN   \n",
      "\n",
      "      People (PRF) - Project manage experience  \\\n",
      "6995                                       NaN   \n",
      "5294                                       NaN   \n",
      "2673                                       NaN   \n",
      "463                                        NaN   \n",
      "3520                                       NaN   \n",
      "\n",
      "      People (PRF) - Project manage changes  People (PRF) - Personnel changes  \\\n",
      "6995                                    NaN                               NaN   \n",
      "5294                                    NaN                               NaN   \n",
      "2673                                    NaN                               NaN   \n",
      "463                                     NaN                               NaN   \n",
      "3520                                    NaN                               NaN   \n",
      "\n",
      "      Project (PRF) - Total project cost  Project (PRF) - Cost currency  \\\n",
      "6995                                 NaN                            NaN   \n",
      "5294                                 NaN                            NaN   \n",
      "2673                                 NaN                            NaN   \n",
      "463                                  NaN                            NaN   \n",
      "3520                                 NaN                            NaN   \n",
      "\n",
      "      Project (PRF) - Currency multiple  \\\n",
      "6995                                NaN   \n",
      "5294                                NaN   \n",
      "2673                                NaN   \n",
      "463                                 NaN   \n",
      "3520                                NaN   \n",
      "\n",
      "      Project (PRF) - Normalised Work Effort  \n",
      "6995                                     634  \n",
      "5294                                     948  \n",
      "2673                                     315  \n",
      "463                                     2373  \n",
      "3520                                    2947  \n",
      "\n",
      "[5 rows x 52 columns]\n"
     ]
    }
   ],
   "source": [
    "# Step 2: Initialise PyCaret setup for preprocessing\n",
    "\n",
    "\n",
    "# the DataFrame is 'df' and target column is numeric\n",
    "s = setup(\n",
    "    data=df,\n",
    "    target='Project (PRF) - Normalised Work Effort',\n",
    "    preprocess=True,\n",
    "    imputation_type='simple',  # mean/median imputation for numeric missing values\n",
    "    numeric_imputation='mean',\n",
    "    categorical_imputation='mode',\n",
    "    profile=True,              # generates an automated profiling report\n",
    "    session_id=123,\n",
    "    verbose=True\n",
    ")\n",
    "\n",
    "# After setup, get the preprocessed dataset\n",
    "processed_data = get_config('dataset')\n",
    "print(processed_data.head())\n"
   ]
  },
  {
   "cell_type": "code",
   "execution_count": 6,
   "id": "6ecb56f1-809d-48d8-b0b5-5ce072e7b14f",
   "metadata": {},
   "outputs": [],
   "source": [
    "# Save to CSV\n",
    "processed_data.to_csv(\"data/preprocessed_data.csv\", index=False)"
   ]
  },
  {
   "cell_type": "code",
   "execution_count": 5,
   "id": "08d22ca6-0df4-44af-8773-eeab290e8de7",
   "metadata": {},
   "outputs": [
    {
     "data": {
      "application/vnd.jupyter.widget-view+json": {
       "model_id": "1e466a2c76844bdbbe90db3fa59005ab",
       "version_major": 2,
       "version_minor": 0
      },
      "text/plain": [
       "Summarize dataset:   0%|          | 0/5 [00:00<?, ?it/s]"
      ]
     },
     "metadata": {},
     "output_type": "display_data"
    },
    {
     "name": "stderr",
     "output_type": "stream",
     "text": [
      "\n",
      "\u001b[A%|          | 0/52 [00:00<?, ?it/s]\n",
      "\u001b[A%|▏         | 1/52 [00:00<00:09,  5.19it/s]\n",
      "\u001b[A%|▊         | 4/52 [00:00<00:06,  6.95it/s]\n",
      "\u001b[A%|██        | 11/52 [00:00<00:02, 18.72it/s]\n",
      "\u001b[A%|████▏     | 22/52 [00:01<00:01, 26.20it/s]\n",
      "\u001b[A%|████▊     | 25/52 [00:01<00:01, 17.62it/s]\n",
      "100%|██████████| 52/52 [00:01<00:00, 31.79it/s]\n"
     ]
    },
    {
     "data": {
      "application/vnd.jupyter.widget-view+json": {
       "model_id": "41ee01e8527f4163a32b6022e10fa862",
       "version_major": 2,
       "version_minor": 0
      },
      "text/plain": [
       "Generate report structure:   0%|          | 0/1 [00:00<?, ?it/s]"
      ]
     },
     "metadata": {},
     "output_type": "display_data"
    },
    {
     "data": {
      "application/vnd.jupyter.widget-view+json": {
       "model_id": "dd3cf1b2e784452cb68a8d98e5cc16ba",
       "version_major": 2,
       "version_minor": 0
      },
      "text/plain": [
       "Render HTML:   0%|          | 0/1 [00:00<?, ?it/s]"
      ]
     },
     "metadata": {},
     "output_type": "display_data"
    },
    {
     "data": {
      "application/vnd.jupyter.widget-view+json": {
       "model_id": "1169020910074066b7302f187f3e3081",
       "version_major": 2,
       "version_minor": 0
      },
      "text/plain": [
       "Export report to file:   0%|          | 0/1 [00:00<?, ?it/s]"
      ]
     },
     "metadata": {},
     "output_type": "display_data"
    }
   ],
   "source": [
    "from ydata_profiling import ProfileReport\n",
    "\n",
    "profile = ProfileReport(df, title=\"Dataset Profiling Report\")\n",
    "profile.to_file(\"data_profile.html\")\n"
   ]
  },
  {
   "cell_type": "code",
   "execution_count": 22,
   "id": "f6f21d37-0ce5-4a32-912f-991511a72f18",
   "metadata": {},
   "outputs": [
    {
     "name": "stdout",
     "output_type": "stream",
     "text": [
      "4214\n",
      "Project (PRF) - Normalised Work Effort\n",
      "995     9\n",
      "304     9\n",
      "620     9\n",
      "473     9\n",
      "62      9\n",
      "       ..\n",
      "1030    1\n",
      "1243    1\n",
      "4213    1\n",
      "2225    1\n",
      "80      1\n",
      "Name: count, Length: 4214, dtype: int64\n"
     ]
    }
   ],
   "source": [
    "print(df['Project (PRF) - Normalised Work Effort'].nunique())\n",
    "print(df['Project (PRF) - Normalised Work Effort'].value_counts())\n"
   ]
  },
  {
   "cell_type": "code",
   "execution_count": 23,
   "id": "578f7ab1-642a-4cf9-976d-7138b0000bd4",
   "metadata": {},
   "outputs": [
    {
     "ename": "ValueError",
     "evalue": "could not convert string to float: 'B'",
     "output_type": "error",
     "traceback": [
      "\u001b[31m---------------------------------------------------------------------------\u001b[39m",
      "\u001b[31mValueError\u001b[39m                                Traceback (most recent call last)",
      "\u001b[36mCell\u001b[39m\u001b[36m \u001b[39m\u001b[32mIn[23]\u001b[39m\u001b[32m, line 5\u001b[39m\n\u001b[32m      2\u001b[39m \u001b[38;5;28;01mimport\u001b[39;00m\u001b[38;5;250m \u001b[39m\u001b[34;01mmatplotlib\u001b[39;00m\u001b[34;01m.\u001b[39;00m\u001b[34;01mpyplot\u001b[39;00m\u001b[38;5;250m \u001b[39m\u001b[38;5;28;01mas\u001b[39;00m\u001b[38;5;250m \u001b[39m\u001b[34;01mplt\u001b[39;00m\n\u001b[32m      4\u001b[39m df = get_config(\u001b[33m\"\u001b[39m\u001b[33mdataset\u001b[39m\u001b[33m\"\u001b[39m)\n\u001b[32m----> \u001b[39m\u001b[32m5\u001b[39m corr = df.corr()\n\u001b[32m      7\u001b[39m \u001b[38;5;66;03m# Plot heatmap of correlations\u001b[39;00m\n\u001b[32m      8\u001b[39m plt.figure(figsize=(\u001b[32m10\u001b[39m, \u001b[32m8\u001b[39m))\n",
      "\u001b[36mFile \u001b[39m\u001b[32m~\\.conda\\envs\\streamlit-env-agile\\Lib\\site-packages\\pandas\\core\\frame.py:10704\u001b[39m, in \u001b[36mDataFrame.corr\u001b[39m\u001b[34m(self, method, min_periods, numeric_only)\u001b[39m\n\u001b[32m  10702\u001b[39m cols = data.columns\n\u001b[32m  10703\u001b[39m idx = cols.copy()\n\u001b[32m> \u001b[39m\u001b[32m10704\u001b[39m mat = data.to_numpy(dtype=\u001b[38;5;28mfloat\u001b[39m, na_value=np.nan, copy=\u001b[38;5;28;01mFalse\u001b[39;00m)\n\u001b[32m  10706\u001b[39m \u001b[38;5;28;01mif\u001b[39;00m method == \u001b[33m\"\u001b[39m\u001b[33mpearson\u001b[39m\u001b[33m\"\u001b[39m:\n\u001b[32m  10707\u001b[39m     correl = libalgos.nancorr(mat, minp=min_periods)\n",
      "\u001b[36mFile \u001b[39m\u001b[32m~\\.conda\\envs\\streamlit-env-agile\\Lib\\site-packages\\pandas\\core\\frame.py:1889\u001b[39m, in \u001b[36mDataFrame.to_numpy\u001b[39m\u001b[34m(self, dtype, copy, na_value)\u001b[39m\n\u001b[32m   1887\u001b[39m \u001b[38;5;28;01mif\u001b[39;00m dtype \u001b[38;5;129;01mis\u001b[39;00m \u001b[38;5;129;01mnot\u001b[39;00m \u001b[38;5;28;01mNone\u001b[39;00m:\n\u001b[32m   1888\u001b[39m     dtype = np.dtype(dtype)\n\u001b[32m-> \u001b[39m\u001b[32m1889\u001b[39m result = \u001b[38;5;28mself\u001b[39m._mgr.as_array(dtype=dtype, copy=copy, na_value=na_value)\n\u001b[32m   1890\u001b[39m \u001b[38;5;28;01mif\u001b[39;00m result.dtype \u001b[38;5;129;01mis\u001b[39;00m \u001b[38;5;129;01mnot\u001b[39;00m dtype:\n\u001b[32m   1891\u001b[39m     result = np.array(result, dtype=dtype, copy=\u001b[38;5;28;01mFalse\u001b[39;00m)\n",
      "\u001b[36mFile \u001b[39m\u001b[32m~\\.conda\\envs\\streamlit-env-agile\\Lib\\site-packages\\pandas\\core\\internals\\managers.py:1656\u001b[39m, in \u001b[36mBlockManager.as_array\u001b[39m\u001b[34m(self, dtype, copy, na_value)\u001b[39m\n\u001b[32m   1654\u001b[39m         arr.flags.writeable = \u001b[38;5;28;01mFalse\u001b[39;00m\n\u001b[32m   1655\u001b[39m \u001b[38;5;28;01melse\u001b[39;00m:\n\u001b[32m-> \u001b[39m\u001b[32m1656\u001b[39m     arr = \u001b[38;5;28mself\u001b[39m._interleave(dtype=dtype, na_value=na_value)\n\u001b[32m   1657\u001b[39m     \u001b[38;5;66;03m# The underlying data was copied within _interleave, so no need\u001b[39;00m\n\u001b[32m   1658\u001b[39m     \u001b[38;5;66;03m# to further copy if copy=True or setting na_value\u001b[39;00m\n\u001b[32m   1660\u001b[39m \u001b[38;5;28;01mif\u001b[39;00m na_value \u001b[38;5;129;01mis\u001b[39;00m lib.no_default:\n",
      "\u001b[36mFile \u001b[39m\u001b[32m~\\.conda\\envs\\streamlit-env-agile\\Lib\\site-packages\\pandas\\core\\internals\\managers.py:1709\u001b[39m, in \u001b[36mBlockManager._interleave\u001b[39m\u001b[34m(self, dtype, na_value)\u001b[39m\n\u001b[32m   1703\u001b[39m rl = blk.mgr_locs\n\u001b[32m   1704\u001b[39m \u001b[38;5;28;01mif\u001b[39;00m blk.is_extension:\n\u001b[32m   1705\u001b[39m     \u001b[38;5;66;03m# Avoid implicit conversion of extension blocks to object\u001b[39;00m\n\u001b[32m   1706\u001b[39m \n\u001b[32m   1707\u001b[39m     \u001b[38;5;66;03m# error: Item \"ndarray\" of \"Union[ndarray, ExtensionArray]\" has no\u001b[39;00m\n\u001b[32m   1708\u001b[39m     \u001b[38;5;66;03m# attribute \"to_numpy\"\u001b[39;00m\n\u001b[32m-> \u001b[39m\u001b[32m1709\u001b[39m     arr = blk.values.to_numpy(  \u001b[38;5;66;03m# type: ignore[union-attr]\u001b[39;00m\n\u001b[32m   1710\u001b[39m         dtype=dtype,\n\u001b[32m   1711\u001b[39m         na_value=na_value,\n\u001b[32m   1712\u001b[39m     )\n\u001b[32m   1713\u001b[39m \u001b[38;5;28;01melse\u001b[39;00m:\n\u001b[32m   1714\u001b[39m     arr = blk.get_values(dtype)\n",
      "\u001b[36mFile \u001b[39m\u001b[32m~\\.conda\\envs\\streamlit-env-agile\\Lib\\site-packages\\pandas\\core\\arrays\\base.py:530\u001b[39m, in \u001b[36mExtensionArray.to_numpy\u001b[39m\u001b[34m(self, dtype, copy, na_value)\u001b[39m\n\u001b[32m    501\u001b[39m \u001b[38;5;28;01mdef\u001b[39;00m\u001b[38;5;250m \u001b[39m\u001b[34mto_numpy\u001b[39m(\n\u001b[32m    502\u001b[39m     \u001b[38;5;28mself\u001b[39m,\n\u001b[32m    503\u001b[39m     dtype: npt.DTypeLike | \u001b[38;5;28;01mNone\u001b[39;00m = \u001b[38;5;28;01mNone\u001b[39;00m,\n\u001b[32m    504\u001b[39m     copy: \u001b[38;5;28mbool\u001b[39m = \u001b[38;5;28;01mFalse\u001b[39;00m,\n\u001b[32m    505\u001b[39m     na_value: \u001b[38;5;28mobject\u001b[39m = lib.no_default,\n\u001b[32m    506\u001b[39m ) -> np.ndarray:\n\u001b[32m    507\u001b[39m \u001b[38;5;250m    \u001b[39m\u001b[33;03m\"\"\"\u001b[39;00m\n\u001b[32m    508\u001b[39m \u001b[33;03m    Convert to a NumPy ndarray.\u001b[39;00m\n\u001b[32m    509\u001b[39m \n\u001b[32m   (...)\u001b[39m\u001b[32m    528\u001b[39m \u001b[33;03m    numpy.ndarray\u001b[39;00m\n\u001b[32m    529\u001b[39m \u001b[33;03m    \"\"\"\u001b[39;00m\n\u001b[32m--> \u001b[39m\u001b[32m530\u001b[39m     result = np.asarray(\u001b[38;5;28mself\u001b[39m, dtype=dtype)\n\u001b[32m    531\u001b[39m     \u001b[38;5;28;01mif\u001b[39;00m copy \u001b[38;5;129;01mor\u001b[39;00m na_value \u001b[38;5;129;01mis\u001b[39;00m \u001b[38;5;129;01mnot\u001b[39;00m lib.no_default:\n\u001b[32m    532\u001b[39m         result = result.copy()\n",
      "\u001b[36mFile \u001b[39m\u001b[32m~\\.conda\\envs\\streamlit-env-agile\\Lib\\site-packages\\pandas\\core\\arrays\\_mixins.py:80\u001b[39m, in \u001b[36mravel_compat.<locals>.method\u001b[39m\u001b[34m(self, *args, **kwargs)\u001b[39m\n\u001b[32m     77\u001b[39m \u001b[38;5;129m@wraps\u001b[39m(meth)\n\u001b[32m     78\u001b[39m \u001b[38;5;28;01mdef\u001b[39;00m\u001b[38;5;250m \u001b[39m\u001b[34mmethod\u001b[39m(\u001b[38;5;28mself\u001b[39m, *args, **kwargs):\n\u001b[32m     79\u001b[39m     \u001b[38;5;28;01mif\u001b[39;00m \u001b[38;5;28mself\u001b[39m.ndim == \u001b[32m1\u001b[39m:\n\u001b[32m---> \u001b[39m\u001b[32m80\u001b[39m         \u001b[38;5;28;01mreturn\u001b[39;00m meth(\u001b[38;5;28mself\u001b[39m, *args, **kwargs)\n\u001b[32m     82\u001b[39m     flags = \u001b[38;5;28mself\u001b[39m._ndarray.flags\n\u001b[32m     83\u001b[39m     flat = \u001b[38;5;28mself\u001b[39m.ravel(\u001b[33m\"\u001b[39m\u001b[33mK\u001b[39m\u001b[33m\"\u001b[39m)\n",
      "\u001b[36mFile \u001b[39m\u001b[32m~\\.conda\\envs\\streamlit-env-agile\\Lib\\site-packages\\pandas\\core\\arrays\\categorical.py:1635\u001b[39m, in \u001b[36mCategorical.__array__\u001b[39m\u001b[34m(self, dtype)\u001b[39m\n\u001b[32m   1633\u001b[39m ret = take_nd(\u001b[38;5;28mself\u001b[39m.categories._values, \u001b[38;5;28mself\u001b[39m._codes)\n\u001b[32m   1634\u001b[39m \u001b[38;5;28;01mif\u001b[39;00m dtype \u001b[38;5;129;01mand\u001b[39;00m np.dtype(dtype) != \u001b[38;5;28mself\u001b[39m.categories.dtype:\n\u001b[32m-> \u001b[39m\u001b[32m1635\u001b[39m     \u001b[38;5;28;01mreturn\u001b[39;00m np.asarray(ret, dtype)\n\u001b[32m   1636\u001b[39m \u001b[38;5;66;03m# When we're a Categorical[ExtensionArray], like Interval,\u001b[39;00m\n\u001b[32m   1637\u001b[39m \u001b[38;5;66;03m# we need to ensure __array__ gets all the way to an\u001b[39;00m\n\u001b[32m   1638\u001b[39m \u001b[38;5;66;03m# ndarray.\u001b[39;00m\n\u001b[32m   1639\u001b[39m \u001b[38;5;28;01mreturn\u001b[39;00m np.asarray(ret)\n",
      "\u001b[31mValueError\u001b[39m: could not convert string to float: 'B'"
     ]
    }
   ],
   "source": [
    "import seaborn as sns\n",
    "import matplotlib.pyplot as plt\n",
    "\n",
    "df = get_config(\"dataset\")\n",
    "corr = df.corr()\n",
    "\n",
    "# Plot heatmap of correlations\n",
    "plt.figure(figsize=(10, 8))\n",
    "sns.heatmap(corr[[get_config('target')]].sort_values(by=get_config('target'), ascending=False),\n",
    "            annot=True, cmap='coolwarm')\n",
    "plt.title('Correlation with Target')\n",
    "plt.show()\n"
   ]
  },
  {
   "cell_type": "code",
   "execution_count": null,
   "id": "8c0306aa-c29f-46c5-a69a-6298f8b4e8e1",
   "metadata": {},
   "outputs": [],
   "source": []
  },
  {
   "cell_type": "code",
   "execution_count": null,
   "id": "1fab3054-191e-4e8c-991b-c614df47d8b3",
   "metadata": {},
   "outputs": [],
   "source": []
  },
  {
   "cell_type": "code",
   "execution_count": null,
   "id": "a9077173-9177-4181-b076-68a12901d7bc",
   "metadata": {},
   "outputs": [],
   "source": []
  },
  {
   "cell_type": "code",
   "execution_count": 12,
   "id": "201e558b-d4d6-4ca6-8840-4547f987d6f3",
   "metadata": {},
   "outputs": [
    {
     "ename": "TypeError",
     "evalue": "'NoneType' object is not subscriptable",
     "output_type": "error",
     "traceback": [
      "\u001b[31m---------------------------------------------------------------------------\u001b[39m",
      "\u001b[31mTypeError\u001b[39m                                 Traceback (most recent call last)",
      "\u001b[36mCell\u001b[39m\u001b[36m \u001b[39m\u001b[32mIn[12]\u001b[39m\u001b[32m, line 2\u001b[39m\n\u001b[32m      1\u001b[39m \u001b[38;5;66;03m# Step 3 : Get the preprocessed dataset\u001b[39;00m\n\u001b[32m----> \u001b[39m\u001b[32m2\u001b[39m preprocessed_df = pull()  \u001b[38;5;66;03m# Pulls the setup data summary\u001b[39;00m\n\u001b[32m      3\u001b[39m processed_data = get_config(\u001b[33m'\u001b[39m\u001b[33mX_train\u001b[39m\u001b[33m'\u001b[39m)  \u001b[38;5;66;03m# Or get_config('dataset') for full\u001b[39;00m\n\u001b[32m      5\u001b[39m \u001b[38;5;66;03m# Step 6 (Optional): Save the processed data\u001b[39;00m\n",
      "\u001b[36mFile \u001b[39m\u001b[32m~\\.conda\\envs\\streamlit-env-agile\\Lib\\site-packages\\pycaret\\utils\\generic.py:964\u001b[39m, in \u001b[36mcheck_if_global_is_not_none.<locals>.decorator.<locals>.wrapper\u001b[39m\u001b[34m(*args, **kwargs)\u001b[39m\n\u001b[32m    962\u001b[39m     \u001b[38;5;28;01mif\u001b[39;00m globals_d[name] \u001b[38;5;129;01mis\u001b[39;00m \u001b[38;5;28;01mNone\u001b[39;00m:\n\u001b[32m    963\u001b[39m         \u001b[38;5;28;01mraise\u001b[39;00m \u001b[38;5;167;01mValueError\u001b[39;00m(message)\n\u001b[32m--> \u001b[39m\u001b[32m964\u001b[39m \u001b[38;5;28;01mreturn\u001b[39;00m func(*args, **kwargs)\n",
      "\u001b[36mFile \u001b[39m\u001b[32m~\\.conda\\envs\\streamlit-env-agile\\Lib\\site-packages\\pycaret\\classification\\functional.py:2527\u001b[39m, in \u001b[36mpull\u001b[39m\u001b[34m(pop)\u001b[39m\n\u001b[32m   2511\u001b[39m \u001b[38;5;129m@check_if_global_is_not_none\u001b[39m(\u001b[38;5;28mglobals\u001b[39m(), _CURRENT_EXPERIMENT_DECORATOR_DICT)\n\u001b[32m   2512\u001b[39m \u001b[38;5;28;01mdef\u001b[39;00m\u001b[38;5;250m \u001b[39m\u001b[34mpull\u001b[39m(pop: \u001b[38;5;28mbool\u001b[39m = \u001b[38;5;28;01mFalse\u001b[39;00m) -> pd.DataFrame:\n\u001b[32m   2513\u001b[39m \u001b[38;5;250m    \u001b[39m\u001b[33;03m\"\"\"\u001b[39;00m\n\u001b[32m   2514\u001b[39m \u001b[33;03m    Returns the latest displayed table.\u001b[39;00m\n\u001b[32m   2515\u001b[39m \n\u001b[32m   (...)\u001b[39m\u001b[32m   2525\u001b[39m \n\u001b[32m   2526\u001b[39m \u001b[33;03m    \"\"\"\u001b[39;00m\n\u001b[32m-> \u001b[39m\u001b[32m2527\u001b[39m     \u001b[38;5;28;01mreturn\u001b[39;00m _CURRENT_EXPERIMENT.pull(pop=pop)\n",
      "\u001b[36mFile \u001b[39m\u001b[32m~\\.conda\\envs\\streamlit-env-agile\\Lib\\site-packages\\pycaret\\internal\\pycaret_experiment\\pycaret_experiment.py:552\u001b[39m, in \u001b[36m_PyCaretExperiment.pull\u001b[39m\u001b[34m(self, pop)\u001b[39m\n\u001b[32m    537\u001b[39m \u001b[38;5;28;01mdef\u001b[39;00m\u001b[38;5;250m \u001b[39m\u001b[34mpull\u001b[39m(\u001b[38;5;28mself\u001b[39m, pop=\u001b[38;5;28;01mFalse\u001b[39;00m) -> pd.DataFrame:  \u001b[38;5;66;03m# added in pycaret==2.2.0\u001b[39;00m\n\u001b[32m    538\u001b[39m \u001b[38;5;250m    \u001b[39m\u001b[33;03m\"\"\"\u001b[39;00m\n\u001b[32m    539\u001b[39m \u001b[33;03m    Returns the latest displayed table.\u001b[39;00m\n\u001b[32m    540\u001b[39m \n\u001b[32m   (...)\u001b[39m\u001b[32m    550\u001b[39m \n\u001b[32m    551\u001b[39m \u001b[33;03m    \"\"\"\u001b[39;00m\n\u001b[32m--> \u001b[39m\u001b[32m552\u001b[39m     \u001b[38;5;28;01mreturn\u001b[39;00m \u001b[38;5;28mself\u001b[39m._display_container.pop(-\u001b[32m1\u001b[39m) \u001b[38;5;28;01mif\u001b[39;00m pop \u001b[38;5;28;01melse\u001b[39;00m \u001b[38;5;28mself\u001b[39m._display_container[-\u001b[32m1\u001b[39m]\n",
      "\u001b[31mTypeError\u001b[39m: 'NoneType' object is not subscriptable"
     ]
    }
   ],
   "source": [
    "# Step 3 : Get the preprocessed dataset\n",
    "# preprocessed_df = pull()  # Pulls the setup data summary\n",
    "processed_data = get_config('X_train')  # Or get_config('dataset') for full\n",
    "\n",
    "# Step 6 (Optional): Save the processed data\n",
    "processed_data.to_csv(\"data/preprocessed_data.csv\", index=False)"
   ]
  },
  {
   "cell_type": "code",
   "execution_count": null,
   "id": "e67f036b-34c5-4128-ad78-7d4154ecd98f",
   "metadata": {},
   "outputs": [],
   "source": []
  }
 ],
 "metadata": {
  "kernelspec": {
   "display_name": "Python 3 (ipykernel)",
   "language": "python",
   "name": "python3"
  },
  "language_info": {
   "codemirror_mode": {
    "name": "ipython",
    "version": 3
   },
   "file_extension": ".py",
   "mimetype": "text/x-python",
   "name": "python",
   "nbconvert_exporter": "python",
   "pygments_lexer": "ipython3",
   "version": "3.11.11"
  }
 },
 "nbformat": 4,
 "nbformat_minor": 5
}
