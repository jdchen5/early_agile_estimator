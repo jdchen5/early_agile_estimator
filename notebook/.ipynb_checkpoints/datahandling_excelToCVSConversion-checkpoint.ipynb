{
 "cells": [
  {
   "cell_type": "code",
   "execution_count": 1,
   "id": "94c92848-cd00-444c-aea1-e7f02e5dde7d",
   "metadata": {},
   "outputs": [
    {
     "data": {
      "text/plain": [
       "['ProjectExtract', 'Sheet1']"
      ]
     },
     "execution_count": 1,
     "metadata": {},
     "output_type": "execute_result"
    }
   ],
   "source": [
    "import pandas as pd\n",
    "\n",
    "# Load the Excel file\n",
    "excel_file_path = \"data/ISBSG D&E Data ReleaseMay 2021 Sample.xlsx\"\n",
    "xls = pd.ExcelFile(excel_file_path)\n",
    "\n",
    "# Display sheet names to identify the main one\n",
    "sheet_names = xls.sheet_names\n",
    "sheet_names\n"
   ]
  },
  {
   "cell_type": "code",
   "execution_count": 2,
   "id": "0dadac5d-423e-468d-803c-d034c69e490f",
   "metadata": {},
   "outputs": [
    {
     "data": {
      "text/plain": [
       "'data/ISBSG_Data_Release_Sample.csv'"
      ]
     },
     "execution_count": 2,
     "metadata": {},
     "output_type": "execute_result"
    }
   ],
   "source": [
    "# Load the primary sheet — assuming 'ProjectExtract' is the main data sheet\n",
    "df = xls.parse('ProjectExtract')\n",
    "\n",
    "# Save as CSV\n",
    "csv_file_path = \"data/ISBSG_Data_Release_Sample.csv\"\n",
    "df.to_csv(csv_file_path, index=False)\n",
    "\n",
    "csv_file_path\n"
   ]
  }
 ],
 "metadata": {
  "kernelspec": {
   "display_name": "Python 3 (ipykernel)",
   "language": "python",
   "name": "python3"
  },
  "language_info": {
   "codemirror_mode": {
    "name": "ipython",
    "version": 3
   },
   "file_extension": ".py",
   "mimetype": "text/x-python",
   "name": "python",
   "nbconvert_exporter": "python",
   "pygments_lexer": "ipython3",
   "version": "3.11.11"
  }
 },
 "nbformat": 4,
 "nbformat_minor": 5
}
