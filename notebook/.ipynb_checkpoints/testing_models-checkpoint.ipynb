{
 "cells": [
  {
   "cell_type": "code",
   "execution_count": 1,
   "id": "464a1195-ee1a-41a3-a0e6-0264526b93fd",
   "metadata": {},
   "outputs": [],
   "source": [
    "import os\n",
    "\n"
   ]
  },
  {
   "cell_type": "code",
   "execution_count": 2,
   "id": "1f9fbf55-594d-42eb-ad58-54162cb84ca5",
   "metadata": {},
   "outputs": [],
   "source": [
    "def list_available_models(models_folder='models'):\n",
    "    # Only show .pkl files, skip scaler if you wish\n",
    "    model_files = [\n",
    "        f for f in os.listdir(models_folder)\n",
    "        if f.endswith('.pkl') and 'scaler' not in f.lower()\n",
    "    ]\n",
    "    return model_files"
   ]
  },
  {
   "cell_type": "code",
   "execution_count": null,
   "id": "bfc59e08-5b18-436a-8d6d-021ea55c839d",
   "metadata": {},
   "outputs": [],
   "source": [
    "models = list_model_files()\n",
    "print(\"Available models:\")\n",
    "for idx, model in enumerate(models, 1):\n",
    "    print(f\"{idx}. {model}\")\n",
    "\n",
    "# Example: Let user pick a model (uncomment for interactive CLI)\n",
    "# choice = int(input(\"Select a model by number: \")) - 1\n",
    "# selected_model = models[choice]\n",
    "# print(f\"You selected: {selected_model}\")"
   ]
  },
  {
   "cell_type": "code",
   "execution_count": null,
   "id": "2f548416-e6a5-4380-87e2-381fca0920d2",
   "metadata": {},
   "outputs": [],
   "source": [
    "\n"
   ]
  }
 ],
 "metadata": {
  "kernelspec": {
   "display_name": "Python 3 (ipykernel)",
   "language": "python",
   "name": "python3"
  },
  "language_info": {
   "codemirror_mode": {
    "name": "ipython",
    "version": 3
   },
   "file_extension": ".py",
   "mimetype": "text/x-python",
   "name": "python",
   "nbconvert_exporter": "python",
   "pygments_lexer": "ipython3",
   "version": "3.11.11"
  }
 },
 "nbformat": 4,
 "nbformat_minor": 5
}
